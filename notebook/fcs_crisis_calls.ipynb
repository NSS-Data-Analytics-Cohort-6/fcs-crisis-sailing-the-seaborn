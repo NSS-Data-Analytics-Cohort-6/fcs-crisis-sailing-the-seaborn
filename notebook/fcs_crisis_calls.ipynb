{
 "cells": [
  {
   "cell_type": "code",
   "execution_count": null,
   "id": "25116a71",
   "metadata": {},
   "outputs": [],
   "source": [
    "import pandas as pd\n",
    "import numpy as np\n",
    "import matplotlib.pyplot as plt\n",
    "import seaborn as sns"
   ]
  },
  {
   "cell_type": "code",
   "execution_count": null,
   "id": "63d95b4f",
   "metadata": {},
   "outputs": [],
   "source": [
    "%matplotlib inline"
   ]
  },
  {
   "cell_type": "code",
   "execution_count": null,
   "id": "921d7027",
   "metadata": {},
   "outputs": [],
   "source": [
    "crisis_1 = pd.read_excel('../data/crisis1.xlsx', skiprows = [0,1])"
   ]
  },
  {
   "cell_type": "code",
   "execution_count": null,
   "id": "8466994d",
   "metadata": {},
   "outputs": [],
   "source": [
    "crisis_2 = pd.read_excel('../data/crisis2.xlsx',skiprows = [0,1])"
   ]
  },
  {
   "cell_type": "code",
   "execution_count": null,
   "id": "9e8aed7e",
   "metadata": {},
   "outputs": [],
   "source": [
    "call_volume = pd.read_csv('../data/call_volume.csv')"
   ]
  },
  {
   "cell_type": "code",
   "execution_count": null,
   "id": "3f5b7449",
   "metadata": {},
   "outputs": [],
   "source": [
    "crisis_1.head()"
   ]
  },
  {
   "cell_type": "code",
   "execution_count": null,
   "id": "215b8f7b",
   "metadata": {},
   "outputs": [],
   "source": [
    "crisis_2.head()"
   ]
  },
  {
   "cell_type": "code",
   "execution_count": null,
   "id": "b93c4952",
   "metadata": {},
   "outputs": [],
   "source": [
    "call_volume.head()"
   ]
  },
  {
   "cell_type": "code",
   "execution_count": null,
   "id": "1da09dec",
   "metadata": {},
   "outputs": [],
   "source": [
    "crisis_1.describe()"
   ]
  },
  {
   "cell_type": "code",
   "execution_count": null,
   "id": "1d95684e",
   "metadata": {},
   "outputs": [],
   "source": [
    "crisis_2.describe()"
   ]
  },
  {
   "cell_type": "raw",
   "id": "f3a1d505",
   "metadata": {},
   "source": [
    "call_volume.describe()"
   ]
  },
  {
   "cell_type": "code",
   "execution_count": null,
   "id": "9cbc64f7",
   "metadata": {},
   "outputs": [],
   "source": [
    "crisis_1.info()"
   ]
  },
  {
   "cell_type": "code",
   "execution_count": null,
   "id": "ff905e51",
   "metadata": {},
   "outputs": [],
   "source": [
    "crisis_2.info()"
   ]
  },
  {
   "cell_type": "code",
   "execution_count": null,
   "id": "5152a45d",
   "metadata": {},
   "outputs": [],
   "source": [
    "call_volume.info()"
   ]
  },
  {
   "cell_type": "code",
   "execution_count": null,
   "id": "bb8942d6",
   "metadata": {},
   "outputs": [],
   "source": [
    "crisis_1.value_counts()"
   ]
  },
  {
   "cell_type": "code",
   "execution_count": null,
   "id": "cd1e05e2",
   "metadata": {},
   "outputs": [],
   "source": [
    "crisis_1.dropna(how='all', axis=1, inplace=True)"
   ]
  },
  {
   "cell_type": "code",
   "execution_count": null,
   "id": "25ebc396",
   "metadata": {},
   "outputs": [],
   "source": [
    "crisis_2.dropna(how='all', axis=1, inplace=True)"
   ]
  },
  {
   "cell_type": "code",
   "execution_count": null,
   "id": "beab612a",
   "metadata": {},
   "outputs": [],
   "source": [
    "crisis_1.isnull().sum()"
   ]
  },
  {
   "cell_type": "code",
   "execution_count": null,
   "id": "210a6601",
   "metadata": {},
   "outputs": [],
   "source": [
    "crisis_2.isnull().sum()"
   ]
  },
  {
   "cell_type": "code",
   "execution_count": null,
   "id": "6088e977",
   "metadata": {},
   "outputs": [],
   "source": [
    "crisis_1.name.nunique()"
   ]
  },
  {
   "cell_type": "code",
   "execution_count": null,
   "id": "82bd4dcf",
   "metadata": {},
   "outputs": [],
   "source": [
    "#Reading in call_volume how Abi did it so we can work together on this part"
   ]
  },
  {
   "cell_type": "markdown",
   "id": "2a92f5ed",
   "metadata": {},
   "source": [
    "# 2020 DataFrames"
   ]
  },
  {
   "cell_type": "code",
   "execution_count": null,
   "id": "8609724d",
   "metadata": {},
   "outputs": [],
   "source": [
    "stats_2020 = pd.read_excel('../data/call_volume.xlsx', sheet_name='2020', skiprows=10, nrows=9, usecols='A:B')\n",
    "stats_2020.rename(inplace=True, columns={'Total Calls':'Category', 'Unnamed: 1':'Total'})\n",
    "#stats_2020['Total'].sub(' calls', '') this didn't work the way I wanted it to, commenting it out until I figure out how to fix it\n",
    "stats_2020"
   ]
  },
  {
   "cell_type": "code",
   "execution_count": null,
   "id": "42cc4bd8",
   "metadata": {},
   "outputs": [],
   "source": [
    "queue_dist_2020 = pd.read_excel('../data/call_volume.xlsx', sheet_name='2020', skiprows=23, nrows=12, usecols='A:I')\n",
    "queue_dist_2020"
   ]
  },
  {
   "cell_type": "code",
   "execution_count": null,
   "id": "6e1f5bb9",
   "metadata": {},
   "outputs": [],
   "source": [
    "month_dist_2020 = pd.read_excel('../data/call_volume.xlsx', sheet_name='2020', skiprows=39, nrows=12, usecols='A:K')\n",
    "month_dist_2020"
   ]
  },
  {
   "cell_type": "code",
   "execution_count": null,
   "id": "6534e4d2",
   "metadata": {},
   "outputs": [],
   "source": [
    "day_dist_2020 = pd.read_excel('../data/call_volume.xlsx', sheet_name='2020', skiprows=55, nrows=7, usecols='A:K')\n",
    "day_dist_2020"
   ]
  },
  {
   "cell_type": "code",
   "execution_count": null,
   "id": "615f4b7e",
   "metadata": {},
   "outputs": [],
   "source": [
    "queue_answered_2020 = pd.read_excel('../data/call_volume.xlsx', sheet_name='2020', skiprows=66, nrows=10, usecols='A:C')\n",
    "queue_answered_2020"
   ]
  },
  {
   "cell_type": "code",
   "execution_count": null,
   "id": "027c0752",
   "metadata": {},
   "outputs": [],
   "source": [
    "service_speed_2020 = pd.read_excel('../data/call_volume.xlsx', sheet_name='2020', skiprows=80, nrows=10, usecols='A:D')\n",
    "service_speed_2020"
   ]
  },
  {
   "cell_type": "code",
   "execution_count": null,
   "id": "8ee2ef5f",
   "metadata": {},
   "outputs": [],
   "source": [
    "abandon_rate_2020 = pd.read_excel('../data/call_volume.xlsx', sheet_name='2020', skiprows=94, nrows=10, usecols='A:D')\n",
    "abandon_rate_2020"
   ]
  },
  {
   "cell_type": "markdown",
   "id": "35352f1f",
   "metadata": {},
   "source": [
    "# 2021 DataFrames"
   ]
  },
  {
   "cell_type": "code",
   "execution_count": null,
   "id": "626e71f2",
   "metadata": {},
   "outputs": [],
   "source": [
    "stats_2021 = pd.read_excel('../data/call_volume.xlsx', sheet_name='2021', skiprows=10, nrows=9, usecols='A:B')\n",
    "stats_2021.rename(inplace=True, columns={'Total Calls':'Category', 'Unnamed: 1':'Total'})\n",
    "stats_2021"
   ]
  },
  {
   "cell_type": "code",
   "execution_count": null,
   "id": "b3fd3133",
   "metadata": {},
   "outputs": [],
   "source": [
    "queue_dist_2021 = pd.read_excel('../data/call_volume.xlsx', sheet_name='2021', skiprows=23, nrows=11, usecols='A:I')\n",
    "queue_dist_2021"
   ]
  },
  {
   "cell_type": "code",
   "execution_count": null,
   "id": "22fd9417",
   "metadata": {},
   "outputs": [],
   "source": [
    "month_dist_2021 = pd.read_excel('../data/call_volume.xlsx', sheet_name='2021', skiprows=38, nrows=12, usecols='A:K')\n",
    "month_dist_2021"
   ]
  },
  {
   "cell_type": "code",
   "execution_count": null,
   "id": "5ca57e51",
   "metadata": {},
   "outputs": [],
   "source": [
    "hour_dist_2021 = pd.read_excel('../data/call_volume.xlsx', sheet_name='2021', skiprows=54, nrows=24, usecols='A:K')\n",
    "hour_dist_2021"
   ]
  },
  {
   "cell_type": "code",
   "execution_count": null,
   "id": "3547560c",
   "metadata": {},
   "outputs": [],
   "source": [
    "day_dist_2021 = pd.read_excel('../data/call_volume.xlsx', sheet_name='2021', skiprows=82, nrows=7, usecols='A:K')\n",
    "day_dist_2021"
   ]
  },
  {
   "cell_type": "code",
   "execution_count": null,
   "id": "5ed2e427",
   "metadata": {},
   "outputs": [],
   "source": [
    "service_speed_2021 = pd.read_excel('../data/call_volume.xlsx', sheet_name='2021', skiprows=93, nrows=10, usecols='A:D')\n",
    "service_speed_2021"
   ]
  },
  {
   "cell_type": "code",
   "execution_count": null,
   "id": "92023786",
   "metadata": {},
   "outputs": [],
   "source": [
    "abandon_rate_2021 = pd.read_excel('../data/call_volume.xlsx', sheet_name='2021', skiprows=107, nrows=10, usecols='A:D')\n",
    "abandon_rate_2021"
   ]
  },
  {
   "cell_type": "markdown",
   "id": "452aff55",
   "metadata": {},
   "source": [
    "# 2022 DataFrames (through April)"
   ]
  },
  {
   "cell_type": "code",
   "execution_count": null,
   "id": "b7872749",
   "metadata": {},
   "outputs": [],
   "source": [
    "stats_2022 = pd.read_excel('../data/call_volume.xlsx', sheet_name='2022', skiprows=7, nrows=9, usecols='A:B')\n",
    "stats_2022.rename(inplace=True, columns={'Total Calls':'Category', 'Unnamed: 1':'Total'})\n",
    "stats_2022"
   ]
  },
  {
   "cell_type": "code",
   "execution_count": null,
   "id": "095a6865",
   "metadata": {},
   "outputs": [],
   "source": [
    "queue_dist_2022 = pd.read_excel('../data/call_volume.xlsx', sheet_name='2022', skiprows=18, nrows=10, usecols='A:I')\n",
    "queue_dist_2022"
   ]
  },
  {
   "cell_type": "code",
   "execution_count": null,
   "id": "22be1f7c",
   "metadata": {},
   "outputs": [],
   "source": [
    "month_dist_2022 = pd.read_excel('../data/call_volume.xlsx', sheet_name='2022', skiprows=32, nrows=4, usecols='A:K')\n",
    "month_dist_2022"
   ]
  },
  {
   "cell_type": "code",
   "execution_count": null,
   "id": "01749b09",
   "metadata": {},
   "outputs": [],
   "source": [
    "hour_dist_2022 = pd.read_excel('../data/call_volume.xlsx', sheet_name='2022', skiprows=40, nrows=24, usecols='A:K')\n",
    "hour_dist_2022"
   ]
  },
  {
   "cell_type": "code",
   "execution_count": null,
   "id": "db494774",
   "metadata": {},
   "outputs": [],
   "source": [
    "day_dist_2022 = pd.read_excel('../data/call_volume.xlsx', sheet_name='2022', skiprows=68, nrows=7, usecols='A:K')\n",
    "day_dist_2022"
   ]
  },
  {
   "cell_type": "code",
   "execution_count": null,
   "id": "f6a7f656",
   "metadata": {},
   "outputs": [],
   "source": [
    "service_speed_2022 = pd.read_excel('../data/call_volume.xlsx', sheet_name='2022', skiprows=80, nrows=10, usecols='A:D')\n",
    "service_speed_2022"
   ]
  },
  {
   "cell_type": "code",
   "execution_count": null,
   "id": "231ca224",
   "metadata": {},
   "outputs": [],
   "source": [
    "abandon_rate_2022 = pd.read_excel('../data/call_volume.xlsx', sheet_name='2022', skiprows=94, nrows=10, usecols='A:D')\n",
    "abandon_rate_2022"
   ]
  },
  {
   "cell_type": "code",
   "execution_count": null,
   "id": "325d10b6",
   "metadata": {},
   "outputs": [],
   "source": [
    "#day_dist_2020.hist(column='Received', by='Day') -- wanted a histogram but I think I need to just do a bar plot\n",
    "plt.figure(figsize=(15,10))\n",
    "plt.bar(day_dist_2020['Day'], day_dist_2020['Received'])\n",
    "plt.title('Received Calls by Day of Week - 2020')\n",
    "plt.ylabel('Call Count')\n",
    "plt.xticks(rotation=50)\n",
    "plt.show()"
   ]
  },
  {
   "cell_type": "code",
   "execution_count": null,
   "id": "e1de2c90",
   "metadata": {},
   "outputs": [],
   "source": [
    "month_dist_2020[['Answered','Unanswered']].plot(kind='bar', stacked=True)\n",
    "plt.title(\"Calls by Month - 2020\")\n",
    "plt.xlabel(\"Month\")\n",
    "plt.ylabel(\"Calls\")"
   ]
  },
  {
   "cell_type": "code",
   "execution_count": null,
   "id": "fa0e7cdb",
   "metadata": {
    "scrolled": true
   },
   "outputs": [],
   "source": [
    "w = 0.9\n",
    "\n",
    "\n",
    "plt.bar(month_dist_2020['Month'], month_dist_2020['% Answ'], w)\n",
    "plt.bar(month_dist_2020['Month'], month_dist_2020['% Unansw'], w, bottom= month_dist_2020['% Unansw'])\n",
    "plt.title(\"Calls by Month - 2020\")\n",
    "plt.xlabel(\"Month\")\n",
    "plt.ylabel(\"Calls\")\n",
    "plt.xticks(rotation=50)\n",
    "plt.show()"
   ]
  },
  {
   "cell_type": "code",
   "execution_count": 122,
   "id": "d2d75f13",
   "metadata": {},
   "outputs": [
    {
     "data": {
      "image/png": "[encoded data removed]",
      "text/plain": [
       "<Figure size 432x288 with 1 Axes>"
      ]
     },
     "metadata": {
      "needs_background": "light"
     },
     "output_type": "display_data"
    }
   ],
   "source": [
    "#used percentages to help normalize the data\n",
    "\n",
    "w = 0.9\n",
    "\n",
    "\n",
    "plt.bar(month_dist_2020['Month'], month_dist_2020['% Answ'], w, color = 'c', label = '% Answered')\n",
    "plt.bar(month_dist_2020['Month'], month_dist_2020['% Unansw'], w, label = '% Unanswered', bottom= month_dist_2020['% Answ'])\n",
    "plt.title(\"Calls by Month - 2020\")\n",
    "plt.xlabel(\"Month\")\n",
    "plt.ylabel(\"Calls\")\n",
    "plt.xticks(rotation=50)\n",
    "plt.legend()\n",
    "plt.show()"
   ]
  },
  {
   "cell_type": "code",
   "execution_count": 123,
   "id": "7c6d36bf",
   "metadata": {},
   "outputs": [
    {
     "data": {
      "image/png": "[encoded data removed]",
      "text/plain": [
       "<Figure size 432x288 with 1 Axes>"
      ]
     },
     "metadata": {
      "needs_background": "light"
     },
     "output_type": "display_data"
    }
   ],
   "source": [
    "w = 0.9\n",
    "\n",
    "\n",
    "plt.bar(month_dist_2021['Month'], month_dist_2021['% Answ'], w, color = 'c', label = '% Answered')\n",
    "plt.bar(month_dist_2021['Month'], month_dist_2021['% Unansw'], w, label = '% Unanswered', bottom= month_dist_2021['% Answ'])\n",
    "plt.title(\"Calls by Month - 2021\")\n",
    "plt.xlabel(\"Month\")\n",
    "plt.ylabel(\"Calls\")\n",
    "plt.xticks(rotation=50)\n",
    "plt.legend()\n",
    "plt.show()"
   ]
  },
  {
   "cell_type": "code",
   "execution_count": 124,
   "id": "3548289b",
   "metadata": {},
   "outputs": [
    {
     "data": {
      "image/png": "[encoded data removed]",
      "text/plain": [
       "<Figure size 432x288 with 1 Axes>"
      ]
     },
     "metadata": {
      "needs_background": "light"
     },
     "output_type": "display_data"
    }
   ],
   "source": [
    "w = 0.9\n",
    "\n",
    "\n",
    "plt.bar(month_dist_2022['Month'], month_dist_2022['% Answ'], w, color = 'c', label = '% Answered')\n",
    "plt.bar(month_dist_2022['Month'], month_dist_2022['% Unansw'], w, label = '% Unanswered', bottom= month_dist_2022['% Answ'])\n",
    "plt.title(\"Calls by Month - 2022\")\n",
    "plt.xlabel(\"Month\")\n",
    "plt.ylabel(\"Calls\")\n",
    "plt.xticks(rotation=50)\n",
    "plt.legend()\n",
    "plt.show()"
   ]
  },
  {
   "cell_type": "code",
   "execution_count": null,
   "id": "be3a0a66",
   "metadata": {},
   "outputs": [],
   "source": []
  }
 ],
 "metadata": {
  "kernelspec": {
   "display_name": "Python 3 (ipykernel)",
   "language": "python",
   "name": "python3"
  },
  "language_info": {
   "codemirror_mode": {
    "name": "ipython",
    "version": 3
   },
   "file_extension": ".py",
   "mimetype": "text/x-python",
   "name": "python",
   "nbconvert_exporter": "python",
   "pygments_lexer": "ipython3",
   "version": "3.9.7"
  }
 },
 "nbformat": 4,
 "nbformat_minor": 5
}
