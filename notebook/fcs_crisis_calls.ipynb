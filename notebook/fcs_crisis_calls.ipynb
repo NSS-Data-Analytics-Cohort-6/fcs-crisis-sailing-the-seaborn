{
 "cells": [
  {
   "cell_type": "code",
   "execution_count": null,
   "id": "66205958",
   "metadata": {},
   "outputs": [],
   "source": [
    "import pandas as pd\n",
    "import numpy as np\n",
    "import matplotlib.pyplot as plt\n",
    "import seaborn as sns"
   ]
  },
  {
   "cell_type": "code",
   "execution_count": null,
   "id": "4d2d96bd",
   "metadata": {},
   "outputs": [],
   "source": [
    "%matplotlib inline"
   ]
  },
  {
   "cell_type": "code",
   "execution_count": null,
   "id": "89f1275f",
   "metadata": {},
   "outputs": [],
   "source": [
    "crisis_1 = pd.read_excel('../data/crisis1.xlsx', skiprows = [0,1])"
   ]
  },
  {
   "cell_type": "code",
   "execution_count": null,
   "id": "fed074c8",
   "metadata": {},
   "outputs": [],
   "source": [
    "crisis_2 = pd.read_excel('../data/crisis2.xlsx',skiprows = [0,1])"
   ]
  },
  {
   "cell_type": "code",
   "execution_count": null,
   "id": "3343b1ca",
   "metadata": {},
   "outputs": [],
   "source": [
    "crisis_3 = pd.read_csv('../data/crisis3.csv')"
   ]
  },
  {
   "cell_type": "code",
   "execution_count": null,
   "id": "c05d7e14",
   "metadata": {},
   "outputs": [],
   "source": [
    "crisis_1.head()"
   ]
  },
  {
   "cell_type": "code",
   "execution_count": null,
   "id": "a7f9d349",
   "metadata": {},
   "outputs": [],
   "source": [
    "crisis_2.head()"
   ]
  },
  {
   "cell_type": "code",
   "execution_count": null,
   "id": "c96c2bb4",
   "metadata": {},
   "outputs": [],
   "source": [
    "crisis_3.head()"
   ]
  },
  {
   "cell_type": "code",
   "execution_count": null,
   "id": "d36392ba",
   "metadata": {},
   "outputs": [],
   "source": [
    "crisis_1.describe()"
   ]
  },
  {
   "cell_type": "code",
   "execution_count": null,
   "id": "a542e069",
   "metadata": {},
   "outputs": [],
   "source": [
    "crisis_2.describe()"
   ]
  },
  {
   "cell_type": "raw",
   "id": "93033985",
   "metadata": {},
   "source": [
    "crisis_3.describe()"
   ]
  },
  {
   "cell_type": "code",
   "execution_count": null,
   "id": "3299c414",
   "metadata": {},
   "outputs": [],
   "source": [
    "crisis_1.info()"
   ]
  },
  {
   "cell_type": "code",
   "execution_count": null,
   "id": "f1d4288d",
   "metadata": {},
   "outputs": [],
   "source": [
    "crisis_2.info()"
   ]
  },
  {
   "cell_type": "code",
   "execution_count": null,
   "id": "bfbc93e4",
   "metadata": {},
   "outputs": [],
   "source": [
    "crisis_3.info()"
   ]
  },
  {
   "cell_type": "code",
   "execution_count": null,
   "id": "a5efb31a",
   "metadata": {},
   "outputs": [],
   "source": [
    "crisis_1.value_counts()"
   ]
  },
  {
   "cell_type": "code",
   "execution_count": null,
   "id": "92f10ed2",
   "metadata": {},
   "outputs": [],
   "source": [
    "crisis_1.dropna(how='all', axis=1, inplace=True)"
   ]
  },
  {
   "cell_type": "code",
   "execution_count": null,
   "id": "00209869",
   "metadata": {},
   "outputs": [],
   "source": [
    "crisis_2.dropna(how='all', axis=1, inplace=True)"
   ]
  },
  {
   "cell_type": "code",
   "execution_count": null,
   "id": "2e3a07ab",
   "metadata": {},
   "outputs": [],
   "source": [
    "crisis_1.isnull().sum()"
   ]
  },
  {
   "cell_type": "code",
   "execution_count": null,
   "id": "c9f10ef2",
   "metadata": {},
   "outputs": [],
   "source": [
    "crisis_2.isnull().sum()"
   ]
  },
  {
   "cell_type": "code",
   "execution_count": null,
   "id": "b4156d59",
   "metadata": {},
   "outputs": [],
   "source": [
    "crisis_1.name.nunique()"
   ]
  }
 ],
 "metadata": {
  "kernelspec": {
   "display_name": "Python 3 (ipykernel)",
   "language": "python",
   "name": "python3"
  },
  "language_info": {
   "codemirror_mode": {
    "name": "ipython",
    "version": 3
   },
   "file_extension": ".py",
   "mimetype": "text/x-python",
   "name": "python",
   "nbconvert_exporter": "python",
   "pygments_lexer": "ipython3",
   "version": "3.9.7"
  }
 },
 "nbformat": 4,
 "nbformat_minor": 5
}
