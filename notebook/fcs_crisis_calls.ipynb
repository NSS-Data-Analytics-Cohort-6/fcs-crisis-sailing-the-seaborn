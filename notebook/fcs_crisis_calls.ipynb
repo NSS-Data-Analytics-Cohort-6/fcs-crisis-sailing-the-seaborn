{
 "cells": [
  {
   "cell_type": "code",
   "execution_count": null,
   "id": "25116a71",
   "metadata": {},
   "outputs": [],
   "source": [
    "import pandas as pd\n",
    "import numpy as np\n",
    "import matplotlib.pyplot as plt\n",
    "import seaborn as sns"
   ]
  },
  {
   "cell_type": "code",
   "execution_count": null,
   "id": "63d95b4f",
   "metadata": {},
   "outputs": [],
   "source": [
    "%matplotlib inline"
   ]
  },
  {
   "cell_type": "code",
   "execution_count": null,
   "id": "921d7027",
   "metadata": {},
   "outputs": [],
   "source": [
    "crisis_1 = pd.read_excel('../data/crisis1.xlsx', skiprows = [0,1])"
   ]
  },
  {
   "cell_type": "code",
   "execution_count": null,
   "id": "8466994d",
   "metadata": {},
   "outputs": [],
   "source": [
    "crisis_2 = pd.read_excel('../data/crisis2.xlsx',skiprows = [0,1])"
   ]
  },
  {
   "cell_type": "code",
   "execution_count": null,
   "id": "9e8aed7e",
   "metadata": {},
   "outputs": [],
   "source": [
    "crisis_3 = pd.read_csv('../data/crisis3.csv')"
   ]
  },
  {
   "cell_type": "code",
   "execution_count": null,
   "id": "3f5b7449",
   "metadata": {},
   "outputs": [],
   "source": [
    "crisis_1.head()"
   ]
  },
  {
   "cell_type": "code",
   "execution_count": null,
   "id": "215b8f7b",
   "metadata": {},
   "outputs": [],
   "source": [
    "crisis_2.head()"
   ]
  },
  {
   "cell_type": "code",
   "execution_count": null,
   "id": "b93c4952",
   "metadata": {},
   "outputs": [],
   "source": [
    "crisis_3.head()"
   ]
  },
  {
   "cell_type": "code",
   "execution_count": null,
   "id": "1da09dec",
   "metadata": {},
   "outputs": [],
   "source": [
    "crisis_1.describe()"
   ]
  },
  {
   "cell_type": "code",
   "execution_count": null,
   "id": "1d95684e",
   "metadata": {},
   "outputs": [],
   "source": [
    "crisis_2.describe()"
   ]
  },
  {
   "cell_type": "raw",
   "id": "f3a1d505",
   "metadata": {},
   "source": [
    "crisis_3.describe()"
   ]
  },
  {
   "cell_type": "code",
   "execution_count": null,
   "id": "9cbc64f7",
   "metadata": {},
   "outputs": [],
   "source": [
    "crisis_1.info()"
   ]
  },
  {
   "cell_type": "code",
   "execution_count": null,
   "id": "ff905e51",
   "metadata": {},
   "outputs": [],
   "source": [
    "crisis_2.info()"
   ]
  },
  {
   "cell_type": "code",
   "execution_count": null,
   "id": "5152a45d",
   "metadata": {},
   "outputs": [],
   "source": [
    "crisis_3.info()"
   ]
  },
  {
   "cell_type": "code",
   "execution_count": null,
   "id": "bb8942d6",
   "metadata": {},
   "outputs": [],
   "source": [
    "crisis_1.value_counts()"
   ]
  },
  {
   "cell_type": "code",
   "execution_count": null,
   "id": "cd1e05e2",
   "metadata": {},
   "outputs": [],
   "source": [
    "crisis_1.dropna(how='all', axis=1, inplace=True)"
   ]
  },
  {
   "cell_type": "code",
   "execution_count": null,
   "id": "25ebc396",
   "metadata": {},
   "outputs": [],
   "source": [
    "crisis_2.dropna(how='all', axis=1, inplace=True)"
   ]
  },
  {
   "cell_type": "code",
   "execution_count": null,
   "id": "beab612a",
   "metadata": {},
   "outputs": [],
   "source": [
    "crisis_1.isnull().sum()"
   ]
  },
  {
   "cell_type": "code",
   "execution_count": null,
   "id": "210a6601",
   "metadata": {},
   "outputs": [],
   "source": [
    "crisis_2.isnull().sum()"
   ]
  },
  {
   "cell_type": "code",
   "execution_count": null,
   "id": "6088e977",
   "metadata": {},
   "outputs": [],
   "source": [
    "crisis_1.name.nunique()"
   ]
  },
  {
   "cell_type": "code",
   "execution_count": null,
   "id": "eb37fa1b",
   "metadata": {},
   "outputs": [],
   "source": [
    "#not really sure what to do, really hoping for question 1 for the topic"
   ]
  },
  {
   "cell_type": "code",
   "execution_count": null,
   "id": "8609724d",
   "metadata": {},
   "outputs": [],
   "source": []
  },
  {
   "cell_type": "code",
   "execution_count": null,
   "id": "42cc4bd8",
   "metadata": {},
   "outputs": [],
   "source": []
  }
 ],
 "metadata": {
  "kernelspec": {
   "display_name": "Python 3 (ipykernel)",
   "language": "python",
   "name": "python3"
  },
  "language_info": {
   "codemirror_mode": {
    "name": "ipython",
    "version": 3
   },
   "file_extension": ".py",
   "mimetype": "text/x-python",
   "name": "python",
   "nbconvert_exporter": "python",
   "pygments_lexer": "ipython3",
   "version": "3.9.7"
  }
 },
 "nbformat": 4,
 "nbformat_minor": 5
}
