{
 "cells": [
  {
   "cell_type": "code",
   "execution_count": null,
   "id": "25116a71",
   "metadata": {},
   "outputs": [],
   "source": [
    "import pandas as pd\n",
    "import numpy as np\n",
    "import matplotlib.pyplot as plt\n",
    "import seaborn as sns"
   ]
  },
  {
   "cell_type": "code",
   "execution_count": null,
   "id": "63d95b4f",
   "metadata": {},
   "outputs": [],
   "source": [
    "%matplotlib inline"
   ]
  },
  {
   "cell_type": "code",
   "execution_count": null,
   "id": "921d7027",
   "metadata": {},
   "outputs": [],
   "source": [
    "crisis_1 = pd.read_excel('../data/crisis1.xlsx', skiprows = [0,1])"
   ]
  },
  {
   "cell_type": "code",
   "execution_count": null,
   "id": "8466994d",
   "metadata": {},
   "outputs": [],
   "source": [
    "crisis_2 = pd.read_excel('../data/crisis2.xlsx',skiprows = [0,1])"
   ]
  },
  {
   "cell_type": "code",
   "execution_count": 125,
   "id": "9e8aed7e",
   "metadata": {},
   "outputs": [],
   "source": [
    "call_volume = pd.read_csv('../data/call_volume.csv')"
   ]
  },
  {
   "cell_type": "code",
   "execution_count": null,
   "id": "3f5b7449",
   "metadata": {},
   "outputs": [],
   "source": [
    "crisis_1.head()"
   ]
  },
  {
   "cell_type": "code",
   "execution_count": null,
   "id": "215b8f7b",
   "metadata": {},
   "outputs": [],
   "source": [
    "crisis_2.head()"
   ]
  },
  {
   "cell_type": "code",
   "execution_count": 126,
   "id": "b93c4952",
   "metadata": {},
   "outputs": [
    {
     "data": {
      "text/html": [
       "<div>\n",
       "<style scoped>\n",
       "    .dataframe tbody tr th:only-of-type {\n",
       "        vertical-align: middle;\n",
       "    }\n",
       "\n",
       "    .dataframe tbody tr th {\n",
       "        vertical-align: top;\n",
       "    }\n",
       "\n",
       "    .dataframe thead th {\n",
       "        text-align: right;\n",
       "    }\n",
       "</style>\n",
       "<table border=\"1\" class=\"dataframe\">\n",
       "  <thead>\n",
       "    <tr style=\"text-align: right;\">\n",
       "      <th></th>\n",
       "      <th>Report Info</th>\n",
       "      <th>Unnamed: 1</th>\n",
       "      <th>Unnamed: 2</th>\n",
       "      <th>Unnamed: 3</th>\n",
       "      <th>Unnamed: 4</th>\n",
       "      <th>Unnamed: 5</th>\n",
       "      <th>Unnamed: 6</th>\n",
       "      <th>Unnamed: 7</th>\n",
       "      <th>Unnamed: 8</th>\n",
       "      <th>Unnamed: 9</th>\n",
       "      <th>Unnamed: 10</th>\n",
       "    </tr>\n",
       "  </thead>\n",
       "  <tbody>\n",
       "    <tr>\n",
       "      <th>0</th>\n",
       "      <td>Queue:</td>\n",
       "      <td>AWARE,Community Response,Crisis Eng,Crisis Eng...</td>\n",
       "      <td>NaN</td>\n",
       "      <td>NaN</td>\n",
       "      <td>NaN</td>\n",
       "      <td>NaN</td>\n",
       "      <td>NaN</td>\n",
       "      <td>NaN</td>\n",
       "      <td>NaN</td>\n",
       "      <td>NaN</td>\n",
       "      <td>NaN</td>\n",
       "    </tr>\n",
       "    <tr>\n",
       "      <th>1</th>\n",
       "      <td>NaN</td>\n",
       "      <td>Crisis Spanish,Crisis Spanish PRIORITY,</td>\n",
       "      <td>NaN</td>\n",
       "      <td>NaN</td>\n",
       "      <td>NaN</td>\n",
       "      <td>NaN</td>\n",
       "      <td>NaN</td>\n",
       "      <td>NaN</td>\n",
       "      <td>NaN</td>\n",
       "      <td>NaN</td>\n",
       "      <td>NaN</td>\n",
       "    </tr>\n",
       "    <tr>\n",
       "      <th>2</th>\n",
       "      <td>NaN</td>\n",
       "      <td>Lifeline,MHART,Pet Loss,REDLINE,Referral Line,</td>\n",
       "      <td>NaN</td>\n",
       "      <td>NaN</td>\n",
       "      <td>NaN</td>\n",
       "      <td>NaN</td>\n",
       "      <td>NaN</td>\n",
       "      <td>NaN</td>\n",
       "      <td>NaN</td>\n",
       "      <td>NaN</td>\n",
       "      <td>NaN</td>\n",
       "    </tr>\n",
       "    <tr>\n",
       "      <th>3</th>\n",
       "      <td>NaN</td>\n",
       "      <td>SAMHSA</td>\n",
       "      <td>NaN</td>\n",
       "      <td>NaN</td>\n",
       "      <td>NaN</td>\n",
       "      <td>NaN</td>\n",
       "      <td>NaN</td>\n",
       "      <td>NaN</td>\n",
       "      <td>NaN</td>\n",
       "      <td>NaN</td>\n",
       "      <td>NaN</td>\n",
       "    </tr>\n",
       "    <tr>\n",
       "      <th>4</th>\n",
       "      <td>Start Date:</td>\n",
       "      <td>1/1/2020</td>\n",
       "      <td>NaN</td>\n",
       "      <td>NaN</td>\n",
       "      <td>NaN</td>\n",
       "      <td>NaN</td>\n",
       "      <td>NaN</td>\n",
       "      <td>NaN</td>\n",
       "      <td>NaN</td>\n",
       "      <td>NaN</td>\n",
       "      <td>NaN</td>\n",
       "    </tr>\n",
       "  </tbody>\n",
       "</table>\n",
       "</div>"
      ],
      "text/plain": [
       "   Report Info                                         Unnamed: 1 Unnamed: 2  \\\n",
       "0       Queue:  AWARE,Community Response,Crisis Eng,Crisis Eng...        NaN   \n",
       "1          NaN            Crisis Spanish,Crisis Spanish PRIORITY,        NaN   \n",
       "2          NaN     Lifeline,MHART,Pet Loss,REDLINE,Referral Line,        NaN   \n",
       "3          NaN                                             SAMHSA        NaN   \n",
       "4  Start Date:                                           1/1/2020        NaN   \n",
       "\n",
       "  Unnamed: 3 Unnamed: 4 Unnamed: 5 Unnamed: 6 Unnamed: 7 Unnamed: 8  \\\n",
       "0        NaN        NaN        NaN        NaN        NaN        NaN   \n",
       "1        NaN        NaN        NaN        NaN        NaN        NaN   \n",
       "2        NaN        NaN        NaN        NaN        NaN        NaN   \n",
       "3        NaN        NaN        NaN        NaN        NaN        NaN   \n",
       "4        NaN        NaN        NaN        NaN        NaN        NaN   \n",
       "\n",
       "  Unnamed: 9 Unnamed: 10  \n",
       "0        NaN         NaN  \n",
       "1        NaN         NaN  \n",
       "2        NaN         NaN  \n",
       "3        NaN         NaN  \n",
       "4        NaN         NaN  "
      ]
     },
     "execution_count": 126,
     "metadata": {},
     "output_type": "execute_result"
    }
   ],
   "source": [
    "call_volume.head()"
   ]
  },
  {
   "cell_type": "code",
   "execution_count": null,
   "id": "1da09dec",
   "metadata": {},
   "outputs": [],
   "source": [
    "crisis_1.describe()"
   ]
  },
  {
   "cell_type": "code",
   "execution_count": null,
   "id": "1d95684e",
   "metadata": {},
   "outputs": [],
   "source": [
    "crisis_2.describe()"
   ]
  },
  {
   "cell_type": "raw",
   "id": "f3a1d505",
   "metadata": {},
   "source": [
    "call_volume.describe()"
   ]
  },
  {
   "cell_type": "code",
   "execution_count": null,
   "id": "9cbc64f7",
   "metadata": {},
   "outputs": [],
   "source": [
    "crisis_1.info()"
   ]
  },
  {
   "cell_type": "code",
   "execution_count": null,
   "id": "ff905e51",
   "metadata": {},
   "outputs": [],
   "source": [
    "crisis_2.info()"
   ]
  },
  {
   "cell_type": "code",
   "execution_count": null,
   "id": "5152a45d",
   "metadata": {},
   "outputs": [],
   "source": [
    "call_volume.info()"
   ]
  },
  {
   "cell_type": "code",
   "execution_count": null,
   "id": "bb8942d6",
   "metadata": {},
   "outputs": [],
   "source": [
    "crisis_1.value_counts()"
   ]
  },
  {
   "cell_type": "code",
   "execution_count": null,
   "id": "cd1e05e2",
   "metadata": {},
   "outputs": [],
   "source": [
    "crisis_1.dropna(how='all', axis=1, inplace=True)"
   ]
  },
  {
   "cell_type": "code",
   "execution_count": null,
   "id": "25ebc396",
   "metadata": {},
   "outputs": [],
   "source": [
    "crisis_2.dropna(how='all', axis=1, inplace=True)"
   ]
  },
  {
   "cell_type": "code",
   "execution_count": null,
   "id": "beab612a",
   "metadata": {},
   "outputs": [],
   "source": [
    "crisis_1.isnull().sum()"
   ]
  },
  {
   "cell_type": "code",
   "execution_count": null,
   "id": "210a6601",
   "metadata": {},
   "outputs": [],
   "source": [
    "crisis_2.isnull().sum()"
   ]
  },
  {
   "cell_type": "code",
   "execution_count": null,
   "id": "6088e977",
   "metadata": {},
   "outputs": [],
   "source": [
    "crisis_1.name.nunique()"
   ]
  },
  {
   "cell_type": "code",
   "execution_count": null,
   "id": "d2346dd0",
   "metadata": {},
   "outputs": [],
   "source": [
    "#Reading in call_volume how Abi did it so we can work together on this part"
   ]
  },
  {
   "cell_type": "markdown",
   "id": "9579a6a0",
   "metadata": {},
   "source": [
    "# 2020 DataFrames"
   ]
  },
  {
   "cell_type": "code",
   "execution_count": null,
   "id": "8609724d",
   "metadata": {},
   "outputs": [],
   "source": [
    "stats_2020 = pd.read_excel('../data/call_volume.xlsx', sheet_name='2020', skiprows=10, nrows=9, usecols='A:B')\n",
    "stats_2020.rename(inplace=True, columns={'Total Calls':'Category', 'Unnamed: 1':'Total'})\n",
    "#stats_2020['Total'].sub(' calls', '') this didn't work the way I wanted it to, commenting it out until I figure out how to fix it\n",
    "stats_2020"
   ]
  },
  {
   "cell_type": "code",
   "execution_count": null,
   "id": "42cc4bd8",
   "metadata": {},
   "outputs": [],
   "source": [
    "queue_dist_2020 = pd.read_excel('../data/call_volume.xlsx', sheet_name='2020', skiprows=23, nrows=12, usecols='A:I')\n",
    "queue_dist_2020"
   ]
  },
  {
   "cell_type": "code",
   "execution_count": null,
   "id": "8e69ebea",
   "metadata": {},
   "outputs": [],
   "source": [
    "month_dist_2020 = pd.read_excel('../data/call_volume.xlsx', sheet_name='2020', skiprows=39, nrows=12, usecols='A:K')\n",
    "month_dist_2020"
   ]
  },
  {
   "cell_type": "code",
   "execution_count": 127,
   "id": "c075faac",
   "metadata": {},
   "outputs": [
    {
     "data": {
      "text/html": [
       "<div>\n",
       "<style scoped>\n",
       "    .dataframe tbody tr th:only-of-type {\n",
       "        vertical-align: middle;\n",
       "    }\n",
       "\n",
       "    .dataframe tbody tr th {\n",
       "        vertical-align: top;\n",
       "    }\n",
       "\n",
       "    .dataframe thead th {\n",
       "        text-align: right;\n",
       "    }\n",
       "</style>\n",
       "<table border=\"1\" class=\"dataframe\">\n",
       "  <thead>\n",
       "    <tr style=\"text-align: right;\">\n",
       "      <th></th>\n",
       "      <th>Day</th>\n",
       "      <th>Received</th>\n",
       "      <th>Answered</th>\n",
       "      <th>Unanswered</th>\n",
       "      <th>Transfers</th>\n",
       "      <th>% Answ</th>\n",
       "      <th>% Unansw</th>\n",
       "      <th>Avg Durat.</th>\n",
       "      <th>Avg Wait</th>\n",
       "      <th>Logins</th>\n",
       "      <th>Logoff</th>\n",
       "    </tr>\n",
       "  </thead>\n",
       "  <tbody>\n",
       "    <tr>\n",
       "      <th>0</th>\n",
       "      <td>Sunday</td>\n",
       "      <td>6864</td>\n",
       "      <td>3576</td>\n",
       "      <td>3174</td>\n",
       "      <td>114</td>\n",
       "      <td>0.5376</td>\n",
       "      <td>0.4624</td>\n",
       "      <td>00:10:17</td>\n",
       "      <td>00:01:28</td>\n",
       "      <td>3641</td>\n",
       "      <td>3624</td>\n",
       "    </tr>\n",
       "    <tr>\n",
       "      <th>1</th>\n",
       "      <td>Monday</td>\n",
       "      <td>6811</td>\n",
       "      <td>4472</td>\n",
       "      <td>2187</td>\n",
       "      <td>152</td>\n",
       "      <td>0.6789</td>\n",
       "      <td>0.3211</td>\n",
       "      <td>00:08:38</td>\n",
       "      <td>00:00:59</td>\n",
       "      <td>5549</td>\n",
       "      <td>5576</td>\n",
       "    </tr>\n",
       "    <tr>\n",
       "      <th>2</th>\n",
       "      <td>Tuesday</td>\n",
       "      <td>6289</td>\n",
       "      <td>4138</td>\n",
       "      <td>2046</td>\n",
       "      <td>105</td>\n",
       "      <td>0.6747</td>\n",
       "      <td>0.3253</td>\n",
       "      <td>00:09:34</td>\n",
       "      <td>00:01:06</td>\n",
       "      <td>5544</td>\n",
       "      <td>5620</td>\n",
       "    </tr>\n",
       "    <tr>\n",
       "      <th>3</th>\n",
       "      <td>Wednesday</td>\n",
       "      <td>6608</td>\n",
       "      <td>4463</td>\n",
       "      <td>1981</td>\n",
       "      <td>164</td>\n",
       "      <td>0.7002</td>\n",
       "      <td>0.2998</td>\n",
       "      <td>00:09:13</td>\n",
       "      <td>00:00:58</td>\n",
       "      <td>5538</td>\n",
       "      <td>5696</td>\n",
       "    </tr>\n",
       "    <tr>\n",
       "      <th>4</th>\n",
       "      <td>Thursday</td>\n",
       "      <td>6370</td>\n",
       "      <td>4212</td>\n",
       "      <td>2003</td>\n",
       "      <td>155</td>\n",
       "      <td>0.6856</td>\n",
       "      <td>0.3144</td>\n",
       "      <td>00:09:34</td>\n",
       "      <td>00:00:59</td>\n",
       "      <td>4696</td>\n",
       "      <td>4779</td>\n",
       "    </tr>\n",
       "    <tr>\n",
       "      <th>5</th>\n",
       "      <td>Friday</td>\n",
       "      <td>6119</td>\n",
       "      <td>3939</td>\n",
       "      <td>2032</td>\n",
       "      <td>148</td>\n",
       "      <td>0.6679</td>\n",
       "      <td>0.3321</td>\n",
       "      <td>00:09:15</td>\n",
       "      <td>00:01:06</td>\n",
       "      <td>4646</td>\n",
       "      <td>4383</td>\n",
       "    </tr>\n",
       "    <tr>\n",
       "      <th>6</th>\n",
       "      <td>Saturday</td>\n",
       "      <td>6711</td>\n",
       "      <td>3683</td>\n",
       "      <td>2890</td>\n",
       "      <td>138</td>\n",
       "      <td>0.5694</td>\n",
       "      <td>0.4306</td>\n",
       "      <td>00:09:54</td>\n",
       "      <td>00:01:25</td>\n",
       "      <td>3718</td>\n",
       "      <td>3635</td>\n",
       "    </tr>\n",
       "  </tbody>\n",
       "</table>\n",
       "</div>"
      ],
      "text/plain": [
       "         Day  Received  Answered  Unanswered  Transfers  % Answ  % Unansw  \\\n",
       "0     Sunday      6864      3576        3174        114  0.5376    0.4624   \n",
       "1     Monday      6811      4472        2187        152  0.6789    0.3211   \n",
       "2    Tuesday      6289      4138        2046        105  0.6747    0.3253   \n",
       "3  Wednesday      6608      4463        1981        164  0.7002    0.2998   \n",
       "4   Thursday      6370      4212        2003        155  0.6856    0.3144   \n",
       "5     Friday      6119      3939        2032        148  0.6679    0.3321   \n",
       "6   Saturday      6711      3683        2890        138  0.5694    0.4306   \n",
       "\n",
       "  Avg Durat.  Avg Wait  Logins  Logoff  \n",
       "0   00:10:17  00:01:28    3641    3624  \n",
       "1   00:08:38  00:00:59    5549    5576  \n",
       "2   00:09:34  00:01:06    5544    5620  \n",
       "3   00:09:13  00:00:58    5538    5696  \n",
       "4   00:09:34  00:00:59    4696    4779  \n",
       "5   00:09:15  00:01:06    4646    4383  \n",
       "6   00:09:54  00:01:25    3718    3635  "
      ]
     },
     "execution_count": 127,
     "metadata": {},
     "output_type": "execute_result"
    }
   ],
   "source": [
    "day_dist_2020 = pd.read_excel('../data/call_volume.xlsx', sheet_name='2020', skiprows=55, nrows=7, usecols='A:K')\n",
    "day_dist_2020"
   ]
  },
  {
   "cell_type": "code",
   "execution_count": null,
   "id": "0599ef2e",
   "metadata": {},
   "outputs": [],
   "source": [
    "queue_answered_2020 = pd.read_excel('../data/call_volume.xlsx', sheet_name='2020', skiprows=66, nrows=10, usecols='A:C')\n",
    "queue_answered_2020"
   ]
  },
  {
   "cell_type": "code",
   "execution_count": null,
   "id": "e0b9903c",
   "metadata": {},
   "outputs": [],
   "source": [
    "service_speed_2020 = pd.read_excel('../data/call_volume.xlsx', sheet_name='2020', skiprows=80, nrows=10, usecols='A:D')\n",
    "service_speed_2020"
   ]
  },
  {
   "cell_type": "code",
   "execution_count": null,
   "id": "f3a108c5",
   "metadata": {},
   "outputs": [],
   "source": [
    "abandon_rate_2020 = pd.read_excel('../data/call_volume.xlsx', sheet_name='2020', skiprows=94, nrows=10, usecols='A:D')\n",
    "abandon_rate_2020"
   ]
  },
  {
   "cell_type": "markdown",
   "id": "0aaaceb9",
   "metadata": {},
   "source": [
    "# 2021 DataFrames"
   ]
  },
  {
   "cell_type": "code",
   "execution_count": null,
   "id": "db98f76f",
   "metadata": {},
   "outputs": [],
   "source": [
    "stats_2021 = pd.read_excel('../data/call_volume.xlsx', sheet_name='2021', skiprows=10, nrows=9, usecols='A:B')\n",
    "stats_2021.rename(inplace=True, columns={'Total Calls':'Category', 'Unnamed: 1':'Total'})\n",
    "stats_2021"
   ]
  },
  {
   "cell_type": "code",
   "execution_count": null,
   "id": "33bd56fa",
   "metadata": {},
   "outputs": [],
   "source": [
    "queue_dist_2021 = pd.read_excel('../data/call_volume.xlsx', sheet_name='2021', skiprows=23, nrows=11, usecols='A:I')\n",
    "queue_dist_2021"
   ]
  },
  {
   "cell_type": "code",
   "execution_count": null,
   "id": "55222c20",
   "metadata": {},
   "outputs": [],
   "source": [
    "month_dist_2021 = pd.read_excel('../data/call_volume.xlsx', sheet_name='2021', skiprows=38, nrows=12, usecols='A:K')\n",
    "month_dist_2021"
   ]
  },
  {
   "cell_type": "code",
   "execution_count": null,
   "id": "fc5f8cbe",
   "metadata": {},
   "outputs": [],
   "source": [
    "hour_dist_2021 = pd.read_excel('../data/call_volume.xlsx', sheet_name='2021', skiprows=54, nrows=24, usecols='A:K')\n",
    "hour_dist_2021"
   ]
  },
  {
   "cell_type": "code",
   "execution_count": null,
   "id": "f2c2086f",
   "metadata": {},
   "outputs": [],
   "source": [
    "day_dist_2021 = pd.read_excel('../data/call_volume.xlsx', sheet_name='2021', skiprows=82, nrows=7, usecols='A:K')\n",
    "day_dist_2021"
   ]
  },
  {
   "cell_type": "code",
   "execution_count": null,
   "id": "ba367e18",
   "metadata": {},
   "outputs": [],
   "source": [
    "service_speed_2021 = pd.read_excel('../data/call_volume.xlsx', sheet_name='2021', skiprows=93, nrows=10, usecols='A:D')\n",
    "service_speed_2021"
   ]
  },
  {
   "cell_type": "code",
   "execution_count": null,
   "id": "33cbd472",
   "metadata": {},
   "outputs": [],
   "source": [
    "abandon_rate_2021 = pd.read_excel('../data/call_volume.xlsx', sheet_name='2021', skiprows=107, nrows=10, usecols='A:D')\n",
    "abandon_rate_2021"
   ]
  },
  {
   "cell_type": "markdown",
   "id": "fc1638a0",
   "metadata": {},
   "source": [
    "# 2022 DataFrames (through April)"
   ]
  },
  {
   "cell_type": "code",
   "execution_count": null,
   "id": "e681b441",
   "metadata": {},
   "outputs": [],
   "source": [
    "stats_2022 = pd.read_excel('../data/call_volume.xlsx', sheet_name='2022', skiprows=7, nrows=9, usecols='A:B')\n",
    "stats_2022.rename(inplace=True, columns={'Total Calls':'Category', 'Unnamed: 1':'Total'})\n",
    "stats_2022"
   ]
  },
  {
   "cell_type": "code",
   "execution_count": null,
   "id": "47f041e5",
   "metadata": {},
   "outputs": [],
   "source": [
    "queue_dist_2022 = pd.read_excel('../data/call_volume.xlsx', sheet_name='2022', skiprows=18, nrows=10, usecols='A:I')\n",
    "queue_dist_2022"
   ]
  },
  {
   "cell_type": "code",
   "execution_count": null,
   "id": "587837bd",
   "metadata": {},
   "outputs": [],
   "source": [
    "month_dist_2022 = pd.read_excel('../data/call_volume.xlsx', sheet_name='2022', skiprows=32, nrows=4, usecols='A:K')\n",
    "month_dist_2022"
   ]
  },
  {
   "cell_type": "code",
   "execution_count": null,
   "id": "aede4bed",
   "metadata": {},
   "outputs": [],
   "source": [
    "hour_dist_2022 = pd.read_excel('../data/call_volume.xlsx', sheet_name='2022', skiprows=40, nrows=24, usecols='A:K')\n",
    "hour_dist_2022"
   ]
  },
  {
   "cell_type": "code",
   "execution_count": 143,
   "id": "d65b3190",
   "metadata": {},
   "outputs": [
    {
     "data": {
      "text/html": [
       "<div>\n",
       "<style scoped>\n",
       "    .dataframe tbody tr th:only-of-type {\n",
       "        vertical-align: middle;\n",
       "    }\n",
       "\n",
       "    .dataframe tbody tr th {\n",
       "        vertical-align: top;\n",
       "    }\n",
       "\n",
       "    .dataframe thead th {\n",
       "        text-align: right;\n",
       "    }\n",
       "</style>\n",
       "<table border=\"1\" class=\"dataframe\">\n",
       "  <thead>\n",
       "    <tr style=\"text-align: right;\">\n",
       "      <th></th>\n",
       "      <th>Day</th>\n",
       "      <th>Received</th>\n",
       "      <th>Answered</th>\n",
       "      <th>Unanswered</th>\n",
       "      <th>Transfers</th>\n",
       "      <th>% Answ</th>\n",
       "      <th>% Unansw</th>\n",
       "      <th>Avg Durat.</th>\n",
       "      <th>Avg Wait</th>\n",
       "      <th>Logins</th>\n",
       "      <th>Logoff</th>\n",
       "    </tr>\n",
       "  </thead>\n",
       "  <tbody>\n",
       "    <tr>\n",
       "      <th>0</th>\n",
       "      <td>Sunday</td>\n",
       "      <td>2680</td>\n",
       "      <td>1780</td>\n",
       "      <td>884</td>\n",
       "      <td>16</td>\n",
       "      <td>0.6701</td>\n",
       "      <td>0.3299</td>\n",
       "      <td>00:10:16</td>\n",
       "      <td>00:01:09</td>\n",
       "      <td>1615</td>\n",
       "      <td>1490</td>\n",
       "    </tr>\n",
       "    <tr>\n",
       "      <th>1</th>\n",
       "      <td>Monday</td>\n",
       "      <td>2766</td>\n",
       "      <td>2131</td>\n",
       "      <td>587</td>\n",
       "      <td>48</td>\n",
       "      <td>0.7878</td>\n",
       "      <td>0.2122</td>\n",
       "      <td>00:09:03</td>\n",
       "      <td>00:00:45</td>\n",
       "      <td>2290</td>\n",
       "      <td>2215</td>\n",
       "    </tr>\n",
       "    <tr>\n",
       "      <th>2</th>\n",
       "      <td>Tuesday</td>\n",
       "      <td>2515</td>\n",
       "      <td>2043</td>\n",
       "      <td>444</td>\n",
       "      <td>28</td>\n",
       "      <td>0.8235</td>\n",
       "      <td>0.1765</td>\n",
       "      <td>00:08:55</td>\n",
       "      <td>00:00:42</td>\n",
       "      <td>2054</td>\n",
       "      <td>2016</td>\n",
       "    </tr>\n",
       "    <tr>\n",
       "      <th>3</th>\n",
       "      <td>Wednesday</td>\n",
       "      <td>2334</td>\n",
       "      <td>1894</td>\n",
       "      <td>406</td>\n",
       "      <td>34</td>\n",
       "      <td>0.8260</td>\n",
       "      <td>0.1740</td>\n",
       "      <td>00:09:59</td>\n",
       "      <td>00:00:44</td>\n",
       "      <td>2501</td>\n",
       "      <td>2470</td>\n",
       "    </tr>\n",
       "    <tr>\n",
       "      <th>4</th>\n",
       "      <td>Thursday</td>\n",
       "      <td>2179</td>\n",
       "      <td>1823</td>\n",
       "      <td>317</td>\n",
       "      <td>39</td>\n",
       "      <td>0.8545</td>\n",
       "      <td>0.1455</td>\n",
       "      <td>00:09:25</td>\n",
       "      <td>00:00:40</td>\n",
       "      <td>2368</td>\n",
       "      <td>2378</td>\n",
       "    </tr>\n",
       "    <tr>\n",
       "      <th>5</th>\n",
       "      <td>Friday</td>\n",
       "      <td>2371</td>\n",
       "      <td>1884</td>\n",
       "      <td>451</td>\n",
       "      <td>36</td>\n",
       "      <td>0.8098</td>\n",
       "      <td>0.1902</td>\n",
       "      <td>00:09:15</td>\n",
       "      <td>00:00:45</td>\n",
       "      <td>2026</td>\n",
       "      <td>2151</td>\n",
       "    </tr>\n",
       "    <tr>\n",
       "      <th>6</th>\n",
       "      <td>Saturday</td>\n",
       "      <td>2420</td>\n",
       "      <td>1646</td>\n",
       "      <td>757</td>\n",
       "      <td>17</td>\n",
       "      <td>0.6872</td>\n",
       "      <td>0.3128</td>\n",
       "      <td>00:11:18</td>\n",
       "      <td>00:01:15</td>\n",
       "      <td>1644</td>\n",
       "      <td>1794</td>\n",
       "    </tr>\n",
       "  </tbody>\n",
       "</table>\n",
       "</div>"
      ],
      "text/plain": [
       "         Day  Received  Answered  Unanswered  Transfers  % Answ  % Unansw  \\\n",
       "0     Sunday      2680      1780         884         16  0.6701    0.3299   \n",
       "1     Monday      2766      2131         587         48  0.7878    0.2122   \n",
       "2    Tuesday      2515      2043         444         28  0.8235    0.1765   \n",
       "3  Wednesday      2334      1894         406         34  0.8260    0.1740   \n",
       "4   Thursday      2179      1823         317         39  0.8545    0.1455   \n",
       "5     Friday      2371      1884         451         36  0.8098    0.1902   \n",
       "6   Saturday      2420      1646         757         17  0.6872    0.3128   \n",
       "\n",
       "  Avg Durat.  Avg Wait  Logins  Logoff  \n",
       "0   00:10:16  00:01:09    1615    1490  \n",
       "1   00:09:03  00:00:45    2290    2215  \n",
       "2   00:08:55  00:00:42    2054    2016  \n",
       "3   00:09:59  00:00:44    2501    2470  \n",
       "4   00:09:25  00:00:40    2368    2378  \n",
       "5   00:09:15  00:00:45    2026    2151  \n",
       "6   00:11:18  00:01:15    1644    1794  "
      ]
     },
     "execution_count": 143,
     "metadata": {},
     "output_type": "execute_result"
    }
   ],
   "source": [
    "day_dist_2022 = pd.read_excel('../data/call_volume.xlsx', sheet_name='2022', skiprows=68, nrows=7, usecols='A:K')\n",
    "day_dist_2022"
   ]
  },
  {
   "cell_type": "code",
   "execution_count": null,
   "id": "97be5ca3",
   "metadata": {},
   "outputs": [],
   "source": [
    "service_speed_2022 = pd.read_excel('../data/call_volume.xlsx', sheet_name='2022', skiprows=80, nrows=10, usecols='A:D')\n",
    "service_speed_2022"
   ]
  },
  {
   "cell_type": "code",
   "execution_count": null,
   "id": "c7369aaa",
   "metadata": {},
   "outputs": [],
   "source": [
    "abandon_rate_2022 = pd.read_excel('../data/call_volume.xlsx', sheet_name='2022', skiprows=94, nrows=10, usecols='A:D')\n",
    "abandon_rate_2022"
   ]
  },
  {
   "cell_type": "code",
   "execution_count": null,
   "id": "6c0c6f40",
   "metadata": {},
   "outputs": [],
   "source": [
    "#day_dist_2020.hist(column='Received', by='Day') -- wanted a histogram but I think I need to just do a bar plot\n",
    "plt.figure(figsize=(15,10))\n",
    "plt.bar(day_dist_2020['Day'], day_dist_2020['Received'])\n",
    "plt.title('Received Calls by Day of Week - 2020')\n",
    "plt.ylabel('Call Count')\n",
    "plt.xticks(rotation=50)\n",
    "plt.show()"
   ]
  },
  {
   "cell_type": "code",
   "execution_count": null,
   "id": "71157a0f",
   "metadata": {},
   "outputs": [],
   "source": [
    "month_dist_2020[['Answered','Unanswered']].plot(kind='bar', stacked=True)\n",
    "plt.title(\"Calls by Month - 2020\")\n",
    "plt.xlabel(\"Month\")\n",
    "plt.ylabel(\"Calls\")"
   ]
  },
  {
   "cell_type": "code",
   "execution_count": null,
   "id": "b5237d30",
   "metadata": {
    "scrolled": true
   },
   "outputs": [],
   "source": [
    "w = 0.9\n",
    "\n",
    "\n",
    "plt.bar(month_dist_2020['Month'], month_dist_2020['% Answ'], w)\n",
    "plt.bar(month_dist_2020['Month'], month_dist_2020['% Unansw'], w, bottom= month_dist_2020['% Unansw'])\n",
    "plt.title(\"Calls by Month - 2020\")\n",
    "plt.xlabel(\"Month\")\n",
    "plt.ylabel(\"Calls\")\n",
    "plt.xticks(rotation=50)\n",
    "plt.show()"
   ]
  },
  {
   "cell_type": "code",
   "execution_count": 122,
   "id": "a2cb4e38",
   "metadata": {},
   "outputs": [
    {
     "data": {
      "image/png": "[encoded data removed]",
      "text/plain": [
       "<Figure size 432x288 with 1 Axes>"
      ]
     },
     "metadata": {
      "needs_background": "light"
     },
     "output_type": "display_data"
    }
   ],
   "source": [
    "#used percentages to help normalize the data\n",
    "\n",
    "w = 0.9\n",
    "\n",
    "\n",
    "plt.bar(month_dist_2020['Month'], month_dist_2020['% Answ'], w, color = 'c', label = '% Answered')\n",
    "plt.bar(month_dist_2020['Month'], month_dist_2020['% Unansw'], w, label = '% Unanswered', bottom= month_dist_2020['% Answ'])\n",
    "plt.title(\"Calls by Month - 2020\")\n",
    "plt.xlabel(\"Month\")\n",
    "plt.ylabel(\"Calls\")\n",
    "plt.xticks(rotation=50)\n",
    "plt.legend()\n",
    "plt.show()"
   ]
  },
  {
   "cell_type": "code",
   "execution_count": 123,
   "id": "7dd326cb",
   "metadata": {},
   "outputs": [
    {
     "data": {
      "image/png": "[encoded data removed]",
      "text/plain": [
       "<Figure size 432x288 with 1 Axes>"
      ]
     },
     "metadata": {
      "needs_background": "light"
     },
     "output_type": "display_data"
    }
   ],
   "source": [
    "w = 0.9\n",
    "\n",
    "\n",
    "plt.bar(month_dist_2021['Month'], month_dist_2021['% Answ'], w, color = 'c', label = '% Answered')\n",
    "plt.bar(month_dist_2021['Month'], month_dist_2021['% Unansw'], w, label = '% Unanswered', bottom= month_dist_2021['% Answ'])\n",
    "plt.title(\"Calls by Month - 2021\")\n",
    "plt.xlabel(\"Month\")\n",
    "plt.ylabel(\"Calls\")\n",
    "plt.xticks(rotation=50)\n",
    "plt.legend()\n",
    "plt.show()"
   ]
  },
  {
   "cell_type": "code",
   "execution_count": 124,
   "id": "72002cbd",
   "metadata": {},
   "outputs": [
    {
     "data": {
      "image/png": "[encoded data removed]",
      "text/plain": [
       "<Figure size 432x288 with 1 Axes>"
      ]
     },
     "metadata": {
      "needs_background": "light"
     },
     "output_type": "display_data"
    }
   ],
   "source": [
    "w = 0.9\n",
    "\n",
    "\n",
    "plt.bar(month_dist_2022['Month'], month_dist_2022['% Answ'], w, color = 'c', label = '% Answered')\n",
    "plt.bar(month_dist_2022['Month'], month_dist_2022['% Unansw'], w, label = '% Unanswered', bottom= month_dist_2022['% Answ'])\n",
    "plt.title(\"Calls by Month - 2022\")\n",
    "plt.xlabel(\"Month\")\n",
    "plt.ylabel(\"Calls\")\n",
    "plt.xticks(rotation=50)\n",
    "plt.legend()\n",
    "plt.show()"
   ]
  },
  {
   "cell_type": "code",
   "execution_count": 129,
   "id": "06cd9ece",
   "metadata": {},
   "outputs": [
    {
     "data": {
      "image/png": "[encoded data removed]",
      "text/plain": [
       "<Figure size 432x288 with 1 Axes>"
      ]
     },
     "metadata": {
      "needs_background": "light"
     },
     "output_type": "display_data"
    }
   ],
   "source": [
    "#used percentages to help normalize the data\n",
    "\n",
    "w = 0.9\n",
    "\n",
    "\n",
    "plt.bar(day_dist_2020['Day'], day_dist_2020['% Answ'], w, color = 'c', label = '% Answered')\n",
    "plt.bar(day_dist_2020['Day'], day_dist_2020['% Unansw'], w, label = '% Unanswered', bottom= day_dist_2020['% Answ'])\n",
    "plt.title(\"Calls by Day - 2020\")\n",
    "plt.xlabel(\"Day\")\n",
    "plt.ylabel(\"Calls\")\n",
    "plt.xticks(rotation=50)\n",
    "plt.legend()\n",
    "plt.show()"
   ]
  },
  {
   "cell_type": "code",
   "execution_count": 133,
   "id": "ebc52058",
   "metadata": {},
   "outputs": [
    {
     "data": {
      "image/png": "[encoded data removed]",
      "text/plain": [
       "<Figure size 432x288 with 1 Axes>"
      ]
     },
     "metadata": {
      "needs_background": "light"
     },
     "output_type": "display_data"
    }
   ],
   "source": [
    "#used percentages to help normalize the data\n",
    "\n",
    "w = 0.9\n",
    "\n",
    "\n",
    "plt.bar(day_dist_2021['Day'], day_dist_2021['% Answ'], w, color = 'c', label = '% Answered')\n",
    "plt.bar(day_dist_2021['Day'], day_dist_2021['% Unansw'], w, label = '% Unanswered', bottom= day_dist_2021['% Answ'])\n",
    "plt.title(\"Calls by Day - 2021\")\n",
    "plt.xlabel(\"Day\")\n",
    "plt.ylabel(\"Calls\")\n",
    "plt.xticks(rotation=50)\n",
    "plt.legend()\n",
    "plt.show()"
   ]
  },
  {
   "cell_type": "code",
   "execution_count": 132,
   "id": "b8f215a5",
   "metadata": {},
   "outputs": [
    {
     "data": {
      "image/png": "[encoded data removed]",
      "text/plain": [
       "<Figure size 432x288 with 1 Axes>"
      ]
     },
     "metadata": {
      "needs_background": "light"
     },
     "output_type": "display_data"
    }
   ],
   "source": [
    "#used percentages to help normalize the data\n",
    "\n",
    "w = 0.9\n",
    "\n",
    "\n",
    "plt.bar(day_dist_2022['Day'], day_dist_2022['% Answ'], w, color = 'c', label = '% Answered')\n",
    "plt.bar(day_dist_2022['Day'], day_dist_2022['% Unansw'], w, label = '% Unanswered', bottom= day_dist_2022['% Answ'])\n",
    "plt.title(\"Calls by Day - 2022\")\n",
    "plt.xlabel(\"Day\")\n",
    "plt.ylabel(\"Calls\")\n",
    "plt.xticks(rotation=50)\n",
    "plt.legend()\n",
    "plt.show()"
   ]
  },
  {
   "cell_type": "markdown",
   "id": "0742539b",
   "metadata": {},
   "source": [
    "Goal: Try to add data labels for perecentages -- exploring plt.text() options"
   ]
  },
  {
   "cell_type": "code",
   "execution_count": 142,
   "id": "e511066d",
   "metadata": {},
   "outputs": [
    {
     "data": {
      "image/png": "[encoded data removed]",
      "text/plain": [
       "<Figure size 432x288 with 1 Axes>"
      ]
     },
     "metadata": {
      "needs_background": "light"
     },
     "output_type": "display_data"
    }
   ],
   "source": [
    "w = 0.9\n",
    "\n",
    "import matplotlib.pyplot as plt\n",
    "\n",
    "def add_value_label(x_list,y_list):\n",
    "    for i in range(1, len(x_list)+1):\n",
    "        plt.text(i,y_list[i-1],y_list[i-1])\n",
    "\n",
    "\n",
    "plt.bar(day_dist_2022['Day'], day_dist_2022['% Answ'], w, color = 'c', label = '% Answered')\n",
    "plt.bar(day_dist_2022['Day'], day_dist_2022['% Unansw'], w, label = '% Unanswered', bottom= day_dist_2022['% Answ'])\n",
    "add_value_label(day_dist_2022['% Answ'],day_dist_2022['% Unansw'])\n",
    "plt.title(\"Calls by Day - 2022\")\n",
    "plt.xlabel(\"Day\")\n",
    "plt.ylabel(\"Calls\")\n",
    "plt.xticks(rotation=50)\n",
    "plt.legend()\n",
    "plt.show()\n"
   ]
  },
  {
   "cell_type": "code",
   "execution_count": 146,
   "id": "0cc5d5f3",
   "metadata": {},
   "outputs": [
    {
     "ename": "KeyError",
     "evalue": "0",
     "output_type": "error",
     "traceback": [
      "\u001b[0;31m---------------------------------------------------------------------------\u001b[0m",
      "\u001b[0;31mKeyError\u001b[0m                                  Traceback (most recent call last)",
      "\u001b[0;32m~/opt/anaconda3/lib/python3.9/site-packages/pandas/core/indexes/base.py\u001b[0m in \u001b[0;36mget_loc\u001b[0;34m(self, key, method, tolerance)\u001b[0m\n\u001b[1;32m   3360\u001b[0m             \u001b[0;32mtry\u001b[0m\u001b[0;34m:\u001b[0m\u001b[0;34m\u001b[0m\u001b[0;34m\u001b[0m\u001b[0m\n\u001b[0;32m-> 3361\u001b[0;31m                 \u001b[0;32mreturn\u001b[0m \u001b[0mself\u001b[0m\u001b[0;34m.\u001b[0m\u001b[0m_engine\u001b[0m\u001b[0;34m.\u001b[0m\u001b[0mget_loc\u001b[0m\u001b[0;34m(\u001b[0m\u001b[0mcasted_key\u001b[0m\u001b[0;34m)\u001b[0m\u001b[0;34m\u001b[0m\u001b[0;34m\u001b[0m\u001b[0m\n\u001b[0m\u001b[1;32m   3362\u001b[0m             \u001b[0;32mexcept\u001b[0m \u001b[0mKeyError\u001b[0m \u001b[0;32mas\u001b[0m \u001b[0merr\u001b[0m\u001b[0;34m:\u001b[0m\u001b[0;34m\u001b[0m\u001b[0;34m\u001b[0m\u001b[0m\n",
      "\u001b[0;32m~/opt/anaconda3/lib/python3.9/site-packages/pandas/_libs/index.pyx\u001b[0m in \u001b[0;36mpandas._libs.index.IndexEngine.get_loc\u001b[0;34m()\u001b[0m\n",
      "\u001b[0;32m~/opt/anaconda3/lib/python3.9/site-packages/pandas/_libs/index.pyx\u001b[0m in \u001b[0;36mpandas._libs.index.IndexEngine.get_loc\u001b[0;34m()\u001b[0m\n",
      "\u001b[0;32mpandas/_libs/hashtable_class_helper.pxi\u001b[0m in \u001b[0;36mpandas._libs.hashtable.PyObjectHashTable.get_item\u001b[0;34m()\u001b[0m\n",
      "\u001b[0;32mpandas/_libs/hashtable_class_helper.pxi\u001b[0m in \u001b[0;36mpandas._libs.hashtable.PyObjectHashTable.get_item\u001b[0;34m()\u001b[0m\n",
      "\u001b[0;31mKeyError\u001b[0m: 0",
      "\nThe above exception was the direct cause of the following exception:\n",
      "\u001b[0;31mKeyError\u001b[0m                                  Traceback (most recent call last)",
      "\u001b[0;32m/var/folders/4_/948td82x7jlf4pz0c4dtqn_00000gn/T/ipykernel_41534/75430578.py\u001b[0m in \u001b[0;36m<module>\u001b[0;34m\u001b[0m\n\u001b[1;32m     11\u001b[0m \u001b[0;34m\u001b[0m\u001b[0m\n\u001b[1;32m     12\u001b[0m \u001b[0;32mfor\u001b[0m \u001b[0mx\u001b[0m \u001b[0;32min\u001b[0m \u001b[0menumerate\u001b[0m\u001b[0;34m(\u001b[0m\u001b[0;34m[\u001b[0m\u001b[0;34m*\u001b[0m\u001b[0mday_dist_2022\u001b[0m\u001b[0;34m.\u001b[0m\u001b[0mindex\u001b[0m\u001b[0;34m.\u001b[0m\u001b[0mvalues\u001b[0m\u001b[0;34m]\u001b[0m\u001b[0;34m)\u001b[0m\u001b[0;34m:\u001b[0m\u001b[0;34m\u001b[0m\u001b[0;34m\u001b[0m\u001b[0m\n\u001b[0;32m---> 13\u001b[0;31m     for (proportion) in zip(day_dist_2022.loc[x],\n\u001b[0m\u001b[1;32m     14\u001b[0m                                    day_dist_2022.loc[x].cumsum()):\n\u001b[1;32m     15\u001b[0m \u001b[0;34m\u001b[0m\u001b[0m\n",
      "\u001b[0;32m~/opt/anaconda3/lib/python3.9/site-packages/pandas/core/indexing.py\u001b[0m in \u001b[0;36m__getitem__\u001b[0;34m(self, key)\u001b[0m\n\u001b[1;32m    923\u001b[0m                 \u001b[0;32mwith\u001b[0m \u001b[0msuppress\u001b[0m\u001b[0;34m(\u001b[0m\u001b[0mKeyError\u001b[0m\u001b[0;34m,\u001b[0m \u001b[0mIndexError\u001b[0m\u001b[0;34m)\u001b[0m\u001b[0;34m:\u001b[0m\u001b[0;34m\u001b[0m\u001b[0;34m\u001b[0m\u001b[0m\n\u001b[1;32m    924\u001b[0m                     \u001b[0;32mreturn\u001b[0m \u001b[0mself\u001b[0m\u001b[0;34m.\u001b[0m\u001b[0mobj\u001b[0m\u001b[0;34m.\u001b[0m\u001b[0m_get_value\u001b[0m\u001b[0;34m(\u001b[0m\u001b[0;34m*\u001b[0m\u001b[0mkey\u001b[0m\u001b[0;34m,\u001b[0m \u001b[0mtakeable\u001b[0m\u001b[0;34m=\u001b[0m\u001b[0mself\u001b[0m\u001b[0;34m.\u001b[0m\u001b[0m_takeable\u001b[0m\u001b[0;34m)\u001b[0m\u001b[0;34m\u001b[0m\u001b[0;34m\u001b[0m\u001b[0m\n\u001b[0;32m--> 925\u001b[0;31m             \u001b[0;32mreturn\u001b[0m \u001b[0mself\u001b[0m\u001b[0;34m.\u001b[0m\u001b[0m_getitem_tuple\u001b[0m\u001b[0;34m(\u001b[0m\u001b[0mkey\u001b[0m\u001b[0;34m)\u001b[0m\u001b[0;34m\u001b[0m\u001b[0;34m\u001b[0m\u001b[0m\n\u001b[0m\u001b[1;32m    926\u001b[0m         \u001b[0;32melse\u001b[0m\u001b[0;34m:\u001b[0m\u001b[0;34m\u001b[0m\u001b[0;34m\u001b[0m\u001b[0m\n\u001b[1;32m    927\u001b[0m             \u001b[0;31m# we by definition only have the 0th axis\u001b[0m\u001b[0;34m\u001b[0m\u001b[0;34m\u001b[0m\u001b[0m\n",
      "\u001b[0;32m~/opt/anaconda3/lib/python3.9/site-packages/pandas/core/indexing.py\u001b[0m in \u001b[0;36m_getitem_tuple\u001b[0;34m(self, tup)\u001b[0m\n\u001b[1;32m   1098\u001b[0m     \u001b[0;32mdef\u001b[0m \u001b[0m_getitem_tuple\u001b[0m\u001b[0;34m(\u001b[0m\u001b[0mself\u001b[0m\u001b[0;34m,\u001b[0m \u001b[0mtup\u001b[0m\u001b[0;34m:\u001b[0m \u001b[0mtuple\u001b[0m\u001b[0;34m)\u001b[0m\u001b[0;34m:\u001b[0m\u001b[0;34m\u001b[0m\u001b[0;34m\u001b[0m\u001b[0m\n\u001b[1;32m   1099\u001b[0m         \u001b[0;32mwith\u001b[0m \u001b[0msuppress\u001b[0m\u001b[0;34m(\u001b[0m\u001b[0mIndexingError\u001b[0m\u001b[0;34m)\u001b[0m\u001b[0;34m:\u001b[0m\u001b[0;34m\u001b[0m\u001b[0;34m\u001b[0m\u001b[0m\n\u001b[0;32m-> 1100\u001b[0;31m             \u001b[0;32mreturn\u001b[0m \u001b[0mself\u001b[0m\u001b[0;34m.\u001b[0m\u001b[0m_getitem_lowerdim\u001b[0m\u001b[0;34m(\u001b[0m\u001b[0mtup\u001b[0m\u001b[0;34m)\u001b[0m\u001b[0;34m\u001b[0m\u001b[0;34m\u001b[0m\u001b[0m\n\u001b[0m\u001b[1;32m   1101\u001b[0m \u001b[0;34m\u001b[0m\u001b[0m\n\u001b[1;32m   1102\u001b[0m         \u001b[0;31m# no multi-index, so validate all of the indexers\u001b[0m\u001b[0;34m\u001b[0m\u001b[0;34m\u001b[0m\u001b[0m\n",
      "\u001b[0;32m~/opt/anaconda3/lib/python3.9/site-packages/pandas/core/indexing.py\u001b[0m in \u001b[0;36m_getitem_lowerdim\u001b[0;34m(self, tup)\u001b[0m\n\u001b[1;32m    860\u001b[0m                     \u001b[0;32mreturn\u001b[0m \u001b[0msection\u001b[0m\u001b[0;34m\u001b[0m\u001b[0;34m\u001b[0m\u001b[0m\n\u001b[1;32m    861\u001b[0m                 \u001b[0;31m# This is an elided recursive call to iloc/loc\u001b[0m\u001b[0;34m\u001b[0m\u001b[0;34m\u001b[0m\u001b[0m\n\u001b[0;32m--> 862\u001b[0;31m                 \u001b[0;32mreturn\u001b[0m \u001b[0mgetattr\u001b[0m\u001b[0;34m(\u001b[0m\u001b[0msection\u001b[0m\u001b[0;34m,\u001b[0m \u001b[0mself\u001b[0m\u001b[0;34m.\u001b[0m\u001b[0mname\u001b[0m\u001b[0;34m)\u001b[0m\u001b[0;34m[\u001b[0m\u001b[0mnew_key\u001b[0m\u001b[0;34m]\u001b[0m\u001b[0;34m\u001b[0m\u001b[0;34m\u001b[0m\u001b[0m\n\u001b[0m\u001b[1;32m    863\u001b[0m \u001b[0;34m\u001b[0m\u001b[0m\n\u001b[1;32m    864\u001b[0m         \u001b[0;32mraise\u001b[0m \u001b[0mIndexingError\u001b[0m\u001b[0;34m(\u001b[0m\u001b[0;34m\"not applicable\"\u001b[0m\u001b[0;34m)\u001b[0m\u001b[0;34m\u001b[0m\u001b[0;34m\u001b[0m\u001b[0m\n",
      "\u001b[0;32m~/opt/anaconda3/lib/python3.9/site-packages/pandas/core/indexing.py\u001b[0m in \u001b[0;36m__getitem__\u001b[0;34m(self, key)\u001b[0m\n\u001b[1;32m    929\u001b[0m \u001b[0;34m\u001b[0m\u001b[0m\n\u001b[1;32m    930\u001b[0m             \u001b[0mmaybe_callable\u001b[0m \u001b[0;34m=\u001b[0m \u001b[0mcom\u001b[0m\u001b[0;34m.\u001b[0m\u001b[0mapply_if_callable\u001b[0m\u001b[0;34m(\u001b[0m\u001b[0mkey\u001b[0m\u001b[0;34m,\u001b[0m \u001b[0mself\u001b[0m\u001b[0;34m.\u001b[0m\u001b[0mobj\u001b[0m\u001b[0;34m)\u001b[0m\u001b[0;34m\u001b[0m\u001b[0;34m\u001b[0m\u001b[0m\n\u001b[0;32m--> 931\u001b[0;31m             \u001b[0;32mreturn\u001b[0m \u001b[0mself\u001b[0m\u001b[0;34m.\u001b[0m\u001b[0m_getitem_axis\u001b[0m\u001b[0;34m(\u001b[0m\u001b[0mmaybe_callable\u001b[0m\u001b[0;34m,\u001b[0m \u001b[0maxis\u001b[0m\u001b[0;34m=\u001b[0m\u001b[0maxis\u001b[0m\u001b[0;34m)\u001b[0m\u001b[0;34m\u001b[0m\u001b[0;34m\u001b[0m\u001b[0m\n\u001b[0m\u001b[1;32m    932\u001b[0m \u001b[0;34m\u001b[0m\u001b[0m\n\u001b[1;32m    933\u001b[0m     \u001b[0;32mdef\u001b[0m \u001b[0m_is_scalar_access\u001b[0m\u001b[0;34m(\u001b[0m\u001b[0mself\u001b[0m\u001b[0;34m,\u001b[0m \u001b[0mkey\u001b[0m\u001b[0;34m:\u001b[0m \u001b[0mtuple\u001b[0m\u001b[0;34m)\u001b[0m\u001b[0;34m:\u001b[0m\u001b[0;34m\u001b[0m\u001b[0;34m\u001b[0m\u001b[0m\n",
      "\u001b[0;32m~/opt/anaconda3/lib/python3.9/site-packages/pandas/core/indexing.py\u001b[0m in \u001b[0;36m_getitem_axis\u001b[0;34m(self, key, axis)\u001b[0m\n\u001b[1;32m   1162\u001b[0m         \u001b[0;31m# fall thru to straight lookup\u001b[0m\u001b[0;34m\u001b[0m\u001b[0;34m\u001b[0m\u001b[0m\n\u001b[1;32m   1163\u001b[0m         \u001b[0mself\u001b[0m\u001b[0;34m.\u001b[0m\u001b[0m_validate_key\u001b[0m\u001b[0;34m(\u001b[0m\u001b[0mkey\u001b[0m\u001b[0;34m,\u001b[0m \u001b[0maxis\u001b[0m\u001b[0;34m)\u001b[0m\u001b[0;34m\u001b[0m\u001b[0;34m\u001b[0m\u001b[0m\n\u001b[0;32m-> 1164\u001b[0;31m         \u001b[0;32mreturn\u001b[0m \u001b[0mself\u001b[0m\u001b[0;34m.\u001b[0m\u001b[0m_get_label\u001b[0m\u001b[0;34m(\u001b[0m\u001b[0mkey\u001b[0m\u001b[0;34m,\u001b[0m \u001b[0maxis\u001b[0m\u001b[0;34m=\u001b[0m\u001b[0maxis\u001b[0m\u001b[0;34m)\u001b[0m\u001b[0;34m\u001b[0m\u001b[0;34m\u001b[0m\u001b[0m\n\u001b[0m\u001b[1;32m   1165\u001b[0m \u001b[0;34m\u001b[0m\u001b[0m\n\u001b[1;32m   1166\u001b[0m     \u001b[0;32mdef\u001b[0m \u001b[0m_get_slice_axis\u001b[0m\u001b[0;34m(\u001b[0m\u001b[0mself\u001b[0m\u001b[0;34m,\u001b[0m \u001b[0mslice_obj\u001b[0m\u001b[0;34m:\u001b[0m \u001b[0mslice\u001b[0m\u001b[0;34m,\u001b[0m \u001b[0maxis\u001b[0m\u001b[0;34m:\u001b[0m \u001b[0mint\u001b[0m\u001b[0;34m)\u001b[0m\u001b[0;34m:\u001b[0m\u001b[0;34m\u001b[0m\u001b[0;34m\u001b[0m\u001b[0m\n",
      "\u001b[0;32m~/opt/anaconda3/lib/python3.9/site-packages/pandas/core/indexing.py\u001b[0m in \u001b[0;36m_get_label\u001b[0;34m(self, label, axis)\u001b[0m\n\u001b[1;32m   1111\u001b[0m     \u001b[0;32mdef\u001b[0m \u001b[0m_get_label\u001b[0m\u001b[0;34m(\u001b[0m\u001b[0mself\u001b[0m\u001b[0;34m,\u001b[0m \u001b[0mlabel\u001b[0m\u001b[0;34m,\u001b[0m \u001b[0maxis\u001b[0m\u001b[0;34m:\u001b[0m \u001b[0mint\u001b[0m\u001b[0;34m)\u001b[0m\u001b[0;34m:\u001b[0m\u001b[0;34m\u001b[0m\u001b[0;34m\u001b[0m\u001b[0m\n\u001b[1;32m   1112\u001b[0m         \u001b[0;31m# GH#5667 this will fail if the label is not present in the axis.\u001b[0m\u001b[0;34m\u001b[0m\u001b[0;34m\u001b[0m\u001b[0m\n\u001b[0;32m-> 1113\u001b[0;31m         \u001b[0;32mreturn\u001b[0m \u001b[0mself\u001b[0m\u001b[0;34m.\u001b[0m\u001b[0mobj\u001b[0m\u001b[0;34m.\u001b[0m\u001b[0mxs\u001b[0m\u001b[0;34m(\u001b[0m\u001b[0mlabel\u001b[0m\u001b[0;34m,\u001b[0m \u001b[0maxis\u001b[0m\u001b[0;34m=\u001b[0m\u001b[0maxis\u001b[0m\u001b[0;34m)\u001b[0m\u001b[0;34m\u001b[0m\u001b[0;34m\u001b[0m\u001b[0m\n\u001b[0m\u001b[1;32m   1114\u001b[0m \u001b[0;34m\u001b[0m\u001b[0m\n\u001b[1;32m   1115\u001b[0m     \u001b[0;32mdef\u001b[0m \u001b[0m_handle_lowerdim_multi_index_axis0\u001b[0m\u001b[0;34m(\u001b[0m\u001b[0mself\u001b[0m\u001b[0;34m,\u001b[0m \u001b[0mtup\u001b[0m\u001b[0;34m:\u001b[0m \u001b[0mtuple\u001b[0m\u001b[0;34m)\u001b[0m\u001b[0;34m:\u001b[0m\u001b[0;34m\u001b[0m\u001b[0;34m\u001b[0m\u001b[0m\n",
      "\u001b[0;32m~/opt/anaconda3/lib/python3.9/site-packages/pandas/core/generic.py\u001b[0m in \u001b[0;36mxs\u001b[0;34m(self, key, axis, level, drop_level)\u001b[0m\n\u001b[1;32m   3774\u001b[0m                 \u001b[0;32mraise\u001b[0m \u001b[0mTypeError\u001b[0m\u001b[0;34m(\u001b[0m\u001b[0;34mf\"Expected label or tuple of labels, got {key}\"\u001b[0m\u001b[0;34m)\u001b[0m \u001b[0;32mfrom\u001b[0m \u001b[0me\u001b[0m\u001b[0;34m\u001b[0m\u001b[0;34m\u001b[0m\u001b[0m\n\u001b[1;32m   3775\u001b[0m         \u001b[0;32melse\u001b[0m\u001b[0;34m:\u001b[0m\u001b[0;34m\u001b[0m\u001b[0;34m\u001b[0m\u001b[0m\n\u001b[0;32m-> 3776\u001b[0;31m             \u001b[0mloc\u001b[0m \u001b[0;34m=\u001b[0m \u001b[0mindex\u001b[0m\u001b[0;34m.\u001b[0m\u001b[0mget_loc\u001b[0m\u001b[0;34m(\u001b[0m\u001b[0mkey\u001b[0m\u001b[0;34m)\u001b[0m\u001b[0;34m\u001b[0m\u001b[0;34m\u001b[0m\u001b[0m\n\u001b[0m\u001b[1;32m   3777\u001b[0m \u001b[0;34m\u001b[0m\u001b[0m\n\u001b[1;32m   3778\u001b[0m             \u001b[0;32mif\u001b[0m \u001b[0misinstance\u001b[0m\u001b[0;34m(\u001b[0m\u001b[0mloc\u001b[0m\u001b[0;34m,\u001b[0m \u001b[0mnp\u001b[0m\u001b[0;34m.\u001b[0m\u001b[0mndarray\u001b[0m\u001b[0;34m)\u001b[0m\u001b[0;34m:\u001b[0m\u001b[0;34m\u001b[0m\u001b[0;34m\u001b[0m\u001b[0m\n",
      "\u001b[0;32m~/opt/anaconda3/lib/python3.9/site-packages/pandas/core/indexes/base.py\u001b[0m in \u001b[0;36mget_loc\u001b[0;34m(self, key, method, tolerance)\u001b[0m\n\u001b[1;32m   3361\u001b[0m                 \u001b[0;32mreturn\u001b[0m \u001b[0mself\u001b[0m\u001b[0;34m.\u001b[0m\u001b[0m_engine\u001b[0m\u001b[0;34m.\u001b[0m\u001b[0mget_loc\u001b[0m\u001b[0;34m(\u001b[0m\u001b[0mcasted_key\u001b[0m\u001b[0;34m)\u001b[0m\u001b[0;34m\u001b[0m\u001b[0;34m\u001b[0m\u001b[0m\n\u001b[1;32m   3362\u001b[0m             \u001b[0;32mexcept\u001b[0m \u001b[0mKeyError\u001b[0m \u001b[0;32mas\u001b[0m \u001b[0merr\u001b[0m\u001b[0;34m:\u001b[0m\u001b[0;34m\u001b[0m\u001b[0;34m\u001b[0m\u001b[0m\n\u001b[0;32m-> 3363\u001b[0;31m                 \u001b[0;32mraise\u001b[0m \u001b[0mKeyError\u001b[0m\u001b[0;34m(\u001b[0m\u001b[0mkey\u001b[0m\u001b[0;34m)\u001b[0m \u001b[0;32mfrom\u001b[0m \u001b[0merr\u001b[0m\u001b[0;34m\u001b[0m\u001b[0;34m\u001b[0m\u001b[0m\n\u001b[0m\u001b[1;32m   3364\u001b[0m \u001b[0;34m\u001b[0m\u001b[0m\n\u001b[1;32m   3365\u001b[0m         \u001b[0;32mif\u001b[0m \u001b[0mis_scalar\u001b[0m\u001b[0;34m(\u001b[0m\u001b[0mkey\u001b[0m\u001b[0;34m)\u001b[0m \u001b[0;32mand\u001b[0m \u001b[0misna\u001b[0m\u001b[0;34m(\u001b[0m\u001b[0mkey\u001b[0m\u001b[0;34m)\u001b[0m \u001b[0;32mand\u001b[0m \u001b[0;32mnot\u001b[0m \u001b[0mself\u001b[0m\u001b[0;34m.\u001b[0m\u001b[0mhasnans\u001b[0m\u001b[0;34m:\u001b[0m\u001b[0;34m\u001b[0m\u001b[0;34m\u001b[0m\u001b[0m\n",
      "\u001b[0;31mKeyError\u001b[0m: 0"
     ]
    },
    {
     "data": {
      "image/png": "[encoded data removed]",
      "text/plain": [
       "<Figure size 432x288 with 1 Axes>"
      ]
     },
     "metadata": {
      "needs_background": "light"
     },
     "output_type": "display_data"
    }
   ],
   "source": [
    "w = 0.9\n",
    "\n",
    "plt.bar(day_dist_2022['Day'], day_dist_2022['% Answ'], w, color = 'c', label = '% Answered')\n",
    "plt.bar(day_dist_2022['Day'], day_dist_2022['% Unansw'], w, label = '% Unanswered', bottom= day_dist_2022['% Answ'])\n",
    "plt.title(\"Calls by Day - 2022\")\n",
    "plt.xlabel(\"Day\")\n",
    "plt.ylabel(\"Calls\")\n",
    "plt.xticks(rotation=50)\n",
    "plt.legend()\n",
    "\n",
    "\n",
    "for x in enumerate([*day_dist_2022.index.values]):\n",
    "    for (proportion) in zip(day_dist_2022.loc[x],\n",
    "                                   day_dist_2022.loc[x].cumsum()):\n",
    "                \n",
    "        plt.text(x=n - 0.17,\n",
    "                 s=f'{np.round(proportion * 100, 1)}%', \n",
    "                 color=\"black\",\n",
    "                 fontsize=12,\n",
    "                 fontweight=\"bold\")\n",
    "\n",
    "plt.show()"
   ]
  },
  {
   "cell_type": "markdown",
   "id": "12a8dc61",
   "metadata": {},
   "source": [
    "https://towardsdatascience.com/how-to-make-bar-and-hbar-charts-with-labels-using-matplotlib-b701ce70ba9c"
   ]
  }
 ],
 "metadata": {
  "kernelspec": {
   "display_name": "Python 3 (ipykernel)",
   "language": "python",
   "name": "python3"
  },
  "language_info": {
   "codemirror_mode": {
    "name": "ipython",
    "version": 3
   },
   "file_extension": ".py",
   "mimetype": "text/x-python",
   "name": "python",
   "nbconvert_exporter": "python",
   "pygments_lexer": "ipython3",
   "version": "3.9.7"
  }
 },
 "nbformat": 4,
 "nbformat_minor": 5
}
