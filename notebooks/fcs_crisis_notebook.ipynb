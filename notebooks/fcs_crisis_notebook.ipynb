{
 "cells": [
  {
   "cell_type": "code",
   "execution_count": null,
   "id": "9e95ac57",
   "metadata": {},
   "outputs": [],
   "source": [
    "import pandas as pd\n",
    "import numpy as np\n",
    "import matplotlib.pyplot as plt\n",
    "\n",
    "%matplotlib inline"
   ]
  },
  {
   "cell_type": "code",
   "execution_count": null,
   "id": "7ea08d13",
   "metadata": {},
   "outputs": [],
   "source": [
    "crisis_1 = pd.read_excel('../data/NSSCrisisv.1.xlsx', skiprows = 2)"
   ]
  },
  {
   "cell_type": "code",
   "execution_count": null,
   "id": "77963fbe",
   "metadata": {},
   "outputs": [],
   "source": [
    "crisis_2 = pd.read_excel('../data/NSSCrisisv.2.xlsx', skiprows = 2)"
   ]
  },
  {
   "cell_type": "code",
   "execution_count": null,
   "id": "71423b53",
   "metadata": {},
   "outputs": [],
   "source": [
    "volume_20 = pd.read_excel('../data/call_volume.xlsx', sheet_name = '2020')"
   ]
  },
  {
   "cell_type": "code",
   "execution_count": null,
   "id": "856e67df",
   "metadata": {},
   "outputs": [],
   "source": [
    "volume_21 = pd.read_excel('../data/call_volume.xlsx', sheet_name = '2021')"
   ]
  },
  {
   "cell_type": "code",
   "execution_count": null,
   "id": "38197280",
   "metadata": {},
   "outputs": [],
   "source": [
    "volume_22 = pd.read_excel('../data/call_volume.xlsx', sheet_name = '2022')"
   ]
  },
  {
   "cell_type": "code",
   "execution_count": null,
   "id": "2e5b146f",
   "metadata": {},
   "outputs": [],
   "source": [
    "crisis_1.info()"
   ]
  },
  {
   "cell_type": "code",
   "execution_count": null,
   "id": "01afd66e",
   "metadata": {},
   "outputs": [],
   "source": [
    "crisis_1.head()"
   ]
  },
  {
   "cell_type": "code",
   "execution_count": null,
   "id": "40854791",
   "metadata": {},
   "outputs": [],
   "source": [
    "##whoa nelly that's a lot of columns; 313 columns to be exact\n",
    "##I prolly need to figure out how to make this data a little more manageable"
   ]
  },
  {
   "cell_type": "code",
   "execution_count": null,
   "id": "d20c98a9",
   "metadata": {},
   "outputs": [],
   "source": [
    "crisis_2.info()"
   ]
  },
  {
   "cell_type": "code",
   "execution_count": null,
   "id": "6e571640",
   "metadata": {},
   "outputs": [],
   "source": [
    "crisis_2.head()"
   ]
  },
  {
   "cell_type": "code",
   "execution_count": null,
   "id": "698eb327",
   "metadata": {},
   "outputs": [],
   "source": [
    "##2nd dataset is the same way; 261 columns\n",
    "##probably need to see if I can simplify some of these names as well, but let's put that on the backburner for now"
   ]
  },
  {
   "cell_type": "code",
   "execution_count": null,
   "id": "2c33f1c9",
   "metadata": {},
   "outputs": [],
   "source": [
    "volume_20.info()"
   ]
  },
  {
   "cell_type": "code",
   "execution_count": null,
   "id": "5a48685e",
   "metadata": {},
   "outputs": [],
   "source": [
    "volume_20.head()"
   ]
  },
  {
   "cell_type": "code",
   "execution_count": null,
   "id": "6420ceb8",
   "metadata": {},
   "outputs": [],
   "source": [
    "volume_20.tail()"
   ]
  },
  {
   "cell_type": "code",
   "execution_count": null,
   "id": "8f9bb2dc",
   "metadata": {},
   "outputs": [],
   "source": [
    "volume_21.info()"
   ]
  },
  {
   "cell_type": "code",
   "execution_count": null,
   "id": "ccc73b85",
   "metadata": {},
   "outputs": [],
   "source": [
    "volume_21.head()"
   ]
  },
  {
   "cell_type": "code",
   "execution_count": null,
   "id": "72c33dbd",
   "metadata": {},
   "outputs": [],
   "source": [
    "volume_21.tail()"
   ]
  },
  {
   "cell_type": "code",
   "execution_count": null,
   "id": "70b24f5b",
   "metadata": {},
   "outputs": [],
   "source": [
    "volume_22.info()"
   ]
  },
  {
   "cell_type": "code",
   "execution_count": null,
   "id": "8567d51f",
   "metadata": {},
   "outputs": [],
   "source": [
    "volume_22.head()"
   ]
  },
  {
   "cell_type": "code",
   "execution_count": null,
   "id": "4f5518f0",
   "metadata": {},
   "outputs": [],
   "source": [
    "volume_22.tail()"
   ]
  },
  {
   "cell_type": "code",
   "execution_count": null,
   "id": "ad805c0e",
   "metadata": {},
   "outputs": [],
   "source": [
    "##tons of null values in the volume data\n",
    "##what am I going to do with these........idk.......maybe later"
   ]
  },
  {
   "cell_type": "code",
   "execution_count": null,
   "id": "016a06e3",
   "metadata": {},
   "outputs": [],
   "source": [
    "##let's get back to the first dataset"
   ]
  },
  {
   "cell_type": "code",
   "execution_count": null,
   "id": "c3c41ad1",
   "metadata": {},
   "outputs": [],
   "source": [
    "##let's try to find some of the middle columns that are not showing up"
   ]
  },
  {
   "cell_type": "code",
   "execution_count": null,
   "id": "1a56208d",
   "metadata": {
    "scrolled": true
   },
   "outputs": [],
   "source": [
    "crisis_1.iloc[:,10:30]"
   ]
  },
  {
   "cell_type": "code",
   "execution_count": null,
   "id": "828120c6",
   "metadata": {
    "scrolled": true
   },
   "outputs": [],
   "source": [
    "crisis_1.iloc[:,30:50]"
   ]
  },
  {
   "cell_type": "code",
   "execution_count": null,
   "id": "fef29109",
   "metadata": {
    "scrolled": true
   },
   "outputs": [],
   "source": [
    "crisis_1.iloc[:,50:70]"
   ]
  },
  {
   "cell_type": "code",
   "execution_count": null,
   "id": "2f34ddbc",
   "metadata": {
    "scrolled": true
   },
   "outputs": [],
   "source": [
    "crisis_1.iloc[:,70:90]"
   ]
  },
  {
   "cell_type": "code",
   "execution_count": null,
   "id": "98fca40e",
   "metadata": {
    "scrolled": true
   },
   "outputs": [],
   "source": [
    "crisis_1.iloc[:,90:110]"
   ]
  },
  {
   "cell_type": "code",
   "execution_count": null,
   "id": "9465fc88",
   "metadata": {
    "scrolled": true
   },
   "outputs": [],
   "source": [
    "crisis_1.iloc[:,110:130]"
   ]
  },
  {
   "cell_type": "code",
   "execution_count": null,
   "id": "51c8e26b",
   "metadata": {
    "scrolled": true
   },
   "outputs": [],
   "source": [
    "crisis_1.iloc[:,130:150]"
   ]
  },
  {
   "cell_type": "code",
   "execution_count": null,
   "id": "0d2d2c16",
   "metadata": {
    "scrolled": true
   },
   "outputs": [],
   "source": [
    "crisis_1.iloc[:,150:170]"
   ]
  },
  {
   "cell_type": "code",
   "execution_count": null,
   "id": "763139df",
   "metadata": {
    "scrolled": true
   },
   "outputs": [],
   "source": [
    "crisis_1.iloc[:,170:190]"
   ]
  },
  {
   "cell_type": "code",
   "execution_count": null,
   "id": "d41d1b0a",
   "metadata": {
    "scrolled": true
   },
   "outputs": [],
   "source": [
    "crisis_1.iloc[:,190:210]"
   ]
  },
  {
   "cell_type": "code",
   "execution_count": null,
   "id": "6efe63a9",
   "metadata": {
    "scrolled": true
   },
   "outputs": [],
   "source": [
    "crisis_1.iloc[:,210:230]"
   ]
  },
  {
   "cell_type": "code",
   "execution_count": null,
   "id": "004c1822",
   "metadata": {
    "scrolled": true
   },
   "outputs": [],
   "source": [
    "crisis_1.iloc[:,230:250]"
   ]
  },
  {
   "cell_type": "code",
   "execution_count": null,
   "id": "ca8f6e30",
   "metadata": {
    "scrolled": true
   },
   "outputs": [],
   "source": [
    "crisis_1.iloc[:,250:270]"
   ]
  },
  {
   "cell_type": "code",
   "execution_count": null,
   "id": "367809b8",
   "metadata": {
    "scrolled": true
   },
   "outputs": [],
   "source": [
    "crisis_1.iloc[:,270:290]"
   ]
  },
  {
   "cell_type": "code",
   "execution_count": null,
   "id": "6fb4a124",
   "metadata": {},
   "outputs": [],
   "source": [
    "crisis_1.iloc[:,290:310]"
   ]
  },
  {
   "cell_type": "code",
   "execution_count": null,
   "id": "aac55ee2",
   "metadata": {},
   "outputs": [],
   "source": [
    "crisis_1.iloc[:,310:314]"
   ]
  },
  {
   "cell_type": "code",
   "execution_count": null,
   "id": "4c131bb2",
   "metadata": {},
   "outputs": [],
   "source": [
    "##now that I have done this for some strange reason, let us try to dropna and see if that gets us somewhere"
   ]
  },
  {
   "cell_type": "code",
   "execution_count": null,
   "id": "9ebcec6c",
   "metadata": {},
   "outputs": [],
   "source": [
    "crisis_1.dropna(how = 'all', axis = 1, inplace = True)"
   ]
  },
  {
   "cell_type": "code",
   "execution_count": null,
   "id": "02896fa9",
   "metadata": {},
   "outputs": [],
   "source": [
    "crisis_1.head()"
   ]
  },
  {
   "cell_type": "code",
   "execution_count": null,
   "id": "e8c49dc9",
   "metadata": {},
   "outputs": [],
   "source": [
    "crisis_1.info()"
   ]
  },
  {
   "cell_type": "code",
   "execution_count": null,
   "id": "b831b72b",
   "metadata": {},
   "outputs": [],
   "source": [
    "##ok soooo that cut my columns down a lot....to 176...should have done this first\n",
    "## let's go ahead and do that crisis 2"
   ]
  },
  {
   "cell_type": "code",
   "execution_count": null,
   "id": "70bf92a7",
   "metadata": {},
   "outputs": [],
   "source": [
    "crisis_2.dropna(how = 'all', axis = 1, inplace = True)"
   ]
  },
  {
   "cell_type": "code",
   "execution_count": null,
   "id": "2d19bc06",
   "metadata": {},
   "outputs": [],
   "source": [
    "crisis_2.head()"
   ]
  },
  {
   "cell_type": "code",
   "execution_count": null,
   "id": "35eda069",
   "metadata": {},
   "outputs": [],
   "source": [
    "crisis_2.info()"
   ]
  },
  {
   "cell_type": "code",
   "execution_count": null,
   "id": "e99f879d",
   "metadata": {},
   "outputs": [],
   "source": [
    "##now down to 156 columns for crisis 2"
   ]
  },
  {
   "cell_type": "code",
   "execution_count": null,
   "id": "66772848",
   "metadata": {},
   "outputs": [],
   "source": [
    "print(crisis_2.columns.value_counts())"
   ]
  },
  {
   "cell_type": "code",
   "execution_count": null,
   "id": "a4439508",
   "metadata": {},
   "outputs": [],
   "source": [
    "crisis_2.describe()\n",
    "#really only used for call length"
   ]
  },
  {
   "cell_type": "code",
   "execution_count": null,
   "id": "e5aa5e3c",
   "metadata": {},
   "outputs": [],
   "source": [
    "crisis_1.describe()"
   ]
  },
  {
   "cell_type": "code",
   "execution_count": null,
   "id": "44a3e7ef",
   "metadata": {},
   "outputs": [],
   "source": [
    "##let's get some value counts on the descriptive data for some of these columns\n",
    "crisis_2.PhoneWorkerName.value_counts()"
   ]
  },
  {
   "cell_type": "code",
   "execution_count": null,
   "id": "073e835a",
   "metadata": {},
   "outputs": [],
   "source": [
    "crisis_2.rename(columns = {'CallDateAndTimeStart': 'call_start', 'CRISIS Assessment - Anxiety': 'crisis_assess_anxiety', 'CountyName': 'county', 'PostalCode': 'zip', 'CRISIS Assessment - Eating': 'crisis_assess_eating', 'CRISIS Assessment - Interpersonal': 'crisis_assess_interpersonal', 'CRISIS Assessment - Mood': 'crisis_assess_mood', 'CRISIS Assessment - Seeking Support': 'crisis_assess_seeksupport'}, inplace = True)"
   ]
  },
  {
   "cell_type": "code",
   "execution_count": null,
   "id": "961358df",
   "metadata": {},
   "outputs": [],
   "source": [
    "crisis_2.county.value_counts()"
   ]
  },
  {
   "cell_type": "code",
   "execution_count": null,
   "id": "de40db20",
   "metadata": {},
   "outputs": [],
   "source": [
    "crisis_2.zip.value_counts()"
   ]
  },
  {
   "cell_type": "code",
   "execution_count": null,
   "id": "5783eecb",
   "metadata": {},
   "outputs": [],
   "source": [
    "crisis_2.Reviewed.value_counts()"
   ]
  },
  {
   "cell_type": "code",
   "execution_count": null,
   "id": "2b1abcaa",
   "metadata": {},
   "outputs": [],
   "source": [
    "crisis_2.FeedbackStatus.value_counts()"
   ]
  },
  {
   "cell_type": "code",
   "execution_count": null,
   "id": "67544a0c",
   "metadata": {},
   "outputs": [],
   "source": [
    "crisis_2.crisis_assess_anxiety.value_counts()"
   ]
  },
  {
   "cell_type": "code",
   "execution_count": null,
   "id": "505fd12d",
   "metadata": {},
   "outputs": [],
   "source": [
    "crisis_2.crisis_assess_eating.value_counts()"
   ]
  },
  {
   "cell_type": "code",
   "execution_count": null,
   "id": "b1f4776d",
   "metadata": {},
   "outputs": [],
   "source": [
    "crisis_2.crisis_assess_interpersonal.value_counts()"
   ]
  },
  {
   "cell_type": "code",
   "execution_count": null,
   "id": "20b1fe42",
   "metadata": {},
   "outputs": [],
   "source": [
    "crisis_2.crisis_assess_mood.value_counts()"
   ]
  },
  {
   "cell_type": "code",
   "execution_count": null,
   "id": "af0a60ed",
   "metadata": {},
   "outputs": [],
   "source": [
    "crisis_2.crisis_assess_seeksupport.value_counts()"
   ]
  },
  {
   "cell_type": "code",
   "execution_count": null,
   "id": "80449d0e",
   "metadata": {},
   "outputs": [],
   "source": [
    "##Let's start in number 1"
   ]
  },
  {
   "cell_type": "code",
   "execution_count": null,
   "id": "6e0138bc",
   "metadata": {},
   "outputs": [],
   "source": [
    "##Need to start by grouping data together\n",
    "##Need to filter out calls that might not be useful\n",
    "##Pull out month\n",
    "##Categorize by time of day: Morning/Mid-day/afternoon/evening/night\n",
    "##Day of the week (Sunday - Saturday)\n",
    "##Season (Summer/Fall/Winter/Spring)"
   ]
  },
  {
   "cell_type": "code",
   "execution_count": null,
   "id": "7996343f",
   "metadata": {},
   "outputs": [],
   "source": [
    "##Pulling out the month from the date\n",
    "crisis_2['month'] = crisis_2['call_start'].dt.month\n",
    "crisis_2.head()"
   ]
  },
  {
   "cell_type": "code",
   "execution_count": null,
   "id": "5576655c",
   "metadata": {},
   "outputs": [],
   "source": [
    "import datetime\n",
    "crisis_2['time'] = crisis_2['call_start'].dt.strftime('%H:%M')\n",
    "crisis_2.head()"
   ]
  },
  {
   "cell_type": "code",
   "execution_count": null,
   "id": "e155d219",
   "metadata": {},
   "outputs": [],
   "source": [
    "crisis_2['weekday'] = crisis_2['call_start'].dt.day_name()\n",
    "crisis_2.head()"
   ]
  },
  {
   "cell_type": "code",
   "execution_count": null,
   "id": "aaaa092a",
   "metadata": {},
   "outputs": [],
   "source": [
    "def f(x):\n",
    "    if (x >= '05:00') and (x <= '09:59'):\n",
    "        return 'Morning'\n",
    "    elif (x >= '10:00') and (x <= '14:59'):\n",
    "        return 'Mid-Day'\n",
    "    elif (x >= '15:00') and (x <= '18:59'):\n",
    "        return'Afternoon'\n",
    "    elif (x >= '19:00') and (x <= '22:59') :\n",
    "        return 'Evening'\n",
    "    elif x:\n",
    "        return'Night'\n",
    "    #elif (x <= 4):\n",
    "        #return'Late Night'\n",
    "    #elif (x > '23:00') and (x <= '04:59'):    \n",
    "crisis_2['time_of_day'] = crisis_2['time'].apply(f)\n",
    "crisis_2.head(60)"
   ]
  },
  {
   "cell_type": "markdown",
   "id": "7fe89806",
   "metadata": {},
   "source": [
    "# Now I need to do the same thing but with the first dataset"
   ]
  },
  {
   "cell_type": "code",
   "execution_count": null,
   "id": "a217b45d",
   "metadata": {},
   "outputs": [],
   "source": [
    "crisis_1.rename(columns = {'CallDateAndTimeStart': 'call_start', 'CRISIS Assessment - Anxiety': 'crisis_assess_anxiety', 'CountyName': 'county', 'PostalCode': 'zip', 'CRISIS Assessment - Eating': 'crisis_assess_eating', 'CRISIS Assessment - Interpersonal': 'crisis_assess_interpersonal', 'CRISIS Assessment - Mood': 'crisis_assess_mood', 'CRISIS Assessment - Seeking Support': 'crisis_assess_seeksupport'}, inplace = True)"
   ]
  },
  {
   "cell_type": "code",
   "execution_count": null,
   "id": "efcaa517",
   "metadata": {},
   "outputs": [],
   "source": [
    "crisis_1.zip.value_counts()"
   ]
  },
  {
   "cell_type": "markdown",
   "id": "0aad6012",
   "metadata": {},
   "source": [
    "The Columns that I want to include in my dataframe to use for my heatmap:\n",
    "CallReportNum\n",
    "call_start\n",
    "CallLength\n",
    "zip\n",
    "county? (only 2nd dataset though; so maybe not)\n",
    "month (I create)\n",
    "Time (I create)\n",
    "weekday (I create)\n",
    "time_of_day (I create)\n",
    "\n",
    "Then I will create 2 dfs of these columns and then join the two to have my dataframe for the map"
   ]
  },
  {
   "cell_type": "code",
   "execution_count": null,
   "id": "fcc582c3",
   "metadata": {},
   "outputs": [],
   "source": [
    "##Pulling out the month from the date\n",
    "crisis_1['month'] = crisis_1['call_start'].dt.month\n",
    "crisis_1.head()"
   ]
  },
  {
   "cell_type": "code",
   "execution_count": null,
   "id": "4343e223",
   "metadata": {},
   "outputs": [],
   "source": [
    "import datetime\n",
    "crisis_1['time'] = crisis_1['call_start'].dt.strftime('%H:%M')\n",
    "crisis_1.head()"
   ]
  },
  {
   "cell_type": "code",
   "execution_count": null,
   "id": "78b97b2f",
   "metadata": {},
   "outputs": [],
   "source": [
    "crisis_1['weekday'] = crisis_1['call_start'].dt.day_name()\n",
    "crisis_1.head()"
   ]
  },
  {
   "cell_type": "code",
   "execution_count": null,
   "id": "051504ff",
   "metadata": {},
   "outputs": [],
   "source": [
    "def f(x):\n",
    "    if (x >= '05:00') and (x <= '09:59'):\n",
    "        return 'Morning'\n",
    "    elif (x >= '10:00') and (x <= '14:59'):\n",
    "        return 'Mid-Day'\n",
    "    elif (x >= '15:00') and (x <= '18:59'):\n",
    "        return'Afternoon'\n",
    "    elif (x >= '19:00') and (x <= '22:59') :\n",
    "        return 'Evening'\n",
    "    elif x:\n",
    "        return'Night'\n",
    "    #elif (x <= 4):\n",
    "        #return'Late Night'\n",
    "    #elif (x > '23:00') and (x <= '04:59'):    \n",
    "crisis_1['time_of_day'] = crisis_1['time'].apply(f)\n",
    "crisis_1.head(60)"
   ]
  },
  {
   "cell_type": "code",
   "execution_count": null,
   "id": "c7310d3e",
   "metadata": {},
   "outputs": [],
   "source": [
    "crisis_1_df = crisis_1.iloc[:,[0,3,5,9,175,176,177,178]]\n",
    "crisis_1_df.head()"
   ]
  },
  {
   "cell_type": "code",
   "execution_count": null,
   "id": "34e58cb2",
   "metadata": {},
   "outputs": [],
   "source": [
    "#dropping nulls from zip column\n",
    "crisis_1_df = crisis_1_df.dropna(subset = ['zip'])\n",
    "crisis_1_df.head(60)"
   ]
  },
  {
   "cell_type": "code",
   "execution_count": null,
   "id": "0c6a9520",
   "metadata": {},
   "outputs": [],
   "source": [
    "#Now let's do the same with the 2nd dataset\n",
    "crisis_2_df = crisis_2.iloc[:, [0,3,5,9,12,156,157,158,159]]\n",
    "crisis_2_df.head()"
   ]
  },
  {
   "cell_type": "code",
   "execution_count": null,
   "id": "576376a6",
   "metadata": {},
   "outputs": [],
   "source": [
    "crisis_2_df = crisis_2_df.dropna(subset = ['zip'])\n",
    "crisis_2_df.head(60)"
   ]
  },
  {
   "cell_type": "code",
   "execution_count": null,
   "id": "5a9baf85",
   "metadata": {},
   "outputs": [],
   "source": [
    "crisis_2_df.info()"
   ]
  },
  {
   "cell_type": "code",
   "execution_count": null,
   "id": "8ec0f9b1",
   "metadata": {},
   "outputs": [],
   "source": [
    "crisis_2_df['zip'] = crisis_2_df['zip'].astype(int)\n",
    "crisis_2_df.info()"
   ]
  },
  {
   "cell_type": "code",
   "execution_count": null,
   "id": "04b631e6",
   "metadata": {},
   "outputs": [],
   "source": [
    "crisis_1_df.info()"
   ]
  },
  {
   "cell_type": "code",
   "execution_count": null,
   "id": "884a8b37",
   "metadata": {},
   "outputs": [],
   "source": [
    "#crisis_1_df['zip'] = crisis_1_df['zip'].astype(str).astype(float)\n",
    "#crisis_1_df['zip'] = pd.to_numeric(crisis_1_df['zip'])\n",
    "#crisis_1_df.info()"
   ]
  },
  {
   "cell_type": "code",
   "execution_count": null,
   "id": "b7362907",
   "metadata": {},
   "outputs": [],
   "source": [
    "##crisis_1_df = crisis_1_df.drop(2816,axis=0,inplace=True)\n",
    "##crisis_1_df.info()\n",
    "##I can't figure out how to get the bad values out of the data set\n",
    "##I'm going to join these two and see if it screws it all up"
   ]
  },
  {
   "cell_type": "code",
   "execution_count": null,
   "id": "b7d0a168",
   "metadata": {},
   "outputs": [],
   "source": [
    "##THE BIG JOIN\n",
    "#crisis_df = crisis_1_df.merge(crisis_2_df, on = 'CallReportNum', how = 'outer')\n",
    "#crisis_df\n",
    "#crisis_df = pd.merge(crisis_1_df, crisis_2_df, on = 'CallReportNum', how = 'outer', indicator = True)\n",
    "#crisis_df"
   ]
  },
  {
   "cell_type": "code",
   "execution_count": null,
   "id": "5dcd5b9a",
   "metadata": {},
   "outputs": [],
   "source": [
    "#crisis_df = pd.merge(crisis_1_df, crisis_2_df, on = 'CallReportNum')\n",
    "#crisis_df.head(60)"
   ]
  },
  {
   "cell_type": "code",
   "execution_count": null,
   "id": "a7f25b2e",
   "metadata": {},
   "outputs": [],
   "source": [
    "crisis_df = pd.concat([crisis_1_df, crisis_2_df])\n",
    "crisis_df"
   ]
  },
  {
   "cell_type": "code",
   "execution_count": null,
   "id": "0364c0b3",
   "metadata": {},
   "outputs": [],
   "source": [
    "crisis_df.zip.value_counts()"
   ]
  },
  {
   "cell_type": "code",
   "execution_count": null,
   "id": "75d76eb6",
   "metadata": {},
   "outputs": [],
   "source": [
    "crisis_df.info()"
   ]
  },
  {
   "cell_type": "code",
   "execution_count": null,
   "id": "07cac887",
   "metadata": {},
   "outputs": [],
   "source": [
    "crisis_df.time_of_day.value_counts()"
   ]
  },
  {
   "cell_type": "code",
   "execution_count": null,
   "id": "8b6dafa8",
   "metadata": {},
   "outputs": [],
   "source": [
    "crisis_df.weekday.value_counts()"
   ]
  },
  {
   "cell_type": "code",
   "execution_count": null,
   "id": "3ee1884d",
   "metadata": {},
   "outputs": [],
   "source": [
    "crisis_df.month.value_counts()"
   ]
  },
  {
   "cell_type": "code",
   "execution_count": null,
   "id": "7b5e6d81",
   "metadata": {},
   "outputs": [],
   "source": [
    "crisis_df.zip.value_counts()"
   ]
  },
  {
   "cell_type": "markdown",
   "id": "2bfb698b",
   "metadata": {},
   "source": [
    "# Go to Map Notebook for geospatial Map and all that good stuff"
   ]
  },
  {
   "cell_type": "code",
   "execution_count": null,
   "id": "d1c299da",
   "metadata": {},
   "outputs": [],
   "source": [
    "#nevermind I need to run more calculations to get my datasets right\n",
    "zip_month = crisis_df.groupby(['zip','month'])['CallReportNum'].count()"
   ]
  },
  {
   "cell_type": "code",
   "execution_count": null,
   "id": "59bb4875",
   "metadata": {},
   "outputs": [],
   "source": [
    "zip_month.head(60)"
   ]
  },
  {
   "cell_type": "code",
   "execution_count": null,
   "id": "b655294c",
   "metadata": {},
   "outputs": [],
   "source": [
    "zip_month.head(60)"
   ]
  },
  {
   "cell_type": "code",
   "execution_count": null,
   "id": "624535f1",
   "metadata": {},
   "outputs": [],
   "source": [
    "zip_month = pd.DataFrame(data = zip_month)"
   ]
  },
  {
   "cell_type": "code",
   "execution_count": null,
   "id": "e1aa27d1",
   "metadata": {},
   "outputs": [],
   "source": [
    "zip_month = zip_month.reset_index()"
   ]
  },
  {
   "cell_type": "code",
   "execution_count": null,
   "id": "b56dc1a6",
   "metadata": {},
   "outputs": [],
   "source": [
    "zip_month.info()"
   ]
  },
  {
   "cell_type": "code",
   "execution_count": null,
   "id": "682d3047",
   "metadata": {},
   "outputs": [],
   "source": [
    "zip_month.head()"
   ]
  },
  {
   "cell_type": "code",
   "execution_count": null,
   "id": "36d70083",
   "metadata": {},
   "outputs": [],
   "source": [
    "zip_month = zip_month.pivot(index='zip', columns='month', values='CallReportNum')"
   ]
  },
  {
   "cell_type": "code",
   "execution_count": null,
   "id": "f9c566a5",
   "metadata": {},
   "outputs": [],
   "source": [
    "zip_month.tail(60)"
   ]
  },
  {
   "cell_type": "code",
   "execution_count": null,
   "id": "4a77a528",
   "metadata": {},
   "outputs": [],
   "source": [
    "zip_weekday = crisis_df.groupby(['zip','weekday'])['CallReportNum'].count()"
   ]
  },
  {
   "cell_type": "code",
   "execution_count": null,
   "id": "43853d88",
   "metadata": {},
   "outputs": [],
   "source": [
    "zip_weekday = pd.DataFrame(data = zip_weekday)"
   ]
  },
  {
   "cell_type": "code",
   "execution_count": null,
   "id": "c7d306fa",
   "metadata": {},
   "outputs": [],
   "source": [
    "zip_weekday.info()"
   ]
  },
  {
   "cell_type": "code",
   "execution_count": null,
   "id": "3a818301",
   "metadata": {},
   "outputs": [],
   "source": [
    "zip_weekday = zip_weekday.reset_index()"
   ]
  },
  {
   "cell_type": "code",
   "execution_count": null,
   "id": "59f71cc2",
   "metadata": {},
   "outputs": [],
   "source": [
    "zip_weekday.info()"
   ]
  },
  {
   "cell_type": "code",
   "execution_count": null,
   "id": "eab78603",
   "metadata": {},
   "outputs": [],
   "source": [
    "zip_weekday = zip_weekday.pivot(index = 'zip', columns = 'weekday', values = 'CallReportNum')\n",
    "zip_weekday.head()"
   ]
  },
  {
   "cell_type": "code",
   "execution_count": null,
   "id": "1b86865c",
   "metadata": {},
   "outputs": [],
   "source": [
    "zip_time = crisis_df.groupby(['zip', 'time_of_day'])['CallReportNum'].count()"
   ]
  },
  {
   "cell_type": "code",
   "execution_count": null,
   "id": "0d55c2f8",
   "metadata": {},
   "outputs": [],
   "source": [
    "zip_time = pd.DataFrame(data = zip_time)"
   ]
  },
  {
   "cell_type": "code",
   "execution_count": null,
   "id": "d6b421c7",
   "metadata": {},
   "outputs": [],
   "source": [
    "zip_time = zip_time.reset_index()"
   ]
  },
  {
   "cell_type": "code",
   "execution_count": null,
   "id": "be633f21",
   "metadata": {},
   "outputs": [],
   "source": [
    "zip_time = zip_time.pivot(index = 'zip', columns = 'time_of_day', values = 'CallReportNum')\n",
    "zip_time.head()"
   ]
  },
  {
   "cell_type": "code",
   "execution_count": null,
   "id": "581eae2f",
   "metadata": {},
   "outputs": [],
   "source": [
    "#zip_map_df = pd.concat([zip_month, zip_time, zip_weekday])\n",
    "#zip_map_df\n",
    "\n",
    "zip_map_df = zip_month.merge(zip_time, on = 'zip', how = 'left')\n",
    "zip_map_df"
   ]
  },
  {
   "cell_type": "code",
   "execution_count": null,
   "id": "8e3390e5",
   "metadata": {},
   "outputs": [],
   "source": [
    "zip_map_df = zip_map_df.merge(zip_weekday, on = 'zip', how = 'left')\n",
    "zip_map_df"
   ]
  },
  {
   "cell_type": "code",
   "execution_count": null,
   "id": "cce9b187",
   "metadata": {},
   "outputs": [],
   "source": [
    "zip_map_df = zip_map_df.reset_index()"
   ]
  },
  {
   "cell_type": "code",
   "execution_count": null,
   "id": "7e70d1d1",
   "metadata": {},
   "outputs": [],
   "source": [
    "zip_map_df"
   ]
  },
  {
   "cell_type": "code",
   "execution_count": null,
   "id": "eb4027f2",
   "metadata": {},
   "outputs": [],
   "source": [
    "zip_map_df.rename(columns = {'zip': 'zipcode'}, inplace = True)\n",
    "zip_map_df.info()"
   ]
  },
  {
   "cell_type": "code",
   "execution_count": null,
   "id": "a81bacb9",
   "metadata": {},
   "outputs": [],
   "source": [
    "zip_map_df.tail()"
   ]
  },
  {
   "cell_type": "code",
   "execution_count": null,
   "id": "4f6bdc8e",
   "metadata": {},
   "outputs": [],
   "source": [
    "zip_map_df"
   ]
  },
  {
   "cell_type": "code",
   "execution_count": null,
   "id": "7a9e8cb2",
   "metadata": {},
   "outputs": [],
   "source": [
    "print(zip_map_df[zip_map_df['zipcode']==37211])"
   ]
  },
  {
   "cell_type": "code",
   "execution_count": null,
   "id": "02cbe5f7",
   "metadata": {},
   "outputs": [],
   "source": []
  }
 ],
 "metadata": {
  "kernelspec": {
   "display_name": "Python 3 (ipykernel)",
   "language": "python",
   "name": "python3"
  },
  "language_info": {
   "codemirror_mode": {
    "name": "ipython",
    "version": 3
   },
   "file_extension": ".py",
   "mimetype": "text/x-python",
   "name": "python",
   "nbconvert_exporter": "python",
   "pygments_lexer": "ipython3",
   "version": "3.8.5"
  }
 },
 "nbformat": 4,
 "nbformat_minor": 5
}
