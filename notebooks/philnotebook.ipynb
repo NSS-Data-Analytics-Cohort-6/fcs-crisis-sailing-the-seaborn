{
 "cells": [
  {
   "cell_type": "markdown",
   "id": "f74413e5",
   "metadata": {},
   "source": [
    "Sailing The Seaborn! Below are the majority 4 topics here\n",
    "\n",
    "1. Examine call volume and identify surge times, seasons, or events.\n",
    "\n",
    "Let's try and do this by looking at peak hours and days. Then with that info we can look to see if there was a specific event that occured then? Seasonality or looking at sunrise/sunset times would be helpful as well.\n",
    "\n",
    "2. Analyze trends in call content by looking for which issues are most frequent and what is the average count of issues per call.\n",
    "\n",
    "This will likely be regex heavy? Would be searching for keywords within the call dialogue.\n",
    "\n",
    "3. Assess regional and demographic trends in call content and call volume.\n",
    "\n",
    "This is just like doing #2 but including demographics\n",
    "\n",
    "4. Determine the count and success rate of imminent risk calls.\n",
    "\n",
    "This seems the easiest, would be used best when paired with the other means of looking into the data"
   ]
  },
  {
   "cell_type": "code",
   "execution_count": null,
   "id": "40980709",
   "metadata": {},
   "outputs": [],
   "source": [
    "pip install sunriset"
   ]
  },
  {
   "cell_type": "code",
   "execution_count": null,
   "id": "cdef6cb2",
   "metadata": {},
   "outputs": [],
   "source": [
    "import pandas as pd\n",
    "import numpy as np\n",
    "import regex as re\n",
    "import matplotlib.pyplot as plt\n",
    "import seaborn as sns\n",
    "import sunriset\n",
    "from datetime import datetime\n",
    "from suntimes import SunTimes\n",
    "from datetime import timedelta\n",
    "import math\n",
    "import pytz\n",
    "import warnings\n",
    "warnings.simplefilter(action='ignore', category=FutureWarning)\n",
    "\n",
    "\n",
    "%matplotlib inline"
   ]
  },
  {
   "cell_type": "markdown",
   "id": "c6bc1f88",
   "metadata": {},
   "source": [
    "I am importing these items as it is fortold in the python commandments"
   ]
  },
  {
   "cell_type": "code",
   "execution_count": null,
   "id": "94d1f74a",
   "metadata": {},
   "outputs": [],
   "source": [
    "crisis1 = pd.read_excel('../data/Crisis1.xlsx', header=2)\n",
    "crisis2 = pd.read_excel('../data/Crisis2.xlsx', header=2)"
   ]
  },
  {
   "cell_type": "code",
   "execution_count": null,
   "id": "76731b3a",
   "metadata": {},
   "outputs": [],
   "source": [
    "crisis1.tail()"
   ]
  },
  {
   "cell_type": "markdown",
   "id": "bf71a4ae",
   "metadata": {},
   "source": [
    "I'm converting the call times here to datetime format! Info & formatting pulled from here\n",
    "https://www.geeksforgeeks.org/python-working-with-date-and-time-using-pandas/"
   ]
  },
  {
   "cell_type": "code",
   "execution_count": null,
   "id": "24f6b400",
   "metadata": {},
   "outputs": [],
   "source": [
    "crisis1['CallDateAndTimeStart'] = pd.to_datetime(crisis1['CallDateAndTimeStart'])\n",
    "crisis1['CallDateAndTimeEnd'] = pd.to_datetime(crisis1['CallDateAndTimeEnd'])\n",
    "crisis1['CallDateStartWeekdate'] = crisis1['CallDateAndTimeStart'].dt.day_name()\n",
    "#CallDateStartWeekdate give a Monday, Tuesday etc result\n",
    "crisis1['CallDateStartTime'] = crisis1['CallDateAndTimeStart'].dt.hour\n",
    "#CallDateStartTime gives the hour of the day the call was made, military time\n",
    "crisis1['month'] = crisis1['CallDateAndTimeStart'].dt.month\n",
    "#CallDateStartMonth gives the month which the call was made\n",
    "crisis1['CallDateStartDay'] = crisis1['CallDateAndTimeStart'].dt.day\n",
    "#CallDateStartDay gives us the DD\n",
    "#crisis1['CallDateStartYYYYMMDD'] = crisis1['CallDateAndTimeStart'].dt.year + '-' + crisis1['CallDateAndTimeStart'].dt.month + '-' + crisis1['CallDateAndTimeStart'].dt.day\n",
    "crisis1['CallDateStartDay']"
   ]
  },
  {
   "cell_type": "markdown",
   "id": "c9480b35",
   "metadata": {},
   "source": [
    "Attempting to do a regex here so that I can make a kde seaborn plot for call length and call time of day, but I'm having an issue here of pulling the call time. I tried \\d{2}:\\d{2}:00 but that was coming up with nothing, somehow. I don't think colon is a strange character though? https://seaborn.pydata.org/generated/seaborn.kdeplot.html?highlight=kde%20plot#seaborn.kdeplot https://towardsdatascience.com/an-ultimate-cheatsheet-of-data-visualization-in-seaborn-be8ed13a3697 https://seaborn.pydata.org/tutorial/relational.html https://www.dataquest.io/wp-content/uploads/2019/03/python-regular-expressions-cheat-sheet.pdf"
   ]
  },
  {
   "cell_type": "code",
   "execution_count": null,
   "id": "9deba614",
   "metadata": {},
   "outputs": [],
   "source": [
    "crisis1.dropna(how='all', axis=1, inplace=True)\n",
    "crisis2.dropna(axis=1, how='all', inplace=True)"
   ]
  },
  {
   "cell_type": "code",
   "execution_count": null,
   "id": "13ed4a63",
   "metadata": {},
   "outputs": [],
   "source": [
    "stats_2020 = pd.read_excel('../data/call_volume.xlsx', sheet_name='2020', skiprows=10, nrows=9, usecols='A:B')\n",
    "stats_2020.rename(inplace=True, columns={'Total Calls':'Category', 'Unnamed: 1':'Total'})\n",
    "#stats_2020['Total'].sub(' calls', '') this didn't work the way I wanted it to, commenting it out until I figure out how to fix it\n",
    "stats_2020"
   ]
  },
  {
   "cell_type": "code",
   "execution_count": null,
   "id": "dc70e6fe",
   "metadata": {},
   "outputs": [],
   "source": [
    "queue_dist_2020 = pd.read_excel('../data/call_volume.xlsx', sheet_name='2020', skiprows=23, nrows=12, usecols='A:I')\n",
    "queue_dist_2020"
   ]
  },
  {
   "cell_type": "code",
   "execution_count": null,
   "id": "4d92f876",
   "metadata": {
    "scrolled": true
   },
   "outputs": [],
   "source": [
    "month_dist_2020 = pd.read_excel('../data/call_volume.xlsx', sheet_name='2020', skiprows=39, nrows=12, usecols='A:K')\n",
    "month_dist_2020"
   ]
  },
  {
   "cell_type": "code",
   "execution_count": null,
   "id": "9aa7181d",
   "metadata": {},
   "outputs": [],
   "source": [
    "month_dist_2020['Month'].str.extract(r'((?<=\\d{4}-)\\d{2})')"
   ]
  },
  {
   "cell_type": "code",
   "execution_count": null,
   "id": "bec81da9",
   "metadata": {},
   "outputs": [],
   "source": [
    "day_dist_2020 = pd.read_excel('../data/call_volume.xlsx', sheet_name='2020', skiprows=55, nrows=7, usecols='A:K')\n",
    "day_dist_2020"
   ]
  },
  {
   "cell_type": "code",
   "execution_count": null,
   "id": "44dcbd7c",
   "metadata": {},
   "outputs": [],
   "source": [
    "queue_answered_2020 = pd.read_excel('../data/call_volume.xlsx', sheet_name='2020', skiprows=66, nrows=10, usecols='A:C')\n",
    "queue_answered_2020"
   ]
  },
  {
   "cell_type": "code",
   "execution_count": null,
   "id": "d585e0a3",
   "metadata": {},
   "outputs": [],
   "source": [
    "service_speed_2020 = pd.read_excel('../data/call_volume.xlsx', sheet_name='2020', skiprows=80, nrows=10, usecols='A:D')\n",
    "service_speed_2020"
   ]
  },
  {
   "cell_type": "code",
   "execution_count": null,
   "id": "3ece755e",
   "metadata": {},
   "outputs": [],
   "source": [
    "abandon_rate_2020 = pd.read_excel('../data/call_volume.xlsx', sheet_name='2020', skiprows=94, nrows=10, usecols='A:D')\n",
    "abandon_rate_2020"
   ]
  },
  {
   "cell_type": "code",
   "execution_count": null,
   "id": "418cc86c",
   "metadata": {},
   "outputs": [],
   "source": [
    "stats_2021 = pd.read_excel('../data/call_volume.xlsx', sheet_name='2021', skiprows=10, nrows=9, usecols='A:B')\n",
    "stats_2021.rename(inplace=True, columns={'Total Calls':'Category', 'Unnamed: 1':'Total'})\n",
    "stats_2021"
   ]
  },
  {
   "cell_type": "code",
   "execution_count": null,
   "id": "13bf90f1",
   "metadata": {},
   "outputs": [],
   "source": [
    "queue_dist_2021 = pd.read_excel('../data/call_volume.xlsx', sheet_name='2021', skiprows=23, nrows=11, usecols='A:I')\n",
    "queue_dist_2021"
   ]
  },
  {
   "cell_type": "code",
   "execution_count": null,
   "id": "ca809c27",
   "metadata": {},
   "outputs": [],
   "source": [
    "month_dist_2021 = pd.read_excel('../data/call_volume.xlsx', sheet_name='2021', skiprows=38, nrows=12, usecols='A:K')\n",
    "month_dist_2021"
   ]
  },
  {
   "cell_type": "code",
   "execution_count": null,
   "id": "b7cbdfb9",
   "metadata": {},
   "outputs": [],
   "source": [
    "hour_dist_2021 = pd.read_excel('../data/call_volume.xlsx', sheet_name='2021', skiprows=54, nrows=24, usecols='A:K')\n",
    "hour_dist_2021"
   ]
  },
  {
   "cell_type": "code",
   "execution_count": null,
   "id": "020dff11",
   "metadata": {},
   "outputs": [],
   "source": [
    "day_dist_2021 = pd.read_excel('../data/call_volume.xlsx', sheet_name='2021', skiprows=82, nrows=7, usecols='A:K')\n",
    "day_dist_2021"
   ]
  },
  {
   "cell_type": "code",
   "execution_count": null,
   "id": "1abb9177",
   "metadata": {},
   "outputs": [],
   "source": [
    "service_speed_2021 = pd.read_excel('../data/call_volume.xlsx', sheet_name='2021', skiprows=93, nrows=10, usecols='A:D')\n",
    "service_speed_2021"
   ]
  },
  {
   "cell_type": "code",
   "execution_count": null,
   "id": "28a3ed70",
   "metadata": {},
   "outputs": [],
   "source": [
    "abandon_rate_2021 = pd.read_excel('../data/call_volume.xlsx', sheet_name='2021', skiprows=107, nrows=10, usecols='A:D')\n",
    "abandon_rate_2021"
   ]
  },
  {
   "cell_type": "code",
   "execution_count": null,
   "id": "e035eb70",
   "metadata": {},
   "outputs": [],
   "source": [
    "stats_2022 = pd.read_excel('../data/call_volume.xlsx', sheet_name='2022', skiprows=7, nrows=9, usecols='A:B')\n",
    "stats_2022.rename(inplace=True, columns={'Total Calls':'Category', 'Unnamed: 1':'Total'})\n",
    "stats_2022"
   ]
  },
  {
   "cell_type": "code",
   "execution_count": null,
   "id": "cf1da59b",
   "metadata": {},
   "outputs": [],
   "source": [
    "queue_dist_2022 = pd.read_excel('../data/call_volume.xlsx', sheet_name='2022', skiprows=18, nrows=10, usecols='A:I')\n",
    "queue_dist_2022"
   ]
  },
  {
   "cell_type": "code",
   "execution_count": null,
   "id": "71968500",
   "metadata": {},
   "outputs": [],
   "source": [
    "month_dist_2022 = pd.read_excel('../data/call_volume.xlsx', sheet_name='2022', skiprows=32, nrows=4, usecols='A:K')\n",
    "month_dist_2022"
   ]
  },
  {
   "cell_type": "code",
   "execution_count": null,
   "id": "b866c9da",
   "metadata": {},
   "outputs": [],
   "source": [
    "hour_dist_2022 = pd.read_excel('../data/call_volume.xlsx', sheet_name='2022', skiprows=40, nrows=24, usecols='A:K')\n",
    "hour_dist_2022"
   ]
  },
  {
   "cell_type": "code",
   "execution_count": null,
   "id": "63764002",
   "metadata": {},
   "outputs": [],
   "source": [
    "day_dist_2022 = pd.read_excel('../data/call_volume.xlsx', sheet_name='2022', skiprows=68, nrows=7, usecols='A:K')\n",
    "day_dist_2022"
   ]
  },
  {
   "cell_type": "code",
   "execution_count": null,
   "id": "37ee0b33",
   "metadata": {},
   "outputs": [],
   "source": [
    "service_speed_2022 = pd.read_excel('../data/call_volume.xlsx', sheet_name='2022', skiprows=80, nrows=10, usecols='A:D')\n",
    "service_speed_2022"
   ]
  },
  {
   "cell_type": "code",
   "execution_count": null,
   "id": "0636f594",
   "metadata": {},
   "outputs": [],
   "source": [
    "abandon_rate_2022 = pd.read_excel('../data/call_volume.xlsx', sheet_name='2022', skiprows=94, nrows=10, usecols='A:D')\n",
    "abandon_rate_2022"
   ]
  },
  {
   "cell_type": "code",
   "execution_count": null,
   "id": "50a1a107",
   "metadata": {},
   "outputs": [],
   "source": [
    "#crisis1['CallDateAndTimeStart'] = crisis1['CallDateAndTimeStart'].astype('str')\n",
    "#crisis1['CallDateStartTime'] = crisis1['CallDateAndTimeStart'].str.findall(r'\\d{2}:\\d{2}:00')\n",
    "#crisis1['CallDateStartDate'] = crisis1['CallDateAndTimeStart'].str.findall(r'\\d{4}-\\d{2}-\\d{2}')\n",
    "#crisis1['CallDateStartDate']\n",
    "#crisis1['CallDateStartTime']"
   ]
  },
  {
   "cell_type": "markdown",
   "id": "579f85f2",
   "metadata": {},
   "source": [
    "DataFrame Cheat Sheet\n",
    "\n",
    "2020:\n",
    "\n",
    "stats_2020 -- high-level statistics about total number of calls, unanswered/disconnected rates, etc.\n",
    "\n",
    "queue_dist_2020 -- distribution of calls across all queue services\n",
    "\n",
    "month_dist_2020 -- distribution of calls by month\n",
    "\n",
    "day_dist_2020 -- distribution of calls by day of week\n",
    "\n",
    "queue_answered_2020 -- answered calls across all queue services\n",
    "\n",
    "service_speed_2020 -- speed of answer in time categories\n",
    "\n",
    "abandon_rate_2020 -- speed of caller abandoning call in time categories\n",
    "\n",
    "\n",
    "2021:\n",
    "\n",
    "stats_2021 -- high-level statistics about total number of calls, unanswered/disconnected rates, etc.\n",
    "\n",
    "queue_dist_2021 -- distribution of calls across all queue services\n",
    "\n",
    "month_dist_2021 -- distribution of calls by month\n",
    "\n",
    "hour_dist_2021 -- distribution of calls by hour\n",
    "\n",
    "day_dist_2021 -- distribution of calls by day of week\n",
    "\n",
    "service_speed_2021 -- speed of answer in time categories\n",
    "\n",
    "abandon_rate_2021 -- speed of caller abandoning call in time categories\n",
    "\n",
    "\n",
    "\n",
    "2022:\n",
    "\n",
    "stats_2022 -- high-level statistics about total number of calls, unanswered/disconnected rates, etc.\n",
    "\n",
    "queue_dist_2022 -- distribution of calls across all queue services\n",
    "\n",
    "month_dist_2022 -- distribution of calls by month\n",
    "\n",
    "hour_dist_2022 -- distribution of calls by hour\n",
    "\n",
    "day_dist_2022 -- distribution of calls by day of week\n",
    "\n",
    "service_speed_2022 -- speed of answer in time categories\n",
    "\n",
    "abandon_rate_2022 -- speed of caller abandoning call in time categories\n",
    "\n",
    "color codes b: blue g: green r: red c: cyan m: magenta y: yellow k: black w: white"
   ]
  },
  {
   "cell_type": "code",
   "execution_count": null,
   "id": "14fd71cc",
   "metadata": {},
   "outputs": [],
   "source": [
    "crisis1.info()"
   ]
  },
  {
   "cell_type": "code",
   "execution_count": null,
   "id": "5b34b929",
   "metadata": {
    "scrolled": true
   },
   "outputs": [],
   "source": [
    "crisis1.describe(include='all')"
   ]
  },
  {
   "cell_type": "code",
   "execution_count": null,
   "id": "a8e190c3",
   "metadata": {},
   "outputs": [],
   "source": [
    "sns.barplot(data=crisis1, x=\"CallLength\", y=\"CallDateStartWeekdate\", \n",
    "            #hue=\"CRISIS Demographics - Gender Identity\"\n",
    "           )"
   ]
  },
  {
   "cell_type": "markdown",
   "id": "2e3a8c7d",
   "metadata": {},
   "source": [
    "Mondays am i right lol"
   ]
  },
  {
   "cell_type": "markdown",
   "id": "618165f8",
   "metadata": {},
   "source": [
    "g = sns.FacetGrid(\n",
    "    crisis1, \n",
    "    row=\"CallDateStartMonth\",\n",
    "    #col=\"CRISIS Demographics - Gender Identity\"\n",
    "    )\n",
    "g.map_dataframe(sns.histplot, x=\"CallDateStartTime\")\n",
    "#g.fig.set_size_inches(18, 10)\n",
    "#g.set_axis_labels(\"Total Bill\", \"Frequency\")\n",
    "\n",
    "This wasn't working quite right and I need to relook at it before adding it into my thing"
   ]
  },
  {
   "cell_type": "code",
   "execution_count": null,
   "id": "23df09af",
   "metadata": {
    "scrolled": true
   },
   "outputs": [],
   "source": [
    "sns.boxplot(data=crisis1, x=\"CallLength\", y=\"CallDateStartWeekdate\", showfliers = False)\n",
    "#no outliers call time chart"
   ]
  },
  {
   "cell_type": "code",
   "execution_count": null,
   "id": "82cb087d",
   "metadata": {},
   "outputs": [],
   "source": [
    "sns.boxplot(data=crisis1, x=\"CallDateStartTime\", y=\"CallLength\", showfliers = False)"
   ]
  },
  {
   "cell_type": "markdown",
   "id": "5475e92e",
   "metadata": {},
   "source": [
    "Early morning (sunrise) has much lower call volume, while ~sunset~ tends to have more calls"
   ]
  },
  {
   "cell_type": "code",
   "execution_count": null,
   "id": "3ba153b9",
   "metadata": {},
   "outputs": [],
   "source": [
    "sns.histplot(data=crisis1, x=\"CallDateStartTime\")"
   ]
  },
  {
   "cell_type": "code",
   "execution_count": null,
   "id": "61e30b9a",
   "metadata": {},
   "outputs": [],
   "source": [
    "sns.scatterplot(x=\"CallDateAndTimeStart\", y=\"CallLength\", data=crisis1)"
   ]
  },
  {
   "cell_type": "markdown",
   "id": "40854590",
   "metadata": {},
   "source": [
    "nvm guess this heatmap doesn't quite work for what i'm attempting"
   ]
  },
  {
   "cell_type": "code",
   "execution_count": null,
   "id": "3f42690d",
   "metadata": {},
   "outputs": [],
   "source": [
    "#sns.heatmap(crisis1['CallDateStartMonth'], crisis1['CallDateStartWeekdate'], crisis1['CallLength'], nnot=True, fmt=\"d\")"
   ]
  },
  {
   "cell_type": "code",
   "execution_count": null,
   "id": "002cbab0",
   "metadata": {},
   "outputs": [],
   "source": [
    "crisis1['CallDateStartWeekdate']"
   ]
  },
  {
   "cell_type": "markdown",
   "id": "c92792da",
   "metadata": {},
   "source": [
    "This isn't quite panning out how i expected it to."
   ]
  },
  {
   "cell_type": "markdown",
   "id": "9bd69e14",
   "metadata": {},
   "source": [
    "sns.set_theme(style=\"dark\")\n",
    "\n",
    "# Plot each year's time series in its own facet\n",
    "g = sns.relplot(\n",
    "    data=crisis1,\n",
    "    x=\"CallDateStartWeekdate\", y=\"CallReportNum\", col=\"CallDateStartMonth\", hue=\"CallDateStartMonth\",\n",
    "    kind=\"line\", palette=\"crest\", linewidth=4, zorder=5,\n",
    "    col_wrap=3, height=2, aspect=1.5, legend=False,\n",
    ")\n",
    "\n",
    "# Iterate over each subplot to customize further\n",
    "for year, ax in g.axes_dict.items():\n",
    "\n",
    "    # Add the title as an annotation within the plot\n",
    "    ax.text(.8, .85, year, transform=ax.transAxes, fontweight=\"bold\")\n",
    "\n",
    "    # Plot every year's time series in the background\n",
    "    sns.lineplot(\n",
    "        data=crisis1, x=\"CallDateStartWeekdate\", y=\"CallReportNum\", units=\"CallDateStartMonth\",\n",
    "        estimator=None, color=\".7\", linewidth=1, ax=ax,\n",
    "    )\n",
    "\n",
    "# Reduce the frequency of the x axis ticks\n",
    "ax.set_xticks(ax.get_xticks()[::2])\n",
    "\n",
    "# Tweak the supporting aspects of the plot\n",
    "g.set_titles(\"\")\n",
    "g.set_axis_labels(\"\", \"Call Volume\")\n",
    "g.tight_layout()"
   ]
  },
  {
   "cell_type": "code",
   "execution_count": null,
   "id": "6104c51d",
   "metadata": {},
   "outputs": [],
   "source": [
    "import sunriset\n",
    "import datetime\n",
    "from datetime import timedelta\n",
    "import math\n",
    "import pytz\n",
    "\n",
    "import pandas as pd\n",
    "import matplotlib.pyplot as plt\n",
    "%config InlineBackend.figure_format = 'svg'"
   ]
  },
  {
   "cell_type": "markdown",
   "id": "1b61f8c1",
   "metadata": {},
   "source": [
    "I'm trying to add sunrise/sunset times to these charts, but first i really need to pull in the times of sunrise/sunset. Then maybe do a count of all the calls on that day, then work on charting items"
   ]
  },
  {
   "cell_type": "code",
   "execution_count": null,
   "id": "eeb992fe",
   "metadata": {
    "scrolled": false
   },
   "outputs": [],
   "source": [
    "lat = 36.174465\n",
    "long = -86.767960\n",
    "local_tz = -5\n",
    "\n",
    "number_of_years = 4\n",
    "start_date = datetime.date(2019,1,1)\n",
    "\n",
    "nashvilletime = sunriset.to_pandas(start_date, lat, long, local_tz, number_of_years)\n",
    "nashvilletime.reset_index(inplace=True)\n",
    "nashvilletime"
   ]
  },
  {
   "cell_type": "code",
   "execution_count": null,
   "id": "6d28d7b5",
   "metadata": {},
   "outputs": [],
   "source": [
    "nashvilletime.plot(x='Solar Elevation Angle (degrees)', \n",
    "        y='Solar Azimuth Angle (degrees cw from North)', \n",
    "        color='orange',\n",
    "        title='weird and strange loopy graph that somehow correlates to sunset time or something')\n",
    "plt.show()"
   ]
  },
  {
   "cell_type": "code",
   "execution_count": null,
   "id": "17621ff6",
   "metadata": {},
   "outputs": [],
   "source": [
    "nashvillesun = nashvilletime[['index','Sunrise','Sunset']]"
   ]
  },
  {
   "cell_type": "code",
   "execution_count": null,
   "id": "a7f89937",
   "metadata": {},
   "outputs": [],
   "source": [
    "nashvillesun['Sunrise'] = nashvillesun['Sunrise'].astype('str')\n",
    "nashvillesun['Sunset'] = nashvillesun['Sunset'].astype('str')\n",
    "nashvillesun['Sunrise'] = nashvillesun['Sunrise'].str.replace('0 days ' , '')\n",
    "nashvillesun['Sunset'] = nashvillesun['Sunset'].str.replace('0 days ' , '')\n",
    "nashvillesun['Sunrise'] = nashvillesun['Sunrise'].str.replace(r'.\\d{6}' , '')\n",
    "nashvillesun['Sunset'] = nashvillesun['Sunset'].str.replace(r'.\\d{6}' , '')\n",
    "nashvillesun"
   ]
  },
  {
   "cell_type": "code",
   "execution_count": null,
   "id": "f88537b9",
   "metadata": {},
   "outputs": [],
   "source": [
    "nashvillesun['index'] = nashvillesun['index'].astype('str')\n",
    "nashvillesun['sunrisetime'] = (nashvillesun['index'] + ' ' + nashvillesun['Sunrise'])\n",
    "nashvillesun['sunsettime'] = (nashvillesun['index'] + ' ' + nashvillesun['Sunset'])\n",
    "nashvillesun['sunrisetime'] = pd.to_datetime(nashvillesun['sunrisetime'])\n",
    "nashvillesun['sunsettime'] = pd.to_datetime(nashvillesun['sunsettime'])\n",
    "\n",
    "nashvillesun"
   ]
  },
  {
   "cell_type": "code",
   "execution_count": null,
   "id": "06168956",
   "metadata": {},
   "outputs": [],
   "source": [
    "sns.distplot((nashvilletime['Sunrise']))\n",
    "sns.distplot((nashvilletime['Sunset']))"
   ]
  },
  {
   "cell_type": "code",
   "execution_count": null,
   "id": "11f6ba71",
   "metadata": {},
   "outputs": [],
   "source": [
    "plt.plot(nashvilletime[['Sunrise','Sunset']])\n",
    "plt.title('Sunrise & Sunset')\n",
    "plt.legend(nashvilletime[['Sunrise','Sunset']])\n",
    "plt.grid(axis='y', alpha=0.5)\n",
    "plt.show()"
   ]
  },
  {
   "cell_type": "markdown",
   "id": "ec8a5abd",
   "metadata": {},
   "source": [
    "Ok, so I've done all this, I've imported in the sunrise sunset times into the fold, now i need to merge them onto the original dataset so all of this isn't for not.\n",
    "I'm going to start by merging them on month, which i know is probably a bad move. I'll instead get an average of the month and work with a single number?"
   ]
  },
  {
   "cell_type": "code",
   "execution_count": null,
   "id": "5921972a",
   "metadata": {},
   "outputs": [],
   "source": [
    "nashvillesun['month'] = nashvillesun['sunrisetime'].dt.month"
   ]
  },
  {
   "cell_type": "code",
   "execution_count": null,
   "id": "004c153c",
   "metadata": {
    "scrolled": true
   },
   "outputs": [],
   "source": [
    "crisis1['index'] = crisis1['CallDateAndTimeStart'].dt.date\n",
    "crisis1['index'] = crisis1['index'].astype(str)\n",
    "crisis1['index']"
   ]
  },
  {
   "cell_type": "markdown",
   "id": "ff835cb5",
   "metadata": {},
   "source": [
    "In what some are describing to be a miracle, I have added on the sunset and sunrise time onto a spreadsheet based on the day. I can't believe it."
   ]
  },
  {
   "cell_type": "code",
   "execution_count": null,
   "id": "2ba205fb",
   "metadata": {},
   "outputs": [],
   "source": [
    "crisis00 = pd.merge(crisis1, nashvillesun, on = \"index\", how = \"left\")\n",
    "crisis00 = crisis00[['CallDateAndTimeStart', 'CallDateAndTimeEnd', 'CallLength', 'index', 'Sunrise'\n",
    "                    , 'Sunset', 'sunrisetime', 'sunsettime']]"
   ]
  },
  {
   "cell_type": "code",
   "execution_count": null,
   "id": "04d2d705",
   "metadata": {},
   "outputs": [],
   "source": [
    "crisis00['Nighttime'] = (crisis00['CallDateAndTimeStart'].dt.time > crisis00['sunsettime'].dt.time) + (crisis00['CallDateAndTimeStart'].dt.time < crisis00['sunrisetime'].dt.time)\n",
    "\n",
    "sns.countplot(y=\"Nighttime\", data=crisis00, palette=\"viridis\")"
   ]
  },
  {
   "cell_type": "code",
   "execution_count": null,
   "id": "b4e6b024",
   "metadata": {},
   "outputs": [],
   "source": [
    "sns.barplot(x=crisis00['CallDateAndTimeStart'].dt.hour, y=crisis00['CallLength'], hue=crisis00['Nighttime'], palette=\"viridis\")"
   ]
  },
  {
   "cell_type": "code",
   "execution_count": null,
   "id": "5d353641",
   "metadata": {
    "scrolled": false
   },
   "outputs": [],
   "source": [
    "copl = sns.countplot(x=crisis00['CallDateAndTimeStart'].dt.hour.astype('int'), hue=crisis00['Nighttime'], palette=\"viridis\")"
   ]
  },
  {
   "cell_type": "code",
   "execution_count": null,
   "id": "65a02d43",
   "metadata": {},
   "outputs": [],
   "source": [
    "sns.countplot(x=crisis00['CallDateAndTimeStart'].dt.day_name(), hue=crisis00['Nighttime'], palette=\"viridis\")"
   ]
  },
  {
   "cell_type": "code",
   "execution_count": null,
   "id": "1f8752c9",
   "metadata": {},
   "outputs": [],
   "source": [
    "crisis00['month'] = crisis00['CallDateAndTimeStart'].dt.month\n",
    "crisis00['hour'] = crisis00['CallDateAndTimeStart'].dt.hour\n",
    "crisis00['year'] = crisis00['CallDateAndTimeStart'].dt.year\n",
    "crisis00['day'] = crisis00['CallDateAndTimeStart'].dt.day\n",
    "crisis00['weekday'] = crisis00['CallDateAndTimeStart'].dt.day_name()\n",
    "crisis00.head()"
   ]
  },
  {
   "cell_type": "code",
   "execution_count": null,
   "id": "15a28842",
   "metadata": {
    "scrolled": false
   },
   "outputs": [],
   "source": [
    "g = sns.catplot(x=\"month\", hue=\"Nighttime\",\n",
    "                data=crisis00, kind=\"count\",\n",
    "                height=4, palette=\"viridis\", \n",
    "                 aspect=1.2, legend_out=True,\n",
    "               sharex=True, sharey=True).set(title='Count of Calls by Time of Day');"
   ]
  },
  {
   "cell_type": "code",
   "execution_count": null,
   "id": "0c0524c9",
   "metadata": {},
   "outputs": [],
   "source": [
    "g = sns.catplot(x=\"hour\", hue=\"Nighttime\", col=\"month\",\n",
    "                data=crisis00, kind=\"count\",\n",
    "                height=4, palette=\"viridis\", \n",
    "                 aspect=1.3, legend_out=True,\n",
    "               sharex=True, sharey=True);"
   ]
  },
  {
   "cell_type": "code",
   "execution_count": null,
   "id": "e6330708",
   "metadata": {},
   "outputs": [],
   "source": [
    "sns.countplot(x=crisis00['index'], hue=crisis00['Nighttime'], palette=\"viridis\")"
   ]
  },
  {
   "cell_type": "code",
   "execution_count": null,
   "id": "3fc391f1",
   "metadata": {},
   "outputs": [],
   "source": [
    "g = sns.FacetGrid(data=crisis00, col=\"weekday\", height=3.5, aspect=.65)\n",
    "g.map(sns.histplot, \"Nighttime\")"
   ]
  },
  {
   "cell_type": "code",
   "execution_count": null,
   "id": "9c75a654",
   "metadata": {},
   "outputs": [],
   "source": [
    "ax = sns.pointplot(x=\"month\", y=\"CallLength\", hue=\"Nighttime\", data=crisis00, palette=\"viridis\", ci=95, height=5, aspect=1).set(ylim=(0,20), title='Average Call Length')"
   ]
  },
  {
   "cell_type": "code",
   "execution_count": null,
   "id": "b49ef265",
   "metadata": {
    "scrolled": false
   },
   "outputs": [],
   "source": [
    "g = sns.catplot(x=\"weekday\", y=\"CallLength\", hue=\"Nighttime\", data=crisis00, col=\"month\", kind=\"point\", palette=\"viridis\").set(ylim=(0,20))"
   ]
  },
  {
   "cell_type": "code",
   "execution_count": null,
   "id": "4650dd4d",
   "metadata": {},
   "outputs": [],
   "source": []
  }
 ],
 "metadata": {
  "kernelspec": {
   "display_name": "Python 3 (ipykernel)",
   "language": "python",
   "name": "python3"
  },
  "language_info": {
   "codemirror_mode": {
    "name": "ipython",
    "version": 3
   },
   "file_extension": ".py",
   "mimetype": "text/x-python",
   "name": "python",
   "nbconvert_exporter": "python",
   "pygments_lexer": "ipython3",
   "version": "3.9.7"
  }
 },
 "nbformat": 4,
 "nbformat_minor": 5
}
