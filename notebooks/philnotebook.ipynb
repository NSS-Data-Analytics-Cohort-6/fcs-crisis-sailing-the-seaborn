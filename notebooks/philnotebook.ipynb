{
 "cells": [
  {
   "cell_type": "markdown",
   "id": "f74413e5",
   "metadata": {},
   "source": [
    "Sailing The Seaborn! Below are the majority 4 topics here\n",
    "\n",
    "1. Examine call volume and identify surge times, seasons, or events.\n",
    "2. Analyze trends in call content by looking for which issues are most frequent and what is the average count of issues per call.\n",
    "3. Assess regional and demographic trends in call content and call volume.\n",
    "4. Determine the count and success rate of imminent risk calls."
   ]
  },
  {
   "cell_type": "code",
   "execution_count": null,
   "id": "cdef6cb2",
   "metadata": {},
   "outputs": [],
   "source": [
    "import pandas as pd\n",
    "import numpy as np\n",
    "import matplotlib.pyplot as plt\n",
    "import seaborn as sns"
   ]
  },
  {
   "cell_type": "markdown",
   "id": "c6bc1f88",
   "metadata": {},
   "source": [
    "I am importing these items as it is fortold in the python commandments"
   ]
  },
  {
   "cell_type": "code",
   "execution_count": null,
   "id": "94d1f74a",
   "metadata": {},
   "outputs": [],
   "source": [
    "crisis1 = pd.read_excel('../data/NSSCrisisv1.xlsx', header=2)\n",
    "crisis2 = pd.read_excel('../data/NSSCrisisv2.xlsx', header=2)"
   ]
  },
  {
   "cell_type": "code",
   "execution_count": null,
   "id": "76731b3a",
   "metadata": {},
   "outputs": [],
   "source": [
    "crisis1.head()"
   ]
  },
  {
   "cell_type": "markdown",
   "id": "bf71a4ae",
   "metadata": {},
   "source": [
    "Attempting to do a regex here so that I can make a kde seaborn plot for call length and call time of day, but I'm having an issue here of pulling the call time. I tried \\d{2}:\\d{2}:00 but that was coming up with nothing, somehow. I don't think colon is a strange character though?\n",
    "https://seaborn.pydata.org/generated/seaborn.kdeplot.html?highlight=kde%20plot#seaborn.kdeplot\n",
    "https://towardsdatascience.com/an-ultimate-cheatsheet-of-data-visualization-in-seaborn-be8ed13a3697\n",
    "https://seaborn.pydata.org/tutorial/relational.html\n",
    "https://www.dataquest.io/wp-content/uploads/2019/03/python-regular-expressions-cheat-sheet.pdf"
   ]
  },
  {
   "cell_type": "code",
   "execution_count": null,
   "id": "50a1a107",
   "metadata": {},
   "outputs": [],
   "source": [
    "crisis1['CallDateAndTimeStart'] = crisis1['CallDateAndTimeStart'].astype('str')\n",
    "crisis1['CallDateStartTime'] = crisis1['CallDateAndTimeStart'].str.extract(r'\\d{2}')\n",
    "crisis1['CallDateStartTime']"
   ]
  },
  {
   "cell_type": "code",
   "execution_count": null,
   "id": "14fd71cc",
   "metadata": {},
   "outputs": [],
   "source": [
    "crisis1.info()"
   ]
  },
  {
   "cell_type": "code",
   "execution_count": null,
   "id": "5b34b929",
   "metadata": {
    "scrolled": true
   },
   "outputs": [],
   "source": [
    "crisis1.describe(include='all')"
   ]
  },
  {
   "cell_type": "code",
   "execution_count": null,
   "id": "f5048922",
   "metadata": {},
   "outputs": [],
   "source": [
    "crisis1.dropna(how='all', axis=1, inplace=True)"
   ]
  },
  {
   "cell_type": "code",
   "execution_count": null,
   "id": "704a146b",
   "metadata": {},
   "outputs": [],
   "source": [
    "for label, content in crisis1.items():\n",
    "    print(f'label: {label}')\n",
    "    print(f'content: {content}', sep='\\n')"
   ]
  },
  {
   "cell_type": "code",
   "execution_count": null,
   "id": "a8e190c3",
   "metadata": {},
   "outputs": [],
   "source": [
    "sns.barplot(data=crisis1, x=\"CallLength\", y=\"CRISIS Demographics - Marital Status\", hue=\"CRISIS Demographics - Gender Identity\", )"
   ]
  },
  {
   "cell_type": "code",
   "execution_count": null,
   "id": "fc8d501f",
   "metadata": {},
   "outputs": [],
   "source": [
    "g = sns.FacetGrid(\n",
    "    crisis1, \n",
    "    #col=\"CRISIS Demographics - Marital Status\",\n",
    "    row=\"CRISIS Demographics - Gender Identity\"\n",
    "    )\n",
    "g.map_dataframe(sns.histplot, x=\"CallLength\")\n",
    "#g.fig.set_size_inches(18, 10)\n",
    "#g.set_axis_labels(\"Total Bill\", \"Frequency\")"
   ]
  },
  {
   "cell_type": "code",
   "execution_count": null,
   "id": "23df09af",
   "metadata": {},
   "outputs": [],
   "source": [
    "sns.kdeplot(data=crisis1, x=\"CallLength\", y=\"duration\")"
   ]
  }
 ],
 "metadata": {
  "kernelspec": {
   "display_name": "Python 3 (ipykernel)",
   "language": "python",
   "name": "python3"
  },
  "language_info": {
   "codemirror_mode": {
    "name": "ipython",
    "version": 3
   },
   "file_extension": ".py",
   "mimetype": "text/x-python",
   "name": "python",
   "nbconvert_exporter": "python",
   "pygments_lexer": "ipython3",
   "version": "3.9.7"
  }
 },
 "nbformat": 4,
 "nbformat_minor": 5
}
