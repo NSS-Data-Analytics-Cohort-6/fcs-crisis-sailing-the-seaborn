{
 "cells": [
  {
   "cell_type": "markdown",
   "id": "e45b3bec",
   "metadata": {},
   "source": [
    "Sailing The Seaborn! Below are the majority 4 topics here\n",
    "\n",
    "1. Examine call volume and identify surge times, seasons, or events.\n",
    "2. Analyze trends in call content by looking for which issues are most frequent and what is the average count of issues per call.\n",
    "3. Assess regional and demographic trends in call content and call volume.\n",
    "4. Determine the count and success rate of imminent risk calls."
   ]
  },
  {
   "cell_type": "code",
   "execution_count": null,
   "id": "45d84143",
   "metadata": {},
   "outputs": [],
   "source": [
    "import pandas as pd\n",
    "import numpy as np\n",
    "import matplotlib.pyplot as plt\n",
    "import seaborn as sns"
   ]
  },
  {
   "cell_type": "markdown",
   "id": "08558216",
   "metadata": {},
   "source": [
    "I am importing these items as it is fortold in the python commandments"
   ]
  },
  {
   "cell_type": "code",
   "execution_count": null,
   "id": "7789c085",
   "metadata": {},
   "outputs": [],
   "source": [
    "crisis1 = pd.read_excel('../data/NSSCrisisv1.xlsx', header=2)\n",
    "crisis2 = pd.read_excel('../data/NSSCrisisv2.xlsx', header=2)"
   ]
  },
  {
   "cell_type": "code",
   "execution_count": null,
   "id": "9437af0b",
   "metadata": {},
   "outputs": [],
   "source": [
    "crisis1.head()"
   ]
  },
  {
   "cell_type": "code",
   "execution_count": null,
   "id": "e799766a",
   "metadata": {},
   "outputs": [],
   "source": [
    "crisis1.info()"
   ]
  },
  {
   "cell_type": "code",
   "execution_count": null,
   "id": "466cd884",
   "metadata": {
    "scrolled": true
   },
   "outputs": [],
   "source": [
    "crisis1.describe(include='all')"
   ]
  },
  {
   "cell_type": "code",
   "execution_count": null,
   "id": "5f5abd4e",
   "metadata": {},
   "outputs": [],
   "source": [
    "crisis1.dropna(how='all', axis=1, inplace=True)"
   ]
  },
  {
   "cell_type": "code",
   "execution_count": null,
   "id": "b8ec9fd1",
   "metadata": {},
   "outputs": [],
   "source": [
    "for label, content in crisis1.items():\n",
    "    print(f'label: {label}')\n",
    "    print(f'content: {content}', sep='\\n')"
   ]
  },
  {
   "cell_type": "code",
   "execution_count": null,
   "id": "af761bec",
   "metadata": {},
   "outputs": [],
   "source": []
  }
 ],
 "metadata": {
  "kernelspec": {
   "display_name": "Python 3 (ipykernel)",
   "language": "python",
   "name": "python3"
  },
  "language_info": {
   "codemirror_mode": {
    "name": "ipython",
    "version": 3
   },
   "file_extension": ".py",
   "mimetype": "text/x-python",
   "name": "python",
   "nbconvert_exporter": "python",
   "pygments_lexer": "ipython3",
   "version": "3.9.7"
  }
 },
 "nbformat": 4,
 "nbformat_minor": 5
}
