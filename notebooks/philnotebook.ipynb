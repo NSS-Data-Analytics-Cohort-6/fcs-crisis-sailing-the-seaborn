{
 "cells": [
  {
   "cell_type": "markdown",
   "id": "f74413e5",
   "metadata": {},
   "source": [
    "Sailing The Seaborn! Below are the majority 4 topics here\n",
    "\n",
    "1. Examine call volume and identify surge times, seasons, or events.\n",
    "\n",
    "Let's try and do this by looking at peak hours and days. Then with that info we can look to see if there was a specific event that occured then? Seasonality or looking at sunrise/sunset times would be helpful as well.\n",
    "\n",
    "2. Analyze trends in call content by looking for which issues are most frequent and what is the average count of issues per call.\n",
    "\n",
    "This will likely be regex heavy? Would be searching for keywords within the call dialogue.\n",
    "\n",
    "3. Assess regional and demographic trends in call content and call volume.\n",
    "\n",
    "This is just like doing #2 but including demographics\n",
    "\n",
    "4. Determine the count and success rate of imminent risk calls.\n",
    "\n",
    "This seems the easiest, would be used best when paired with the other means of looking into the data"
   ]
  },
  {
   "cell_type": "code",
   "execution_count": null,
   "id": "cdef6cb2",
   "metadata": {},
   "outputs": [],
   "source": [
    "import pandas as pd\n",
    "import numpy as np\n",
    "import matplotlib.pyplot as plt\n",
    "import seaborn as sns"
   ]
  },
  {
   "cell_type": "markdown",
   "id": "c6bc1f88",
   "metadata": {},
   "source": [
    "I am importing these items as it is fortold in the python commandments"
   ]
  },
  {
   "cell_type": "code",
   "execution_count": null,
   "id": "94d1f74a",
   "metadata": {},
   "outputs": [],
   "source": [
    "crisis1 = pd.read_excel('../data/NSSCrisisv1.xlsx', header=2)\n",
    "crisis2 = pd.read_excel('../data/NSSCrisisv2.xlsx', header=2)"
   ]
  },
  {
   "cell_type": "code",
   "execution_count": null,
   "id": "76731b3a",
   "metadata": {},
   "outputs": [],
   "source": [
    "crisis1.head()"
   ]
  },
  {
   "cell_type": "markdown",
   "id": "bf71a4ae",
   "metadata": {},
   "source": [
    "I'm converting the call times here to datetime format! Info & formatting pulled from here\n",
    "https://www.geeksforgeeks.org/python-working-with-date-and-time-using-pandas/"
   ]
  },
  {
   "cell_type": "code",
   "execution_count": null,
   "id": "24f6b400",
   "metadata": {},
   "outputs": [],
   "source": [
    "crisis1['CallDateAndTimeStart'] = pd.to_datetime(crisis1['CallDateAndTimeStart'])\n",
    "crisis1['CallDateAndTimeEnd'] = pd.to_datetime(crisis1['CallDateAndTimeEnd'])\n",
    "crisis1['CallDateStartWeekdate'] = crisis1['CallDateAndTimeStart'].dt.day_name()\n",
    "#CallDateStartWeekdate give a Monday, Tuesday etc result\n",
    "crisis1['CallDateStartTime'] = crisis1['CallDateAndTimeStart'].dt.hour\n",
    "#CallDateStartTime gives the hour of the day the call was made, military time\n",
    "crisis1['CallDateStartMonth'] = crisis1['CallDateAndTimeStart'].dt.month\n",
    "#CallDateStartMonth gives the month which the call was made\n",
    "crisis1['CallDateAndTimeStart']"
   ]
  },
  {
   "cell_type": "markdown",
   "id": "c9480b35",
   "metadata": {},
   "source": [
    "Attempting to do a regex here so that I can make a kde seaborn plot for call length and call time of day, but I'm having an issue here of pulling the call time. I tried \\d{2}:\\d{2}:00 but that was coming up with nothing, somehow. I don't think colon is a strange character though? https://seaborn.pydata.org/generated/seaborn.kdeplot.html?highlight=kde%20plot#seaborn.kdeplot https://towardsdatascience.com/an-ultimate-cheatsheet-of-data-visualization-in-seaborn-be8ed13a3697 https://seaborn.pydata.org/tutorial/relational.html https://www.dataquest.io/wp-content/uploads/2019/03/python-regular-expressions-cheat-sheet.pdf"
   ]
  },
  {
   "cell_type": "code",
   "execution_count": null,
   "id": "50a1a107",
   "metadata": {},
   "outputs": [],
   "source": [
    "#crisis1['CallDateAndTimeStart'] = crisis1['CallDateAndTimeStart'].astype('str')\n",
    "#crisis1['CallDateStartTime'] = crisis1['CallDateAndTimeStart'].str.findall(r'\\d{2}:\\d{2}:00')\n",
    "#crisis1['CallDateStartDate'] = crisis1['CallDateAndTimeStart'].str.findall(r'\\d{4}-\\d{2}-\\d{2}')\n",
    "#crisis1['CallDateStartDate']\n",
    "#crisis1['CallDateStartTime']"
   ]
  },
  {
   "cell_type": "code",
   "execution_count": null,
   "id": "14fd71cc",
   "metadata": {},
   "outputs": [],
   "source": [
    "crisis1.info()"
   ]
  },
  {
   "cell_type": "code",
   "execution_count": null,
   "id": "5b34b929",
   "metadata": {
    "scrolled": true
   },
   "outputs": [],
   "source": [
    "crisis1.describe(include='all')"
   ]
  },
  {
   "cell_type": "code",
   "execution_count": null,
   "id": "f5048922",
   "metadata": {},
   "outputs": [],
   "source": [
    "crisis1.dropna(how='all', axis=1, inplace=True)"
   ]
  },
  {
   "cell_type": "code",
   "execution_count": null,
   "id": "704a146b",
   "metadata": {},
   "outputs": [],
   "source": [
    "for label, content in crisis1.items():\n",
    "    print(f'label: {label}')\n",
    "    print(f'content: {content}', sep='\\n')"
   ]
  },
  {
   "cell_type": "code",
   "execution_count": null,
   "id": "a8e190c3",
   "metadata": {},
   "outputs": [],
   "source": [
    "sns.barplot(data=crisis1, x=\"CallLength\", y=\"CallDateStartWeekdate\", \n",
    "            #hue=\"CRISIS Demographics - Gender Identity\"\n",
    "           )"
   ]
  },
  {
   "cell_type": "markdown",
   "id": "2e3a8c7d",
   "metadata": {},
   "source": [
    "Mondays am i right lol"
   ]
  },
  {
   "cell_type": "code",
   "execution_count": null,
   "id": "fc8d501f",
   "metadata": {},
   "outputs": [],
   "source": [
    "g = sns.FacetGrid(\n",
    "    crisis1, \n",
    "    col=\"CallDateStartWeekdate\",\n",
    "    row=\"CRISIS Demographics - Gender Identity\"\n",
    "    )\n",
    "g.map_dataframe(sns.histplot, x=\"CallLength\")\n",
    "#g.fig.set_size_inches(18, 10)\n",
    "#g.set_axis_labels(\"Total Bill\", \"Frequency\")"
   ]
  },
  {
   "cell_type": "code",
   "execution_count": null,
   "id": "23df09af",
   "metadata": {
    "scrolled": true
   },
   "outputs": [],
   "source": [
    "sns.boxplot(data=crisis1, x=\"CallLength\", y=\"CallDateStartWeekdate\", showfliers = False)\n",
    "#no outliers call time chart"
   ]
  },
  {
   "cell_type": "code",
   "execution_count": null,
   "id": "82cb087d",
   "metadata": {},
   "outputs": [],
   "source": [
    "sns.boxplot(data=crisis1, x=\"CallDateStartTime\", y=\"CallLength\", showfliers = False)"
   ]
  },
  {
   "cell_type": "markdown",
   "id": "5475e92e",
   "metadata": {},
   "source": [
    "Early morning (sunrise) has much lower call volume, while ~sunset~ tends to have more calls"
   ]
  },
  {
   "cell_type": "code",
   "execution_count": null,
   "id": "3ba153b9",
   "metadata": {},
   "outputs": [],
   "source": [
    "sns.histplot(data=crisis1, x=\"CallDateStartTime\")"
   ]
  },
  {
   "cell_type": "code",
   "execution_count": null,
   "id": "61e30b9a",
   "metadata": {},
   "outputs": [],
   "source": [
    "sns.scatterplot(x=\"CallDateAndTimeStart\", y=\"CallLength\", data=crisis1)"
   ]
  },
  {
   "cell_type": "markdown",
   "id": "40854590",
   "metadata": {},
   "source": [
    "nvm guess this heatmap doesn't quite work for what i'm attempting"
   ]
  },
  {
   "cell_type": "code",
   "execution_count": null,
   "id": "3f42690d",
   "metadata": {},
   "outputs": [],
   "source": [
    "sns.heatmap(crisis1['CallDateStartMonth'], crisis1['CallDateStartWeekdate'], crisis1['CallLength'], nnot=True, fmt=\"d\")"
   ]
  },
  {
   "cell_type": "code",
   "execution_count": null,
   "id": "002cbab0",
   "metadata": {},
   "outputs": [],
   "source": [
    "crisis1['CallDateStartWeekdate']"
   ]
  },
  {
   "cell_type": "code",
   "execution_count": null,
   "id": "53039414",
   "metadata": {},
   "outputs": [],
   "source": []
  }
 ],
 "metadata": {
  "kernelspec": {
   "display_name": "Python 3 (ipykernel)",
   "language": "python",
   "name": "python3"
  },
  "language_info": {
   "codemirror_mode": {
    "name": "ipython",
    "version": 3
   },
   "file_extension": ".py",
   "mimetype": "text/x-python",
   "name": "python",
   "nbconvert_exporter": "python",
   "pygments_lexer": "ipython3",
   "version": "3.9.7"
  }
 },
 "nbformat": 4,
 "nbformat_minor": 5
}
