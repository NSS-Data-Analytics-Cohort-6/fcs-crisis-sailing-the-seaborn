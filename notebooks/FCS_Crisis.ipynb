{
 "cells": [
  {
   "cell_type": "code",
   "execution_count": null,
   "id": "884cef29",
   "metadata": {},
   "outputs": [],
   "source": [
    "import pandas as pd\n",
    "import numpy as np\n",
    "import matplotlib.pyplot as plt\n",
    "import seaborn as sns"
   ]
  },
  {
   "cell_type": "code",
   "execution_count": null,
   "id": "f9a1bda8",
   "metadata": {},
   "outputs": [],
   "source": [
    "%matplotlib inline"
   ]
  },
  {
   "cell_type": "code",
   "execution_count": null,
   "id": "4543c5ec",
   "metadata": {},
   "outputs": [],
   "source": [
    "crisis_1 = pd.read_excel(\"../data/NSSCrisisv1.xlsx\",skiprows = 2)"
   ]
  },
  {
   "cell_type": "code",
   "execution_count": null,
   "id": "65ffc479",
   "metadata": {},
   "outputs": [],
   "source": [
    "crisis_1.head()"
   ]
  },
  {
   "cell_type": "code",
   "execution_count": null,
   "id": "d5907731",
   "metadata": {},
   "outputs": [],
   "source": [
    "crisis_1.info"
   ]
  },
  {
   "cell_type": "code",
   "execution_count": null,
   "id": "fb81be39",
   "metadata": {},
   "outputs": [],
   "source": [
    "crisis_1.shape"
   ]
  },
  {
   "cell_type": "code",
   "execution_count": null,
   "id": "f478d476",
   "metadata": {
    "scrolled": true
   },
   "outputs": [],
   "source": [
    "print(crisis_1.dtypes)"
   ]
  },
  {
   "cell_type": "markdown",
   "id": "5fc480f8",
   "metadata": {},
   "source": [
    "Let's drop the columns with no data in them"
   ]
  },
  {
   "cell_type": "code",
   "execution_count": null,
   "id": "8e3099f1",
   "metadata": {},
   "outputs": [],
   "source": [
    "crisis_1.dropna(how='all', axis=1, inplace=True)"
   ]
  },
  {
   "cell_type": "code",
   "execution_count": null,
   "id": "aabc7a85",
   "metadata": {
    "scrolled": false
   },
   "outputs": [],
   "source": [
    "crisis_1.head()"
   ]
  },
  {
   "cell_type": "code",
   "execution_count": null,
   "id": "ae91ef5d",
   "metadata": {},
   "outputs": [],
   "source": [
    "crisis_1.describe()"
   ]
  },
  {
   "cell_type": "code",
   "execution_count": null,
   "id": "1895ccac",
   "metadata": {},
   "outputs": [],
   "source": [
    "crisis_1.corr()"
   ]
  },
  {
   "cell_type": "code",
   "execution_count": null,
   "id": "187f5346",
   "metadata": {
    "scrolled": true
   },
   "outputs": [],
   "source": [
    "crisis_1.CallLength.value_counts()"
   ]
  },
  {
   "cell_type": "code",
   "execution_count": null,
   "id": "4fac219b",
   "metadata": {
    "scrolled": true
   },
   "outputs": [],
   "source": [
    "crisis_1.PhoneWorkerName.value_counts()"
   ]
  },
  {
   "cell_type": "code",
   "execution_count": null,
   "id": "7457ce11",
   "metadata": {
    "scrolled": true
   },
   "outputs": [],
   "source": [
    "crisis_1.PostalCode.value_counts()"
   ]
  },
  {
   "cell_type": "code",
   "execution_count": null,
   "id": "5eea975a",
   "metadata": {},
   "outputs": [],
   "source": [
    "crisis_1.ReportVersion.value_counts()"
   ]
  },
  {
   "cell_type": "code",
   "execution_count": null,
   "id": "68a8fdcb",
   "metadata": {
    "scrolled": false
   },
   "outputs": [],
   "source": [
    "crisis_1.CallDateAndTimeStart.value_counts()"
   ]
  },
  {
   "cell_type": "code",
   "execution_count": null,
   "id": "28550ac7",
   "metadata": {},
   "outputs": [],
   "source": [
    "plt.hist(crisis_1.ReportVersion)\n",
    "plt.show()"
   ]
  },
  {
   "cell_type": "code",
   "execution_count": null,
   "id": "a480de27",
   "metadata": {},
   "outputs": [],
   "source": [
    "plt.bar(crisis_1.PhoneWorkerName, crisis_1.CallLength)\n",
    "plt.ylabel('Length of Call')\n",
    "plt.xlabel('Employee')\n",
    "plt.xticks(rotation = 90)\n",
    "plt.show()"
   ]
  },
  {
   "cell_type": "code",
   "execution_count": null,
   "id": "2fb410e2",
   "metadata": {},
   "outputs": [],
   "source": [
    "crisis_2 = pd.read_excel(\"../data/NSSCrisisv2.xlsx\",skiprows = 2)"
   ]
  },
  {
   "cell_type": "code",
   "execution_count": null,
   "id": "d98f8fcb",
   "metadata": {},
   "outputs": [],
   "source": [
    "crisis_2.head()"
   ]
  },
  {
   "cell_type": "code",
   "execution_count": null,
   "id": "04fae72f",
   "metadata": {},
   "outputs": [],
   "source": [
    "crisis_2.info"
   ]
  },
  {
   "cell_type": "code",
   "execution_count": null,
   "id": "979e38e0",
   "metadata": {},
   "outputs": [],
   "source": [
    "crisis_2.shape"
   ]
  },
  {
   "cell_type": "code",
   "execution_count": null,
   "id": "9d1acd4b",
   "metadata": {
    "scrolled": true
   },
   "outputs": [],
   "source": [
    "print(crisis_2.dtypes)"
   ]
  },
  {
   "cell_type": "markdown",
   "id": "0200b063",
   "metadata": {},
   "source": [
    "Let's drop the columns with no data in them for this dataframe as well"
   ]
  },
  {
   "cell_type": "code",
   "execution_count": null,
   "id": "a67f6fb1",
   "metadata": {},
   "outputs": [],
   "source": [
    "crisis_2.dropna(how='all', axis=1, inplace=True)"
   ]
  },
  {
   "cell_type": "code",
   "execution_count": null,
   "id": "ce935f4d",
   "metadata": {
    "scrolled": true
   },
   "outputs": [],
   "source": [
    "crisis_2.head()"
   ]
  },
  {
   "cell_type": "code",
   "execution_count": null,
   "id": "49020a5d",
   "metadata": {
    "scrolled": true
   },
   "outputs": [],
   "source": [
    "crisis_2.describe()"
   ]
  },
  {
   "cell_type": "code",
   "execution_count": null,
   "id": "7e5cb0a6",
   "metadata": {},
   "outputs": [],
   "source": [
    "crisis_2.corr()"
   ]
  },
  {
   "cell_type": "code",
   "execution_count": null,
   "id": "4dd4c531",
   "metadata": {},
   "outputs": [],
   "source": [
    "crisis_2.CallLength.value_counts()"
   ]
  },
  {
   "cell_type": "code",
   "execution_count": null,
   "id": "40058578",
   "metadata": {},
   "outputs": [],
   "source": [
    "crisis_2.PhoneWorkerName.value_counts()"
   ]
  },
  {
   "cell_type": "code",
   "execution_count": null,
   "id": "647b9201",
   "metadata": {},
   "outputs": [],
   "source": [
    "crisis_2.PostalCode.value_counts()"
   ]
  },
  {
   "cell_type": "code",
   "execution_count": null,
   "id": "24623e6f",
   "metadata": {},
   "outputs": [],
   "source": [
    "crisis_2.ReportVersion.value_counts()"
   ]
  },
  {
   "cell_type": "code",
   "execution_count": null,
   "id": "0c0c4eed",
   "metadata": {
    "scrolled": true
   },
   "outputs": [],
   "source": [
    "crisis_2.CallDateAndTimeStart.value_counts()"
   ]
  },
  {
   "cell_type": "code",
   "execution_count": null,
   "id": "b9de0d66",
   "metadata": {},
   "outputs": [],
   "source": [
    "plt.hist(crisis_2.ReportVersion)\n",
    "plt.show()"
   ]
  },
  {
   "cell_type": "code",
   "execution_count": null,
   "id": "a5b6e963",
   "metadata": {},
   "outputs": [],
   "source": [
    "plt.bar(crisis_2.PhoneWorkerName, crisis_2.CallLength)\n",
    "plt.ylabel('Length of Call')\n",
    "plt.xlabel('Employee')\n",
    "plt.xticks(rotation = 90)\n",
    "plt.show()"
   ]
  },
  {
   "cell_type": "code",
   "execution_count": null,
   "id": "3155cb60",
   "metadata": {},
   "outputs": [],
   "source": [
    "call_center_2020 = pd.read_excel(\"../data/Contact_center_call volume_2020-2022.xlsx\",sheet_name = '2020')"
   ]
  },
  {
   "cell_type": "code",
   "execution_count": null,
   "id": "b1842db7",
   "metadata": {},
   "outputs": [],
   "source": [
    "call_center_2020.head()"
   ]
  },
  {
   "cell_type": "code",
   "execution_count": null,
   "id": "4ad0d19a",
   "metadata": {},
   "outputs": [],
   "source": [
    "call_center_2021 = pd.read_excel(\"../data/Contact_center_call volume_2020-2022.xlsx\",sheet_name = '2021')"
   ]
  },
  {
   "cell_type": "code",
   "execution_count": null,
   "id": "0a7ca866",
   "metadata": {},
   "outputs": [],
   "source": [
    "call_center_2021.info"
   ]
  },
  {
   "cell_type": "code",
   "execution_count": null,
   "id": "72ee866d",
   "metadata": {},
   "outputs": [],
   "source": [
    "call_center_2021.shape"
   ]
  },
  {
   "cell_type": "code",
   "execution_count": null,
   "id": "b4e5e68d",
   "metadata": {},
   "outputs": [],
   "source": [
    "print(call_center_2021.dtypes)"
   ]
  },
  {
   "cell_type": "code",
   "execution_count": null,
   "id": "e22dacd4",
   "metadata": {},
   "outputs": [],
   "source": [
    "call_center_2022 = pd.read_excel(\"../data/Contact_center_call volume_2020-2022.xlsx\",sheet_name = '2022')"
   ]
  },
  {
   "cell_type": "code",
   "execution_count": null,
   "id": "4edea42a",
   "metadata": {},
   "outputs": [],
   "source": [
    "call_center_2022.info"
   ]
  },
  {
   "cell_type": "code",
   "execution_count": null,
   "id": "0c9224d9",
   "metadata": {},
   "outputs": [],
   "source": [
    "call_center_2022.shape"
   ]
  },
  {
   "cell_type": "code",
   "execution_count": null,
   "id": "7f2f4164",
   "metadata": {},
   "outputs": [],
   "source": [
    "print(call_center_2022.dtypes)"
   ]
  },
  {
   "cell_type": "code",
   "execution_count": null,
   "id": "090bc995",
   "metadata": {},
   "outputs": [],
   "source": []
  }
 ],
 "metadata": {
  "kernelspec": {
   "display_name": "Python 3 (ipykernel)",
   "language": "python",
   "name": "python3"
  },
  "language_info": {
   "codemirror_mode": {
    "name": "ipython",
    "version": 3
   },
   "file_extension": ".py",
   "mimetype": "text/x-python",
   "name": "python",
   "nbconvert_exporter": "python",
   "pygments_lexer": "ipython3",
   "version": "3.9.7"
  }
 },
 "nbformat": 4,
 "nbformat_minor": 5
}
