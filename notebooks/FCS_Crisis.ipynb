{
 "cells": [
  {
   "cell_type": "code",
   "execution_count": null,
   "id": "61950bbe",
   "metadata": {},
   "outputs": [],
   "source": [
    "import pandas as pd\n",
    "import numpy as np\n",
    "import matplotlib.pyplot as plt\n",
    "import seaborn as sns"
   ]
  },
  {
   "cell_type": "code",
   "execution_count": null,
   "id": "47dad46a",
   "metadata": {},
   "outputs": [],
   "source": [
    "%matplotlib inline"
   ]
  },
  {
   "cell_type": "code",
   "execution_count": null,
   "id": "d4e9d84f",
   "metadata": {},
   "outputs": [],
   "source": [
    "crisis_1 = pd.read_excel(\"../data/NSSCrisis1.xlsx\",skiprows = 2)"
   ]
  },
  {
   "cell_type": "code",
   "execution_count": null,
   "id": "0d7f30d9",
   "metadata": {},
   "outputs": [],
   "source": [
    "crisis_1.head()"
   ]
  },
  {
   "cell_type": "code",
   "execution_count": null,
   "id": "99a79143",
   "metadata": {},
   "outputs": [],
   "source": [
    "crisis_1.info"
   ]
  },
  {
   "cell_type": "code",
   "execution_count": null,
   "id": "9211372f",
   "metadata": {},
   "outputs": [],
   "source": [
    "crisis_1.shape"
   ]
  },
  {
   "cell_type": "code",
   "execution_count": null,
   "id": "c62a9d15",
   "metadata": {
    "scrolled": true
   },
   "outputs": [],
   "source": [
    "print(crisis_1.dtypes)"
   ]
  },
  {
   "cell_type": "markdown",
   "id": "f4a8f00b",
   "metadata": {},
   "source": [
    "Let's drop the columns with no data in them"
   ]
  },
  {
   "cell_type": "code",
   "execution_count": null,
   "id": "9cbf2707",
   "metadata": {},
   "outputs": [],
   "source": [
    "crisis_1.dropna(how='all', axis=1, inplace=True)"
   ]
  },
  {
   "cell_type": "code",
   "execution_count": null,
   "id": "eb7f5cbf",
   "metadata": {
    "scrolled": false
   },
   "outputs": [],
   "source": [
    "crisis_1.head()"
   ]
  },
  {
   "cell_type": "code",
   "execution_count": null,
   "id": "4deb8bea",
   "metadata": {},
   "outputs": [],
   "source": [
    "crisis_1.describe()"
   ]
  },
  {
   "cell_type": "code",
   "execution_count": null,
   "id": "af35e458",
   "metadata": {},
   "outputs": [],
   "source": [
    "crisis_1.corr()"
   ]
  },
  {
   "cell_type": "code",
   "execution_count": null,
   "id": "102c1c7c",
   "metadata": {
    "scrolled": false
   },
   "outputs": [],
   "source": [
    "crisis_1.CallLength.value_counts()"
   ]
  },
  {
   "cell_type": "code",
   "execution_count": null,
   "id": "e8e786cc",
   "metadata": {},
   "outputs": [],
   "source": [
    "call_length = pd.DataFrame(crisis_1.CallLength.value_counts().reset_index())"
   ]
  },
  {
   "cell_type": "code",
   "execution_count": null,
   "id": "2d350d7f",
   "metadata": {
    "scrolled": true
   },
   "outputs": [],
   "source": [
    "call_length"
   ]
  },
  {
   "cell_type": "code",
   "execution_count": null,
   "id": "7bc18252",
   "metadata": {},
   "outputs": [],
   "source": [
    "call_length.columns = ['Call Length', 'Number of Calls']"
   ]
  },
  {
   "cell_type": "code",
   "execution_count": null,
   "id": "31ffaff2",
   "metadata": {
    "scrolled": true
   },
   "outputs": [],
   "source": [
    "call_length"
   ]
  },
  {
   "cell_type": "code",
   "execution_count": null,
   "id": "7795b8a1",
   "metadata": {
    "scrolled": true
   },
   "outputs": [],
   "source": [
    "crisis_1.PhoneWorkerName.value_counts()"
   ]
  },
  {
   "cell_type": "code",
   "execution_count": null,
   "id": "dce11894",
   "metadata": {
    "scrolled": true
   },
   "outputs": [],
   "source": [
    "crisis_1.PostalCode.value_counts()"
   ]
  },
  {
   "cell_type": "code",
   "execution_count": null,
   "id": "161261bc",
   "metadata": {},
   "outputs": [],
   "source": [
    "crisis_1.ReportVersion.value_counts()"
   ]
  },
  {
   "cell_type": "code",
   "execution_count": null,
   "id": "9e2e3fa2",
   "metadata": {
    "scrolled": false
   },
   "outputs": [],
   "source": [
    "crisis_1.CallDateAndTimeStart.value_counts()"
   ]
  },
  {
   "cell_type": "code",
   "execution_count": null,
   "id": "8a0700d1",
   "metadata": {},
   "outputs": [],
   "source": [
    "plt.hist(crisis_1.ReportVersion)\n",
    "plt.show()"
   ]
  },
  {
   "cell_type": "code",
   "execution_count": null,
   "id": "a7b058c3",
   "metadata": {
    "scrolled": false
   },
   "outputs": [],
   "source": [
    "plt.bar(crisis_1.PhoneWorkerName, crisis_1.CallLength)\n",
    "plt.ylabel('Length of Call')\n",
    "plt.xlabel('Employee')\n",
    "plt.xticks(rotation = 90)\n",
    "plt.show()"
   ]
  },
  {
   "cell_type": "markdown",
   "id": "743ef47d",
   "metadata": {},
   "source": [
    "Let's look into some of the demographics of the data"
   ]
  },
  {
   "cell_type": "code",
   "execution_count": null,
   "id": "e2152719",
   "metadata": {
    "scrolled": false
   },
   "outputs": [],
   "source": [
    "crisis_1['CRISIS Demographics - Ethnicity'].value_counts()"
   ]
  },
  {
   "cell_type": "code",
   "execution_count": null,
   "id": "455b726a",
   "metadata": {},
   "outputs": [],
   "source": [
    "demographics1 = pd.DataFrame(crisis_1['CRISIS Demographics - Ethnicity'].value_counts().reset_index())"
   ]
  },
  {
   "cell_type": "code",
   "execution_count": null,
   "id": "04d03651",
   "metadata": {},
   "outputs": [],
   "source": [
    "demographics1"
   ]
  },
  {
   "cell_type": "code",
   "execution_count": null,
   "id": "b12476fd",
   "metadata": {},
   "outputs": [],
   "source": [
    "demographics1.columns = ['Ethnicity','Total']"
   ]
  },
  {
   "cell_type": "code",
   "execution_count": null,
   "id": "cd39db03",
   "metadata": {},
   "outputs": [],
   "source": [
    "demographics1"
   ]
  },
  {
   "cell_type": "code",
   "execution_count": null,
   "id": "d85d584c",
   "metadata": {},
   "outputs": [],
   "source": [
    "plt.bar(demographics1.Ethnicity,demographics1.Total)\n",
    "plt.title('Demographics of Callers')\n",
    "plt.xlabel('Race/Ethnicity')\n",
    "plt.ylabel('Total Number of Callers')\n",
    "plt.xticks(rotation = 90)\n",
    "plt.show()"
   ]
  },
  {
   "cell_type": "code",
   "execution_count": null,
   "id": "48fb49f7",
   "metadata": {
    "scrolled": true
   },
   "outputs": [],
   "source": [
    "crisis_1['CRISIS Demographics - Gender Identity'].value_counts()"
   ]
  },
  {
   "cell_type": "code",
   "execution_count": null,
   "id": "cb212b20",
   "metadata": {},
   "outputs": [],
   "source": [
    "gender_identity1 = pd.DataFrame(crisis_1['CRISIS Demographics - Gender Identity'].value_counts().reset_index())"
   ]
  },
  {
   "cell_type": "code",
   "execution_count": null,
   "id": "62a13230",
   "metadata": {},
   "outputs": [],
   "source": [
    "gender_identity1"
   ]
  },
  {
   "cell_type": "code",
   "execution_count": null,
   "id": "4a5b3e35",
   "metadata": {},
   "outputs": [],
   "source": [
    "gender_identity1.columns = ['Gender', 'Total']"
   ]
  },
  {
   "cell_type": "code",
   "execution_count": null,
   "id": "4e8edf31",
   "metadata": {},
   "outputs": [],
   "source": [
    "gender_identity1"
   ]
  },
  {
   "cell_type": "code",
   "execution_count": null,
   "id": "899a8396",
   "metadata": {},
   "outputs": [],
   "source": [
    "plt.bar(gender_identity1.Gender ,gender_identity1.Total)\n",
    "plt.title('Gender Indentity of Callers')\n",
    "plt.xlabel('Gender')\n",
    "plt.ylabel('Total Number of Callers')\n",
    "plt.xticks(rotation = 90)\n",
    "plt.show()"
   ]
  },
  {
   "cell_type": "code",
   "execution_count": null,
   "id": "1e9d5724",
   "metadata": {},
   "outputs": [],
   "source": [
    "crisis_1['CRISIS Demographics - Has a disability?'].value_counts()"
   ]
  },
  {
   "cell_type": "code",
   "execution_count": null,
   "id": "b3ca9c0c",
   "metadata": {},
   "outputs": [],
   "source": [
    "plt.pie(crisis_1['CRISIS Demographics - Has a disability?'].value_counts())\n",
    "plt.show()"
   ]
  },
  {
   "cell_type": "code",
   "execution_count": null,
   "id": "3622696c",
   "metadata": {
    "scrolled": true
   },
   "outputs": [],
   "source": [
    "crisis_1['CRISIS Demographics - Homeless?'].value_counts()"
   ]
  },
  {
   "cell_type": "code",
   "execution_count": null,
   "id": "7bca63eb",
   "metadata": {},
   "outputs": [],
   "source": [
    "plt.pie(crisis_1['CRISIS Demographics - Homeless?'].value_counts())\n",
    "plt.show()"
   ]
  },
  {
   "cell_type": "code",
   "execution_count": null,
   "id": "27a4ffc6",
   "metadata": {},
   "outputs": [],
   "source": [
    "crisis_1['CRISIS Demographics - Income'].value_counts()"
   ]
  },
  {
   "cell_type": "code",
   "execution_count": null,
   "id": "ceb777ce",
   "metadata": {
    "scrolled": true
   },
   "outputs": [],
   "source": [
    "crisis_1['CRISIS Demographics - Marital Status'].value_counts()"
   ]
  },
  {
   "cell_type": "code",
   "execution_count": null,
   "id": "208bb092",
   "metadata": {
    "scrolled": true
   },
   "outputs": [],
   "source": [
    "crisis_1['CRISIS Demographics - Military'].value_counts()"
   ]
  },
  {
   "cell_type": "code",
   "execution_count": null,
   "id": "338708ca",
   "metadata": {},
   "outputs": [],
   "source": [
    "military1 = pd.DataFrame(crisis_1['CRISIS Demographics - Military'].value_counts().reset_index())"
   ]
  },
  {
   "cell_type": "code",
   "execution_count": null,
   "id": "c902ed3a",
   "metadata": {},
   "outputs": [],
   "source": [
    "military1"
   ]
  },
  {
   "cell_type": "code",
   "execution_count": null,
   "id": "29877784",
   "metadata": {},
   "outputs": [],
   "source": [
    "military1.columns = ['Military ID', 'Total']"
   ]
  },
  {
   "cell_type": "code",
   "execution_count": null,
   "id": "84e1540b",
   "metadata": {},
   "outputs": [],
   "source": [
    "military1"
   ]
  },
  {
   "cell_type": "code",
   "execution_count": null,
   "id": "49f7cc01",
   "metadata": {},
   "outputs": [],
   "source": [
    "plt.bar(military1['Military ID'] ,military1.Total)\n",
    "plt.title('Number of Military Callers')\n",
    "plt.xlabel('Identity')\n",
    "plt.ylabel('Total Number of Callers')\n",
    "plt.xticks(rotation = 90)\n",
    "plt.show()"
   ]
  },
  {
   "cell_type": "code",
   "execution_count": null,
   "id": "80800241",
   "metadata": {
    "scrolled": false
   },
   "outputs": [],
   "source": [
    "crisis_1.ThirdPartyStateProvince.value_counts()"
   ]
  },
  {
   "cell_type": "code",
   "execution_count": null,
   "id": "ad06d096",
   "metadata": {},
   "outputs": [],
   "source": [
    "plt.pie(crisis_1.ThirdPartyStateProvince.value_counts())\n",
    "plt.show()"
   ]
  },
  {
   "cell_type": "markdown",
   "id": "a07f276d",
   "metadata": {},
   "source": [
    "Let's now bring in Version 2 of the data."
   ]
  },
  {
   "cell_type": "code",
   "execution_count": null,
   "id": "649b976b",
   "metadata": {},
   "outputs": [],
   "source": [
    "crisis_2 = pd.read_excel(\"../data/NSSCrisisv2.xlsx\",skiprows = 2)"
   ]
  },
  {
   "cell_type": "code",
   "execution_count": null,
   "id": "81fa7c47",
   "metadata": {},
   "outputs": [],
   "source": [
    "crisis_2.head()"
   ]
  },
  {
   "cell_type": "code",
   "execution_count": null,
   "id": "9743ee32",
   "metadata": {},
   "outputs": [],
   "source": [
    "crisis_2.info"
   ]
  },
  {
   "cell_type": "code",
   "execution_count": null,
   "id": "0f755b88",
   "metadata": {},
   "outputs": [],
   "source": [
    "crisis_2.shape"
   ]
  },
  {
   "cell_type": "code",
   "execution_count": null,
   "id": "88f9161a",
   "metadata": {
    "scrolled": true
   },
   "outputs": [],
   "source": [
    "print(crisis_2.dtypes)"
   ]
  },
  {
   "cell_type": "markdown",
   "id": "bc742a90",
   "metadata": {},
   "source": [
    "Let's drop the columns with no data in them for this dataframe as well"
   ]
  },
  {
   "cell_type": "code",
   "execution_count": null,
   "id": "a0758125",
   "metadata": {},
   "outputs": [],
   "source": [
    "crisis_2.dropna(how='all', axis=1, inplace=True)"
   ]
  },
  {
   "cell_type": "code",
   "execution_count": null,
   "id": "cc9754b9",
   "metadata": {
    "scrolled": true
   },
   "outputs": [],
   "source": [
    "crisis_2.head()"
   ]
  },
  {
   "cell_type": "code",
   "execution_count": null,
   "id": "ccc0e226",
   "metadata": {
    "scrolled": true
   },
   "outputs": [],
   "source": [
    "crisis_2.describe()"
   ]
  },
  {
   "cell_type": "code",
   "execution_count": null,
   "id": "ee35624a",
   "metadata": {},
   "outputs": [],
   "source": [
    "crisis_2.corr()"
   ]
  },
  {
   "cell_type": "code",
   "execution_count": null,
   "id": "f16c1522",
   "metadata": {},
   "outputs": [],
   "source": [
    "crisis_2.CallLength.value_counts()"
   ]
  },
  {
   "cell_type": "code",
   "execution_count": null,
   "id": "21bc64c6",
   "metadata": {},
   "outputs": [],
   "source": [
    "crisis_2.PhoneWorkerName.value_counts()"
   ]
  },
  {
   "cell_type": "code",
   "execution_count": null,
   "id": "77a019e3",
   "metadata": {},
   "outputs": [],
   "source": [
    "crisis_2.PostalCode.value_counts()"
   ]
  },
  {
   "cell_type": "code",
   "execution_count": null,
   "id": "f087d22c",
   "metadata": {},
   "outputs": [],
   "source": [
    "crisis_2.ReportVersion.value_counts()"
   ]
  },
  {
   "cell_type": "code",
   "execution_count": null,
   "id": "7092b426",
   "metadata": {
    "scrolled": true
   },
   "outputs": [],
   "source": [
    "crisis_2.CallDateAndTimeStart.value_counts()"
   ]
  },
  {
   "cell_type": "code",
   "execution_count": null,
   "id": "65bf5e42",
   "metadata": {},
   "outputs": [],
   "source": [
    "plt.hist(crisis_2.ReportVersion)\n",
    "plt.show()"
   ]
  },
  {
   "cell_type": "code",
   "execution_count": null,
   "id": "99cab764",
   "metadata": {
    "scrolled": true
   },
   "outputs": [],
   "source": [
    "plt.bar(crisis_2.PhoneWorkerName, crisis_2.CallLength)\n",
    "plt.ylabel('Length of Call')\n",
    "plt.xlabel('Employee')\n",
    "plt.xticks(rotation = 90)\n",
    "plt.show()"
   ]
  },
  {
   "cell_type": "markdown",
   "id": "3e6c545c",
   "metadata": {},
   "source": [
    "Let's look into some of the demographics of the data (version 2)"
   ]
  },
  {
   "cell_type": "code",
   "execution_count": null,
   "id": "88dfd59b",
   "metadata": {
    "scrolled": true
   },
   "outputs": [],
   "source": [
    "crisis_2['CRISIS Demographics - Gender Identity'].value_counts()"
   ]
  },
  {
   "cell_type": "code",
   "execution_count": null,
   "id": "c46a64ec",
   "metadata": {},
   "outputs": [],
   "source": [
    "gender_identity2 = pd.DataFrame(crisis_2['CRISIS Demographics - Gender Identity'].value_counts().reset_index())"
   ]
  },
  {
   "cell_type": "code",
   "execution_count": null,
   "id": "a70b4032",
   "metadata": {
    "scrolled": true
   },
   "outputs": [],
   "source": [
    "gender_identity2"
   ]
  },
  {
   "cell_type": "code",
   "execution_count": null,
   "id": "c68b76e5",
   "metadata": {},
   "outputs": [],
   "source": [
    "gender_identity2.columns = ['Gender', 'Total']"
   ]
  },
  {
   "cell_type": "code",
   "execution_count": null,
   "id": "c041544f",
   "metadata": {
    "scrolled": true
   },
   "outputs": [],
   "source": [
    "gender_identity2"
   ]
  },
  {
   "cell_type": "code",
   "execution_count": null,
   "id": "6d37958c",
   "metadata": {},
   "outputs": [],
   "source": [
    "plt.bar(gender_identity2.Gender ,gender_identity2.Total)\n",
    "plt.title('Gender Indentity of Callers')\n",
    "plt.xlabel('Gender')\n",
    "plt.ylabel('Total Number of Callers')\n",
    "plt.xticks(rotation = 90)\n",
    "plt.show()"
   ]
  },
  {
   "cell_type": "code",
   "execution_count": null,
   "id": "4c208e5f",
   "metadata": {
    "scrolled": false
   },
   "outputs": [],
   "source": [
    "crisis_2['CRISIS Demographics - Military'].value_counts()"
   ]
  },
  {
   "cell_type": "code",
   "execution_count": null,
   "id": "653dd94e",
   "metadata": {},
   "outputs": [],
   "source": [
    "military2 = pd.DataFrame(crisis_2['CRISIS Demographics - Military'].value_counts().reset_index())"
   ]
  },
  {
   "cell_type": "code",
   "execution_count": null,
   "id": "aea2ee01",
   "metadata": {},
   "outputs": [],
   "source": [
    "military2"
   ]
  },
  {
   "cell_type": "code",
   "execution_count": null,
   "id": "ead4775d",
   "metadata": {},
   "outputs": [],
   "source": [
    "military2.columns = ['Military ID', 'Total']"
   ]
  },
  {
   "cell_type": "code",
   "execution_count": null,
   "id": "5836aea9",
   "metadata": {},
   "outputs": [],
   "source": [
    "military2"
   ]
  },
  {
   "cell_type": "code",
   "execution_count": null,
   "id": "f3ba060d",
   "metadata": {},
   "outputs": [],
   "source": [
    "plt.bar(military2['Military ID'] ,military2.Total)\n",
    "plt.title('Number of Military Callers')\n",
    "plt.xlabel('Identity')\n",
    "plt.ylabel('Total Number of Callers')\n",
    "plt.xticks(rotation = 90)\n",
    "plt.show()"
   ]
  },
  {
   "cell_type": "code",
   "execution_count": null,
   "id": "7e8cfc20",
   "metadata": {},
   "outputs": [],
   "source": [
    "crisis_2.ThirdPartyStateProvince.value_counts()"
   ]
  },
  {
   "cell_type": "code",
   "execution_count": null,
   "id": "ea727c73",
   "metadata": {},
   "outputs": [],
   "source": [
    "plt.pie(crisis_2.ThirdPartyStateProvince.value_counts())\n",
    "plt.show()"
   ]
  },
  {
   "cell_type": "code",
   "execution_count": null,
   "id": "248ff74e",
   "metadata": {
    "scrolled": true
   },
   "outputs": [],
   "source": [
    "crisis_2.PostalCode.value_counts()"
   ]
  },
  {
   "cell_type": "code",
   "execution_count": null,
   "id": "bde1fdb5",
   "metadata": {},
   "outputs": [],
   "source": [
    "postal_code2 = pd.DataFrame(crisis_2.PostalCode.value_counts().reset_index())"
   ]
  },
  {
   "cell_type": "code",
   "execution_count": null,
   "id": "89ca6df7",
   "metadata": {
    "scrolled": true
   },
   "outputs": [],
   "source": [
    "postal_code2"
   ]
  },
  {
   "cell_type": "code",
   "execution_count": null,
   "id": "b80c53a1",
   "metadata": {},
   "outputs": [],
   "source": [
    "postal_code2.columns = ['Postal Code', 'Total']"
   ]
  },
  {
   "cell_type": "code",
   "execution_count": null,
   "id": "0ba2c816",
   "metadata": {},
   "outputs": [],
   "source": [
    "postal_code2"
   ]
  },
  {
   "cell_type": "code",
   "execution_count": null,
   "id": "ef9ba83a",
   "metadata": {},
   "outputs": [],
   "source": [
    "call_center_2020 = pd.read_excel(\"../data/Contact_center_call volume_2020-2022.xlsx\",sheet_name = '2020')"
   ]
  },
  {
   "cell_type": "code",
   "execution_count": null,
   "id": "d36f9eb0",
   "metadata": {},
   "outputs": [],
   "source": [
    "call_center_2020.head()"
   ]
  },
  {
   "cell_type": "code",
   "execution_count": null,
   "id": "efb67bd7",
   "metadata": {},
   "outputs": [],
   "source": [
    "call_center_2021 = pd.read_excel(\"../data/Contact_center_call volume_2020-2022.xlsx\",sheet_name = '2021')"
   ]
  },
  {
   "cell_type": "code",
   "execution_count": null,
   "id": "fb7af786",
   "metadata": {},
   "outputs": [],
   "source": [
    "call_center_2021.info"
   ]
  },
  {
   "cell_type": "code",
   "execution_count": null,
   "id": "1986f6f5",
   "metadata": {},
   "outputs": [],
   "source": [
    "call_center_2021.shape"
   ]
  },
  {
   "cell_type": "code",
   "execution_count": null,
   "id": "6516a56f",
   "metadata": {},
   "outputs": [],
   "source": [
    "print(call_center_2021.dtypes)"
   ]
  },
  {
   "cell_type": "code",
   "execution_count": null,
   "id": "43fb654f",
   "metadata": {},
   "outputs": [],
   "source": [
    "call_center_2022 = pd.read_excel(\"../data/Contact_center_call volume_2020-2022.xlsx\",sheet_name = '2022')"
   ]
  },
  {
   "cell_type": "code",
   "execution_count": null,
   "id": "64394d19",
   "metadata": {},
   "outputs": [],
   "source": [
    "call_center_2022.info"
   ]
  },
  {
   "cell_type": "code",
   "execution_count": null,
   "id": "a1fbb658",
   "metadata": {},
   "outputs": [],
   "source": [
    "call_center_2022.shape"
   ]
  },
  {
   "cell_type": "code",
   "execution_count": null,
   "id": "439fcf86",
   "metadata": {},
   "outputs": [],
   "source": [
    "print(call_center_2022.dtypes)"
   ]
  },
  {
   "cell_type": "markdown",
   "id": "30f4c8ec",
   "metadata": {},
   "source": [
    "Let's look into events that may have caused a spike in calls"
   ]
  },
  {
   "cell_type": "code",
   "execution_count": null,
   "id": "e3f12fdb",
   "metadata": {},
   "outputs": [],
   "source": [
    "crisis_1.CallLength.mean()"
   ]
  },
  {
   "cell_type": "code",
   "execution_count": null,
   "id": "f923907a",
   "metadata": {},
   "outputs": [],
   "source": [
    "crisis_2.CallLength.mean()"
   ]
  },
  {
   "cell_type": "code",
   "execution_count": null,
   "id": "04a1c254",
   "metadata": {},
   "outputs": [],
   "source": [
    "import re"
   ]
  },
  {
   "cell_type": "code",
   "execution_count": null,
   "id": "da5703ff",
   "metadata": {},
   "outputs": [],
   "source": [
    "regex = r\"\\d{4}-\\d{2}-\\d{2}\""
   ]
  },
  {
   "cell_type": "code",
   "execution_count": null,
   "id": "9054f8cf",
   "metadata": {},
   "outputs": [],
   "source": [
    "crisis_1['CallDateAndTimeStart'] = pd.to_datetime(crisis_1['CallDateAndTimeStart']).astype('str')\n"
   ]
  },
  {
   "cell_type": "markdown",
   "id": "881f55a9",
   "metadata": {},
   "source": [
    "Lets look at January 6th 2021"
   ]
  },
  {
   "cell_type": "code",
   "execution_count": null,
   "id": "21302b06",
   "metadata": {},
   "outputs": [],
   "source": [
    "crisis_1.loc[crisis_1['CallDateAndTimeStart'].str.contains(r'(2021-01-06)')]\n",
    "\n"
   ]
  },
  {
   "cell_type": "code",
   "execution_count": null,
   "id": "67499a4b",
   "metadata": {},
   "outputs": [],
   "source": [
    "Jan6_df = crisis_1.loc[crisis_1['CallDateAndTimeStart'].str.contains(r'(2021-01-06)')]"
   ]
  },
  {
   "cell_type": "code",
   "execution_count": null,
   "id": "aaf95810",
   "metadata": {},
   "outputs": [],
   "source": [
    "Jan6_df.CallLength.mean()"
   ]
  },
  {
   "cell_type": "code",
   "execution_count": null,
   "id": "12b5d1a4",
   "metadata": {},
   "outputs": [],
   "source": [
    "Jan5_df = crisis_1.loc[crisis_1['CallDateAndTimeStart'].str.contains(r'(2021-01-05)')]\n",
    "Jan7_df = crisis_1.loc[crisis_1['CallDateAndTimeStart'].str.contains(r'(2021-01-07)')]"
   ]
  },
  {
   "cell_type": "code",
   "execution_count": null,
   "id": "be38382a",
   "metadata": {},
   "outputs": [],
   "source": [
    "Jan5_df.head()"
   ]
  },
  {
   "cell_type": "code",
   "execution_count": null,
   "id": "be83d96c",
   "metadata": {
    "scrolled": true
   },
   "outputs": [],
   "source": [
    "Jan7_df.head()"
   ]
  },
  {
   "cell_type": "code",
   "execution_count": null,
   "id": "b7fbacef",
   "metadata": {},
   "outputs": [],
   "source": [
    "Jan5_df.CallLength.mean()"
   ]
  },
  {
   "cell_type": "code",
   "execution_count": null,
   "id": "591a65db",
   "metadata": {},
   "outputs": [],
   "source": [
    "Jan7_df.CallLength.mean()"
   ]
  },
  {
   "cell_type": "code",
   "execution_count": null,
   "id": "e7306178",
   "metadata": {},
   "outputs": [],
   "source": [
    "Jan5_df.shape"
   ]
  },
  {
   "cell_type": "code",
   "execution_count": null,
   "id": "3845d252",
   "metadata": {},
   "outputs": [],
   "source": [
    "Jan6_df.shape"
   ]
  },
  {
   "cell_type": "code",
   "execution_count": null,
   "id": "0d4b9b91",
   "metadata": {},
   "outputs": [],
   "source": [
    "Jan7_df.shape"
   ]
  },
  {
   "cell_type": "markdown",
   "id": "f09f024d",
   "metadata": {},
   "source": [
    "Both number and length of calls increased from Jan 5-7 2021"
   ]
  },
  {
   "cell_type": "markdown",
   "id": "849e5e7a",
   "metadata": {},
   "source": [
    "Let's look at the days around March 3rd 2020."
   ]
  },
  {
   "cell_type": "code",
   "execution_count": null,
   "id": "1454fb17",
   "metadata": {},
   "outputs": [],
   "source": [
    "Mar22020_df = crisis_1.loc[crisis_1['CallDateAndTimeStart'].str.contains(r'(2020-03-02)')]\n",
    "Mar32020_df = crisis_1.loc[crisis_1['CallDateAndTimeStart'].str.contains(r'(2020-03-03)')]\n",
    "Mar42020_df = crisis_1.loc[crisis_1['CallDateAndTimeStart'].str.contains(r'(2020-03-04)')]"
   ]
  },
  {
   "cell_type": "code",
   "execution_count": null,
   "id": "bc32cd0d",
   "metadata": {},
   "outputs": [],
   "source": [
    "Mar22020_df.shape"
   ]
  },
  {
   "cell_type": "code",
   "execution_count": null,
   "id": "b233ac97",
   "metadata": {},
   "outputs": [],
   "source": [
    "Mar22020_df.CallLength.mean()"
   ]
  },
  {
   "cell_type": "code",
   "execution_count": null,
   "id": "0a1618de",
   "metadata": {},
   "outputs": [],
   "source": [
    "Mar32020_df.shape"
   ]
  },
  {
   "cell_type": "code",
   "execution_count": null,
   "id": "68ea8cee",
   "metadata": {},
   "outputs": [],
   "source": [
    "Mar32020_df.CallLength.mean()"
   ]
  },
  {
   "cell_type": "code",
   "execution_count": null,
   "id": "bd5a414e",
   "metadata": {},
   "outputs": [],
   "source": [
    "Mar42020_df.shape"
   ]
  },
  {
   "cell_type": "code",
   "execution_count": null,
   "id": "8089dc53",
   "metadata": {},
   "outputs": [],
   "source": [
    "Mar42020_df.CallLength.mean()"
   ]
  },
  {
   "cell_type": "markdown",
   "id": "0ae7eb31",
   "metadata": {},
   "source": [
    "Both number and length of calls increased from March 2-4 2020"
   ]
  },
  {
   "cell_type": "markdown",
   "id": "43823082",
   "metadata": {},
   "source": [
    "Let's look at the days around May 25th 2020."
   ]
  },
  {
   "cell_type": "code",
   "execution_count": null,
   "id": "3f5603dd",
   "metadata": {},
   "outputs": [],
   "source": [
    "May242020_df = crisis_1.loc[crisis_1['CallDateAndTimeStart'].str.contains(r'(2020-05-24)')]\n",
    "May252020_df = crisis_1.loc[crisis_1['CallDateAndTimeStart'].str.contains(r'(2020-05-25)')]\n",
    "May262020_df = crisis_1.loc[crisis_1['CallDateAndTimeStart'].str.contains(r'(2020-05-26)')]"
   ]
  },
  {
   "cell_type": "code",
   "execution_count": null,
   "id": "853b1456",
   "metadata": {},
   "outputs": [],
   "source": [
    "May242020_df.shape"
   ]
  },
  {
   "cell_type": "code",
   "execution_count": null,
   "id": "010bcd2b",
   "metadata": {},
   "outputs": [],
   "source": [
    "May242020_df.CallLength.mean()"
   ]
  },
  {
   "cell_type": "code",
   "execution_count": null,
   "id": "014b6825",
   "metadata": {},
   "outputs": [],
   "source": [
    "May252020_df.shape"
   ]
  },
  {
   "cell_type": "code",
   "execution_count": null,
   "id": "e435b8c0",
   "metadata": {},
   "outputs": [],
   "source": [
    "May252020_df.CallLength.mean()"
   ]
  },
  {
   "cell_type": "code",
   "execution_count": null,
   "id": "37af528a",
   "metadata": {},
   "outputs": [],
   "source": [
    "May262020_df.shape"
   ]
  },
  {
   "cell_type": "code",
   "execution_count": null,
   "id": "9ec54192",
   "metadata": {},
   "outputs": [],
   "source": [
    "May262020_df.CallLength.mean()"
   ]
  },
  {
   "cell_type": "markdown",
   "id": "055c5846",
   "metadata": {},
   "source": [
    "Both number of calls increased from May 24th-26 2020.\n",
    "Call lentgth was highest on the 26th.\n",
    "Call length was much higher on the 26th compared to the 25th."
   ]
  },
  {
   "cell_type": "markdown",
   "id": "8a290fa6",
   "metadata": {},
   "source": [
    "Let's look at the days around November 3rd 2020."
   ]
  },
  {
   "cell_type": "code",
   "execution_count": null,
   "id": "15e35302",
   "metadata": {},
   "outputs": [],
   "source": [
    "Nov22020_df = crisis_1.loc[crisis_1['CallDateAndTimeStart'].str.contains(r'(2020-11-02)')]\n",
    "Nov32020_df = crisis_1.loc[crisis_1['CallDateAndTimeStart'].str.contains(r'(2020-11-03)')]\n",
    "Nov42020_df = crisis_1.loc[crisis_1['CallDateAndTimeStart'].str.contains(r'(2020-11-04)')]"
   ]
  },
  {
   "cell_type": "code",
   "execution_count": null,
   "id": "1d35b1c1",
   "metadata": {},
   "outputs": [],
   "source": [
    "Nov22020_df.shape"
   ]
  },
  {
   "cell_type": "code",
   "execution_count": null,
   "id": "98fc6cd8",
   "metadata": {},
   "outputs": [],
   "source": [
    "Nov22020_df.CallLength.mean()"
   ]
  },
  {
   "cell_type": "code",
   "execution_count": null,
   "id": "91c98849",
   "metadata": {},
   "outputs": [],
   "source": [
    "Nov32020_df.shape"
   ]
  },
  {
   "cell_type": "code",
   "execution_count": null,
   "id": "4162fcda",
   "metadata": {},
   "outputs": [],
   "source": [
    "Nov32020_df.CallLength.mean()"
   ]
  },
  {
   "cell_type": "code",
   "execution_count": null,
   "id": "d1e22b7b",
   "metadata": {},
   "outputs": [],
   "source": [
    "Nov42020_df.shape"
   ]
  },
  {
   "cell_type": "code",
   "execution_count": null,
   "id": "04debad3",
   "metadata": {},
   "outputs": [],
   "source": [
    "Nov42020_df.CallLength.mean()"
   ]
  },
  {
   "cell_type": "markdown",
   "id": "dde0c608",
   "metadata": {},
   "source": [
    "Number of calls was the same the day before and after Nov 3rd. Length of calls was highest on the 4th"
   ]
  },
  {
   "cell_type": "code",
   "execution_count": null,
   "id": "f7815f73",
   "metadata": {},
   "outputs": [],
   "source": []
  }
 ],
 "metadata": {
  "kernelspec": {
   "display_name": "Python 3 (ipykernel)",
   "language": "python",
   "name": "python3"
  },
  "language_info": {
   "codemirror_mode": {
    "name": "ipython",
    "version": 3
   },
   "file_extension": ".py",
   "mimetype": "text/x-python",
   "name": "python",
   "nbconvert_exporter": "python",
   "pygments_lexer": "ipython3",
   "version": "3.9.7"
  }
 },
 "nbformat": 4,
 "nbformat_minor": 5
}
