{
 "cells": [
  {
   "cell_type": "code",
   "execution_count": null,
   "id": "1ec027ba",
   "metadata": {
    "scrolled": false
   },
   "outputs": [],
   "source": [
    "import pandas as pd\n",
    "import matplotlib.pyplot as plt\n",
    "import numpy as np\n",
    "import seaborn as sns\n",
    "\n",
    "\n",
    "%matplotlib inline"
   ]
  },
  {
   "cell_type": "code",
   "execution_count": null,
   "id": "59a644c8",
   "metadata": {
    "scrolled": false
   },
   "outputs": [],
   "source": [
    "pd.set_option('display.max_rows', None)\n",
    "pd.set_option('display.max_columns', None)\n",
    "pd.set_option('display.width', None)"
   ]
  },
  {
   "cell_type": "code",
   "execution_count": null,
   "id": "136d8785",
   "metadata": {
    "scrolled": false
   },
   "outputs": [],
   "source": [
    "crisis1 = pd.read_excel('../data/crisis1.xlsx', skiprows = 2)"
   ]
  },
  {
   "cell_type": "code",
   "execution_count": null,
   "id": "e691fc4b",
   "metadata": {
    "scrolled": true
   },
   "outputs": [],
   "source": [
    "print(crisis1.head())"
   ]
  },
  {
   "cell_type": "code",
   "execution_count": null,
   "id": "eb13b229",
   "metadata": {
    "scrolled": false
   },
   "outputs": [],
   "source": [
    "crisis2 = pd.read_excel('../data/crisis2.xlsx', skiprows = 2)"
   ]
  },
  {
   "cell_type": "code",
   "execution_count": null,
   "id": "1b6fdd86",
   "metadata": {
    "scrolled": true
   },
   "outputs": [],
   "source": [
    "print(crisis2.head())"
   ]
  },
  {
   "cell_type": "code",
   "execution_count": null,
   "id": "ab0aa232",
   "metadata": {
    "scrolled": true
   },
   "outputs": [],
   "source": [
    "crisis1.tail()"
   ]
  },
  {
   "cell_type": "code",
   "execution_count": null,
   "id": "0155bf94",
   "metadata": {
    "scrolled": true
   },
   "outputs": [],
   "source": [
    "crisis2.tail()"
   ]
  },
  {
   "cell_type": "code",
   "execution_count": null,
   "id": "0da90244",
   "metadata": {
    "scrolled": true
   },
   "outputs": [],
   "source": [
    "crisis1.dropna(axis=1, how='all', inplace=True)\n",
    "crisis1.head()"
   ]
  },
  {
   "cell_type": "code",
   "execution_count": null,
   "id": "e418f959",
   "metadata": {
    "scrolled": true
   },
   "outputs": [],
   "source": [
    "crisis2.dropna(axis=1, how='all', inplace=True)\n",
    "crisis2.head()"
   ]
  },
  {
   "cell_type": "code",
   "execution_count": null,
   "id": "72a6dfcd",
   "metadata": {
    "scrolled": true
   },
   "outputs": [],
   "source": [
    "crisis1.info()"
   ]
  },
  {
   "cell_type": "code",
   "execution_count": null,
   "id": "4ff8b34b",
   "metadata": {
    "scrolled": true
   },
   "outputs": [],
   "source": [
    "crisis2.info()"
   ]
  },
  {
   "cell_type": "code",
   "execution_count": null,
   "id": "57d938b8",
   "metadata": {
    "scrolled": true
   },
   "outputs": [],
   "source": [
    "print(crisis1.dtypes)"
   ]
  },
  {
   "cell_type": "code",
   "execution_count": null,
   "id": "4af92cff",
   "metadata": {
    "scrolled": true
   },
   "outputs": [],
   "source": [
    "print(crisis2.dtypes)"
   ]
  },
  {
   "cell_type": "code",
   "execution_count": null,
   "id": "0a4247fc",
   "metadata": {},
   "outputs": [],
   "source": [
    "#I think the best way to read the call volume xlsx is to make individual DataFrames for each section of each tab\n",
    "#example: 2020_stats as A11:B20, 2020_queue_dist as A24:I36, etc.\n",
    "#this will require quite a bit of pd.read_excel kwargs but I think it will be worth it (and maybe necessary)"
   ]
  },
  {
   "cell_type": "code",
   "execution_count": null,
   "id": "85d79553",
   "metadata": {},
   "outputs": [],
   "source": [
    "stats_2020 = pd.read_excel('../data/call_volume.xlsx', sheet_name='2020', skiprows=10, nrows=9, usecols='A:B')\n",
    "stats_2020"
   ]
  },
  {
   "cell_type": "code",
   "execution_count": null,
   "id": "61c8106a",
   "metadata": {
    "scrolled": true
   },
   "outputs": [],
   "source": [
    "stats_2020.rename(inplace=True, columns={'Total Calls':'Category', 'Unnamed: 1':'Total'})\n",
    "#stats_2020['Total'].sub(' calls', '') this didn't work the way I wanted it to, commenting it out until I figure out how to fix it\n",
    "stats_2020"
   ]
  },
  {
   "cell_type": "code",
   "execution_count": null,
   "id": "cd8399b8",
   "metadata": {},
   "outputs": [],
   "source": [
    "queue_dist_2020 = pd.read_excel('../data/call_volume.xlsx', sheet_name='2020', skiprows=23, nrows=12, usecols='A:I')\n",
    "queue_dist_2020"
   ]
  },
  {
   "cell_type": "code",
   "execution_count": null,
   "id": "e198ef50",
   "metadata": {},
   "outputs": [],
   "source": [
    "month_dist_2020 = pd.read_excel('../data/call_volume.xlsx', sheet_name='2020', skiprows=39, nrows=12, usecols='A:K')\n",
    "month_dist_2020"
   ]
  },
  {
   "cell_type": "code",
   "execution_count": null,
   "id": "eb1e2048",
   "metadata": {
    "scrolled": true
   },
   "outputs": [],
   "source": [
    "day_dist_2020 = pd.read_excel('../data/call_volume.xlsx', sheet_name='2020', skiprows=55, nrows=7, usecols='A:K')\n",
    "day_dist_2020"
   ]
  },
  {
   "cell_type": "code",
   "execution_count": null,
   "id": "2444b9b9",
   "metadata": {},
   "outputs": [],
   "source": [
    "queue_answered_2020 = pd.read_excel('../data/call_volume.xlsx', sheet_name='2020', skiprows=66, nrows=10, usecols='A:C')\n",
    "queue_answered_2020"
   ]
  },
  {
   "cell_type": "code",
   "execution_count": null,
   "id": "fc750c98",
   "metadata": {},
   "outputs": [],
   "source": [
    "service_speed_2020 = pd.read_excel('../data/call_volume.xlsx', sheet_name='2020', skiprows=80, nrows=10, usecols='A:D')\n",
    "service_speed_2020"
   ]
  },
  {
   "cell_type": "code",
   "execution_count": null,
   "id": "fb21ec87",
   "metadata": {
    "scrolled": true
   },
   "outputs": [],
   "source": [
    "abandon_rate_2020 = pd.read_excel('../data/call_volume.xlsx', sheet_name='2020', skiprows=94, nrows=10, usecols='A:D')\n",
    "abandon_rate_2020"
   ]
  },
  {
   "cell_type": "code",
   "execution_count": null,
   "id": "5fd697f8",
   "metadata": {},
   "outputs": [],
   "source": []
  },
  {
   "cell_type": "markdown",
   "id": "5001c3ce",
   "metadata": {},
   "source": [
    "##### 2020:\n",
    "- stats_2020  -- high-level statistics about total number of calls, unanswered/disconnected rates, etc.\n",
    "- queue_dist_2020 -- distribution of calls across all queue services\n",
    "- month_dist_2020 -- distribution of calls by month\n",
    "- day_dist_2020 -- distribution of calls by day of week\n",
    "- queue_answered_2020 -- answered calls across all queue services\n",
    "- service_speed_2020 -- speed of answer in time categories\n",
    "- abandon_rate_2020 -- speed of caller abandoning call in time categories\n",
    "\n",
    "##### 2021:"
   ]
  }
 ],
 "metadata": {
  "kernelspec": {
   "display_name": "Python 3 (ipykernel)",
   "language": "python",
   "name": "python3"
  },
  "language_info": {
   "codemirror_mode": {
    "name": "ipython",
    "version": 3
   },
   "file_extension": ".py",
   "mimetype": "text/x-python",
   "name": "python",
   "nbconvert_exporter": "python",
   "pygments_lexer": "ipython3",
   "version": "3.9.7"
  }
 },
 "nbformat": 4,
 "nbformat_minor": 5
}
