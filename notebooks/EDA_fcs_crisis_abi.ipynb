{
 "cells": [
  {
   "cell_type": "code",
   "execution_count": null,
   "id": "1ec027ba",
   "metadata": {
    "scrolled": false
   },
   "outputs": [],
   "source": [
    "import pandas as pd\n",
    "import matplotlib\n",
    "import matplotlib.pyplot as plt\n",
    "import numpy as np\n",
    "import seaborn as sns\n",
    "import warnings\n",
    "warnings.simplefilter(action='ignore', category=FutureWarning)\n",
    "import re\n",
    "\n",
    "\n",
    "%matplotlib inline"
   ]
  },
  {
   "cell_type": "code",
   "execution_count": null,
   "id": "59a644c8",
   "metadata": {
    "scrolled": false
   },
   "outputs": [],
   "source": [
    "pd.set_option('display.max_rows', None)\n",
    "pd.set_option('display.max_columns', None)\n",
    "pd.set_option('display.width', None)"
   ]
  },
  {
   "cell_type": "markdown",
   "id": "50c8ebbf",
   "metadata": {
    "scrolled": false
   },
   "source": [
    "crisis1 = pd.read_excel('../data/crisis1.xlsx', skiprows = 2)"
   ]
  },
  {
   "cell_type": "markdown",
   "id": "7715ccf8",
   "metadata": {
    "scrolled": true
   },
   "source": [
    "print(crisis1.head())"
   ]
  },
  {
   "cell_type": "markdown",
   "id": "758002dd",
   "metadata": {
    "scrolled": false
   },
   "source": [
    "crisis2 = pd.read_excel('../data/crisis2.xlsx', skiprows = 2)"
   ]
  },
  {
   "cell_type": "markdown",
   "id": "f5bf68e9",
   "metadata": {
    "scrolled": true
   },
   "source": [
    "print(crisis2.head())"
   ]
  },
  {
   "cell_type": "markdown",
   "id": "a08359d4",
   "metadata": {
    "scrolled": true
   },
   "source": [
    "crisis1.tail()"
   ]
  },
  {
   "cell_type": "markdown",
   "id": "f402fe3f",
   "metadata": {
    "scrolled": true
   },
   "source": [
    "crisis2.tail()"
   ]
  },
  {
   "cell_type": "markdown",
   "id": "ca1f6440",
   "metadata": {
    "scrolled": true
   },
   "source": [
    "crisis1.dropna(axis=1, how='all', inplace=True)\n",
    "crisis1.head()"
   ]
  },
  {
   "cell_type": "markdown",
   "id": "494f63a7",
   "metadata": {
    "scrolled": true
   },
   "source": [
    "crisis2.dropna(axis=1, how='all', inplace=True)\n",
    "crisis2.head()"
   ]
  },
  {
   "cell_type": "markdown",
   "id": "734bb871",
   "metadata": {
    "scrolled": true
   },
   "source": [
    "crisis1.info()"
   ]
  },
  {
   "cell_type": "markdown",
   "id": "adccf851",
   "metadata": {
    "scrolled": true
   },
   "source": [
    "crisis2.info()"
   ]
  },
  {
   "cell_type": "markdown",
   "id": "46957f4c",
   "metadata": {
    "scrolled": true
   },
   "source": [
    "print(crisis1.dtypes)"
   ]
  },
  {
   "cell_type": "markdown",
   "id": "ebadbe67",
   "metadata": {
    "scrolled": true
   },
   "source": [
    "print(crisis2.dtypes)"
   ]
  },
  {
   "cell_type": "code",
   "execution_count": null,
   "id": "0a4247fc",
   "metadata": {},
   "outputs": [],
   "source": [
    "#I think the best way to read the call volume xlsx is to make individual DataFrames for each section of each tab\n",
    "#example: 2020_stats as A11:B20, 2020_queue_dist as A24:I36, etc.\n",
    "#this will require quite a bit of pd.read_excel kwargs but I think it will be worth it (and maybe necessary)"
   ]
  },
  {
   "cell_type": "markdown",
   "id": "e8453065",
   "metadata": {},
   "source": [
    "#### 2020 DataFrames"
   ]
  },
  {
   "cell_type": "code",
   "execution_count": null,
   "id": "85d79553",
   "metadata": {},
   "outputs": [],
   "source": [
    "stats_2020 = pd.read_excel('../data/call_volume.xlsx', sheet_name='2020', skiprows=10, nrows=9, usecols='A:B')\n",
    "stats_2020.rename(inplace=True, columns={'Total Calls':'Category', 'Unnamed: 1':'Total'})\n",
    "#stats_2020['Total'].sub(' calls', '') this didn't work the way I wanted it to, commenting it out until I figure out how to fix it\n",
    "stats_2020"
   ]
  },
  {
   "cell_type": "code",
   "execution_count": null,
   "id": "cd8399b8",
   "metadata": {},
   "outputs": [],
   "source": [
    "queue_dist_2020 = pd.read_excel('../data/call_volume.xlsx', sheet_name='2020', skiprows=23, nrows=12, usecols='A:I')\n",
    "queue_dist_2020"
   ]
  },
  {
   "cell_type": "code",
   "execution_count": null,
   "id": "e198ef50",
   "metadata": {},
   "outputs": [],
   "source": [
    "month_dist_2020 = pd.read_excel('../data/call_volume.xlsx', sheet_name='2020', skiprows=39, nrows=12, usecols='A:K')\n",
    "month_dist_2020"
   ]
  },
  {
   "cell_type": "code",
   "execution_count": null,
   "id": "eb1e2048",
   "metadata": {
    "scrolled": true
   },
   "outputs": [],
   "source": [
    "day_dist_2020 = pd.read_excel('../data/call_volume.xlsx', sheet_name='2020', skiprows=55, nrows=7, usecols='A:K')\n",
    "day_dist_2020"
   ]
  },
  {
   "cell_type": "code",
   "execution_count": null,
   "id": "2444b9b9",
   "metadata": {},
   "outputs": [],
   "source": [
    "queue_answered_2020 = pd.read_excel('../data/call_volume.xlsx', sheet_name='2020', skiprows=66, nrows=10, usecols='A:C')\n",
    "queue_answered_2020"
   ]
  },
  {
   "cell_type": "code",
   "execution_count": null,
   "id": "fc750c98",
   "metadata": {},
   "outputs": [],
   "source": [
    "service_speed_2020 = pd.read_excel('../data/call_volume.xlsx', sheet_name='2020', skiprows=80, nrows=10, usecols='A:D')\n",
    "service_speed_2020"
   ]
  },
  {
   "cell_type": "code",
   "execution_count": null,
   "id": "fb21ec87",
   "metadata": {
    "scrolled": false
   },
   "outputs": [],
   "source": [
    "abandon_rate_2020 = pd.read_excel('../data/call_volume.xlsx', sheet_name='2020', skiprows=94, nrows=10, usecols='A:D')\n",
    "abandon_rate_2020"
   ]
  },
  {
   "cell_type": "markdown",
   "id": "b3197a7a",
   "metadata": {},
   "source": [
    "#### 2021 DataFrames"
   ]
  },
  {
   "cell_type": "code",
   "execution_count": null,
   "id": "5fd697f8",
   "metadata": {},
   "outputs": [],
   "source": [
    "stats_2021 = pd.read_excel('../data/call_volume.xlsx', sheet_name='2021', skiprows=10, nrows=9, usecols='A:B')\n",
    "stats_2021.rename(inplace=True, columns={'Total Calls':'Category', 'Unnamed: 1':'Total'})\n",
    "stats_2021"
   ]
  },
  {
   "cell_type": "code",
   "execution_count": null,
   "id": "d0a8ff71",
   "metadata": {
    "scrolled": true
   },
   "outputs": [],
   "source": [
    "queue_dist_2021 = pd.read_excel('../data/call_volume.xlsx', sheet_name='2021', skiprows=23, nrows=11, usecols='A:I')\n",
    "queue_dist_2021"
   ]
  },
  {
   "cell_type": "code",
   "execution_count": null,
   "id": "79eef885",
   "metadata": {},
   "outputs": [],
   "source": [
    "month_dist_2021 = pd.read_excel('../data/call_volume.xlsx', sheet_name='2021', skiprows=38, nrows=12, usecols='A:K')\n",
    "month_dist_2021"
   ]
  },
  {
   "cell_type": "code",
   "execution_count": null,
   "id": "81cae834",
   "metadata": {},
   "outputs": [],
   "source": [
    "hour_dist_2021 = pd.read_excel('../data/call_volume.xlsx', sheet_name='2021', skiprows=54, nrows=24, usecols='A:K')\n",
    "hour_dist_2021"
   ]
  },
  {
   "cell_type": "code",
   "execution_count": null,
   "id": "8ad91de9",
   "metadata": {},
   "outputs": [],
   "source": [
    "day_dist_2021 = pd.read_excel('../data/call_volume.xlsx', sheet_name='2021', skiprows=82, nrows=7, usecols='A:K')\n",
    "day_dist_2021"
   ]
  },
  {
   "cell_type": "code",
   "execution_count": null,
   "id": "40e623e2",
   "metadata": {},
   "outputs": [],
   "source": [
    "service_speed_2021 = pd.read_excel('../data/call_volume.xlsx', sheet_name='2021', skiprows=93, nrows=10, usecols='A:D')\n",
    "service_speed_2021"
   ]
  },
  {
   "cell_type": "code",
   "execution_count": null,
   "id": "4247cdae",
   "metadata": {},
   "outputs": [],
   "source": [
    "abandon_rate_2021 = pd.read_excel('../data/call_volume.xlsx', sheet_name='2021', skiprows=107, nrows=10, usecols='A:D')\n",
    "abandon_rate_2021"
   ]
  },
  {
   "cell_type": "markdown",
   "id": "fdaaf324",
   "metadata": {},
   "source": [
    "#### 2022 DataFrames"
   ]
  },
  {
   "cell_type": "code",
   "execution_count": null,
   "id": "24280ee5",
   "metadata": {},
   "outputs": [],
   "source": [
    "stats_2022 = pd.read_excel('../data/call_volume.xlsx', sheet_name='2022', skiprows=7, nrows=9, usecols='A:B')\n",
    "stats_2022.rename(inplace=True, columns={'Total Calls':'Category', 'Unnamed: 1':'Total'})\n",
    "stats_2022"
   ]
  },
  {
   "cell_type": "code",
   "execution_count": null,
   "id": "96a06890",
   "metadata": {},
   "outputs": [],
   "source": [
    "queue_dist_2022 = pd.read_excel('../data/call_volume.xlsx', sheet_name='2022', skiprows=18, nrows=10, usecols='A:I')\n",
    "queue_dist_2022"
   ]
  },
  {
   "cell_type": "code",
   "execution_count": null,
   "id": "42fbfe8f",
   "metadata": {},
   "outputs": [],
   "source": [
    "month_dist_2022 = pd.read_excel('../data/call_volume.xlsx', sheet_name='2022', skiprows=32, nrows=4, usecols='A:K')\n",
    "month_dist_2022"
   ]
  },
  {
   "cell_type": "code",
   "execution_count": null,
   "id": "9aba1c5e",
   "metadata": {},
   "outputs": [],
   "source": [
    "hour_dist_2022 = pd.read_excel('../data/call_volume.xlsx', sheet_name='2022', skiprows=40, nrows=24, usecols='A:K')\n",
    "hour_dist_2022"
   ]
  },
  {
   "cell_type": "code",
   "execution_count": null,
   "id": "ec13957e",
   "metadata": {},
   "outputs": [],
   "source": [
    "day_dist_2022 = pd.read_excel('../data/call_volume.xlsx', sheet_name='2022', skiprows=68, nrows=7, usecols='A:K')\n",
    "day_dist_2022"
   ]
  },
  {
   "cell_type": "code",
   "execution_count": null,
   "id": "cacaa946",
   "metadata": {},
   "outputs": [],
   "source": [
    "service_speed_2022 = pd.read_excel('../data/call_volume.xlsx', sheet_name='2022', skiprows=80, nrows=10, usecols='A:D')\n",
    "service_speed_2022"
   ]
  },
  {
   "cell_type": "code",
   "execution_count": null,
   "id": "9a556ede",
   "metadata": {},
   "outputs": [],
   "source": [
    "abandon_rate_2022 = pd.read_excel('../data/call_volume.xlsx', sheet_name='2022', skiprows=94, nrows=10, usecols='A:D')\n",
    "abandon_rate_2022"
   ]
  },
  {
   "cell_type": "markdown",
   "id": "5001c3ce",
   "metadata": {},
   "source": [
    "### DataFrame Cheat Sheet\n",
    "##### 2020:\n",
    "- stats_2020  -- high-level statistics about total number of calls, unanswered/disconnected rates, etc.\n",
    "- queue_dist_2020 -- distribution of calls across all queue services\n",
    "- month_dist_2020 -- distribution of calls by month\n",
    "- day_dist_2020 -- distribution of calls by day of week\n",
    "- queue_answered_2020 -- answered calls across all queue services\n",
    "- service_speed_2020 -- speed of answer in time categories\n",
    "- abandon_rate_2020 -- speed of caller abandoning call in time categories\n",
    "\n",
    "##### 2021:\n",
    "- stats_2021  -- high-level statistics about total number of calls, unanswered/disconnected rates, etc.\n",
    "- queue_dist_2021 -- distribution of calls across all queue services\n",
    "- month_dist_2021 -- distribution of calls by month\n",
    "- hour_dist_2021 -- distribution of calls by hour\n",
    "- day_dist_2021 -- distribution of calls by day of week\n",
    "- service_speed_2021 -- speed of answer in time categories\n",
    "- abandon_rate_2021 -- speed of caller abandoning call in time categories\n",
    "\n",
    "##### 2022:\n",
    "- stats_2022  -- high-level statistics about total number of calls, unanswered/disconnected rates, etc.\n",
    "- queue_dist_2022 -- distribution of calls across all queue services\n",
    "- month_dist_2022 -- distribution of calls by month\n",
    "- hour_dist_2022 -- distribution of calls by hour\n",
    "- day_dist_2022 -- distribution of calls by day of week\n",
    "- service_speed_2022 -- speed of answer in time categories\n",
    "- abandon_rate_2022 -- speed of caller abandoning call in time categories\n",
    "\n",
    "##### 3-way mutual DFs (with caveats) and other notes to look for\n",
    "- **general note: 2022 is only through April, so we need to be sure to normalize everything to 1 and compare percentage distribution not count distribution**\n",
    "- stats_(year)\n",
    "- queue_dist_(year)   __   *not every queue was open every year, this is an apples to pears situation*\n",
    "- month_dist_(year)   __   *2022 only has 4 months in this DF*\n",
    "- day_dist_(year)\n",
    "- service_speed_(year)\n",
    "- abandon_rate_(year)   __   *this isn't a caveat, just a note to say I'm not clear on who does the abandoning and we may want to confirm with Teachers / Katherine unless I'm being dumb and a groupmember can clear this up for me*\n",
    "\n",
    "##### singletons\n",
    "- queue_answered_2020   __   *I'll check this myself, but what's in this DF that isn't in the queue_dist one?*\n",
    "- hour_dist_2021 and hour_dist_2022   __   *hour data not included in 2020*"
   ]
  },
  {
   "cell_type": "markdown",
   "id": "9c7c368c",
   "metadata": {},
   "source": [
    "color codes\n",
    "b: blue\n",
    "g: green\n",
    "r: red\n",
    "c: cyan\n",
    "m: magenta\n",
    "y: yellow\n",
    "k: black\n",
    "w: white"
   ]
  },
  {
   "cell_type": "markdown",
   "id": "fd143e75",
   "metadata": {},
   "source": [
    "#day_dist_2020.hist(column='Received', by='Day') -- wanted a histogram but I think I need to just do a bar plot\n",
    "plt.figure(figsize=(15,10))\n",
    "plt.bar(day_dist_2020['Day'], day_dist_2020['Received'])\n",
    "plt.title('Received Calls by Day of Week - 2020')\n",
    "plt.ylabel('Call Count')\n",
    "plt.xticks(rotation=50)\n",
    "plt.show()"
   ]
  },
  {
   "cell_type": "markdown",
   "id": "d421370f",
   "metadata": {},
   "source": [
    "plt.figure(figsize=(15,10))\n",
    "plt.bar(day_dist_2021['Day'], day_dist_2021['Received'], color='m')\n",
    "plt.title('Received Calls by Day of Week - 2021')\n",
    "plt.ylabel('Call Count')\n",
    "plt.xticks(rotation=50)\n",
    "plt.show()"
   ]
  },
  {
   "cell_type": "markdown",
   "id": "00e27d68",
   "metadata": {},
   "source": [
    "plt.figure(figsize=(15,10))\n",
    "plt.bar(day_dist_2022['Day'], day_dist_2022['Received'], color='g')\n",
    "plt.title('Received Calls by Day of Week - 2022')\n",
    "plt.ylabel('Call Count')\n",
    "plt.xticks(rotation=50)\n",
    "plt.show()"
   ]
  },
  {
   "cell_type": "markdown",
   "id": "a0541700",
   "metadata": {},
   "source": [
    "#this is an attempt at a clustered bar chart to have the same distribution between weekdays for each year, rather than 3 charts\n",
    "#I know in advance that, even if it works, this will have issues, because it isn't normalized to % of call volume\n",
    "#I am working with counts for now, but the 2022 data only has 4 months worth of calls, so it should be skewed downward\n",
    "x = day_dist_2020['Day']\n",
    "y1 = day_dist_2020['Received']\n",
    "y2 = day_dist_2021['Received']\n",
    "y3 = day_dist_2022['Received']\n",
    "width = 0.2\n",
    "plt.bar(x-0.2, y1, width, color='c')\n",
    "plt.bar(x, y2, width, color='m')\n",
    "plt.bar(x+0.2, y3, width, color='y')\n",
    "#this didn't work because the x axis and offset attempt doesn't work on strings (ex, 'Sunday' rather than 1)\n",
    "#leaving for reference"
   ]
  },
  {
   "cell_type": "markdown",
   "id": "3a88298e",
   "metadata": {},
   "source": [
    "#attempt 2\n",
    "y1 = day_dist_2020['Received']\n",
    "y2 = day_dist_2021['Received']\n",
    "y3 = day_dist_2022['Received']\n",
    "width = 0.2\n",
    "plt.bar(day_dist_2020['Day'], y1, width, color='c')\n",
    "plt.bar(day_dist_2021['Day'], y2, width, color='m')\n",
    "plt.bar(day_dist_2022['Day'], y3, width, color='y')\n",
    "#this sort of worked, but also definitely didn't work. keeping for reference again. Maybe I need to merge the DFs...\n",
    "#also with fresh eyes next class, this doesn't do what I wanted it to, literally at all. I must have been tired when I thought it worked"
   ]
  },
  {
   "cell_type": "code",
   "execution_count": null,
   "id": "31471cca",
   "metadata": {},
   "outputs": [],
   "source": [
    "day_dist1 = pd.merge(day_dist_2020, day_dist_2021, on='Day', how='inner')\n",
    "day_dist1"
   ]
  },
  {
   "cell_type": "code",
   "execution_count": null,
   "id": "d1576067",
   "metadata": {},
   "outputs": [],
   "source": [
    "day_dist = pd.merge(day_dist1, day_dist_2022, on='Day', how='inner')\n",
    "day_dist\n",
    "#alright, need to change the column names"
   ]
  },
  {
   "cell_type": "code",
   "execution_count": null,
   "id": "8de0eb88",
   "metadata": {},
   "outputs": [],
   "source": [
    "#this... mostly worked, but the columns came out in the wrong order... \n",
    "day_dist.rename(columns= {'Received_x':'2020 Received', 'Answered_x':'2020 Answered', 'Unanswered_x':'2020 Unanswered', 'Transfers_x':'2020 Transferred', '% Answ_x':'2020 % Answered', '% Unansw_x':'2020 % Unanswered', 'Avg Durat._x':'2020 Avg Duration', 'Avg Wait_x':'2020 Avg Wait', 'Logins_x':'2020 Logins', 'Logoff_x':'2020 Logoffs', 'Received_x':'2021 Received', 'Answered_x':'2021 Answered', 'Unanswered_x':'2021 Unanswered', 'Transfers_x':'2021 Transferred', '% Answ_x':'2021 % Answered', '% Unansw_x':'2021 % Unanswered', 'Avg Durat._x':'2021 Avg Duration', 'Avg Wait_x':'2021 Avg Wait', 'Logins_x':'2021 Logins', 'Logoff_x':'2021 Logoffs', 'Received_x':'2022 Received', 'Answered_x':'2022 Answered', 'Unanswered_x':'2022 Unanswered', 'Transfers_x':'2022 Transferred', '% Answ_x':'2022 % Answered', '% Unansw_x':'2022 % Unanswered', 'Avg Durat._x':'2022 Avg Duration', 'Avg Wait_x':'2022 Avg Wait', 'Logins_x':'2022 Logins', 'Logoff_x':'2022 Logoffs'}, inplace=True)\n",
    "day_dist"
   ]
  },
  {
   "cell_type": "markdown",
   "id": "e4e54e85",
   "metadata": {},
   "source": [
    "#### putting a pin in the above efforts for now, will circle back."
   ]
  },
  {
   "cell_type": "code",
   "execution_count": null,
   "id": "4cab00f7",
   "metadata": {},
   "outputs": [],
   "source": [
    "#new plan: subset the dataframes to only be columns I want, and then merge them.\n",
    "days_20 = day_dist_2020[['Day', 'Received']]\n",
    "days_20"
   ]
  },
  {
   "cell_type": "code",
   "execution_count": null,
   "id": "13ebb11f",
   "metadata": {},
   "outputs": [],
   "source": [
    "days_20.rename(columns= {'Day':'Day', 'Received':'2020 Received'}, inplace=True)\n",
    "days_20"
   ]
  },
  {
   "cell_type": "code",
   "execution_count": null,
   "id": "8dcedd8b",
   "metadata": {
    "scrolled": true
   },
   "outputs": [],
   "source": [
    "days_21 = day_dist_2021[['Day','Received']]\n",
    "days_21.rename(columns= {'Day':'Day', 'Received':'2021 Received'}, inplace=True)\n",
    "days_21"
   ]
  },
  {
   "cell_type": "code",
   "execution_count": null,
   "id": "44058f90",
   "metadata": {},
   "outputs": [],
   "source": [
    "days_22 = day_dist_2022[['Day','Received']]\n",
    "days_22.rename(columns= {'Day':'Day', 'Received':'2022 Received'}, inplace=True)\n",
    "days_22"
   ]
  },
  {
   "cell_type": "code",
   "execution_count": null,
   "id": "077a7b28",
   "metadata": {},
   "outputs": [],
   "source": [
    "days_20['2020 %'] = (days_20['2020 Received'] / days_20['2020 Received'].sum()) * 100\n",
    "days_20"
   ]
  },
  {
   "cell_type": "code",
   "execution_count": null,
   "id": "b495627e",
   "metadata": {},
   "outputs": [],
   "source": [
    "days_20.info()"
   ]
  },
  {
   "cell_type": "code",
   "execution_count": null,
   "id": "12384227",
   "metadata": {},
   "outputs": [],
   "source": [
    "days_21['2021 %'] = (days_21['2021 Received'] / days_21['2021 Received'].sum()) * 100\n",
    "days_21"
   ]
  },
  {
   "cell_type": "code",
   "execution_count": null,
   "id": "e5aa03b9",
   "metadata": {},
   "outputs": [],
   "source": [
    "days_22['2022 %'] = (days_22['2022 Received'] / days_22['2022 Received'].sum()) * 100\n",
    "days_22"
   ]
  },
  {
   "cell_type": "code",
   "execution_count": null,
   "id": "0c04e5a6",
   "metadata": {
    "scrolled": true
   },
   "outputs": [],
   "source": [
    "norm_day_dist = pd.merge(days_20, days_21, on='Day', how='inner')\n",
    "norm_day_dist"
   ]
  },
  {
   "cell_type": "code",
   "execution_count": null,
   "id": "e738f1c5",
   "metadata": {},
   "outputs": [],
   "source": [
    "norm_day_dist = pd.merge(norm_day_dist, days_22, on='Day', how='inner')\n",
    "norm_day_dist"
   ]
  },
  {
   "cell_type": "markdown",
   "id": "cd8b53e3",
   "metadata": {},
   "source": [
    "# THIS ONE WORKED!!!!\n",
    "#### except the figsize... but that's okay for now!"
   ]
  },
  {
   "cell_type": "code",
   "execution_count": null,
   "id": "8198e4a7",
   "metadata": {},
   "outputs": [],
   "source": [
    "#plt.figure(figsize=(20,20)) #not working\n",
    "font = {'family' : 'normal',\n",
    "       'weight' : 'bold',\n",
    "       'size' : 22}\n",
    "matplotlib.rc('font', **font)\n",
    "norm_day_dist.plot(x='Day', y=['2020 %', '2021 %', '2022 %'], kind='bar')\n",
    "plt.title('Call Distribution by Day of Week')\n",
    "plt.ylabel('Percentage of Calls')\n",
    "plt.xlabel('')\n",
    "plt.xticks(rotation=60)\n",
    "#plt.legend('upper right') #this moved the legend but also changed the text... gotta revisit\n",
    "plt.gcf().set_size_inches(15, 10)   #I don't know why plt.figure is so finicky but this worked\n",
    "plt.show()\n",
    "#I'd like to change the colors and maybe mess with the font sizes more... we shall see"
   ]
  },
  {
   "cell_type": "code",
   "execution_count": null,
   "id": "33e74649",
   "metadata": {},
   "outputs": [],
   "source": []
  },
  {
   "cell_type": "code",
   "execution_count": null,
   "id": "0074c70c",
   "metadata": {},
   "outputs": [],
   "source": []
  },
  {
   "cell_type": "code",
   "execution_count": null,
   "id": "1fb69259",
   "metadata": {},
   "outputs": [],
   "source": []
  },
  {
   "cell_type": "code",
   "execution_count": null,
   "id": "c6ace98a",
   "metadata": {},
   "outputs": [],
   "source": []
  }
 ],
 "metadata": {
  "kernelspec": {
   "display_name": "Python 3 (ipykernel)",
   "language": "python",
   "name": "python3"
  },
  "language_info": {
   "codemirror_mode": {
    "name": "ipython",
    "version": 3
   },
   "file_extension": ".py",
   "mimetype": "text/x-python",
   "name": "python",
   "nbconvert_exporter": "python",
   "pygments_lexer": "ipython3",
   "version": "3.9.7"
  }
 },
 "nbformat": 4,
 "nbformat_minor": 5
}
