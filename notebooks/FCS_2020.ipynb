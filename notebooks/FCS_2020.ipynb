{
 "cells": [
  {
   "cell_type": "markdown",
   "id": "a0c5780c",
   "metadata": {},
   "source": [
    "Data is based off Kate's code"
   ]
  },
  {
   "cell_type": "code",
   "execution_count": null,
   "id": "abbc3ac9",
   "metadata": {},
   "outputs": [],
   "source": [
    "import pandas as pd\n",
    "import re \n",
    "import numpy as np\n",
    "import matplotlib.pyplot as plt\n",
    "import seaborn as sns\n",
    "import fnmatch\n",
    "from datetime import datetime\n",
    "import calendar\n",
    "\n",
    "%matplotlib inline"
   ]
  },
  {
   "cell_type": "code",
   "execution_count": null,
   "id": "9dbb5e4d",
   "metadata": {},
   "outputs": [],
   "source": [
    "crisis_1 = pd.read_excel(\"../data/NSSCrisis1.xlsx\",skiprows = 2)\n",
    "crisis_1"
   ]
  },
  {
   "cell_type": "code",
   "execution_count": null,
   "id": "ea8e60f4",
   "metadata": {},
   "outputs": [],
   "source": [
    "crisis_1_dates = crisis_1[['CallDateAndTimeStart']]\n",
    "crisis_1_dates = crisis_1_dates.rename(columns = {'CallDateAndTimeStart': 'Call_Date'})\n",
    "crisis_1_dates"
   ]
  },
  {
   "cell_type": "code",
   "execution_count": null,
   "id": "7215c35b",
   "metadata": {},
   "outputs": [],
   "source": [
    "crisis_1_dates['year'] = pd.DatetimeIndex(crisis_1_dates['Call_Date']).year\n",
    "crisis_1_dates['month'] = pd.DatetimeIndex(crisis_1_dates['Call_Date']).month\n",
    "crisis_1_dates['day'] = pd.DatetimeIndex(crisis_1_dates['Call_Date']).day\n",
    "crisis_1_dates"
   ]
  },
  {
   "cell_type": "markdown",
   "id": "0511e2b1",
   "metadata": {},
   "source": [
    "Focus on 2020"
   ]
  },
  {
   "cell_type": "code",
   "execution_count": null,
   "id": "079354f5",
   "metadata": {},
   "outputs": [],
   "source": [
    "calls_2020 = crisis_1_dates[crisis_1_dates['year'] == 2020]\n",
    "calls_2020"
   ]
  },
  {
   "cell_type": "markdown",
   "id": "17b63dcd",
   "metadata": {},
   "source": [
    "Jan 2020.\n",
    "Total for month = 1430 calls.\n",
    "Total for each weekday below\n",
    "Total for each day below"
   ]
  },
  {
   "cell_type": "code",
   "execution_count": null,
   "id": "9fa091d1",
   "metadata": {},
   "outputs": [],
   "source": [
    "calls_2020_jan = calls_2020[calls_2020['month'] == 1]\n",
    "calls_2020_jan['weekday'] = calls_2020_jan['Call_Date'].dt.day_name()\n",
    "calls_2020_jan"
   ]
  },
  {
   "cell_type": "code",
   "execution_count": null,
   "id": "ccaad931",
   "metadata": {},
   "outputs": [],
   "source": [
    "calls_2020_jan_weekday = calls_2020_jan.groupby('weekday').count()\n",
    "calls_2020_jan_weekday = calls_2020_jan_weekday.drop(columns = ['year', 'month', 'day'])\n",
    "calls_2020_jan_weekday = calls_2020_jan_weekday.rename(columns = {'Call_Date' : 'total_per_weekday'})\n",
    "calls_2020_jan_weekday"
   ]
  },
  {
   "cell_type": "code",
   "execution_count": null,
   "id": "7b10b040",
   "metadata": {
    "scrolled": true
   },
   "outputs": [],
   "source": [
    "calls_2020_jan_days = calls_2020_jan.groupby('day').count()\n",
    "calls_2020_jan_days = calls_2020_jan_days.drop(columns = ['year', 'month', 'weekday'])\n",
    "calls_2020_jan_days = calls_2020_jan_days.rename(columns = {'Call_Date' : 'total_per_day'})\n",
    "calls_2020_jan_days"
   ]
  },
  {
   "cell_type": "code",
   "execution_count": null,
   "id": "9bb112fc",
   "metadata": {
    "scrolled": false
   },
   "outputs": [],
   "source": [
    "calls_2020_jan_days.total_per_day.nlargest(5)"
   ]
  },
  {
   "cell_type": "markdown",
   "id": "9d91ab07",
   "metadata": {},
   "source": [
    "Significance of Date: White House Coronavirus Task Force was established on January 29th 2020"
   ]
  },
  {
   "cell_type": "code",
   "execution_count": null,
   "id": "b808c1b3",
   "metadata": {},
   "outputs": [],
   "source": [
    "calls_2020_jan_days.total_per_day.mean()"
   ]
  },
  {
   "cell_type": "markdown",
   "id": "d91cf025",
   "metadata": {},
   "source": [
    " Feb 2020.   Total for month = 1418 calls"
   ]
  },
  {
   "cell_type": "code",
   "execution_count": null,
   "id": "ea56f73e",
   "metadata": {},
   "outputs": [],
   "source": [
    "calls_2020_feb = calls_2020[calls_2020['month'] == 2]\n",
    "calls_2020_feb['weekday'] = calls_2020_feb['Call_Date'].dt.day_name()\n",
    "calls_2020_feb"
   ]
  },
  {
   "cell_type": "code",
   "execution_count": null,
   "id": "b5b5c1cd",
   "metadata": {},
   "outputs": [],
   "source": [
    "calls_2020_feb_weekday = calls_2020_feb.groupby('weekday').count()\n",
    "calls_2020_feb_weekday = calls_2020_feb_weekday.drop(columns = ['year', 'month', 'day'])\n",
    "calls_2020_feb_weekday = calls_2020_feb_weekday.rename(columns = {'Call_Date' : 'total_per_weekday'})\n",
    "calls_2020_feb_weekday"
   ]
  },
  {
   "cell_type": "code",
   "execution_count": null,
   "id": "84cf90b2",
   "metadata": {
    "scrolled": true
   },
   "outputs": [],
   "source": [
    "calls_2020_feb_days = calls_2020_feb.groupby('day').count()\n",
    "calls_2020_feb_days = calls_2020_feb_days.drop(columns = ['year', 'month', 'weekday'])\n",
    "calls_2020_feb_days = calls_2020_feb_days.rename(columns = {'Call_Date' : 'total_per_day'})\n",
    "calls_2020_feb_days"
   ]
  },
  {
   "cell_type": "code",
   "execution_count": null,
   "id": "f0b50e58",
   "metadata": {},
   "outputs": [],
   "source": [
    "calls_2020_feb_days.total_per_day.nlargest(5)"
   ]
  },
  {
   "cell_type": "code",
   "execution_count": null,
   "id": "4b11a1a0",
   "metadata": {},
   "outputs": [],
   "source": [
    "calls_2020_feb_days.total_per_day.mean()"
   ]
  },
  {
   "cell_type": "markdown",
   "id": "fc891aee",
   "metadata": {},
   "source": [
    "March 2020  Total for the month = 1820 calls"
   ]
  },
  {
   "cell_type": "code",
   "execution_count": null,
   "id": "41002149",
   "metadata": {},
   "outputs": [],
   "source": [
    "calls_2020_mar = calls_2020[calls_2020['month'] == 3]\n",
    "calls_2020_mar['weekday'] = calls_2020_mar['Call_Date'].dt.day_name()\n",
    "calls_2020_mar"
   ]
  },
  {
   "cell_type": "code",
   "execution_count": null,
   "id": "cec23f9f",
   "metadata": {},
   "outputs": [],
   "source": [
    "calls_2020_mar_weekday = calls_2020_mar.groupby('weekday').count()\n",
    "calls_2020_mar_weekday = calls_2020_mar_weekday.drop(columns = ['year', 'month', 'day'])\n",
    "calls_2020_mar_weekday = calls_2020_mar_weekday.rename(columns = {'Call_Date' : 'total_per_weekday'})\n",
    "calls_2020_mar_weekday"
   ]
  },
  {
   "cell_type": "code",
   "execution_count": null,
   "id": "d9f7b840",
   "metadata": {
    "scrolled": false
   },
   "outputs": [],
   "source": [
    "calls_2020_mar_days = calls_2020_mar.groupby('day').count()\n",
    "calls_2020_mar_days = calls_2020_mar_days.drop(columns = ['year', 'month', 'weekday'])\n",
    "calls_2020_mar_days = calls_2020_mar_days.rename(columns = {'Call_Date' : 'total_per_day'})\n",
    "calls_2020_mar_days"
   ]
  },
  {
   "cell_type": "code",
   "execution_count": null,
   "id": "0d617337",
   "metadata": {},
   "outputs": [],
   "source": [
    "calls_2020_mar_days.total_per_day.nlargest(5)"
   ]
  },
  {
   "cell_type": "code",
   "execution_count": null,
   "id": "0b921679",
   "metadata": {},
   "outputs": [],
   "source": [
    "calls_2020_mar_days.total_per_day.mean()"
   ]
  },
  {
   "cell_type": "code",
   "execution_count": null,
   "id": "f76469e9",
   "metadata": {},
   "outputs": [],
   "source": [
    "calls_2020_mar_days = calls_2020_mar_days.reset_index()"
   ]
  },
  {
   "cell_type": "code",
   "execution_count": null,
   "id": "1b6da756",
   "metadata": {},
   "outputs": [],
   "source": [
    "calls_2020_mar_days"
   ]
  },
  {
   "cell_type": "code",
   "execution_count": null,
   "id": "6c783991",
   "metadata": {
    "scrolled": true
   },
   "outputs": [],
   "source": [
    "plt.plot(calls_2020_mar_days.day,calls_2020_mar_days.total_per_day)\n",
    "plt.xlabel(\"Day\") \n",
    "plt.ylabel(\"Count\")  \n",
    "plt.title(\"Count of Calls in March 2020\") \n",
    "plt.cmap = \"viridis\"\n",
    "plt.show()"
   ]
  },
  {
   "cell_type": "code",
   "execution_count": null,
   "id": "5463e1e2",
   "metadata": {
    "scrolled": true
   },
   "outputs": [],
   "source": [
    "sns.lineplot (x='day', y=\"total_per_day\", palette = \"viridis\", data=calls_2020_mar_days).set(title='Count of Calls in March 2020')\n"
   ]
  },
  {
   "cell_type": "code",
   "execution_count": null,
   "id": "0686d67f",
   "metadata": {},
   "outputs": [],
   "source": [
    "calls_2020_mar_days.plot.line(x='day',\n",
    "                              y=\"total_per_day\",\n",
    "                              xlabel = 'Days',\n",
    "                              ylabel = 'Total Calls',\n",
    "                              title = 'March 2020 Calls Per Day',\n",
    "                              figsize = (10,5),\n",
    "                              colormap ='viridis',\n",
    "                              color=['#3B528B'],\n",
    "                              grid = True,\n",
    "                              xlim = (0,32),\n",
    "                              ylim = (0, 110),\n",
    "                              xticks = [0,1,2,3,4,5,6,7,8,9,10,11,12,13,14,15,16,17,18,19,20,21,22,23,24,25,26,27,28,29,30,31,32],\n",
    "                              yticks = [0,10,20,30,40,50,60,70,80,90,100,110],\n",
    "                              linewidth=4)\n",
    "                              \n",
    "plt.legend(loc = \"lower right\")\n",
    "#['#440154', '#3B528B', '#21918C']"
   ]
  },
  {
   "cell_type": "markdown",
   "id": "12d0a442",
   "metadata": {},
   "source": [
    "April 2020 Total for month = 1778 calls"
   ]
  },
  {
   "cell_type": "code",
   "execution_count": null,
   "id": "d73428df",
   "metadata": {},
   "outputs": [],
   "source": [
    "calls_2020_apr = calls_2020[calls_2020['month'] == 4]\n",
    "calls_2020_apr['weekday'] = calls_2020_apr['Call_Date'].dt.day_name()\n",
    "calls_2020_apr"
   ]
  },
  {
   "cell_type": "code",
   "execution_count": null,
   "id": "5eb7c5db",
   "metadata": {},
   "outputs": [],
   "source": [
    "calls_2020_apr_weekday = calls_2020_apr.groupby('weekday').count()\n",
    "calls_2020_apr_weekday = calls_2020_apr_weekday.drop(columns = ['year', 'month', 'day'])\n",
    "calls_2020_apr_weekday = calls_2020_apr_weekday.rename(columns = {'Call_Date' : 'total_per_weekday'})\n",
    "calls_2020_apr_weekday"
   ]
  },
  {
   "cell_type": "code",
   "execution_count": null,
   "id": "c5fa1397",
   "metadata": {
    "scrolled": true
   },
   "outputs": [],
   "source": [
    "calls_2020_apr_days = calls_2020_apr.groupby('day').count()\n",
    "calls_2020_apr_days = calls_2020_apr_days.drop(columns = ['year', 'month', 'weekday'])\n",
    "calls_2020_apr_days = calls_2020_apr_days.rename(columns = {'Call_Date' : 'total_per_day'})\n",
    "calls_2020_apr_days"
   ]
  },
  {
   "cell_type": "code",
   "execution_count": null,
   "id": "50345cdf",
   "metadata": {},
   "outputs": [],
   "source": [
    "calls_2020_apr_days.total_per_day.nlargest(5)"
   ]
  },
  {
   "cell_type": "code",
   "execution_count": null,
   "id": "c004c958",
   "metadata": {},
   "outputs": [],
   "source": [
    "calls_2020_apr_days.total_per_day.mean()"
   ]
  },
  {
   "cell_type": "markdown",
   "id": "a67c9d81",
   "metadata": {},
   "source": [
    "May 2020 Total for month = 1944 calls"
   ]
  },
  {
   "cell_type": "code",
   "execution_count": null,
   "id": "856759a6",
   "metadata": {},
   "outputs": [],
   "source": [
    "calls_2020_may = calls_2020[calls_2020['month'] == 5]\n",
    "calls_2020_may['weekday'] = calls_2020_may['Call_Date'].dt.day_name()\n",
    "calls_2020_may"
   ]
  },
  {
   "cell_type": "code",
   "execution_count": null,
   "id": "e536cf66",
   "metadata": {},
   "outputs": [],
   "source": [
    "calls_2020_may_weekday = calls_2020_may.groupby('weekday').count()\n",
    "calls_2020_may_weekday = calls_2020_may_weekday.drop(columns = ['year', 'month', 'day'])\n",
    "calls_2020_may_weekday = calls_2020_may_weekday.rename(columns = {'Call_Date' : 'total_per_weekday'})\n",
    "calls_2020_may_weekday"
   ]
  },
  {
   "cell_type": "code",
   "execution_count": null,
   "id": "7f869cef",
   "metadata": {
    "scrolled": true
   },
   "outputs": [],
   "source": [
    "calls_2020_may_days = calls_2020_may.groupby('day').count()\n",
    "calls_2020_may_days = calls_2020_may_days.drop(columns = ['year', 'month', 'weekday'])\n",
    "calls_2020_may_days = calls_2020_may_days.rename(columns = {'Call_Date' : 'total_per_day'})\n",
    "calls_2020_may_days"
   ]
  },
  {
   "cell_type": "code",
   "execution_count": null,
   "id": "59287d02",
   "metadata": {},
   "outputs": [],
   "source": [
    "calls_2020_may_days.total_per_day.nlargest(5)"
   ]
  },
  {
   "cell_type": "code",
   "execution_count": null,
   "id": "91bab92a",
   "metadata": {},
   "outputs": [],
   "source": [
    "calls_2020_may_days.total_per_day.mean()"
   ]
  },
  {
   "cell_type": "markdown",
   "id": "9017d1b3",
   "metadata": {},
   "source": [
    "Jun  2020 Total for month = 1975 calls"
   ]
  },
  {
   "cell_type": "code",
   "execution_count": null,
   "id": "36b32e8e",
   "metadata": {},
   "outputs": [],
   "source": [
    "calls_2020_jun = calls_2020[calls_2020['month'] == 6]\n",
    "calls_2020_jun['weekday'] = calls_2020_jun['Call_Date'].dt.day_name()\n",
    "calls_2020_jun"
   ]
  },
  {
   "cell_type": "code",
   "execution_count": null,
   "id": "4321937e",
   "metadata": {},
   "outputs": [],
   "source": [
    "calls_2020_jun_weekday = calls_2020_jun.groupby('weekday').count()\n",
    "calls_2020_jun_weekday = calls_2020_jun_weekday.drop(columns = ['year', 'month', 'day'])\n",
    "calls_2020_jun_weekday = calls_2020_jun_weekday.rename(columns = {'Call_Date' : 'total_per_weekday'})\n",
    "calls_2020_jun_weekday"
   ]
  },
  {
   "cell_type": "code",
   "execution_count": null,
   "id": "cd880876",
   "metadata": {
    "scrolled": false
   },
   "outputs": [],
   "source": [
    "calls_2020_jun_days = calls_2020_jun.groupby('day').count()\n",
    "calls_2020_jun_days = calls_2020_jun_days.drop(columns = ['year', 'month', 'weekday'])\n",
    "calls_2020_jun_days = calls_2020_jun_days.rename(columns = {'Call_Date' : 'total_per_day'})\n",
    "calls_2020_jun_days"
   ]
  },
  {
   "cell_type": "code",
   "execution_count": null,
   "id": "3f8c4089",
   "metadata": {},
   "outputs": [],
   "source": [
    "calls_2020_jun_days.total_per_day.nlargest(5)"
   ]
  },
  {
   "cell_type": "code",
   "execution_count": null,
   "id": "b8e3a866",
   "metadata": {},
   "outputs": [],
   "source": [
    "calls_2020_jun_days.total_per_day.mean()"
   ]
  },
  {
   "cell_type": "markdown",
   "id": "184d2815",
   "metadata": {},
   "source": [
    "Jul 2020 Total for month = 2261 calls"
   ]
  },
  {
   "cell_type": "code",
   "execution_count": null,
   "id": "51c2ce7a",
   "metadata": {},
   "outputs": [],
   "source": [
    "calls_2020_jul = calls_2020[calls_2020['month'] == 7]\n",
    "calls_2020_jul['weekday'] = calls_2020_jul['Call_Date'].dt.day_name()\n",
    "calls_2020_jul"
   ]
  },
  {
   "cell_type": "code",
   "execution_count": null,
   "id": "8485e13c",
   "metadata": {},
   "outputs": [],
   "source": [
    "calls_2020_jul_weekday = calls_2020_jul.groupby('weekday').count()\n",
    "calls_2020_jul_weekday = calls_2020_jul_weekday.drop(columns = ['year', 'month', 'day'])\n",
    "calls_2020_jul_weekday = calls_2020_jul_weekday.rename(columns = {'Call_Date' : 'total_per_weekday'})\n",
    "calls_2020_jul_weekday"
   ]
  },
  {
   "cell_type": "code",
   "execution_count": null,
   "id": "5179364a",
   "metadata": {
    "scrolled": true
   },
   "outputs": [],
   "source": [
    "calls_2020_jul_days = calls_2020_jul.groupby('day').count()\n",
    "calls_2020_jul_days = calls_2020_jul_days.drop(columns = ['year', 'month', 'weekday'])\n",
    "calls_2020_jul_days = calls_2020_jul_days.rename(columns = {'Call_Date' : 'total_per_day'})\n",
    "calls_2020_jul_days"
   ]
  },
  {
   "cell_type": "code",
   "execution_count": null,
   "id": "1d0df5ee",
   "metadata": {},
   "outputs": [],
   "source": [
    "calls_2020_jul_days.total_per_day.nlargest(5)"
   ]
  },
  {
   "cell_type": "code",
   "execution_count": null,
   "id": "69a315fe",
   "metadata": {
    "scrolled": true
   },
   "outputs": [],
   "source": [
    "calls_2020_jul_days.total_per_day.mean()"
   ]
  },
  {
   "cell_type": "markdown",
   "id": "674332d4",
   "metadata": {},
   "source": [
    "Aug 2020 Total for month = 2218"
   ]
  },
  {
   "cell_type": "code",
   "execution_count": null,
   "id": "47d06197",
   "metadata": {},
   "outputs": [],
   "source": [
    "calls_2020_aug = calls_2020[calls_2020['month'] == 8]\n",
    "calls_2020_aug['weekday'] = calls_2020_aug['Call_Date'].dt.day_name()\n",
    "calls_2020_aug"
   ]
  },
  {
   "cell_type": "code",
   "execution_count": null,
   "id": "0856c752",
   "metadata": {},
   "outputs": [],
   "source": [
    "calls_2020_aug_weekday = calls_2020_aug.groupby('weekday').count()\n",
    "calls_2020_aug_weekday = calls_2020_aug_weekday.drop(columns = ['year', 'month', 'day'])\n",
    "calls_2020_aug_weekday = calls_2020_aug_weekday.rename(columns = {'Call_Date' : 'total_per_weekday'})\n",
    "calls_2020_aug_weekday"
   ]
  },
  {
   "cell_type": "code",
   "execution_count": null,
   "id": "b1874b26",
   "metadata": {
    "scrolled": true
   },
   "outputs": [],
   "source": [
    "calls_2020_aug_days = calls_2020_aug.groupby('day').count()\n",
    "calls_2020_aug_days = calls_2020_aug_days.drop(columns = ['year', 'month', 'weekday'])\n",
    "calls_2020_aug_days = calls_2020_aug_days.rename(columns = {'Call_Date' : 'total_per_day'})\n",
    "calls_2020_aug_days"
   ]
  },
  {
   "cell_type": "code",
   "execution_count": null,
   "id": "ddcb0b4a",
   "metadata": {},
   "outputs": [],
   "source": [
    "calls_2020_aug_days.total_per_day.nlargest(5)"
   ]
  },
  {
   "cell_type": "code",
   "execution_count": null,
   "id": "1c9d24cd",
   "metadata": {},
   "outputs": [],
   "source": [
    "calls_2020_aug_days.total_per_day.mean()"
   ]
  },
  {
   "cell_type": "markdown",
   "id": "e7992fc5",
   "metadata": {},
   "source": [
    "Sep 2020 Total for month = 2133"
   ]
  },
  {
   "cell_type": "code",
   "execution_count": null,
   "id": "93cd6f83",
   "metadata": {},
   "outputs": [],
   "source": [
    "calls_2020_sep = calls_2020[calls_2020['month'] == 9]\n",
    "calls_2020_sep['weekday'] = calls_2020_sep['Call_Date'].dt.day_name()\n",
    "calls_2020_sep"
   ]
  },
  {
   "cell_type": "code",
   "execution_count": null,
   "id": "76ce566c",
   "metadata": {},
   "outputs": [],
   "source": [
    "calls_2020_sep_weekday = calls_2020_sep.groupby('weekday').count()\n",
    "calls_2020_sep_weekday = calls_2020_sep_weekday.drop(columns = ['year', 'month', 'day'])\n",
    "calls_2020_sep_weekday = calls_2020_sep_weekday.rename(columns = {'Call_Date' : 'total_per_weekday'})\n",
    "calls_2020_sep_weekday"
   ]
  },
  {
   "cell_type": "code",
   "execution_count": null,
   "id": "2aae1f1f",
   "metadata": {
    "scrolled": true
   },
   "outputs": [],
   "source": [
    "calls_2020_sep_days = calls_2020_sep.groupby('day').count()\n",
    "calls_2020_sep_days = calls_2020_sep_days.drop(columns = ['year', 'month', 'weekday'])\n",
    "calls_2020_sep_days = calls_2020_sep_days.rename(columns = {'Call_Date' : 'total_per_day'})\n",
    "calls_2020_sep_days"
   ]
  },
  {
   "cell_type": "code",
   "execution_count": null,
   "id": "6c41f160",
   "metadata": {},
   "outputs": [],
   "source": [
    "calls_2020_sep_days.total_per_day.nlargest(5)"
   ]
  },
  {
   "cell_type": "code",
   "execution_count": null,
   "id": "8d7f9805",
   "metadata": {},
   "outputs": [],
   "source": [
    "calls_2020_sep_days.total_per_day.mean()"
   ]
  },
  {
   "cell_type": "markdown",
   "id": "b2eba66c",
   "metadata": {},
   "source": [
    "Oct 2020 Total for month = 2216"
   ]
  },
  {
   "cell_type": "code",
   "execution_count": null,
   "id": "cb9708a5",
   "metadata": {},
   "outputs": [],
   "source": [
    "calls_2020_oct = calls_2020[calls_2020['month'] == 10]\n",
    "calls_2020_oct['weekday'] = calls_2020_oct['Call_Date'].dt.day_name()\n",
    "calls_2020_oct"
   ]
  },
  {
   "cell_type": "code",
   "execution_count": null,
   "id": "4039e040",
   "metadata": {},
   "outputs": [],
   "source": [
    "calls_2020_oct_weekday = calls_2020_oct.groupby('weekday').count()\n",
    "calls_2020_oct_weekday = calls_2020_oct_weekday.drop(columns = ['year', 'month', 'day'])\n",
    "calls_2020_oct_weekday = calls_2020_oct_weekday.rename(columns = {'Call_Date' : 'total_per_weekday'})\n",
    "calls_2020_oct_weekday"
   ]
  },
  {
   "cell_type": "code",
   "execution_count": null,
   "id": "aeff331b",
   "metadata": {
    "scrolled": true
   },
   "outputs": [],
   "source": [
    "calls_2020_oct_days = calls_2020_oct.groupby('day').count()\n",
    "calls_2020_oct_days = calls_2020_oct_days.drop(columns = ['year', 'month', 'weekday'])\n",
    "calls_2020_oct_days = calls_2020_oct_days.rename(columns = {'Call_Date' : 'total_per_day'})\n",
    "calls_2020_oct_days"
   ]
  },
  {
   "cell_type": "code",
   "execution_count": null,
   "id": "9648a1cf",
   "metadata": {
    "scrolled": true
   },
   "outputs": [],
   "source": [
    "calls_2020_oct_days.total_per_day.nlargest(5)"
   ]
  },
  {
   "cell_type": "markdown",
   "id": "d3f3c40e",
   "metadata": {},
   "source": [
    "Significance of Date: October 20th 2020 was the date of the Ends SARS protest that led to the The Lekki Toll Gate Shooting"
   ]
  },
  {
   "cell_type": "code",
   "execution_count": null,
   "id": "9dd00bde",
   "metadata": {},
   "outputs": [],
   "source": [
    "calls_2020_oct_days.total_per_day.mean()"
   ]
  },
  {
   "cell_type": "markdown",
   "id": "d1559e14",
   "metadata": {},
   "source": [
    "Nov 2020 Total for month = 2149"
   ]
  },
  {
   "cell_type": "code",
   "execution_count": null,
   "id": "1eadf143",
   "metadata": {},
   "outputs": [],
   "source": [
    "calls_2020_nov = calls_2020[calls_2020['month'] == 11]\n",
    "calls_2020_nov['weekday'] = calls_2020_nov['Call_Date'].dt.day_name()\n",
    "calls_2020_nov"
   ]
  },
  {
   "cell_type": "code",
   "execution_count": null,
   "id": "7ba071f2",
   "metadata": {},
   "outputs": [],
   "source": [
    "calls_2020_nov_weekday = calls_2020_nov.groupby('weekday').count()\n",
    "calls_2020_nov_weekday = calls_2020_nov_weekday.drop(columns = ['year', 'month', 'day'])\n",
    "calls_2020_nov_weekday = calls_2020_nov_weekday.rename(columns = {'Call_Date' : 'total_per_weekday'})\n",
    "calls_2020_nov_weekday"
   ]
  },
  {
   "cell_type": "code",
   "execution_count": null,
   "id": "3693ae92",
   "metadata": {
    "scrolled": true
   },
   "outputs": [],
   "source": [
    "calls_2020_nov_days = calls_2020_nov.groupby('day').count()\n",
    "calls_2020_nov_days = calls_2020_nov_days.drop(columns = ['year', 'month', 'weekday'])\n",
    "calls_2020_nov_days = calls_2020_nov_days.rename(columns = {'Call_Date' : 'total_per_day'})\n",
    "calls_2020_nov_days"
   ]
  },
  {
   "cell_type": "code",
   "execution_count": null,
   "id": "5f4fdd68",
   "metadata": {},
   "outputs": [],
   "source": [
    "calls_2020_nov_days.total_per_day.nlargest(5)"
   ]
  },
  {
   "cell_type": "code",
   "execution_count": null,
   "id": "9edc0900",
   "metadata": {},
   "outputs": [],
   "source": [
    "calls_2020_nov_days.total_per_day.mean()"
   ]
  },
  {
   "cell_type": "code",
   "execution_count": null,
   "id": "d2a39b2d",
   "metadata": {},
   "outputs": [],
   "source": [
    "calls_2020_nov_days = calls_2020_nov_days.reset_index()"
   ]
  },
  {
   "cell_type": "code",
   "execution_count": null,
   "id": "93e86a90",
   "metadata": {
    "scrolled": true
   },
   "outputs": [],
   "source": [
    "calls_2020_nov_days"
   ]
  },
  {
   "cell_type": "code",
   "execution_count": null,
   "id": "f60a0baf",
   "metadata": {
    "scrolled": true
   },
   "outputs": [],
   "source": [
    "plt.plot(calls_2020_nov_days.day ,calls_2020_nov_days.total_per_day)\n",
    "plt.xlabel(\"Day\") \n",
    "plt.ylabel(\"Count\")  \n",
    "plt.title(\"Count of Calls in November 2020\") \n",
    "plt.cmap =\"viridis\"\n",
    "plt.show()"
   ]
  },
  {
   "cell_type": "code",
   "execution_count": null,
   "id": "c0b0aff8",
   "metadata": {
    "scrolled": true
   },
   "outputs": [],
   "source": [
    "calls_2020_nov_days.plot.line(x='day',\n",
    "                              y=\"total_per_day\",\n",
    "                              xlabel = 'Days',\n",
    "                              ylabel = 'Total Calls',\n",
    "                              title = 'November 2020 Calls Per Day',\n",
    "                              figsize = (10,5),\n",
    "                              colormap ='viridis',\n",
    "                              color=['#3B528B'],\n",
    "                              grid = True,\n",
    "                              xlim = (0,32),\n",
    "                              ylim = (0, 110),\n",
    "                              xticks = [0,1,2,3,4,5,6,7,8,9,10,11,12,13,14,15,16,17,18,19,20,21,22,23,24,25,26,27,28,29,30,31,32],\n",
    "                              yticks = [0,10,20,30,40,50,60,70,80,90,100,110],\n",
    "                              linewidth=4)\n",
    "\n",
    "plt.legend(loc = \"lower right\")\n",
    "#['#440154', '#3B528B', '#21918C']"
   ]
  },
  {
   "cell_type": "markdown",
   "id": "a8126685",
   "metadata": {},
   "source": [
    "Dec 2020 Total for month = 2041"
   ]
  },
  {
   "cell_type": "code",
   "execution_count": null,
   "id": "a194a8e6",
   "metadata": {},
   "outputs": [],
   "source": [
    "calls_2020_dec = calls_2020[calls_2020['month'] == 12]\n",
    "calls_2020_dec['weekday'] = calls_2020_dec['Call_Date'].dt.day_name()\n",
    "calls_2020_dec"
   ]
  },
  {
   "cell_type": "code",
   "execution_count": null,
   "id": "e1f140ce",
   "metadata": {},
   "outputs": [],
   "source": [
    "calls_2020_dec_weekday = calls_2020_dec.groupby('weekday').count()\n",
    "calls_2020_dec_weekday = calls_2020_dec_weekday.drop(columns = ['year', 'month', 'day'])\n",
    "calls_2020_dec_weekday = calls_2020_dec_weekday.rename(columns = {'Call_Date' : 'total_per_weekday'})\n",
    "calls_2020_dec_weekday"
   ]
  },
  {
   "cell_type": "code",
   "execution_count": null,
   "id": "dc5ecf42",
   "metadata": {
    "scrolled": true
   },
   "outputs": [],
   "source": [
    "calls_2020_dec_days = calls_2020_dec.groupby('day').count()\n",
    "calls_2020_dec_days = calls_2020_dec_days.drop(columns = ['year', 'month', 'weekday'])\n",
    "calls_2020_dec_days = calls_2020_dec_days.rename(columns = {'Call_Date' : 'total_per_day'})\n",
    "calls_2020_dec_days"
   ]
  },
  {
   "cell_type": "code",
   "execution_count": null,
   "id": "216f44cc",
   "metadata": {},
   "outputs": [],
   "source": [
    "calls_2020_dec_days.total_per_day.nlargest(5)"
   ]
  },
  {
   "cell_type": "code",
   "execution_count": null,
   "id": "7235f14c",
   "metadata": {},
   "outputs": [],
   "source": [
    "calls_2020_dec_days.total_per_day.mean()"
   ]
  },
  {
   "cell_type": "code",
   "execution_count": null,
   "id": "183024d6",
   "metadata": {},
   "outputs": [],
   "source": []
  },
  {
   "cell_type": "code",
   "execution_count": null,
   "id": "17274338",
   "metadata": {},
   "outputs": [],
   "source": []
  }
 ],
 "metadata": {
  "kernelspec": {
   "display_name": "Python 3 (ipykernel)",
   "language": "python",
   "name": "python3"
  },
  "language_info": {
   "codemirror_mode": {
    "name": "ipython",
    "version": 3
   },
   "file_extension": ".py",
   "mimetype": "text/x-python",
   "name": "python",
   "nbconvert_exporter": "python",
   "pygments_lexer": "ipython3",
   "version": "3.9.7"
  }
 },
 "nbformat": 4,
 "nbformat_minor": 5
}
