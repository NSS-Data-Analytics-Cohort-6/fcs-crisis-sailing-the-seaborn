{
 "cells": [
  {
   "cell_type": "markdown",
   "id": "74e373b7",
   "metadata": {},
   "source": [
    "Data is based off Kate's code"
   ]
  },
  {
   "cell_type": "code",
   "execution_count": null,
   "id": "3c981b77",
   "metadata": {},
   "outputs": [],
   "source": [
    "import pandas as pd\n",
    "import re \n",
    "import numpy as np\n",
    "import matplotlib.pyplot as plt\n",
    "import seaborn as sns\n",
    "import fnmatch\n",
    "from datetime import datetime\n",
    "import calendar\n",
    "\n",
    "%matplotlib inline"
   ]
  },
  {
   "cell_type": "code",
   "execution_count": null,
   "id": "07f69245",
   "metadata": {},
   "outputs": [],
   "source": [
    "crisis_1 = pd.read_excel(\"../data/NSSCrisis1.xlsx\",skiprows = 2)\n",
    "crisis_1"
   ]
  },
  {
   "cell_type": "code",
   "execution_count": null,
   "id": "e3f9c7e4",
   "metadata": {},
   "outputs": [],
   "source": [
    "crisis_1_dates = crisis_1[['CallDateAndTimeStart']]\n",
    "crisis_1_dates = crisis_1_dates.rename(columns = {'CallDateAndTimeStart': 'Call_Date'})\n",
    "crisis_1_dates"
   ]
  },
  {
   "cell_type": "code",
   "execution_count": null,
   "id": "df21b030",
   "metadata": {},
   "outputs": [],
   "source": [
    "crisis_1_dates['year'] = pd.DatetimeIndex(crisis_1_dates['Call_Date']).year\n",
    "crisis_1_dates['month'] = pd.DatetimeIndex(crisis_1_dates['Call_Date']).month\n",
    "crisis_1_dates['day'] = pd.DatetimeIndex(crisis_1_dates['Call_Date']).day\n",
    "crisis_1_dates"
   ]
  },
  {
   "cell_type": "markdown",
   "id": "24328b64",
   "metadata": {},
   "source": [
    "Focus on 2020"
   ]
  },
  {
   "cell_type": "code",
   "execution_count": null,
   "id": "6afda235",
   "metadata": {},
   "outputs": [],
   "source": [
    "calls_2020 = crisis_1_dates[crisis_1_dates['year'] == 2020]\n",
    "calls_2020"
   ]
  },
  {
   "cell_type": "markdown",
   "id": "03452243",
   "metadata": {},
   "source": [
    "Jan 2020.\n",
    "Total for month = 1430 calls.\n",
    "Total for each weekday below\n",
    "Total for each day below"
   ]
  },
  {
   "cell_type": "code",
   "execution_count": null,
   "id": "88678c8f",
   "metadata": {},
   "outputs": [],
   "source": [
    "calls_2020_jan = calls_2020[calls_2020['month'] == 1]\n",
    "calls_2020_jan['weekday'] = calls_2020_jan['Call_Date'].dt.day_name()\n",
    "calls_2020_jan"
   ]
  },
  {
   "cell_type": "code",
   "execution_count": null,
   "id": "895a7c6b",
   "metadata": {},
   "outputs": [],
   "source": [
    "calls_2020_jan_weekday = calls_2020_jan.groupby('weekday').count()\n",
    "calls_2020_jan_weekday = calls_2020_jan_weekday.drop(columns = ['year', 'month', 'day'])\n",
    "calls_2020_jan_weekday = calls_2020_jan_weekday.rename(columns = {'Call_Date' : 'total_per_weekday'})\n",
    "calls_2020_jan_weekday"
   ]
  },
  {
   "cell_type": "code",
   "execution_count": null,
   "id": "9f3ea500",
   "metadata": {
    "scrolled": true
   },
   "outputs": [],
   "source": [
    "calls_2020_jan_days = calls_2020_jan.groupby('day').count()\n",
    "calls_2020_jan_days = calls_2020_jan_days.drop(columns = ['year', 'month', 'weekday'])\n",
    "calls_2020_jan_days = calls_2020_jan_days.rename(columns = {'Call_Date' : 'total_per_day'})\n",
    "calls_2020_jan_days"
   ]
  },
  {
   "cell_type": "code",
   "execution_count": null,
   "id": "aef72d42",
   "metadata": {
    "scrolled": true
   },
   "outputs": [],
   "source": [
    "calls_2020_jan_days.total_per_day.nlargest(5)"
   ]
  },
  {
   "cell_type": "markdown",
   "id": "38e36c5f",
   "metadata": {},
   "source": [
    "Significance of Date: White House Coronavirus Task Force was established on January 29th 2020"
   ]
  },
  {
   "cell_type": "code",
   "execution_count": null,
   "id": "c073fb5b",
   "metadata": {},
   "outputs": [],
   "source": [
    "calls_2020_jan_days.total_per_day.mean()"
   ]
  },
  {
   "cell_type": "markdown",
   "id": "5af10f53",
   "metadata": {},
   "source": [
    " Feb 2020.   Total for month = 1418 calls"
   ]
  },
  {
   "cell_type": "code",
   "execution_count": null,
   "id": "69ae17ca",
   "metadata": {},
   "outputs": [],
   "source": [
    "calls_2020_feb = calls_2020[calls_2020['month'] == 2]\n",
    "calls_2020_feb['weekday'] = calls_2020_feb['Call_Date'].dt.day_name()\n",
    "calls_2020_feb"
   ]
  },
  {
   "cell_type": "code",
   "execution_count": null,
   "id": "ee56fe7d",
   "metadata": {},
   "outputs": [],
   "source": [
    "calls_2020_feb_weekday = calls_2020_feb.groupby('weekday').count()\n",
    "calls_2020_feb_weekday = calls_2020_feb_weekday.drop(columns = ['year', 'month', 'day'])\n",
    "calls_2020_feb_weekday = calls_2020_feb_weekday.rename(columns = {'Call_Date' : 'total_per_weekday'})\n",
    "calls_2020_feb_weekday"
   ]
  },
  {
   "cell_type": "code",
   "execution_count": null,
   "id": "12908a71",
   "metadata": {
    "scrolled": true
   },
   "outputs": [],
   "source": [
    "calls_2020_feb_days = calls_2020_feb.groupby('day').count()\n",
    "calls_2020_feb_days = calls_2020_feb_days.drop(columns = ['year', 'month', 'weekday'])\n",
    "calls_2020_feb_days = calls_2020_feb_days.rename(columns = {'Call_Date' : 'total_per_day'})\n",
    "calls_2020_feb_days"
   ]
  },
  {
   "cell_type": "code",
   "execution_count": null,
   "id": "b3028ae1",
   "metadata": {},
   "outputs": [],
   "source": [
    "calls_2020_feb_days.total_per_day.nlargest(5)"
   ]
  },
  {
   "cell_type": "code",
   "execution_count": null,
   "id": "e8c4ceb8",
   "metadata": {},
   "outputs": [],
   "source": [
    "calls_2020_feb_days.total_per_day.mean()"
   ]
  },
  {
   "cell_type": "markdown",
   "id": "9ed7797f",
   "metadata": {},
   "source": [
    "March 2020  Total for the month = 1820 calls"
   ]
  },
  {
   "cell_type": "code",
   "execution_count": null,
   "id": "ffaa8e90",
   "metadata": {},
   "outputs": [],
   "source": [
    "calls_2020_mar = calls_2020[calls_2020['month'] == 3]\n",
    "calls_2020_mar['weekday'] = calls_2020_mar['Call_Date'].dt.day_name()\n",
    "calls_2020_mar"
   ]
  },
  {
   "cell_type": "code",
   "execution_count": null,
   "id": "cb246c6a",
   "metadata": {},
   "outputs": [],
   "source": [
    "calls_2020_mar_weekday = calls_2020_mar.groupby('weekday').count()\n",
    "calls_2020_mar_weekday = calls_2020_mar_weekday.drop(columns = ['year', 'month', 'day'])\n",
    "calls_2020_mar_weekday = calls_2020_mar_weekday.rename(columns = {'Call_Date' : 'total_per_weekday'})\n",
    "calls_2020_mar_weekday"
   ]
  },
  {
   "cell_type": "code",
   "execution_count": null,
   "id": "025c8126",
   "metadata": {
    "scrolled": true
   },
   "outputs": [],
   "source": [
    "calls_2020_mar_days = calls_2020_mar.groupby('day').count()\n",
    "calls_2020_mar_days = calls_2020_mar_days.drop(columns = ['year', 'month', 'weekday'])\n",
    "calls_2020_mar_days = calls_2020_mar_days.rename(columns = {'Call_Date' : 'total_per_day'})\n",
    "calls_2020_mar_days"
   ]
  },
  {
   "cell_type": "code",
   "execution_count": null,
   "id": "ca916241",
   "metadata": {},
   "outputs": [],
   "source": [
    "calls_2020_mar_days.total_per_day.nlargest(5)"
   ]
  },
  {
   "cell_type": "code",
   "execution_count": null,
   "id": "5a695197",
   "metadata": {},
   "outputs": [],
   "source": [
    "calls_2020_mar_days.total_per_day.mean()"
   ]
  },
  {
   "cell_type": "markdown",
   "id": "84847e72",
   "metadata": {},
   "source": [
    "April 2020 Total for month = 1778 calls"
   ]
  },
  {
   "cell_type": "code",
   "execution_count": null,
   "id": "9bd72d48",
   "metadata": {},
   "outputs": [],
   "source": [
    "calls_2020_apr = calls_2020[calls_2020['month'] == 4]\n",
    "calls_2020_apr['weekday'] = calls_2020_apr['Call_Date'].dt.day_name()\n",
    "calls_2020_apr"
   ]
  },
  {
   "cell_type": "code",
   "execution_count": null,
   "id": "7ff82c6d",
   "metadata": {},
   "outputs": [],
   "source": [
    "calls_2020_apr_weekday = calls_2020_apr.groupby('weekday').count()\n",
    "calls_2020_apr_weekday = calls_2020_apr_weekday.drop(columns = ['year', 'month', 'day'])\n",
    "calls_2020_apr_weekday = calls_2020_apr_weekday.rename(columns = {'Call_Date' : 'total_per_weekday'})\n",
    "calls_2020_apr_weekday"
   ]
  },
  {
   "cell_type": "code",
   "execution_count": null,
   "id": "7b7a24b3",
   "metadata": {
    "scrolled": true
   },
   "outputs": [],
   "source": [
    "calls_2020_apr_days = calls_2020_apr.groupby('day').count()\n",
    "calls_2020_apr_days = calls_2020_apr_days.drop(columns = ['year', 'month', 'weekday'])\n",
    "calls_2020_apr_days = calls_2020_apr_days.rename(columns = {'Call_Date' : 'total_per_day'})\n",
    "calls_2020_apr_days"
   ]
  },
  {
   "cell_type": "code",
   "execution_count": null,
   "id": "aca37924",
   "metadata": {},
   "outputs": [],
   "source": [
    "calls_2020_apr_days.total_per_day.nlargest(5)"
   ]
  },
  {
   "cell_type": "code",
   "execution_count": null,
   "id": "2f3d5277",
   "metadata": {},
   "outputs": [],
   "source": [
    "calls_2020_apr_days.total_per_day.mean()"
   ]
  },
  {
   "cell_type": "markdown",
   "id": "2ca9126c",
   "metadata": {},
   "source": [
    "May 2020 Total for month = 1944 calls"
   ]
  },
  {
   "cell_type": "code",
   "execution_count": null,
   "id": "1ea1864d",
   "metadata": {},
   "outputs": [],
   "source": [
    "calls_2020_may = calls_2020[calls_2020['month'] == 5]\n",
    "calls_2020_may['weekday'] = calls_2020_may['Call_Date'].dt.day_name()\n",
    "calls_2020_may"
   ]
  },
  {
   "cell_type": "code",
   "execution_count": null,
   "id": "0a269e42",
   "metadata": {},
   "outputs": [],
   "source": [
    "calls_2020_may_weekday = calls_2020_may.groupby('weekday').count()\n",
    "calls_2020_may_weekday = calls_2020_may_weekday.drop(columns = ['year', 'month', 'day'])\n",
    "calls_2020_may_weekday = calls_2020_may_weekday.rename(columns = {'Call_Date' : 'total_per_weekday'})\n",
    "calls_2020_may_weekday"
   ]
  },
  {
   "cell_type": "code",
   "execution_count": null,
   "id": "98b29e28",
   "metadata": {
    "scrolled": true
   },
   "outputs": [],
   "source": [
    "calls_2020_may_days = calls_2020_may.groupby('day').count()\n",
    "calls_2020_may_days = calls_2020_may_days.drop(columns = ['year', 'month', 'weekday'])\n",
    "calls_2020_may_days = calls_2020_may_days.rename(columns = {'Call_Date' : 'total_per_day'})\n",
    "calls_2020_may_days"
   ]
  },
  {
   "cell_type": "code",
   "execution_count": null,
   "id": "32d81eee",
   "metadata": {},
   "outputs": [],
   "source": [
    "calls_2020_may_days.total_per_day.nlargest(5)"
   ]
  },
  {
   "cell_type": "code",
   "execution_count": null,
   "id": "39978300",
   "metadata": {},
   "outputs": [],
   "source": [
    "calls_2020_may_days.total_per_day.mean()"
   ]
  },
  {
   "cell_type": "markdown",
   "id": "c76a4e88",
   "metadata": {},
   "source": [
    "Jun  2020 Total for month = 1975 calls"
   ]
  },
  {
   "cell_type": "code",
   "execution_count": null,
   "id": "a7bc0359",
   "metadata": {},
   "outputs": [],
   "source": [
    "calls_2020_jun = calls_2020[calls_2020['month'] == 6]\n",
    "calls_2020_jun['weekday'] = calls_2020_jun['Call_Date'].dt.day_name()\n",
    "calls_2020_jun"
   ]
  },
  {
   "cell_type": "code",
   "execution_count": null,
   "id": "e3eb1521",
   "metadata": {},
   "outputs": [],
   "source": [
    "calls_2020_jun_weekday = calls_2020_jun.groupby('weekday').count()\n",
    "calls_2020_jun_weekday = calls_2020_jun_weekday.drop(columns = ['year', 'month', 'day'])\n",
    "calls_2020_jun_weekday = calls_2020_jun_weekday.rename(columns = {'Call_Date' : 'total_per_weekday'})\n",
    "calls_2020_jun_weekday"
   ]
  },
  {
   "cell_type": "code",
   "execution_count": null,
   "id": "2f1e67ff",
   "metadata": {
    "scrolled": false
   },
   "outputs": [],
   "source": [
    "calls_2020_jun_days = calls_2020_jun.groupby('day').count()\n",
    "calls_2020_jun_days = calls_2020_jun_days.drop(columns = ['year', 'month', 'weekday'])\n",
    "calls_2020_jun_days = calls_2020_jun_days.rename(columns = {'Call_Date' : 'total_per_day'})\n",
    "calls_2020_jun_days"
   ]
  },
  {
   "cell_type": "code",
   "execution_count": null,
   "id": "11226675",
   "metadata": {},
   "outputs": [],
   "source": [
    "calls_2020_jun_days.total_per_day.nlargest(5)"
   ]
  },
  {
   "cell_type": "code",
   "execution_count": null,
   "id": "735e93d5",
   "metadata": {},
   "outputs": [],
   "source": [
    "calls_2020_jun_days.total_per_day.mean()"
   ]
  },
  {
   "cell_type": "markdown",
   "id": "999197b0",
   "metadata": {},
   "source": [
    "Jul 2020 Total for month = 2261 calls"
   ]
  },
  {
   "cell_type": "code",
   "execution_count": null,
   "id": "e66797a2",
   "metadata": {},
   "outputs": [],
   "source": [
    "calls_2020_jul = calls_2020[calls_2020['month'] == 7]\n",
    "calls_2020_jul['weekday'] = calls_2020_jul['Call_Date'].dt.day_name()\n",
    "calls_2020_jul"
   ]
  },
  {
   "cell_type": "code",
   "execution_count": null,
   "id": "eb81ba49",
   "metadata": {},
   "outputs": [],
   "source": [
    "calls_2020_jul_weekday = calls_2020_jul.groupby('weekday').count()\n",
    "calls_2020_jul_weekday = calls_2020_jul_weekday.drop(columns = ['year', 'month', 'day'])\n",
    "calls_2020_jul_weekday = calls_2020_jul_weekday.rename(columns = {'Call_Date' : 'total_per_weekday'})\n",
    "calls_2020_jul_weekday"
   ]
  },
  {
   "cell_type": "code",
   "execution_count": null,
   "id": "b3efcb30",
   "metadata": {
    "scrolled": true
   },
   "outputs": [],
   "source": [
    "calls_2020_jul_days = calls_2020_jul.groupby('day').count()\n",
    "calls_2020_jul_days = calls_2020_jul_days.drop(columns = ['year', 'month', 'weekday'])\n",
    "calls_2020_jul_days = calls_2020_jul_days.rename(columns = {'Call_Date' : 'total_per_day'})\n",
    "calls_2020_jul_days"
   ]
  },
  {
   "cell_type": "code",
   "execution_count": null,
   "id": "c74d8133",
   "metadata": {},
   "outputs": [],
   "source": [
    "calls_2020_jul_days.total_per_day.nlargest(5)"
   ]
  },
  {
   "cell_type": "code",
   "execution_count": null,
   "id": "110ce8fc",
   "metadata": {
    "scrolled": true
   },
   "outputs": [],
   "source": [
    "calls_2020_jul_days.total_per_day.mean()"
   ]
  },
  {
   "cell_type": "markdown",
   "id": "40b85ea8",
   "metadata": {},
   "source": [
    "Aug 2020 Total for month = 2218"
   ]
  },
  {
   "cell_type": "code",
   "execution_count": null,
   "id": "89a0af9c",
   "metadata": {},
   "outputs": [],
   "source": [
    "calls_2020_aug = calls_2020[calls_2020['month'] == 8]\n",
    "calls_2020_aug['weekday'] = calls_2020_aug['Call_Date'].dt.day_name()\n",
    "calls_2020_aug"
   ]
  },
  {
   "cell_type": "code",
   "execution_count": null,
   "id": "53a6263d",
   "metadata": {},
   "outputs": [],
   "source": [
    "calls_2020_aug_weekday = calls_2020_aug.groupby('weekday').count()\n",
    "calls_2020_aug_weekday = calls_2020_aug_weekday.drop(columns = ['year', 'month', 'day'])\n",
    "calls_2020_aug_weekday = calls_2020_aug_weekday.rename(columns = {'Call_Date' : 'total_per_weekday'})\n",
    "calls_2020_aug_weekday"
   ]
  },
  {
   "cell_type": "code",
   "execution_count": null,
   "id": "0d2e6666",
   "metadata": {
    "scrolled": true
   },
   "outputs": [],
   "source": [
    "calls_2020_aug_days = calls_2020_aug.groupby('day').count()\n",
    "calls_2020_aug_days = calls_2020_aug_days.drop(columns = ['year', 'month', 'weekday'])\n",
    "calls_2020_aug_days = calls_2020_aug_days.rename(columns = {'Call_Date' : 'total_per_day'})\n",
    "calls_2020_aug_days"
   ]
  },
  {
   "cell_type": "code",
   "execution_count": null,
   "id": "a63cb8c3",
   "metadata": {},
   "outputs": [],
   "source": [
    "calls_2020_aug_days.total_per_day.nlargest(5)"
   ]
  },
  {
   "cell_type": "code",
   "execution_count": null,
   "id": "89234e8b",
   "metadata": {},
   "outputs": [],
   "source": [
    "calls_2020_aug_days.total_per_day.mean()"
   ]
  },
  {
   "cell_type": "markdown",
   "id": "b64a88f1",
   "metadata": {},
   "source": [
    "Sep 2020 Total for month = 2133"
   ]
  },
  {
   "cell_type": "code",
   "execution_count": null,
   "id": "60195c19",
   "metadata": {},
   "outputs": [],
   "source": [
    "calls_2020_sep = calls_2020[calls_2020['month'] == 9]\n",
    "calls_2020_sep['weekday'] = calls_2020_sep['Call_Date'].dt.day_name()\n",
    "calls_2020_sep"
   ]
  },
  {
   "cell_type": "code",
   "execution_count": null,
   "id": "a48b1cc4",
   "metadata": {},
   "outputs": [],
   "source": [
    "calls_2020_sep_weekday = calls_2020_sep.groupby('weekday').count()\n",
    "calls_2020_sep_weekday = calls_2020_sep_weekday.drop(columns = ['year', 'month', 'day'])\n",
    "calls_2020_sep_weekday = calls_2020_sep_weekday.rename(columns = {'Call_Date' : 'total_per_weekday'})\n",
    "calls_2020_sep_weekday"
   ]
  },
  {
   "cell_type": "code",
   "execution_count": null,
   "id": "cbaeb6db",
   "metadata": {
    "scrolled": true
   },
   "outputs": [],
   "source": [
    "calls_2020_sep_days = calls_2020_sep.groupby('day').count()\n",
    "calls_2020_sep_days = calls_2020_sep_days.drop(columns = ['year', 'month', 'weekday'])\n",
    "calls_2020_sep_days = calls_2020_sep_days.rename(columns = {'Call_Date' : 'total_per_day'})\n",
    "calls_2020_sep_days"
   ]
  },
  {
   "cell_type": "code",
   "execution_count": null,
   "id": "1ad9482e",
   "metadata": {},
   "outputs": [],
   "source": [
    "calls_2020_sep_days.total_per_day.nlargest(5)"
   ]
  },
  {
   "cell_type": "code",
   "execution_count": null,
   "id": "14d69000",
   "metadata": {},
   "outputs": [],
   "source": [
    "calls_2020_sep_days.total_per_day.mean()"
   ]
  },
  {
   "cell_type": "markdown",
   "id": "431190f7",
   "metadata": {},
   "source": [
    "Oct 2020 Total for month = 2216"
   ]
  },
  {
   "cell_type": "code",
   "execution_count": null,
   "id": "d7c4f1b3",
   "metadata": {},
   "outputs": [],
   "source": [
    "calls_2020_oct = calls_2020[calls_2020['month'] == 10]\n",
    "calls_2020_oct['weekday'] = calls_2020_oct['Call_Date'].dt.day_name()\n",
    "calls_2020_oct"
   ]
  },
  {
   "cell_type": "code",
   "execution_count": null,
   "id": "0a99ff83",
   "metadata": {},
   "outputs": [],
   "source": [
    "calls_2020_oct_weekday = calls_2020_oct.groupby('weekday').count()\n",
    "calls_2020_oct_weekday = calls_2020_oct_weekday.drop(columns = ['year', 'month', 'day'])\n",
    "calls_2020_oct_weekday = calls_2020_oct_weekday.rename(columns = {'Call_Date' : 'total_per_weekday'})\n",
    "calls_2020_oct_weekday"
   ]
  },
  {
   "cell_type": "code",
   "execution_count": null,
   "id": "3ee7deca",
   "metadata": {
    "scrolled": true
   },
   "outputs": [],
   "source": [
    "calls_2020_oct_days = calls_2020_oct.groupby('day').count()\n",
    "calls_2020_oct_days = calls_2020_oct_days.drop(columns = ['year', 'month', 'weekday'])\n",
    "calls_2020_oct_days = calls_2020_oct_days.rename(columns = {'Call_Date' : 'total_per_day'})\n",
    "calls_2020_oct_days"
   ]
  },
  {
   "cell_type": "code",
   "execution_count": null,
   "id": "8501a1e8",
   "metadata": {
    "scrolled": true
   },
   "outputs": [],
   "source": [
    "calls_2020_oct_days.total_per_day.nlargest(5)"
   ]
  },
  {
   "cell_type": "markdown",
   "id": "90efb4be",
   "metadata": {},
   "source": [
    "Significance of Date: October 20th 2020 was the date of the Ends SARS protest that led to the The Lekki Toll Gate Shooting"
   ]
  },
  {
   "cell_type": "code",
   "execution_count": null,
   "id": "6ccf1d50",
   "metadata": {},
   "outputs": [],
   "source": [
    "calls_2020_oct_days.total_per_day.mean()"
   ]
  },
  {
   "cell_type": "markdown",
   "id": "139ee459",
   "metadata": {},
   "source": [
    "Nov 2020 Total for month = 2149"
   ]
  },
  {
   "cell_type": "code",
   "execution_count": null,
   "id": "c397ba6d",
   "metadata": {},
   "outputs": [],
   "source": [
    "calls_2020_nov = calls_2020[calls_2020['month'] == 11]\n",
    "calls_2020_nov['weekday'] = calls_2020_nov['Call_Date'].dt.day_name()\n",
    "calls_2020_nov"
   ]
  },
  {
   "cell_type": "code",
   "execution_count": null,
   "id": "d7987c37",
   "metadata": {},
   "outputs": [],
   "source": [
    "calls_2020_nov_weekday = calls_2020_nov.groupby('weekday').count()\n",
    "calls_2020_nov_weekday = calls_2020_nov_weekday.drop(columns = ['year', 'month', 'day'])\n",
    "calls_2020_nov_weekday = calls_2020_nov_weekday.rename(columns = {'Call_Date' : 'total_per_weekday'})\n",
    "calls_2020_nov_weekday"
   ]
  },
  {
   "cell_type": "code",
   "execution_count": null,
   "id": "eed8272d",
   "metadata": {
    "scrolled": true
   },
   "outputs": [],
   "source": [
    "calls_2020_nov_days = calls_2020_nov.groupby('day').count()\n",
    "calls_2020_nov_days = calls_2020_nov_days.drop(columns = ['year', 'month', 'weekday'])\n",
    "calls_2020_nov_days = calls_2020_nov_days.rename(columns = {'Call_Date' : 'total_per_day'})\n",
    "calls_2020_nov_days"
   ]
  },
  {
   "cell_type": "code",
   "execution_count": null,
   "id": "b5821ea4",
   "metadata": {},
   "outputs": [],
   "source": [
    "calls_2020_nov_days.total_per_day.nlargest(5)"
   ]
  },
  {
   "cell_type": "code",
   "execution_count": null,
   "id": "6cb6cfc1",
   "metadata": {},
   "outputs": [],
   "source": [
    "calls_2020_nov_days.total_per_day.mean()"
   ]
  },
  {
   "cell_type": "markdown",
   "id": "dcc755f8",
   "metadata": {},
   "source": [
    "Dec 2020 Total for month = 2041"
   ]
  },
  {
   "cell_type": "code",
   "execution_count": null,
   "id": "1f8e689c",
   "metadata": {},
   "outputs": [],
   "source": [
    "calls_2020_dec = calls_2020[calls_2020['month'] == 12]\n",
    "calls_2020_dec['weekday'] = calls_2020_dec['Call_Date'].dt.day_name()\n",
    "calls_2020_dec"
   ]
  },
  {
   "cell_type": "code",
   "execution_count": null,
   "id": "aad5a949",
   "metadata": {},
   "outputs": [],
   "source": [
    "calls_2020_dec_weekday = calls_2020_dec.groupby('weekday').count()\n",
    "calls_2020_dec_weekday = calls_2020_dec_weekday.drop(columns = ['year', 'month', 'day'])\n",
    "calls_2020_dec_weekday = calls_2020_dec_weekday.rename(columns = {'Call_Date' : 'total_per_weekday'})\n",
    "calls_2020_dec_weekday"
   ]
  },
  {
   "cell_type": "code",
   "execution_count": null,
   "id": "22103853",
   "metadata": {
    "scrolled": true
   },
   "outputs": [],
   "source": [
    "calls_2020_dec_days = calls_2020_dec.groupby('day').count()\n",
    "calls_2020_dec_days = calls_2020_dec_days.drop(columns = ['year', 'month', 'weekday'])\n",
    "calls_2020_dec_days = calls_2020_dec_days.rename(columns = {'Call_Date' : 'total_per_day'})\n",
    "calls_2020_dec_days"
   ]
  },
  {
   "cell_type": "code",
   "execution_count": null,
   "id": "fe5b18b2",
   "metadata": {},
   "outputs": [],
   "source": [
    "calls_2020_dec_days.total_per_day.nlargest(5)"
   ]
  },
  {
   "cell_type": "code",
   "execution_count": null,
   "id": "0212b685",
   "metadata": {},
   "outputs": [],
   "source": [
    "calls_2020_dec_days.total_per_day.mean()"
   ]
  },
  {
   "cell_type": "code",
   "execution_count": null,
   "id": "445ffe40",
   "metadata": {},
   "outputs": [],
   "source": []
  }
 ],
 "metadata": {
  "kernelspec": {
   "display_name": "Python 3 (ipykernel)",
   "language": "python",
   "name": "python3"
  },
  "language_info": {
   "codemirror_mode": {
    "name": "ipython",
    "version": 3
   },
   "file_extension": ".py",
   "mimetype": "text/x-python",
   "name": "python",
   "nbconvert_exporter": "python",
   "pygments_lexer": "ipython3",
   "version": "3.9.7"
  }
 },
 "nbformat": 4,
 "nbformat_minor": 5
}
