{
 "cells": [
  {
   "cell_type": "markdown",
   "id": "c7c730c2",
   "metadata": {},
   "source": [
    "Data is based off Kate's code"
   ]
  },
  {
   "cell_type": "code",
   "execution_count": null,
   "id": "96d57148",
   "metadata": {},
   "outputs": [],
   "source": [
    "import pandas as pd\n",
    "import re \n",
    "import numpy as np\n",
    "import matplotlib.pyplot as plt\n",
    "import seaborn as sns\n",
    "import fnmatch\n",
    "from datetime import datetime\n",
    "import calendar\n",
    "\n",
    "%matplotlib inline"
   ]
  },
  {
   "cell_type": "code",
   "execution_count": null,
   "id": "d7a0f089",
   "metadata": {},
   "outputs": [],
   "source": [
    "crisis_1 = pd.read_excel(\"../data/NSSCrisis1.xlsx\",skiprows = 2)\n",
    "crisis_1"
   ]
  },
  {
   "cell_type": "code",
   "execution_count": null,
   "id": "5fbeb81c",
   "metadata": {},
   "outputs": [],
   "source": [
    "crisis_1_dates = crisis_1[['CallDateAndTimeStart']]\n",
    "crisis_1_dates = crisis_1_dates.rename(columns = {'CallDateAndTimeStart': 'Call_Date'})\n",
    "crisis_1_dates"
   ]
  },
  {
   "cell_type": "code",
   "execution_count": null,
   "id": "9ea842bc",
   "metadata": {},
   "outputs": [],
   "source": [
    "crisis_1_dates['year'] = pd.DatetimeIndex(crisis_1_dates['Call_Date']).year\n",
    "crisis_1_dates['month'] = pd.DatetimeIndex(crisis_1_dates['Call_Date']).month\n",
    "crisis_1_dates['day'] = pd.DatetimeIndex(crisis_1_dates['Call_Date']).day\n",
    "crisis_1_dates"
   ]
  },
  {
   "cell_type": "markdown",
   "id": "7182be20",
   "metadata": {},
   "source": [
    "Focus on 2020"
   ]
  },
  {
   "cell_type": "code",
   "execution_count": null,
   "id": "d320f921",
   "metadata": {},
   "outputs": [],
   "source": [
    "calls_2020 = crisis_1_dates[crisis_1_dates['year'] == 2020]\n",
    "calls_2020"
   ]
  },
  {
   "cell_type": "markdown",
   "id": "65acfc26",
   "metadata": {},
   "source": [
    "Jan 2020.\n",
    "Total for month = 1430 calls.\n",
    "Total for each weekday below\n",
    "Total for each day below"
   ]
  },
  {
   "cell_type": "code",
   "execution_count": null,
   "id": "adcdd69a",
   "metadata": {},
   "outputs": [],
   "source": [
    "calls_2020_jan = calls_2020[calls_2020['month'] == 1]\n",
    "calls_2020_jan['weekday'] = calls_2020_jan['Call_Date'].dt.day_name()\n",
    "calls_2020_jan"
   ]
  },
  {
   "cell_type": "code",
   "execution_count": null,
   "id": "30e47105",
   "metadata": {},
   "outputs": [],
   "source": [
    "calls_2020_jan_weekday = calls_2020_jan.groupby('weekday').count()\n",
    "calls_2020_jan_weekday = calls_2020_jan_weekday.drop(columns = ['year', 'month', 'day'])\n",
    "calls_2020_jan_weekday = calls_2020_jan_weekday.rename(columns = {'Call_Date' : 'total_per_weekday'})\n",
    "calls_2020_jan_weekday"
   ]
  },
  {
   "cell_type": "code",
   "execution_count": null,
   "id": "792dfe14",
   "metadata": {
    "scrolled": true
   },
   "outputs": [],
   "source": [
    "calls_2020_jan_days = calls_2020_jan.groupby('day').count()\n",
    "calls_2020_jan_days = calls_2020_jan_days.drop(columns = ['year', 'month', 'weekday'])\n",
    "calls_2020_jan_days = calls_2020_jan_days.rename(columns = {'Call_Date' : 'total_per_day'})\n",
    "calls_2020_jan_days"
   ]
  },
  {
   "cell_type": "code",
   "execution_count": null,
   "id": "25f650ea",
   "metadata": {},
   "outputs": [],
   "source": [
    "calls_2020_jan_days.total_per_day.nlargest(5)"
   ]
  },
  {
   "cell_type": "code",
   "execution_count": null,
   "id": "1fc822d8",
   "metadata": {},
   "outputs": [],
   "source": [
    "calls_2020_jan_days.total_per_day.mean()"
   ]
  },
  {
   "cell_type": "markdown",
   "id": "747c7ca2",
   "metadata": {},
   "source": [
    " Feb 2020.   Total for month = 1418 calls"
   ]
  },
  {
   "cell_type": "code",
   "execution_count": null,
   "id": "265c5aaf",
   "metadata": {},
   "outputs": [],
   "source": [
    "calls_2020_feb = calls_2020[calls_2020['month'] == 2]\n",
    "calls_2020_feb['weekday'] = calls_2020_feb['Call_Date'].dt.day_name()\n",
    "calls_2020_feb"
   ]
  },
  {
   "cell_type": "code",
   "execution_count": null,
   "id": "77e6eada",
   "metadata": {},
   "outputs": [],
   "source": [
    "calls_2020_feb_weekday = calls_2020_feb.groupby('weekday').count()\n",
    "calls_2020_feb_weekday = calls_2020_feb_weekday.drop(columns = ['year', 'month', 'day'])\n",
    "calls_2020_feb_weekday = calls_2020_feb_weekday.rename(columns = {'Call_Date' : 'total_per_weekday'})\n",
    "calls_2020_feb_weekday"
   ]
  },
  {
   "cell_type": "code",
   "execution_count": null,
   "id": "9b793ebe",
   "metadata": {
    "scrolled": true
   },
   "outputs": [],
   "source": [
    "calls_2020_feb_days = calls_2020_feb.groupby('day').count()\n",
    "calls_2020_feb_days = calls_2020_feb_days.drop(columns = ['year', 'month', 'weekday'])\n",
    "calls_2020_feb_days = calls_2020_feb_days.rename(columns = {'Call_Date' : 'total_per_day'})\n",
    "calls_2020_feb_days"
   ]
  },
  {
   "cell_type": "code",
   "execution_count": null,
   "id": "66a67373",
   "metadata": {},
   "outputs": [],
   "source": [
    "calls_2020_feb_days.total_per_day.nlargest(5)"
   ]
  },
  {
   "cell_type": "code",
   "execution_count": null,
   "id": "59f1e3a5",
   "metadata": {},
   "outputs": [],
   "source": [
    "calls_2020_feb_days.total_per_day.mean()"
   ]
  },
  {
   "cell_type": "markdown",
   "id": "61bd118c",
   "metadata": {},
   "source": [
    "March 2020  Total for the month = 1820 calls"
   ]
  },
  {
   "cell_type": "code",
   "execution_count": null,
   "id": "e5f5fde9",
   "metadata": {},
   "outputs": [],
   "source": [
    "calls_2020_mar = calls_2020[calls_2020['month'] == 3]\n",
    "calls_2020_mar['weekday'] = calls_2020_mar['Call_Date'].dt.day_name()\n",
    "calls_2020_mar"
   ]
  },
  {
   "cell_type": "code",
   "execution_count": null,
   "id": "c7110323",
   "metadata": {},
   "outputs": [],
   "source": [
    "calls_2020_mar_weekday = calls_2020_mar.groupby('weekday').count()\n",
    "calls_2020_mar_weekday = calls_2020_mar_weekday.drop(columns = ['year', 'month', 'day'])\n",
    "calls_2020_mar_weekday = calls_2020_mar_weekday.rename(columns = {'Call_Date' : 'total_per_weekday'})\n",
    "calls_2020_mar_weekday"
   ]
  },
  {
   "cell_type": "code",
   "execution_count": null,
   "id": "f5c54b88",
   "metadata": {
    "scrolled": true
   },
   "outputs": [],
   "source": [
    "calls_2020_mar_days = calls_2020_mar.groupby('day').count()\n",
    "calls_2020_mar_days = calls_2020_mar_days.drop(columns = ['year', 'month', 'weekday'])\n",
    "calls_2020_mar_days = calls_2020_mar_days.rename(columns = {'Call_Date' : 'total_per_day'})\n",
    "calls_2020_mar_days"
   ]
  },
  {
   "cell_type": "code",
   "execution_count": null,
   "id": "b72c1250",
   "metadata": {},
   "outputs": [],
   "source": [
    "calls_2020_mar_days.total_per_day.mean()"
   ]
  },
  {
   "cell_type": "markdown",
   "id": "565998b4",
   "metadata": {},
   "source": [
    "April 2020 Total for month = 1778 calls"
   ]
  },
  {
   "cell_type": "code",
   "execution_count": null,
   "id": "68388783",
   "metadata": {},
   "outputs": [],
   "source": [
    "calls_2020_apr = calls_2020[calls_2020['month'] == 4]\n",
    "calls_2020_apr['weekday'] = calls_2020_apr['Call_Date'].dt.day_name()\n",
    "calls_2020_apr"
   ]
  },
  {
   "cell_type": "code",
   "execution_count": null,
   "id": "5a4cc15d",
   "metadata": {},
   "outputs": [],
   "source": [
    "calls_2020_apr_weekday = calls_2020_apr.groupby('weekday').count()\n",
    "calls_2020_apr_weekday = calls_2020_apr_weekday.drop(columns = ['year', 'month', 'day'])\n",
    "calls_2020_apr_weekday = calls_2020_apr_weekday.rename(columns = {'Call_Date' : 'total_per_weekday'})\n",
    "calls_2020_apr_weekday"
   ]
  },
  {
   "cell_type": "code",
   "execution_count": null,
   "id": "b3af4e88",
   "metadata": {
    "scrolled": true
   },
   "outputs": [],
   "source": [
    "calls_2020_apr_days = calls_2020_apr.groupby('day').count()\n",
    "calls_2020_apr_days = calls_2020_apr_days.drop(columns = ['year', 'month', 'weekday'])\n",
    "calls_2020_apr_days = calls_2020_apr_days.rename(columns = {'Call_Date' : 'total_per_day'})\n",
    "calls_2020_apr_days"
   ]
  },
  {
   "cell_type": "code",
   "execution_count": null,
   "id": "b4cc425d",
   "metadata": {},
   "outputs": [],
   "source": [
    "calls_2020_apr_days.total_per_day.nlargest(5)"
   ]
  },
  {
   "cell_type": "code",
   "execution_count": null,
   "id": "23d7dae7",
   "metadata": {},
   "outputs": [],
   "source": [
    "calls_2020_apr_days.total_per_day.mean()"
   ]
  },
  {
   "cell_type": "markdown",
   "id": "149bfd83",
   "metadata": {},
   "source": [
    "May 2020 Total for month = 1944 calls"
   ]
  },
  {
   "cell_type": "code",
   "execution_count": null,
   "id": "894a6218",
   "metadata": {},
   "outputs": [],
   "source": [
    "calls_2020_may = calls_2020[calls_2020['month'] == 5]\n",
    "calls_2020_may['weekday'] = calls_2020_may['Call_Date'].dt.day_name()\n",
    "calls_2020_may"
   ]
  },
  {
   "cell_type": "code",
   "execution_count": null,
   "id": "75bf0548",
   "metadata": {},
   "outputs": [],
   "source": [
    "calls_2020_may_weekday = calls_2020_may.groupby('weekday').count()\n",
    "calls_2020_may_weekday = calls_2020_may_weekday.drop(columns = ['year', 'month', 'day'])\n",
    "calls_2020_may_weekday = calls_2020_may_weekday.rename(columns = {'Call_Date' : 'total_per_weekday'})\n",
    "calls_2020_may_weekday"
   ]
  },
  {
   "cell_type": "code",
   "execution_count": null,
   "id": "1d247d4a",
   "metadata": {
    "scrolled": true
   },
   "outputs": [],
   "source": [
    "calls_2020_may_days = calls_2020_may.groupby('day').count()\n",
    "calls_2020_may_days = calls_2020_may_days.drop(columns = ['year', 'month', 'weekday'])\n",
    "calls_2020_may_days = calls_2020_may_days.rename(columns = {'Call_Date' : 'total_per_day'})\n",
    "calls_2020_may_days"
   ]
  },
  {
   "cell_type": "code",
   "execution_count": null,
   "id": "137943b9",
   "metadata": {},
   "outputs": [],
   "source": [
    "calls_2020_may_days.total_per_day.nlargest(5)"
   ]
  },
  {
   "cell_type": "code",
   "execution_count": null,
   "id": "927a6dab",
   "metadata": {},
   "outputs": [],
   "source": [
    "calls_2020_may_days.total_per_day.mean()"
   ]
  },
  {
   "cell_type": "markdown",
   "id": "cd274597",
   "metadata": {},
   "source": [
    "Jun  2020 Total for month = 1975 calls"
   ]
  },
  {
   "cell_type": "code",
   "execution_count": null,
   "id": "c8034c24",
   "metadata": {},
   "outputs": [],
   "source": [
    "calls_2020_jun = calls_2020[calls_2020['month'] == 6]\n",
    "calls_2020_jun['weekday'] = calls_2020_jun['Call_Date'].dt.day_name()\n",
    "calls_2020_jun"
   ]
  },
  {
   "cell_type": "code",
   "execution_count": null,
   "id": "b4aec0f3",
   "metadata": {},
   "outputs": [],
   "source": [
    "calls_2020_jun_weekday = calls_2020_jun.groupby('weekday').count()\n",
    "calls_2020_jun_weekday = calls_2020_jun_weekday.drop(columns = ['year', 'month', 'day'])\n",
    "calls_2020_jun_weekday = calls_2020_jun_weekday.rename(columns = {'Call_Date' : 'total_per_weekday'})\n",
    "calls_2020_jun_weekday"
   ]
  },
  {
   "cell_type": "code",
   "execution_count": null,
   "id": "3e6b7de2",
   "metadata": {
    "scrolled": false
   },
   "outputs": [],
   "source": [
    "calls_2020_jun_days = calls_2020_jun.groupby('day').count()\n",
    "calls_2020_jun_days = calls_2020_jun_days.drop(columns = ['year', 'month', 'weekday'])\n",
    "calls_2020_jun_days = calls_2020_jun_days.rename(columns = {'Call_Date' : 'total_per_day'})\n",
    "calls_2020_jun_days"
   ]
  },
  {
   "cell_type": "code",
   "execution_count": null,
   "id": "ed47fb6c",
   "metadata": {},
   "outputs": [],
   "source": [
    "calls_2020_jun_days.total_per_day.nlargest(5)"
   ]
  },
  {
   "cell_type": "code",
   "execution_count": null,
   "id": "a87e1bff",
   "metadata": {},
   "outputs": [],
   "source": [
    "calls_2020_jun_days.total_per_day.mean()"
   ]
  },
  {
   "cell_type": "markdown",
   "id": "fe7dc89c",
   "metadata": {},
   "source": [
    "Jul 2020 Total for month = 2261 calls"
   ]
  },
  {
   "cell_type": "code",
   "execution_count": null,
   "id": "d0fe248f",
   "metadata": {},
   "outputs": [],
   "source": [
    "calls_2020_jul = calls_2020[calls_2020['month'] == 7]\n",
    "calls_2020_jul['weekday'] = calls_2020_jul['Call_Date'].dt.day_name()\n",
    "calls_2020_jul"
   ]
  },
  {
   "cell_type": "code",
   "execution_count": null,
   "id": "75aba7ae",
   "metadata": {},
   "outputs": [],
   "source": [
    "calls_2020_jul_weekday = calls_2020_jul.groupby('weekday').count()\n",
    "calls_2020_jul_weekday = calls_2020_jul_weekday.drop(columns = ['year', 'month', 'day'])\n",
    "calls_2020_jul_weekday = calls_2020_jul_weekday.rename(columns = {'Call_Date' : 'total_per_weekday'})\n",
    "calls_2020_jul_weekday"
   ]
  },
  {
   "cell_type": "code",
   "execution_count": null,
   "id": "979d8844",
   "metadata": {
    "scrolled": true
   },
   "outputs": [],
   "source": [
    "calls_2020_jul_days = calls_2020_jul.groupby('day').count()\n",
    "calls_2020_jul_days = calls_2020_jul_days.drop(columns = ['year', 'month', 'weekday'])\n",
    "calls_2020_jul_days = calls_2020_jul_days.rename(columns = {'Call_Date' : 'total_per_day'})\n",
    "calls_2020_jul_days"
   ]
  },
  {
   "cell_type": "code",
   "execution_count": null,
   "id": "0ce00a21",
   "metadata": {},
   "outputs": [],
   "source": [
    "calls_2020_jul_days.total_per_day.nlargest(5)"
   ]
  },
  {
   "cell_type": "code",
   "execution_count": null,
   "id": "c40240d0",
   "metadata": {},
   "outputs": [],
   "source": [
    "calls_2020_jul_days.total_per_day.mean()"
   ]
  },
  {
   "cell_type": "markdown",
   "id": "bec30ae3",
   "metadata": {},
   "source": [
    "Aug 2020 Total for month = 2218"
   ]
  },
  {
   "cell_type": "code",
   "execution_count": null,
   "id": "bb303a0c",
   "metadata": {},
   "outputs": [],
   "source": [
    "calls_2020_aug = calls_2020[calls_2020['month'] == 8]\n",
    "calls_2020_aug['weekday'] = calls_2020_aug['Call_Date'].dt.day_name()\n",
    "calls_2020_aug"
   ]
  },
  {
   "cell_type": "code",
   "execution_count": null,
   "id": "144c9481",
   "metadata": {},
   "outputs": [],
   "source": [
    "calls_2020_aug_weekday = calls_2020_aug.groupby('weekday').count()\n",
    "calls_2020_aug_weekday = calls_2020_aug_weekday.drop(columns = ['year', 'month', 'day'])\n",
    "calls_2020_aug_weekday = calls_2020_aug_weekday.rename(columns = {'Call_Date' : 'total_per_weekday'})\n",
    "calls_2020_aug_weekday"
   ]
  },
  {
   "cell_type": "code",
   "execution_count": null,
   "id": "deaba1b7",
   "metadata": {
    "scrolled": true
   },
   "outputs": [],
   "source": [
    "calls_2020_aug_days = calls_2020_aug.groupby('day').count()\n",
    "calls_2020_aug_days = calls_2020_aug_days.drop(columns = ['year', 'month', 'weekday'])\n",
    "calls_2020_aug_days = calls_2020_aug_days.rename(columns = {'Call_Date' : 'total_per_day'})\n",
    "calls_2020_aug_days"
   ]
  },
  {
   "cell_type": "code",
   "execution_count": null,
   "id": "460902cc",
   "metadata": {},
   "outputs": [],
   "source": [
    "calls_2020_aug_days.total_per_day.nlargest(5)"
   ]
  },
  {
   "cell_type": "code",
   "execution_count": null,
   "id": "b2bf28f4",
   "metadata": {},
   "outputs": [],
   "source": [
    "calls_2020_aug_days.total_per_day.mean()"
   ]
  },
  {
   "cell_type": "markdown",
   "id": "0f9cca9a",
   "metadata": {},
   "source": [
    "Sep 2020 Total for month = 2133"
   ]
  },
  {
   "cell_type": "code",
   "execution_count": null,
   "id": "4de954cc",
   "metadata": {},
   "outputs": [],
   "source": [
    "calls_2020_sep = calls_2020[calls_2020['month'] == 9]\n",
    "calls_2020_sep['weekday'] = calls_2020_sep['Call_Date'].dt.day_name()\n",
    "calls_2020_sep"
   ]
  },
  {
   "cell_type": "code",
   "execution_count": null,
   "id": "4ef38357",
   "metadata": {},
   "outputs": [],
   "source": [
    "calls_2020_sep_weekday = calls_2020_sep.groupby('weekday').count()\n",
    "calls_2020_sep_weekday = calls_2020_sep_weekday.drop(columns = ['year', 'month', 'day'])\n",
    "calls_2020_sep_weekday = calls_2020_sep_weekday.rename(columns = {'Call_Date' : 'total_per_weekday'})\n",
    "calls_2020_sep_weekday"
   ]
  },
  {
   "cell_type": "code",
   "execution_count": null,
   "id": "41ca5a12",
   "metadata": {
    "scrolled": true
   },
   "outputs": [],
   "source": [
    "calls_2020_sep_days = calls_2020_sep.groupby('day').count()\n",
    "calls_2020_sep_days = calls_2020_sep_days.drop(columns = ['year', 'month', 'weekday'])\n",
    "calls_2020_sep_days = calls_2020_sep_days.rename(columns = {'Call_Date' : 'total_per_day'})\n",
    "calls_2020_sep_days"
   ]
  },
  {
   "cell_type": "code",
   "execution_count": null,
   "id": "49d5426f",
   "metadata": {},
   "outputs": [],
   "source": [
    "calls_2020_sep_days.total_per_day.nlargest(5)"
   ]
  },
  {
   "cell_type": "code",
   "execution_count": null,
   "id": "74634436",
   "metadata": {},
   "outputs": [],
   "source": [
    "calls_2020_sep_days.total_per_day.mean()"
   ]
  },
  {
   "cell_type": "markdown",
   "id": "cd9b52d7",
   "metadata": {},
   "source": [
    "Oct 2020 Total for month = 2216"
   ]
  },
  {
   "cell_type": "code",
   "execution_count": null,
   "id": "929cca7d",
   "metadata": {},
   "outputs": [],
   "source": [
    "calls_2020_oct = calls_2020[calls_2020['month'] == 10]\n",
    "calls_2020_oct['weekday'] = calls_2020_oct['Call_Date'].dt.day_name()\n",
    "calls_2020_oct"
   ]
  },
  {
   "cell_type": "code",
   "execution_count": null,
   "id": "5a7909c5",
   "metadata": {},
   "outputs": [],
   "source": [
    "calls_2020_oct_weekday = calls_2020_oct.groupby('weekday').count()\n",
    "calls_2020_oct_weekday = calls_2020_oct_weekday.drop(columns = ['year', 'month', 'day'])\n",
    "calls_2020_oct_weekday = calls_2020_oct_weekday.rename(columns = {'Call_Date' : 'total_per_weekday'})\n",
    "calls_2020_oct_weekday"
   ]
  },
  {
   "cell_type": "code",
   "execution_count": null,
   "id": "fce8a987",
   "metadata": {
    "scrolled": true
   },
   "outputs": [],
   "source": [
    "calls_2020_oct_days = calls_2020_oct.groupby('day').count()\n",
    "calls_2020_oct_days = calls_2020_oct_days.drop(columns = ['year', 'month', 'weekday'])\n",
    "calls_2020_oct_days = calls_2020_oct_days.rename(columns = {'Call_Date' : 'total_per_day'})\n",
    "calls_2020_oct_days"
   ]
  },
  {
   "cell_type": "code",
   "execution_count": null,
   "id": "e4a64e5d",
   "metadata": {},
   "outputs": [],
   "source": [
    "calls_2020_oct_days.total_per_day.nlargest(5)"
   ]
  },
  {
   "cell_type": "code",
   "execution_count": null,
   "id": "cefea81a",
   "metadata": {},
   "outputs": [],
   "source": [
    "calls_2020_oct_days.total_per_day.mean()"
   ]
  },
  {
   "cell_type": "markdown",
   "id": "8f981390",
   "metadata": {},
   "source": [
    "Nov 2020 Total for month = 2149"
   ]
  },
  {
   "cell_type": "code",
   "execution_count": null,
   "id": "a2d0c4ed",
   "metadata": {},
   "outputs": [],
   "source": [
    "calls_2020_nov = calls_2020[calls_2020['month'] == 11]\n",
    "calls_2020_nov['weekday'] = calls_2020_nov['Call_Date'].dt.day_name()\n",
    "calls_2020_nov"
   ]
  },
  {
   "cell_type": "code",
   "execution_count": null,
   "id": "534132d8",
   "metadata": {},
   "outputs": [],
   "source": [
    "calls_2020_nov_weekday = calls_2020_nov.groupby('weekday').count()\n",
    "calls_2020_nov_weekday = calls_2020_nov_weekday.drop(columns = ['year', 'month', 'day'])\n",
    "calls_2020_nov_weekday = calls_2020_nov_weekday.rename(columns = {'Call_Date' : 'total_per_weekday'})\n",
    "calls_2020_nov_weekday"
   ]
  },
  {
   "cell_type": "code",
   "execution_count": null,
   "id": "ac4ae035",
   "metadata": {
    "scrolled": true
   },
   "outputs": [],
   "source": [
    "calls_2020_nov_days = calls_2020_nov.groupby('day').count()\n",
    "calls_2020_nov_days = calls_2020_nov_days.drop(columns = ['year', 'month', 'weekday'])\n",
    "calls_2020_nov_days = calls_2020_nov_days.rename(columns = {'Call_Date' : 'total_per_day'})\n",
    "calls_2020_nov_days"
   ]
  },
  {
   "cell_type": "code",
   "execution_count": null,
   "id": "7afb7d6b",
   "metadata": {},
   "outputs": [],
   "source": [
    "calls_2020_nov_days.total_per_day.nlargest(5)"
   ]
  },
  {
   "cell_type": "code",
   "execution_count": null,
   "id": "f6b2e4e8",
   "metadata": {},
   "outputs": [],
   "source": [
    "calls_2020_nov_days.total_per_day.mean()"
   ]
  },
  {
   "cell_type": "markdown",
   "id": "2bd66771",
   "metadata": {},
   "source": [
    "Dec 2020 Total for month = 2041"
   ]
  },
  {
   "cell_type": "code",
   "execution_count": null,
   "id": "80ee684e",
   "metadata": {},
   "outputs": [],
   "source": [
    "calls_2020_dec = calls_2020[calls_2020['month'] == 12]\n",
    "calls_2020_dec['weekday'] = calls_2020_dec['Call_Date'].dt.day_name()\n",
    "calls_2020_dec"
   ]
  },
  {
   "cell_type": "code",
   "execution_count": null,
   "id": "435c8cdb",
   "metadata": {},
   "outputs": [],
   "source": [
    "calls_2020_dec_weekday = calls_2020_dec.groupby('weekday').count()\n",
    "calls_2020_dec_weekday = calls_2020_dec_weekday.drop(columns = ['year', 'month', 'day'])\n",
    "calls_2020_dec_weekday = calls_2020_dec_weekday.rename(columns = {'Call_Date' : 'total_per_weekday'})\n",
    "calls_2020_dec_weekday"
   ]
  },
  {
   "cell_type": "code",
   "execution_count": null,
   "id": "b82d83cb",
   "metadata": {
    "scrolled": true
   },
   "outputs": [],
   "source": [
    "calls_2020_dec_days = calls_2020_dec.groupby('day').count()\n",
    "calls_2020_dec_days = calls_2020_dec_days.drop(columns = ['year', 'month', 'weekday'])\n",
    "calls_2020_dec_days = calls_2020_dec_days.rename(columns = {'Call_Date' : 'total_per_day'})\n",
    "calls_2020_dec_days"
   ]
  },
  {
   "cell_type": "code",
   "execution_count": null,
   "id": "f67c8fb5",
   "metadata": {},
   "outputs": [],
   "source": [
    "calls_2020_dec_days.total_per_day.nlargest(5)"
   ]
  },
  {
   "cell_type": "code",
   "execution_count": null,
   "id": "ce97be94",
   "metadata": {},
   "outputs": [],
   "source": [
    "calls_2020_dec_days.total_per_day.mean()"
   ]
  },
  {
   "cell_type": "code",
   "execution_count": null,
   "id": "4a0d719c",
   "metadata": {},
   "outputs": [],
   "source": []
  }
 ],
 "metadata": {
  "kernelspec": {
   "display_name": "Python 3 (ipykernel)",
   "language": "python",
   "name": "python3"
  },
  "language_info": {
   "codemirror_mode": {
    "name": "ipython",
    "version": 3
   },
   "file_extension": ".py",
   "mimetype": "text/x-python",
   "name": "python",
   "nbconvert_exporter": "python",
   "pygments_lexer": "ipython3",
   "version": "3.9.7"
  }
 },
 "nbformat": 4,
 "nbformat_minor": 5
}
