{
 "cells": [
  {
   "cell_type": "code",
   "execution_count": 1,
   "id": "538bf0f8",
   "metadata": {},
   "outputs": [],
   "source": [
    "import requests\n",
    "import matplotlib.pyplot as plt\n",
    "import json\n",
    "import pandas as pd\n",
    "import matplotlib.pyplot as plt\n",
    "import matplotlib.ticker as mtick\n",
    "import seaborn as sns\n",
    "import numpy as np"
   ]
  },
  {
   "cell_type": "code",
   "execution_count": 2,
   "id": "49cfe115",
   "metadata": {},
   "outputs": [],
   "source": [
    "crisis1 = pd.read_excel('../data/Crisisv.1.xlsx')\n",
    "crisis2 = pd.read_excel('../data/NSSCrisisv.2.xlsx')"
   ]
  },
  {
   "cell_type": "markdown",
   "id": "312280dc",
   "metadata": {},
   "source": [
    "## 2020 DataFrames"
   ]
  },
  {
   "cell_type": "markdown",
   "id": "21603c4e",
   "metadata": {},
   "source": [
    "## High level stats"
   ]
  },
  {
   "cell_type": "code",
   "execution_count": 3,
   "id": "38dd2ea1",
   "metadata": {},
   "outputs": [
    {
     "name": "stdout",
     "output_type": "stream",
     "text": [
      "   year  received  answered  percent_answered\n",
      "0  2020     45772     28483                62\n",
      "1  2021     53975     37036                69\n",
      "2  2022     17265     13201                76\n"
     ]
    }
   ],
   "source": [
    "year_totals = [['2020',45772,28483,62], ['2021',53975,37036,69], ['2022',17265,13201,76]]\n",
    "#Total_Answered_By_Year = ['29459', '37919', '13419']\n",
    "#Total_Unanswered_By_Year = ['16313', '16056', '3846']\n",
    "#Answered_v_Unanswered = pd.DataFrame (list_name, columns = ['column_name'])\n",
    "#Answered_v_Unanswered.plot(x='tbd', y=['tbd'], kind='bar')\n",
    "\n",
    "#products_list = [['laptop',1300],['printer',150],['tablet',300],['desk',450],['chair',200]]\n",
    "\n",
    "year_totals_df = pd.DataFrame (year_totals, columns = ['year', 'received', 'answered', 'percent_answered'])\n",
    "print (year_totals_df)"
   ]
  },
  {
   "cell_type": "code",
   "execution_count": 4,
   "id": "d38ea459",
   "metadata": {},
   "outputs": [
    {
     "data": {
      "text/html": [
       "<div>\n",
       "<style scoped>\n",
       "    .dataframe tbody tr th:only-of-type {\n",
       "        vertical-align: middle;\n",
       "    }\n",
       "\n",
       "    .dataframe tbody tr th {\n",
       "        vertical-align: top;\n",
       "    }\n",
       "\n",
       "    .dataframe thead th {\n",
       "        text-align: right;\n",
       "    }\n",
       "</style>\n",
       "<table border=\"1\" class=\"dataframe\">\n",
       "  <thead>\n",
       "    <tr style=\"text-align: right;\">\n",
       "      <th></th>\n",
       "      <th>Category</th>\n",
       "      <th>Total</th>\n",
       "    </tr>\n",
       "  </thead>\n",
       "  <tbody>\n",
       "    <tr>\n",
       "      <th>0</th>\n",
       "      <td>Number of Received Calls</td>\n",
       "      <td>45772 calls</td>\n",
       "    </tr>\n",
       "    <tr>\n",
       "      <th>1</th>\n",
       "      <td>Number of Answered Calls</td>\n",
       "      <td>28483 calls</td>\n",
       "    </tr>\n",
       "    <tr>\n",
       "      <th>2</th>\n",
       "      <td>Number of Abandoned Unanswered Call</td>\n",
       "      <td>9484 calls</td>\n",
       "    </tr>\n",
       "    <tr>\n",
       "      <th>3</th>\n",
       "      <td>Number of Other Unanswered Calls</td>\n",
       "      <td>6829 calls</td>\n",
       "    </tr>\n",
       "    <tr>\n",
       "      <th>4</th>\n",
       "      <td>Number of Transferred Calls</td>\n",
       "      <td>976 calls</td>\n",
       "    </tr>\n",
       "    <tr>\n",
       "      <th>5</th>\n",
       "      <td>Unanswered Rate</td>\n",
       "      <td>0.1492</td>\n",
       "    </tr>\n",
       "    <tr>\n",
       "      <th>6</th>\n",
       "      <td>Abandon Rate</td>\n",
       "      <td>0.2072</td>\n",
       "    </tr>\n",
       "    <tr>\n",
       "      <th>7</th>\n",
       "      <td>Agent Login</td>\n",
       "      <td>33332</td>\n",
       "    </tr>\n",
       "    <tr>\n",
       "      <th>8</th>\n",
       "      <td>Agent Logoff</td>\n",
       "      <td>33313</td>\n",
       "    </tr>\n",
       "  </tbody>\n",
       "</table>\n",
       "</div>"
      ],
      "text/plain": [
       "                              Category        Total\n",
       "0             Number of Received Calls  45772 calls\n",
       "1             Number of Answered Calls  28483 calls\n",
       "2  Number of Abandoned Unanswered Call   9484 calls\n",
       "3     Number of Other Unanswered Calls   6829 calls\n",
       "4          Number of Transferred Calls    976 calls\n",
       "5                      Unanswered Rate       0.1492\n",
       "6                         Abandon Rate       0.2072\n",
       "7                          Agent Login        33332\n",
       "8                         Agent Logoff        33313"
      ]
     },
     "execution_count": 4,
     "metadata": {},
     "output_type": "execute_result"
    }
   ],
   "source": [
    "stats_2020 = pd.read_excel('../data/call_volume.xlsx', sheet_name='2020', skiprows=10, nrows=9, usecols='A:B')\n",
    "stats_2020.rename(inplace=True, columns={'Total Calls':'Category', 'Unnamed: 1':'Total'})\n",
    "#stats_2020['Total'].sub(' calls', '') this didn't work the way I wanted it to, commenting it out until I figure out how to fix it\n",
    "stats_2020"
   ]
  },
  {
   "cell_type": "code",
   "execution_count": 5,
   "id": "489ad724",
   "metadata": {},
   "outputs": [
    {
     "data": {
      "text/html": [
       "<div>\n",
       "<style scoped>\n",
       "    .dataframe tbody tr th:only-of-type {\n",
       "        vertical-align: middle;\n",
       "    }\n",
       "\n",
       "    .dataframe tbody tr th {\n",
       "        vertical-align: top;\n",
       "    }\n",
       "\n",
       "    .dataframe thead th {\n",
       "        text-align: right;\n",
       "    }\n",
       "</style>\n",
       "<table border=\"1\" class=\"dataframe\">\n",
       "  <thead>\n",
       "    <tr style=\"text-align: right;\">\n",
       "      <th></th>\n",
       "      <th>Category</th>\n",
       "      <th>Total</th>\n",
       "    </tr>\n",
       "  </thead>\n",
       "  <tbody>\n",
       "    <tr>\n",
       "      <th>0</th>\n",
       "      <td>Number of Received Calls</td>\n",
       "      <td>53975 calls</td>\n",
       "    </tr>\n",
       "    <tr>\n",
       "      <th>1</th>\n",
       "      <td>Number of Answered Calls</td>\n",
       "      <td>37036 calls</td>\n",
       "    </tr>\n",
       "    <tr>\n",
       "      <th>2</th>\n",
       "      <td>Number of Abandoned Unanswered Call</td>\n",
       "      <td>10841 calls</td>\n",
       "    </tr>\n",
       "    <tr>\n",
       "      <th>3</th>\n",
       "      <td>Number of Other Unanswered Calls</td>\n",
       "      <td>5215 calls</td>\n",
       "    </tr>\n",
       "    <tr>\n",
       "      <th>4</th>\n",
       "      <td>Number of Transferred Calls</td>\n",
       "      <td>883 calls</td>\n",
       "    </tr>\n",
       "    <tr>\n",
       "      <th>5</th>\n",
       "      <td>Unanswered Rate</td>\n",
       "      <td>0.0966</td>\n",
       "    </tr>\n",
       "    <tr>\n",
       "      <th>6</th>\n",
       "      <td>Abandon Rate</td>\n",
       "      <td>0.2009</td>\n",
       "    </tr>\n",
       "    <tr>\n",
       "      <th>7</th>\n",
       "      <td>Agent Login</td>\n",
       "      <td>37571</td>\n",
       "    </tr>\n",
       "    <tr>\n",
       "      <th>8</th>\n",
       "      <td>Agent Logoff</td>\n",
       "      <td>37534</td>\n",
       "    </tr>\n",
       "  </tbody>\n",
       "</table>\n",
       "</div>"
      ],
      "text/plain": [
       "                              Category        Total\n",
       "0             Number of Received Calls  53975 calls\n",
       "1             Number of Answered Calls  37036 calls\n",
       "2  Number of Abandoned Unanswered Call  10841 calls\n",
       "3     Number of Other Unanswered Calls   5215 calls\n",
       "4          Number of Transferred Calls    883 calls\n",
       "5                      Unanswered Rate       0.0966\n",
       "6                         Abandon Rate       0.2009\n",
       "7                          Agent Login        37571\n",
       "8                         Agent Logoff        37534"
      ]
     },
     "execution_count": 5,
     "metadata": {},
     "output_type": "execute_result"
    }
   ],
   "source": [
    "stats_2021 = pd.read_excel('../data/call_volume.xlsx', sheet_name='2021', skiprows=10, nrows=9, usecols='A:B')\n",
    "stats_2021.rename(inplace=True, columns={'Total Calls':'Category', 'Unnamed: 1':'Total'})\n",
    "stats_2021"
   ]
  },
  {
   "cell_type": "code",
   "execution_count": 6,
   "id": "b53ed2bc",
   "metadata": {},
   "outputs": [
    {
     "data": {
      "text/html": [
       "<div>\n",
       "<style scoped>\n",
       "    .dataframe tbody tr th:only-of-type {\n",
       "        vertical-align: middle;\n",
       "    }\n",
       "\n",
       "    .dataframe tbody tr th {\n",
       "        vertical-align: top;\n",
       "    }\n",
       "\n",
       "    .dataframe thead th {\n",
       "        text-align: right;\n",
       "    }\n",
       "</style>\n",
       "<table border=\"1\" class=\"dataframe\">\n",
       "  <thead>\n",
       "    <tr style=\"text-align: right;\">\n",
       "      <th></th>\n",
       "      <th>Category</th>\n",
       "      <th>Total</th>\n",
       "    </tr>\n",
       "  </thead>\n",
       "  <tbody>\n",
       "    <tr>\n",
       "      <th>0</th>\n",
       "      <td>Number of Received Calls</td>\n",
       "      <td>17265 calls</td>\n",
       "    </tr>\n",
       "    <tr>\n",
       "      <th>1</th>\n",
       "      <td>Number of Answered Calls</td>\n",
       "      <td>13201 calls</td>\n",
       "    </tr>\n",
       "    <tr>\n",
       "      <th>2</th>\n",
       "      <td>Number of Abandoned Unanswered Call</td>\n",
       "      <td>2749 calls</td>\n",
       "    </tr>\n",
       "    <tr>\n",
       "      <th>3</th>\n",
       "      <td>Number of Other Unanswered Calls</td>\n",
       "      <td>1097 calls</td>\n",
       "    </tr>\n",
       "    <tr>\n",
       "      <th>4</th>\n",
       "      <td>Number of Transferred Calls</td>\n",
       "      <td>218 calls</td>\n",
       "    </tr>\n",
       "    <tr>\n",
       "      <th>5</th>\n",
       "      <td>Unanswered Rate</td>\n",
       "      <td>0.0635</td>\n",
       "    </tr>\n",
       "    <tr>\n",
       "      <th>6</th>\n",
       "      <td>Abandon Rate</td>\n",
       "      <td>0.1592</td>\n",
       "    </tr>\n",
       "    <tr>\n",
       "      <th>7</th>\n",
       "      <td>Agent Login</td>\n",
       "      <td>14498</td>\n",
       "    </tr>\n",
       "    <tr>\n",
       "      <th>8</th>\n",
       "      <td>Agent Logoff</td>\n",
       "      <td>14514</td>\n",
       "    </tr>\n",
       "  </tbody>\n",
       "</table>\n",
       "</div>"
      ],
      "text/plain": [
       "                              Category        Total\n",
       "0             Number of Received Calls  17265 calls\n",
       "1             Number of Answered Calls  13201 calls\n",
       "2  Number of Abandoned Unanswered Call   2749 calls\n",
       "3     Number of Other Unanswered Calls   1097 calls\n",
       "4          Number of Transferred Calls    218 calls\n",
       "5                      Unanswered Rate       0.0635\n",
       "6                         Abandon Rate       0.1592\n",
       "7                          Agent Login        14498\n",
       "8                         Agent Logoff        14514"
      ]
     },
     "execution_count": 6,
     "metadata": {},
     "output_type": "execute_result"
    }
   ],
   "source": [
    "stats_2022 = pd.read_excel('../data/call_volume.xlsx', sheet_name='2022', skiprows=7, nrows=9, usecols='A:B')\n",
    "stats_2022.rename(inplace=True, columns={'Total Calls':'Category', 'Unnamed: 1':'Total'})\n",
    "stats_2022"
   ]
  },
  {
   "cell_type": "code",
   "execution_count": 7,
   "id": "abb73db3",
   "metadata": {},
   "outputs": [
    {
     "data": {
      "text/html": [
       "<div>\n",
       "<style scoped>\n",
       "    .dataframe tbody tr th:only-of-type {\n",
       "        vertical-align: middle;\n",
       "    }\n",
       "\n",
       "    .dataframe tbody tr th {\n",
       "        vertical-align: top;\n",
       "    }\n",
       "\n",
       "    .dataframe thead th {\n",
       "        text-align: right;\n",
       "    }\n",
       "</style>\n",
       "<table border=\"1\" class=\"dataframe\">\n",
       "  <thead>\n",
       "    <tr style=\"text-align: right;\">\n",
       "      <th></th>\n",
       "      <th>Category</th>\n",
       "      <th>Total_x</th>\n",
       "      <th>Total_y</th>\n",
       "    </tr>\n",
       "  </thead>\n",
       "  <tbody>\n",
       "    <tr>\n",
       "      <th>0</th>\n",
       "      <td>Number of Received Calls</td>\n",
       "      <td>45772 calls</td>\n",
       "      <td>53975 calls</td>\n",
       "    </tr>\n",
       "    <tr>\n",
       "      <th>1</th>\n",
       "      <td>Number of Answered Calls</td>\n",
       "      <td>28483 calls</td>\n",
       "      <td>37036 calls</td>\n",
       "    </tr>\n",
       "    <tr>\n",
       "      <th>2</th>\n",
       "      <td>Number of Abandoned Unanswered Call</td>\n",
       "      <td>9484 calls</td>\n",
       "      <td>10841 calls</td>\n",
       "    </tr>\n",
       "    <tr>\n",
       "      <th>3</th>\n",
       "      <td>Number of Other Unanswered Calls</td>\n",
       "      <td>6829 calls</td>\n",
       "      <td>5215 calls</td>\n",
       "    </tr>\n",
       "    <tr>\n",
       "      <th>4</th>\n",
       "      <td>Number of Transferred Calls</td>\n",
       "      <td>976 calls</td>\n",
       "      <td>883 calls</td>\n",
       "    </tr>\n",
       "    <tr>\n",
       "      <th>5</th>\n",
       "      <td>Unanswered Rate</td>\n",
       "      <td>0.1492</td>\n",
       "      <td>0.0966</td>\n",
       "    </tr>\n",
       "    <tr>\n",
       "      <th>6</th>\n",
       "      <td>Abandon Rate</td>\n",
       "      <td>0.2072</td>\n",
       "      <td>0.2009</td>\n",
       "    </tr>\n",
       "    <tr>\n",
       "      <th>7</th>\n",
       "      <td>Agent Login</td>\n",
       "      <td>33332</td>\n",
       "      <td>37571</td>\n",
       "    </tr>\n",
       "    <tr>\n",
       "      <th>8</th>\n",
       "      <td>Agent Logoff</td>\n",
       "      <td>33313</td>\n",
       "      <td>37534</td>\n",
       "    </tr>\n",
       "  </tbody>\n",
       "</table>\n",
       "</div>"
      ],
      "text/plain": [
       "                              Category      Total_x      Total_y\n",
       "0             Number of Received Calls  45772 calls  53975 calls\n",
       "1             Number of Answered Calls  28483 calls  37036 calls\n",
       "2  Number of Abandoned Unanswered Call   9484 calls  10841 calls\n",
       "3     Number of Other Unanswered Calls   6829 calls   5215 calls\n",
       "4          Number of Transferred Calls    976 calls    883 calls\n",
       "5                      Unanswered Rate       0.1492       0.0966\n",
       "6                         Abandon Rate       0.2072       0.2009\n",
       "7                          Agent Login        33332        37571\n",
       "8                         Agent Logoff        33313        37534"
      ]
     },
     "execution_count": 7,
     "metadata": {},
     "output_type": "execute_result"
    }
   ],
   "source": [
    "stats_2020_2021 = pd.merge(stats_2020, stats_2021, on='Category', how='inner')\n",
    "stats_2020_2021"
   ]
  },
  {
   "cell_type": "code",
   "execution_count": 8,
   "id": "64e12484",
   "metadata": {},
   "outputs": [
    {
     "data": {
      "text/html": [
       "<div>\n",
       "<style scoped>\n",
       "    .dataframe tbody tr th:only-of-type {\n",
       "        vertical-align: middle;\n",
       "    }\n",
       "\n",
       "    .dataframe tbody tr th {\n",
       "        vertical-align: top;\n",
       "    }\n",
       "\n",
       "    .dataframe thead th {\n",
       "        text-align: right;\n",
       "    }\n",
       "</style>\n",
       "<table border=\"1\" class=\"dataframe\">\n",
       "  <thead>\n",
       "    <tr style=\"text-align: right;\">\n",
       "      <th></th>\n",
       "      <th>Category</th>\n",
       "      <th>2020</th>\n",
       "      <th>2021</th>\n",
       "      <th>2022</th>\n",
       "    </tr>\n",
       "  </thead>\n",
       "  <tbody>\n",
       "    <tr>\n",
       "      <th>0</th>\n",
       "      <td>Number of Received Calls</td>\n",
       "      <td>45772 calls</td>\n",
       "      <td>53975 calls</td>\n",
       "      <td>17265 calls</td>\n",
       "    </tr>\n",
       "    <tr>\n",
       "      <th>1</th>\n",
       "      <td>Number of Answered Calls</td>\n",
       "      <td>28483 calls</td>\n",
       "      <td>37036 calls</td>\n",
       "      <td>13201 calls</td>\n",
       "    </tr>\n",
       "    <tr>\n",
       "      <th>2</th>\n",
       "      <td>Number of Abandoned Unanswered Call</td>\n",
       "      <td>9484 calls</td>\n",
       "      <td>10841 calls</td>\n",
       "      <td>2749 calls</td>\n",
       "    </tr>\n",
       "    <tr>\n",
       "      <th>3</th>\n",
       "      <td>Number of Other Unanswered Calls</td>\n",
       "      <td>6829 calls</td>\n",
       "      <td>5215 calls</td>\n",
       "      <td>1097 calls</td>\n",
       "    </tr>\n",
       "    <tr>\n",
       "      <th>4</th>\n",
       "      <td>Number of Transferred Calls</td>\n",
       "      <td>976 calls</td>\n",
       "      <td>883 calls</td>\n",
       "      <td>218 calls</td>\n",
       "    </tr>\n",
       "    <tr>\n",
       "      <th>5</th>\n",
       "      <td>Unanswered Rate</td>\n",
       "      <td>0.1492</td>\n",
       "      <td>0.0966</td>\n",
       "      <td>0.0635</td>\n",
       "    </tr>\n",
       "    <tr>\n",
       "      <th>6</th>\n",
       "      <td>Abandon Rate</td>\n",
       "      <td>0.2072</td>\n",
       "      <td>0.2009</td>\n",
       "      <td>0.1592</td>\n",
       "    </tr>\n",
       "    <tr>\n",
       "      <th>7</th>\n",
       "      <td>Agent Login</td>\n",
       "      <td>33332</td>\n",
       "      <td>37571</td>\n",
       "      <td>14498</td>\n",
       "    </tr>\n",
       "    <tr>\n",
       "      <th>8</th>\n",
       "      <td>Agent Logoff</td>\n",
       "      <td>33313</td>\n",
       "      <td>37534</td>\n",
       "      <td>14514</td>\n",
       "    </tr>\n",
       "  </tbody>\n",
       "</table>\n",
       "</div>"
      ],
      "text/plain": [
       "                              Category         2020         2021         2022\n",
       "0             Number of Received Calls  45772 calls  53975 calls  17265 calls\n",
       "1             Number of Answered Calls  28483 calls  37036 calls  13201 calls\n",
       "2  Number of Abandoned Unanswered Call   9484 calls  10841 calls   2749 calls\n",
       "3     Number of Other Unanswered Calls   6829 calls   5215 calls   1097 calls\n",
       "4          Number of Transferred Calls    976 calls    883 calls    218 calls\n",
       "5                      Unanswered Rate       0.1492       0.0966       0.0635\n",
       "6                         Abandon Rate       0.2072       0.2009       0.1592\n",
       "7                          Agent Login        33332        37571        14498\n",
       "8                         Agent Logoff        33313        37534        14514"
      ]
     },
     "execution_count": 8,
     "metadata": {},
     "output_type": "execute_result"
    }
   ],
   "source": [
    "stats_2020_2022 = pd.merge(stats_2020_2021, stats_2022, on='Category', how='inner')\n",
    "stats_2020_2022.columns = ['Category', '2020', '2021', '2022']\n",
    "stats_2020_2022"
   ]
  },
  {
   "cell_type": "code",
   "execution_count": 9,
   "id": "11335a26",
   "metadata": {},
   "outputs": [
    {
     "name": "stdout",
     "output_type": "stream",
     "text": [
      "<class 'pandas.core.frame.DataFrame'>\n",
      "Int64Index: 9 entries, 0 to 8\n",
      "Data columns (total 4 columns):\n",
      " #   Column    Non-Null Count  Dtype \n",
      "---  ------    --------------  ----- \n",
      " 0   Category  9 non-null      object\n",
      " 1   2020      9 non-null      object\n",
      " 2   2021      9 non-null      object\n",
      " 3   2022      9 non-null      object\n",
      "dtypes: object(4)\n",
      "memory usage: 360.0+ bytes\n"
     ]
    }
   ],
   "source": [
    "stats_2020_2022.info()"
   ]
  },
  {
   "cell_type": "markdown",
   "id": "6569fe8a",
   "metadata": {},
   "source": [
    "## High level stat pie charts"
   ]
  },
  {
   "cell_type": "code",
   "execution_count": 31,
   "id": "3f923118",
   "metadata": {},
   "outputs": [
    {
     "data": {
      "image/png": "[encoded data removed]",
      "text/plain": [
       "<Figure size 360x360 with 1 Axes>"
      ]
     },
     "metadata": {},
     "output_type": "display_data"
    }
   ],
   "source": [
    "df_2020 = pd.DataFrame({'2020': [28483, 9484, 6829]},\n",
    "                  index=['Answered', 'Abandoned Unanswered', 'Other Unanswered'])\n",
    "colors=['#31688e', '#21918c', '#35b779']\n",
    "explode = (0.1, 0, 0)\n",
    "plot_2020 = df_2020.plot.pie(y='2020', figsize=(5, 5), autopct='%1.0f%%', colors=colors, \n",
    "                             explode=explode, shadow=True, labeldistance=None, legend=None, \n",
    "                            wedgeprops = {\"edgecolor\" : \"black\",\n",
    "                                      'linewidth': 0.5,\n",
    "                                    'antialiased': True})\n",
    "plt.title('2020', fontsize=16);"
   ]
  },
  {
   "cell_type": "code",
   "execution_count": 32,
   "id": "5db0dde8",
   "metadata": {},
   "outputs": [
    {
     "data": {
      "image/png": "[encoded data removed]",
      "text/plain": [
       "<Figure size 360x360 with 1 Axes>"
      ]
     },
     "metadata": {},
     "output_type": "display_data"
    }
   ],
   "source": [
    "df_2021 = pd.DataFrame({'2021': [37036, 10841, 5215]},\n",
    "                  index=['Answered', 'Abandoned Unanswered', 'Other Unanswered'])\n",
    "colors=['#31688e', '#21918c', '#35b779']\n",
    "explode = (0.1, 0, 0)\n",
    "plot_2021 = df_2021.plot.pie(y='2021', figsize=(5, 5), autopct='%1.0f%%', colors=colors, \n",
    "                             explode=explode, shadow=True, labeldistance=None, legend=None, \n",
    "                            wedgeprops = {\"edgecolor\" : \"black\",\n",
    "                                      'linewidth': 0.5,\n",
    "                                    'antialiased': True})\n",
    "plt.title('2021', fontsize=16);"
   ]
  },
  {
   "cell_type": "code",
   "execution_count": 33,
   "id": "a77d7051",
   "metadata": {},
   "outputs": [
    {
     "data": {
      "image/png": "[encoded data removed]",
      "text/plain": [
       "<Figure size 360x360 with 1 Axes>"
      ]
     },
     "metadata": {},
     "output_type": "display_data"
    }
   ],
   "source": [
    "df_2022 = pd.DataFrame({'2022': [13201, 2749, 1097]},\n",
    "                  index=['Answered', 'Abandoned Unanswered', 'Other Unanswered'])\n",
    "colors=['#31688e', '#21918c', '#35b779']\n",
    "explode = (0.1, 0, 0)\n",
    "plot_2022 = df_2022.plot.pie(y='2022', figsize=(5, 5), autopct='%1.0f%%', colors=colors, \n",
    "                             explode=explode, shadow=True, labeldistance=None, legend=None, \n",
    "                            wedgeprops = {\"edgecolor\" : \"black\",\n",
    "                                      'linewidth': 0.5,\n",
    "                                    'antialiased': True})\n",
    "plt.title('2022', fontsize=16);"
   ]
  },
  {
   "cell_type": "code",
   "execution_count": 50,
   "id": "45d7cd13",
   "metadata": {},
   "outputs": [
    {
     "data": {
      "image/png": "[encoded data removed]",
      "text/plain": [
       "<Figure size 360x360 with 1 Axes>"
      ]
     },
     "metadata": {},
     "output_type": "display_data"
    }
   ],
   "source": [
    "df_2022 = pd.DataFrame({'2022': [13201, 2749, 1097]},\n",
    "                  index=['Answered', 'Abandoned Unanswered', 'Other Unanswered'])\n",
    "colors=['#31688e', '#21918c', '#35b779']\n",
    "explode = (0.1, 0, 0)\n",
    "plot_2022 = df_2022.plot.pie(y='2022', figsize=(5, 5), autopct='%1.0f%%', colors=colors, \n",
    "                             explode=explode, shadow=True,  \n",
    "                            wedgeprops = {\"edgecolor\" : \"black\",\n",
    "                                      'linewidth': 0.5,\n",
    "                                    'antialiased': True})\n",
    "plt.legend(bbox_to_anchor=(1,0))\n",
    "plt.title('2022', fontsize=16);"
   ]
  },
  {
   "cell_type": "code",
   "execution_count": 34,
   "id": "78c4a707",
   "metadata": {},
   "outputs": [
    {
     "data": {
      "image/png": "[encoded data removed]",
      "text/plain": [
       "<Figure size 360x360 with 1 Axes>"
      ]
     },
     "metadata": {},
     "output_type": "display_data"
    }
   ],
   "source": [
    "df_2020 = pd.DataFrame({'2020': [28483, 9484, 6829]},\n",
    "                  index=['Answered', 'Abandoned Unanswered', 'Other Unanswered'])\n",
    "colors=['#404688', '#365d8d', '#2c728e']\n",
    "explode = (0.1, 0, 0)\n",
    "plot_2020 = df_2020.plot.pie(y='2020', figsize=(5, 5), autopct='%1.0f%%', colors=colors, \n",
    "                             explode=explode, shadow=True, labeldistance=None, legend=None, \n",
    "                            wedgeprops = {\"edgecolor\" : \"black\",\n",
    "                                      'linewidth': 0.5,\n",
    "                                    'antialiased': True})\n",
    "plt.legend(loc=\"upper right\")\n",
    "plt.title('2020', fontsize=16);"
   ]
  },
  {
   "cell_type": "code",
   "execution_count": 35,
   "id": "f1a6daab",
   "metadata": {},
   "outputs": [
    {
     "data": {
      "image/png": "[encoded data removed]",
      "text/plain": [
       "<Figure size 360x360 with 1 Axes>"
      ]
     },
     "metadata": {},
     "output_type": "display_data"
    }
   ],
   "source": [
    "df_2020 = pd.DataFrame({'2020': [28483, 9484, 6829]},\n",
    "                  index=['Answered', 'Abandoned Unanswered', 'Other Unanswered'])\n",
    "colors=['#31688e', '#21918c', '#35b779']\n",
    "plot_2020 = df_2020.plot.pie(y='2020', figsize=(5, 5), autopct='%1.0f%%', colors=colors)\n",
    "plt.legend(loc=\"upper right\")\n",
    "plt.title('2020 Call Stats', fontsize=16);"
   ]
  },
  {
   "cell_type": "code",
   "execution_count": 36,
   "id": "fdd86431",
   "metadata": {},
   "outputs": [
    {
     "data": {
      "image/png": "[encoded data removed]",
      "text/plain": [
       "<Figure size 360x360 with 1 Axes>"
      ]
     },
     "metadata": {},
     "output_type": "display_data"
    }
   ],
   "source": [
    "df_2021 = pd.DataFrame({'2021': [37036, 10841, 5215]},\n",
    "                  index=['Answered', 'Abandoned Unanswered', 'Other Unanswered'])\n",
    "colors=['#287c8e', '#21918c', '#28ae80']\n",
    "explode = (0.1, 0, 0)\n",
    "plot_2021 = df_2021.plot.pie(y='2021', figsize=(5, 5), autopct='%1.0f%%', colors=colors, \n",
    "                             explode=explode, shadow=True, labeldistance=None, legend=None, \n",
    "                            wedgeprops = {\"edgecolor\" : \"black\",\n",
    "                                      'linewidth': 0.5,\n",
    "                                    'antialiased': True})\n",
    "plt.legend(loc=\"upper right\")\n",
    "plt.title('2021', fontsize=16);"
   ]
  },
  {
   "cell_type": "code",
   "execution_count": 37,
   "id": "a80bd658",
   "metadata": {},
   "outputs": [
    {
     "data": {
      "image/png": "[encoded data removed]",
      "text/plain": [
       "<Figure size 360x360 with 1 Axes>"
      ]
     },
     "metadata": {},
     "output_type": "display_data"
    }
   ],
   "source": [
    "df_2022 = pd.DataFrame({'2022': [13201, 2749, 1097]},\n",
    "                  index=['Answered', 'Abandoned Unanswered', 'Other Unanswered'])\n",
    "colors=['#48c16e', '#75d054', '#addc30']\n",
    "explode = (0.1, 0, 0)\n",
    "plot_2022 = df_2022.plot.pie(y='2022', figsize=(5, 5), autopct='%1.0f%%', colors=colors, \n",
    "                             explode=explode, shadow=True, labeldistance=None, legend=None, \n",
    "                            wedgeprops = {\"edgecolor\" : \"black\",\n",
    "                                      'linewidth': 0.5,\n",
    "                                    'antialiased': True})\n",
    "plt.legend(loc=\"upper right\")\n",
    "plt.title('2022', fontsize=16);"
   ]
  },
  {
   "cell_type": "markdown",
   "id": "9cd45edc",
   "metadata": {},
   "source": [
    "## other 2020 dfs"
   ]
  },
  {
   "cell_type": "code",
   "execution_count": null,
   "id": "3c738e40",
   "metadata": {},
   "outputs": [],
   "source": [
    "queue_dist_2020 = pd.read_excel('../data/call_volume.xlsx', sheet_name='2020', skiprows=23, nrows=12, usecols='A:I')\n",
    "queue_dist_2020"
   ]
  },
  {
   "cell_type": "code",
   "execution_count": null,
   "id": "43fcc9c9",
   "metadata": {},
   "outputs": [],
   "source": [
    "month_dist_2020 = pd.read_excel('../data/call_volume.xlsx', sheet_name='2020', skiprows=39, nrows=12, usecols='A:K')\n",
    "month_dist_2020"
   ]
  },
  {
   "cell_type": "code",
   "execution_count": null,
   "id": "dff74407",
   "metadata": {},
   "outputs": [],
   "source": [
    "day_dist_2020 = pd.read_excel('../data/call_volume.xlsx', sheet_name='2020', skiprows=55, nrows=7, usecols='A:K')\n",
    "day_dist_2020"
   ]
  },
  {
   "cell_type": "code",
   "execution_count": null,
   "id": "056dbd25",
   "metadata": {},
   "outputs": [],
   "source": [
    "queue_answered_2020 = pd.read_excel('../data/call_volume.xlsx', sheet_name='2020', skiprows=66, nrows=10, usecols='A:C')\n",
    "queue_answered_2020"
   ]
  },
  {
   "cell_type": "markdown",
   "id": "49f46b01",
   "metadata": {},
   "source": [
    "## Service Speed Charts"
   ]
  },
  {
   "cell_type": "code",
   "execution_count": 13,
   "id": "1fd07fb2",
   "metadata": {},
   "outputs": [
    {
     "data": {
      "text/html": [
       "<div>\n",
       "<style scoped>\n",
       "    .dataframe tbody tr th:only-of-type {\n",
       "        vertical-align: middle;\n",
       "    }\n",
       "\n",
       "    .dataframe tbody tr th {\n",
       "        vertical-align: top;\n",
       "    }\n",
       "\n",
       "    .dataframe thead th {\n",
       "        text-align: right;\n",
       "    }\n",
       "</style>\n",
       "<table border=\"1\" class=\"dataframe\">\n",
       "  <thead>\n",
       "    <tr style=\"text-align: right;\">\n",
       "      <th></th>\n",
       "      <th>Answer</th>\n",
       "      <th>Count_2020</th>\n",
       "      <th>Delta_2020</th>\n",
       "      <th>Percent_2020</th>\n",
       "    </tr>\n",
       "  </thead>\n",
       "  <tbody>\n",
       "    <tr>\n",
       "      <th>0</th>\n",
       "      <td>Within 15 secs</td>\n",
       "      <td>21405 calls</td>\n",
       "      <td>21405</td>\n",
       "      <td>0.7266</td>\n",
       "    </tr>\n",
       "    <tr>\n",
       "      <th>1</th>\n",
       "      <td>Within 30 secs</td>\n",
       "      <td>25052 calls</td>\n",
       "      <td>3647</td>\n",
       "      <td>0.8504</td>\n",
       "    </tr>\n",
       "    <tr>\n",
       "      <th>2</th>\n",
       "      <td>Within 45 secs</td>\n",
       "      <td>26068 calls</td>\n",
       "      <td>1016</td>\n",
       "      <td>0.8849</td>\n",
       "    </tr>\n",
       "    <tr>\n",
       "      <th>3</th>\n",
       "      <td>Within 60 secs</td>\n",
       "      <td>26734 calls</td>\n",
       "      <td>666</td>\n",
       "      <td>0.9075</td>\n",
       "    </tr>\n",
       "    <tr>\n",
       "      <th>4</th>\n",
       "      <td>Within 75 secs</td>\n",
       "      <td>27090 calls</td>\n",
       "      <td>356</td>\n",
       "      <td>0.9196</td>\n",
       "    </tr>\n",
       "    <tr>\n",
       "      <th>5</th>\n",
       "      <td>Within 90 secs</td>\n",
       "      <td>27310 calls</td>\n",
       "      <td>220</td>\n",
       "      <td>0.9271</td>\n",
       "    </tr>\n",
       "    <tr>\n",
       "      <th>6</th>\n",
       "      <td>Within 105 secs</td>\n",
       "      <td>27492 calls</td>\n",
       "      <td>182</td>\n",
       "      <td>0.9332</td>\n",
       "    </tr>\n",
       "    <tr>\n",
       "      <th>7</th>\n",
       "      <td>Within 120 secs</td>\n",
       "      <td>27677 calls</td>\n",
       "      <td>185</td>\n",
       "      <td>0.9395</td>\n",
       "    </tr>\n",
       "    <tr>\n",
       "      <th>8</th>\n",
       "      <td>Within 135 secs</td>\n",
       "      <td>27722 calls</td>\n",
       "      <td>45</td>\n",
       "      <td>0.9410</td>\n",
       "    </tr>\n",
       "    <tr>\n",
       "      <th>9</th>\n",
       "      <td>Within 150+ secs</td>\n",
       "      <td>29459 calls</td>\n",
       "      <td>1737</td>\n",
       "      <td>1.0000</td>\n",
       "    </tr>\n",
       "  </tbody>\n",
       "</table>\n",
       "</div>"
      ],
      "text/plain": [
       "             Answer   Count_2020  Delta_2020  Percent_2020\n",
       "0    Within 15 secs  21405 calls       21405        0.7266\n",
       "1    Within 30 secs  25052 calls        3647        0.8504\n",
       "2    Within 45 secs  26068 calls        1016        0.8849\n",
       "3    Within 60 secs  26734 calls         666        0.9075\n",
       "4    Within 75 secs  27090 calls         356        0.9196\n",
       "5    Within 90 secs  27310 calls         220        0.9271\n",
       "6   Within 105 secs  27492 calls         182        0.9332\n",
       "7   Within 120 secs  27677 calls         185        0.9395\n",
       "8   Within 135 secs  27722 calls          45        0.9410\n",
       "9  Within 150+ secs  29459 calls        1737        1.0000"
      ]
     },
     "execution_count": 13,
     "metadata": {},
     "output_type": "execute_result"
    }
   ],
   "source": [
    "service_speed_2020 = pd.read_excel('../data/call_volume.xlsx', sheet_name='2020', skiprows=80, nrows=10, usecols='A:D')\n",
    "service_speed_2020.columns = ['Answer', 'Count_2020', 'Delta_2020', 'Percent_2020']\n",
    "service_speed_2020"
   ]
  },
  {
   "cell_type": "code",
   "execution_count": 14,
   "id": "ded69066",
   "metadata": {},
   "outputs": [
    {
     "data": {
      "text/html": [
       "<div>\n",
       "<style scoped>\n",
       "    .dataframe tbody tr th:only-of-type {\n",
       "        vertical-align: middle;\n",
       "    }\n",
       "\n",
       "    .dataframe tbody tr th {\n",
       "        vertical-align: top;\n",
       "    }\n",
       "\n",
       "    .dataframe thead th {\n",
       "        text-align: right;\n",
       "    }\n",
       "</style>\n",
       "<table border=\"1\" class=\"dataframe\">\n",
       "  <thead>\n",
       "    <tr style=\"text-align: right;\">\n",
       "      <th></th>\n",
       "      <th>Answer</th>\n",
       "      <th>Count_2020</th>\n",
       "      <th>Delta_2020</th>\n",
       "      <th>Percent_2020</th>\n",
       "    </tr>\n",
       "  </thead>\n",
       "  <tbody>\n",
       "    <tr>\n",
       "      <th>0</th>\n",
       "      <td>Within 15 secs</td>\n",
       "      <td>21405 calls</td>\n",
       "      <td>21405</td>\n",
       "      <td>72.66</td>\n",
       "    </tr>\n",
       "    <tr>\n",
       "      <th>1</th>\n",
       "      <td>Within 30 secs</td>\n",
       "      <td>25052 calls</td>\n",
       "      <td>3647</td>\n",
       "      <td>85.04</td>\n",
       "    </tr>\n",
       "    <tr>\n",
       "      <th>2</th>\n",
       "      <td>Within 45 secs</td>\n",
       "      <td>26068 calls</td>\n",
       "      <td>1016</td>\n",
       "      <td>88.49</td>\n",
       "    </tr>\n",
       "    <tr>\n",
       "      <th>3</th>\n",
       "      <td>Within 60 secs</td>\n",
       "      <td>26734 calls</td>\n",
       "      <td>666</td>\n",
       "      <td>90.75</td>\n",
       "    </tr>\n",
       "    <tr>\n",
       "      <th>4</th>\n",
       "      <td>Within 75 secs</td>\n",
       "      <td>27090 calls</td>\n",
       "      <td>356</td>\n",
       "      <td>91.96</td>\n",
       "    </tr>\n",
       "    <tr>\n",
       "      <th>5</th>\n",
       "      <td>Within 90 secs</td>\n",
       "      <td>27310 calls</td>\n",
       "      <td>220</td>\n",
       "      <td>92.71</td>\n",
       "    </tr>\n",
       "    <tr>\n",
       "      <th>6</th>\n",
       "      <td>Within 105 secs</td>\n",
       "      <td>27492 calls</td>\n",
       "      <td>182</td>\n",
       "      <td>93.32</td>\n",
       "    </tr>\n",
       "    <tr>\n",
       "      <th>7</th>\n",
       "      <td>Within 120 secs</td>\n",
       "      <td>27677 calls</td>\n",
       "      <td>185</td>\n",
       "      <td>93.95</td>\n",
       "    </tr>\n",
       "    <tr>\n",
       "      <th>8</th>\n",
       "      <td>Within 135 secs</td>\n",
       "      <td>27722 calls</td>\n",
       "      <td>45</td>\n",
       "      <td>94.10</td>\n",
       "    </tr>\n",
       "    <tr>\n",
       "      <th>9</th>\n",
       "      <td>Within 150+ secs</td>\n",
       "      <td>29459 calls</td>\n",
       "      <td>1737</td>\n",
       "      <td>100.00</td>\n",
       "    </tr>\n",
       "  </tbody>\n",
       "</table>\n",
       "</div>"
      ],
      "text/plain": [
       "             Answer   Count_2020  Delta_2020  Percent_2020\n",
       "0    Within 15 secs  21405 calls       21405         72.66\n",
       "1    Within 30 secs  25052 calls        3647         85.04\n",
       "2    Within 45 secs  26068 calls        1016         88.49\n",
       "3    Within 60 secs  26734 calls         666         90.75\n",
       "4    Within 75 secs  27090 calls         356         91.96\n",
       "5    Within 90 secs  27310 calls         220         92.71\n",
       "6   Within 105 secs  27492 calls         182         93.32\n",
       "7   Within 120 secs  27677 calls         185         93.95\n",
       "8   Within 135 secs  27722 calls          45         94.10\n",
       "9  Within 150+ secs  29459 calls        1737        100.00"
      ]
     },
     "execution_count": 14,
     "metadata": {},
     "output_type": "execute_result"
    }
   ],
   "source": [
    "#month_dist_2022[‘% Answ’] = (month_dist_2022[‘% Answ’]*100).round(2)\n",
    "service_speed_2020['Percent_2020'] = (service_speed_2020['Percent_2020']*100).round(2)\n",
    "service_speed_2020"
   ]
  },
  {
   "cell_type": "code",
   "execution_count": 15,
   "id": "1ee5d728",
   "metadata": {},
   "outputs": [],
   "source": [
    "# Declare a list that is to be converted into a column\n",
    "#year = ['2020', '2020', '2020', '2020', '2020', '2020', '2020', '2020', '2020', '2020',]\n",
    "# Using 'Address' as the column name\n",
    "# and equating it to the list\n",
    "#service_speed_2020['Year'] = year\n",
    "#service_speed_2020"
   ]
  },
  {
   "cell_type": "code",
   "execution_count": 16,
   "id": "32768428",
   "metadata": {},
   "outputs": [
    {
     "data": {
      "text/html": [
       "<div>\n",
       "<style scoped>\n",
       "    .dataframe tbody tr th:only-of-type {\n",
       "        vertical-align: middle;\n",
       "    }\n",
       "\n",
       "    .dataframe tbody tr th {\n",
       "        vertical-align: top;\n",
       "    }\n",
       "\n",
       "    .dataframe thead th {\n",
       "        text-align: right;\n",
       "    }\n",
       "</style>\n",
       "<table border=\"1\" class=\"dataframe\">\n",
       "  <thead>\n",
       "    <tr style=\"text-align: right;\">\n",
       "      <th></th>\n",
       "      <th>Answer</th>\n",
       "      <th>Count_2021</th>\n",
       "      <th>Delta_2021</th>\n",
       "      <th>Percent_2021</th>\n",
       "    </tr>\n",
       "  </thead>\n",
       "  <tbody>\n",
       "    <tr>\n",
       "      <th>0</th>\n",
       "      <td>Within 15 secs</td>\n",
       "      <td>27645 calls</td>\n",
       "      <td>27645</td>\n",
       "      <td>72.91</td>\n",
       "    </tr>\n",
       "    <tr>\n",
       "      <th>1</th>\n",
       "      <td>Within 30 secs</td>\n",
       "      <td>32077 calls</td>\n",
       "      <td>4432</td>\n",
       "      <td>84.59</td>\n",
       "    </tr>\n",
       "    <tr>\n",
       "      <th>2</th>\n",
       "      <td>Within 45 secs</td>\n",
       "      <td>33423 calls</td>\n",
       "      <td>1346</td>\n",
       "      <td>88.14</td>\n",
       "    </tr>\n",
       "    <tr>\n",
       "      <th>3</th>\n",
       "      <td>Within 60 secs</td>\n",
       "      <td>34160 calls</td>\n",
       "      <td>737</td>\n",
       "      <td>90.09</td>\n",
       "    </tr>\n",
       "    <tr>\n",
       "      <th>4</th>\n",
       "      <td>Within 75 secs</td>\n",
       "      <td>34615 calls</td>\n",
       "      <td>455</td>\n",
       "      <td>91.29</td>\n",
       "    </tr>\n",
       "    <tr>\n",
       "      <th>5</th>\n",
       "      <td>Within 90 secs</td>\n",
       "      <td>34985 calls</td>\n",
       "      <td>370</td>\n",
       "      <td>92.26</td>\n",
       "    </tr>\n",
       "    <tr>\n",
       "      <th>6</th>\n",
       "      <td>Within 105 secs</td>\n",
       "      <td>35301 calls</td>\n",
       "      <td>316</td>\n",
       "      <td>93.10</td>\n",
       "    </tr>\n",
       "    <tr>\n",
       "      <th>7</th>\n",
       "      <td>Within 120 secs</td>\n",
       "      <td>35550 calls</td>\n",
       "      <td>249</td>\n",
       "      <td>93.75</td>\n",
       "    </tr>\n",
       "    <tr>\n",
       "      <th>8</th>\n",
       "      <td>Within 135 secs</td>\n",
       "      <td>35676 calls</td>\n",
       "      <td>126</td>\n",
       "      <td>94.08</td>\n",
       "    </tr>\n",
       "    <tr>\n",
       "      <th>9</th>\n",
       "      <td>Within 150+ secs</td>\n",
       "      <td>37919 calls</td>\n",
       "      <td>2243</td>\n",
       "      <td>100.00</td>\n",
       "    </tr>\n",
       "  </tbody>\n",
       "</table>\n",
       "</div>"
      ],
      "text/plain": [
       "             Answer   Count_2021  Delta_2021  Percent_2021\n",
       "0    Within 15 secs  27645 calls       27645         72.91\n",
       "1    Within 30 secs  32077 calls        4432         84.59\n",
       "2    Within 45 secs  33423 calls        1346         88.14\n",
       "3    Within 60 secs  34160 calls         737         90.09\n",
       "4    Within 75 secs  34615 calls         455         91.29\n",
       "5    Within 90 secs  34985 calls         370         92.26\n",
       "6   Within 105 secs  35301 calls         316         93.10\n",
       "7   Within 120 secs  35550 calls         249         93.75\n",
       "8   Within 135 secs  35676 calls         126         94.08\n",
       "9  Within 150+ secs  37919 calls        2243        100.00"
      ]
     },
     "execution_count": 16,
     "metadata": {},
     "output_type": "execute_result"
    }
   ],
   "source": [
    "service_speed_2021 = pd.read_excel('../data/call_volume.xlsx', sheet_name='2021', skiprows=93, nrows=10, usecols='A:D')\n",
    "service_speed_2021.columns = ['Answer', 'Count_2021', 'Delta_2021', 'Percent_2021']\n",
    "service_speed_2021['Percent_2021'] = (service_speed_2021['Percent_2021']*100).round(2)\n",
    "service_speed_2021"
   ]
  },
  {
   "cell_type": "code",
   "execution_count": 17,
   "id": "47ac5587",
   "metadata": {},
   "outputs": [],
   "source": [
    "#year = ['2021', '2021', '2021', '2021', '2021', '2021', '2021', '2021', '2021', '2021',]\n",
    "#service_speed_2021['Year'] = year\n",
    "#service_speed_2021"
   ]
  },
  {
   "cell_type": "code",
   "execution_count": 18,
   "id": "6e3fe4a0",
   "metadata": {
    "scrolled": true
   },
   "outputs": [
    {
     "data": {
      "text/html": [
       "<div>\n",
       "<style scoped>\n",
       "    .dataframe tbody tr th:only-of-type {\n",
       "        vertical-align: middle;\n",
       "    }\n",
       "\n",
       "    .dataframe tbody tr th {\n",
       "        vertical-align: top;\n",
       "    }\n",
       "\n",
       "    .dataframe thead th {\n",
       "        text-align: right;\n",
       "    }\n",
       "</style>\n",
       "<table border=\"1\" class=\"dataframe\">\n",
       "  <thead>\n",
       "    <tr style=\"text-align: right;\">\n",
       "      <th></th>\n",
       "      <th>Answer</th>\n",
       "      <th>Count_2022</th>\n",
       "      <th>Delta_2022</th>\n",
       "      <th>Percent_2022</th>\n",
       "    </tr>\n",
       "  </thead>\n",
       "  <tbody>\n",
       "    <tr>\n",
       "      <th>0</th>\n",
       "      <td>Within 15 secs</td>\n",
       "      <td>10235 calls</td>\n",
       "      <td>10235</td>\n",
       "      <td>76.27</td>\n",
       "    </tr>\n",
       "    <tr>\n",
       "      <th>1</th>\n",
       "      <td>Within 30 secs</td>\n",
       "      <td>11684 calls</td>\n",
       "      <td>1449</td>\n",
       "      <td>87.07</td>\n",
       "    </tr>\n",
       "    <tr>\n",
       "      <th>2</th>\n",
       "      <td>Within 45 secs</td>\n",
       "      <td>12079 calls</td>\n",
       "      <td>395</td>\n",
       "      <td>90.01</td>\n",
       "    </tr>\n",
       "    <tr>\n",
       "      <th>3</th>\n",
       "      <td>Within 60 secs</td>\n",
       "      <td>12290 calls</td>\n",
       "      <td>211</td>\n",
       "      <td>91.59</td>\n",
       "    </tr>\n",
       "    <tr>\n",
       "      <th>4</th>\n",
       "      <td>Within 75 secs</td>\n",
       "      <td>12456 calls</td>\n",
       "      <td>166</td>\n",
       "      <td>92.82</td>\n",
       "    </tr>\n",
       "    <tr>\n",
       "      <th>5</th>\n",
       "      <td>Within 90 secs</td>\n",
       "      <td>12572 calls</td>\n",
       "      <td>116</td>\n",
       "      <td>93.69</td>\n",
       "    </tr>\n",
       "    <tr>\n",
       "      <th>6</th>\n",
       "      <td>Within 105 secs</td>\n",
       "      <td>12667 calls</td>\n",
       "      <td>95</td>\n",
       "      <td>94.40</td>\n",
       "    </tr>\n",
       "    <tr>\n",
       "      <th>7</th>\n",
       "      <td>Within 120 secs</td>\n",
       "      <td>12749 calls</td>\n",
       "      <td>82</td>\n",
       "      <td>95.01</td>\n",
       "    </tr>\n",
       "    <tr>\n",
       "      <th>8</th>\n",
       "      <td>Within 135 secs</td>\n",
       "      <td>12781 calls</td>\n",
       "      <td>32</td>\n",
       "      <td>95.25</td>\n",
       "    </tr>\n",
       "    <tr>\n",
       "      <th>9</th>\n",
       "      <td>Within 150+ secs</td>\n",
       "      <td>13419 calls</td>\n",
       "      <td>638</td>\n",
       "      <td>100.00</td>\n",
       "    </tr>\n",
       "  </tbody>\n",
       "</table>\n",
       "</div>"
      ],
      "text/plain": [
       "             Answer   Count_2022  Delta_2022  Percent_2022\n",
       "0    Within 15 secs  10235 calls       10235         76.27\n",
       "1    Within 30 secs  11684 calls        1449         87.07\n",
       "2    Within 45 secs  12079 calls         395         90.01\n",
       "3    Within 60 secs  12290 calls         211         91.59\n",
       "4    Within 75 secs  12456 calls         166         92.82\n",
       "5    Within 90 secs  12572 calls         116         93.69\n",
       "6   Within 105 secs  12667 calls          95         94.40\n",
       "7   Within 120 secs  12749 calls          82         95.01\n",
       "8   Within 135 secs  12781 calls          32         95.25\n",
       "9  Within 150+ secs  13419 calls         638        100.00"
      ]
     },
     "execution_count": 18,
     "metadata": {},
     "output_type": "execute_result"
    }
   ],
   "source": [
    "service_speed_2022 = pd.read_excel('../data/call_volume.xlsx', sheet_name='2022', skiprows=80, nrows=10, usecols='A:D')\n",
    "service_speed_2022.columns = ['Answer', 'Count_2022', 'Delta_2022', 'Percent_2022']\n",
    "service_speed_2022['Percent_2022'] = (service_speed_2022['Percent_2022']*100).round(2)\n",
    "service_speed_2022"
   ]
  },
  {
   "cell_type": "code",
   "execution_count": 19,
   "id": "ecdd77cf",
   "metadata": {},
   "outputs": [],
   "source": [
    "#year = ['2022', '2022', '2022', '2022', '2022', '2022', '2022', '2022', '2022', '2022',]\n",
    "#service_speed_2022['Year'] = year\n",
    "#service_speed_2022"
   ]
  },
  {
   "cell_type": "markdown",
   "id": "16ee027c",
   "metadata": {},
   "source": [
    "### Merge"
   ]
  },
  {
   "cell_type": "code",
   "execution_count": 20,
   "id": "4b7b9ed8",
   "metadata": {},
   "outputs": [
    {
     "data": {
      "text/html": [
       "<div>\n",
       "<style scoped>\n",
       "    .dataframe tbody tr th:only-of-type {\n",
       "        vertical-align: middle;\n",
       "    }\n",
       "\n",
       "    .dataframe tbody tr th {\n",
       "        vertical-align: top;\n",
       "    }\n",
       "\n",
       "    .dataframe thead th {\n",
       "        text-align: right;\n",
       "    }\n",
       "</style>\n",
       "<table border=\"1\" class=\"dataframe\">\n",
       "  <thead>\n",
       "    <tr style=\"text-align: right;\">\n",
       "      <th></th>\n",
       "      <th>Answer</th>\n",
       "      <th>Count_2020</th>\n",
       "      <th>Delta_2020</th>\n",
       "      <th>Percent_2020</th>\n",
       "      <th>Count_2021</th>\n",
       "      <th>Delta_2021</th>\n",
       "      <th>Percent_2021</th>\n",
       "    </tr>\n",
       "  </thead>\n",
       "  <tbody>\n",
       "    <tr>\n",
       "      <th>0</th>\n",
       "      <td>Within 15 secs</td>\n",
       "      <td>21405 calls</td>\n",
       "      <td>21405</td>\n",
       "      <td>72.66</td>\n",
       "      <td>27645 calls</td>\n",
       "      <td>27645</td>\n",
       "      <td>72.91</td>\n",
       "    </tr>\n",
       "    <tr>\n",
       "      <th>1</th>\n",
       "      <td>Within 30 secs</td>\n",
       "      <td>25052 calls</td>\n",
       "      <td>3647</td>\n",
       "      <td>85.04</td>\n",
       "      <td>32077 calls</td>\n",
       "      <td>4432</td>\n",
       "      <td>84.59</td>\n",
       "    </tr>\n",
       "    <tr>\n",
       "      <th>2</th>\n",
       "      <td>Within 45 secs</td>\n",
       "      <td>26068 calls</td>\n",
       "      <td>1016</td>\n",
       "      <td>88.49</td>\n",
       "      <td>33423 calls</td>\n",
       "      <td>1346</td>\n",
       "      <td>88.14</td>\n",
       "    </tr>\n",
       "    <tr>\n",
       "      <th>3</th>\n",
       "      <td>Within 60 secs</td>\n",
       "      <td>26734 calls</td>\n",
       "      <td>666</td>\n",
       "      <td>90.75</td>\n",
       "      <td>34160 calls</td>\n",
       "      <td>737</td>\n",
       "      <td>90.09</td>\n",
       "    </tr>\n",
       "    <tr>\n",
       "      <th>4</th>\n",
       "      <td>Within 75 secs</td>\n",
       "      <td>27090 calls</td>\n",
       "      <td>356</td>\n",
       "      <td>91.96</td>\n",
       "      <td>34615 calls</td>\n",
       "      <td>455</td>\n",
       "      <td>91.29</td>\n",
       "    </tr>\n",
       "    <tr>\n",
       "      <th>5</th>\n",
       "      <td>Within 90 secs</td>\n",
       "      <td>27310 calls</td>\n",
       "      <td>220</td>\n",
       "      <td>92.71</td>\n",
       "      <td>34985 calls</td>\n",
       "      <td>370</td>\n",
       "      <td>92.26</td>\n",
       "    </tr>\n",
       "    <tr>\n",
       "      <th>6</th>\n",
       "      <td>Within 105 secs</td>\n",
       "      <td>27492 calls</td>\n",
       "      <td>182</td>\n",
       "      <td>93.32</td>\n",
       "      <td>35301 calls</td>\n",
       "      <td>316</td>\n",
       "      <td>93.10</td>\n",
       "    </tr>\n",
       "    <tr>\n",
       "      <th>7</th>\n",
       "      <td>Within 120 secs</td>\n",
       "      <td>27677 calls</td>\n",
       "      <td>185</td>\n",
       "      <td>93.95</td>\n",
       "      <td>35550 calls</td>\n",
       "      <td>249</td>\n",
       "      <td>93.75</td>\n",
       "    </tr>\n",
       "    <tr>\n",
       "      <th>8</th>\n",
       "      <td>Within 135 secs</td>\n",
       "      <td>27722 calls</td>\n",
       "      <td>45</td>\n",
       "      <td>94.10</td>\n",
       "      <td>35676 calls</td>\n",
       "      <td>126</td>\n",
       "      <td>94.08</td>\n",
       "    </tr>\n",
       "    <tr>\n",
       "      <th>9</th>\n",
       "      <td>Within 150+ secs</td>\n",
       "      <td>29459 calls</td>\n",
       "      <td>1737</td>\n",
       "      <td>100.00</td>\n",
       "      <td>37919 calls</td>\n",
       "      <td>2243</td>\n",
       "      <td>100.00</td>\n",
       "    </tr>\n",
       "  </tbody>\n",
       "</table>\n",
       "</div>"
      ],
      "text/plain": [
       "             Answer   Count_2020  Delta_2020  Percent_2020   Count_2021  \\\n",
       "0    Within 15 secs  21405 calls       21405         72.66  27645 calls   \n",
       "1    Within 30 secs  25052 calls        3647         85.04  32077 calls   \n",
       "2    Within 45 secs  26068 calls        1016         88.49  33423 calls   \n",
       "3    Within 60 secs  26734 calls         666         90.75  34160 calls   \n",
       "4    Within 75 secs  27090 calls         356         91.96  34615 calls   \n",
       "5    Within 90 secs  27310 calls         220         92.71  34985 calls   \n",
       "6   Within 105 secs  27492 calls         182         93.32  35301 calls   \n",
       "7   Within 120 secs  27677 calls         185         93.95  35550 calls   \n",
       "8   Within 135 secs  27722 calls          45         94.10  35676 calls   \n",
       "9  Within 150+ secs  29459 calls        1737        100.00  37919 calls   \n",
       "\n",
       "   Delta_2021  Percent_2021  \n",
       "0       27645         72.91  \n",
       "1        4432         84.59  \n",
       "2        1346         88.14  \n",
       "3         737         90.09  \n",
       "4         455         91.29  \n",
       "5         370         92.26  \n",
       "6         316         93.10  \n",
       "7         249         93.75  \n",
       "8         126         94.08  \n",
       "9        2243        100.00  "
      ]
     },
     "execution_count": 20,
     "metadata": {},
     "output_type": "execute_result"
    }
   ],
   "source": [
    "service_speed_2020_2021 = pd.merge(service_speed_2020, service_speed_2021, on='Answer', how='inner')\n",
    "service_speed_2020_2021"
   ]
  },
  {
   "cell_type": "code",
   "execution_count": 21,
   "id": "b4ce1c8e",
   "metadata": {},
   "outputs": [
    {
     "data": {
      "text/html": [
       "<div>\n",
       "<style scoped>\n",
       "    .dataframe tbody tr th:only-of-type {\n",
       "        vertical-align: middle;\n",
       "    }\n",
       "\n",
       "    .dataframe tbody tr th {\n",
       "        vertical-align: top;\n",
       "    }\n",
       "\n",
       "    .dataframe thead th {\n",
       "        text-align: right;\n",
       "    }\n",
       "</style>\n",
       "<table border=\"1\" class=\"dataframe\">\n",
       "  <thead>\n",
       "    <tr style=\"text-align: right;\">\n",
       "      <th></th>\n",
       "      <th>Answer</th>\n",
       "      <th>Count_2020</th>\n",
       "      <th>Delta_2020</th>\n",
       "      <th>Percent_2020</th>\n",
       "      <th>Count_2021</th>\n",
       "      <th>Delta_2021</th>\n",
       "      <th>Percent_2021</th>\n",
       "      <th>Percent_2022</th>\n",
       "    </tr>\n",
       "  </thead>\n",
       "  <tbody>\n",
       "    <tr>\n",
       "      <th>0</th>\n",
       "      <td>Within 15 secs</td>\n",
       "      <td>21405 calls</td>\n",
       "      <td>21405</td>\n",
       "      <td>72.66</td>\n",
       "      <td>27645 calls</td>\n",
       "      <td>27645</td>\n",
       "      <td>72.91</td>\n",
       "      <td>76.27</td>\n",
       "    </tr>\n",
       "    <tr>\n",
       "      <th>1</th>\n",
       "      <td>Within 30 secs</td>\n",
       "      <td>25052 calls</td>\n",
       "      <td>3647</td>\n",
       "      <td>85.04</td>\n",
       "      <td>32077 calls</td>\n",
       "      <td>4432</td>\n",
       "      <td>84.59</td>\n",
       "      <td>87.07</td>\n",
       "    </tr>\n",
       "    <tr>\n",
       "      <th>2</th>\n",
       "      <td>Within 45 secs</td>\n",
       "      <td>26068 calls</td>\n",
       "      <td>1016</td>\n",
       "      <td>88.49</td>\n",
       "      <td>33423 calls</td>\n",
       "      <td>1346</td>\n",
       "      <td>88.14</td>\n",
       "      <td>90.01</td>\n",
       "    </tr>\n",
       "    <tr>\n",
       "      <th>3</th>\n",
       "      <td>Within 60 secs</td>\n",
       "      <td>26734 calls</td>\n",
       "      <td>666</td>\n",
       "      <td>90.75</td>\n",
       "      <td>34160 calls</td>\n",
       "      <td>737</td>\n",
       "      <td>90.09</td>\n",
       "      <td>91.59</td>\n",
       "    </tr>\n",
       "    <tr>\n",
       "      <th>4</th>\n",
       "      <td>Within 75 secs</td>\n",
       "      <td>27090 calls</td>\n",
       "      <td>356</td>\n",
       "      <td>91.96</td>\n",
       "      <td>34615 calls</td>\n",
       "      <td>455</td>\n",
       "      <td>91.29</td>\n",
       "      <td>92.82</td>\n",
       "    </tr>\n",
       "    <tr>\n",
       "      <th>5</th>\n",
       "      <td>Within 90 secs</td>\n",
       "      <td>27310 calls</td>\n",
       "      <td>220</td>\n",
       "      <td>92.71</td>\n",
       "      <td>34985 calls</td>\n",
       "      <td>370</td>\n",
       "      <td>92.26</td>\n",
       "      <td>93.69</td>\n",
       "    </tr>\n",
       "    <tr>\n",
       "      <th>6</th>\n",
       "      <td>Within 105 secs</td>\n",
       "      <td>27492 calls</td>\n",
       "      <td>182</td>\n",
       "      <td>93.32</td>\n",
       "      <td>35301 calls</td>\n",
       "      <td>316</td>\n",
       "      <td>93.10</td>\n",
       "      <td>94.40</td>\n",
       "    </tr>\n",
       "    <tr>\n",
       "      <th>7</th>\n",
       "      <td>Within 120 secs</td>\n",
       "      <td>27677 calls</td>\n",
       "      <td>185</td>\n",
       "      <td>93.95</td>\n",
       "      <td>35550 calls</td>\n",
       "      <td>249</td>\n",
       "      <td>93.75</td>\n",
       "      <td>95.01</td>\n",
       "    </tr>\n",
       "    <tr>\n",
       "      <th>8</th>\n",
       "      <td>Within 135 secs</td>\n",
       "      <td>27722 calls</td>\n",
       "      <td>45</td>\n",
       "      <td>94.10</td>\n",
       "      <td>35676 calls</td>\n",
       "      <td>126</td>\n",
       "      <td>94.08</td>\n",
       "      <td>95.25</td>\n",
       "    </tr>\n",
       "    <tr>\n",
       "      <th>9</th>\n",
       "      <td>Within 150+ secs</td>\n",
       "      <td>29459 calls</td>\n",
       "      <td>1737</td>\n",
       "      <td>100.00</td>\n",
       "      <td>37919 calls</td>\n",
       "      <td>2243</td>\n",
       "      <td>100.00</td>\n",
       "      <td>100</td>\n",
       "    </tr>\n",
       "  </tbody>\n",
       "</table>\n",
       "</div>"
      ],
      "text/plain": [
       "             Answer   Count_2020  Delta_2020  Percent_2020   Count_2021  \\\n",
       "0    Within 15 secs  21405 calls       21405         72.66  27645 calls   \n",
       "1    Within 30 secs  25052 calls        3647         85.04  32077 calls   \n",
       "2    Within 45 secs  26068 calls        1016         88.49  33423 calls   \n",
       "3    Within 60 secs  26734 calls         666         90.75  34160 calls   \n",
       "4    Within 75 secs  27090 calls         356         91.96  34615 calls   \n",
       "5    Within 90 secs  27310 calls         220         92.71  34985 calls   \n",
       "6   Within 105 secs  27492 calls         182         93.32  35301 calls   \n",
       "7   Within 120 secs  27677 calls         185         93.95  35550 calls   \n",
       "8   Within 135 secs  27722 calls          45         94.10  35676 calls   \n",
       "9  Within 150+ secs  29459 calls        1737        100.00  37919 calls   \n",
       "\n",
       "   Delta_2021  Percent_2021 Percent_2022  \n",
       "0       27645         72.91        76.27  \n",
       "1        4432         84.59        87.07  \n",
       "2        1346         88.14        90.01  \n",
       "3         737         90.09        91.59  \n",
       "4         455         91.29        92.82  \n",
       "5         370         92.26        93.69  \n",
       "6         316         93.10        94.40  \n",
       "7         249         93.75        95.01  \n",
       "8         126         94.08        95.25  \n",
       "9        2243        100.00          100  "
      ]
     },
     "execution_count": 21,
     "metadata": {},
     "output_type": "execute_result"
    }
   ],
   "source": [
    "service_speed_2022 = ['76.27', '87.07', '90.01', '91.59', '92.82', '93.69', '94.40', '95.01', '95.25', '100']\n",
    "service_speed_2020_2021['Percent_2022'] = service_speed_2022\n",
    "\n",
    "#service_speed_2020_2022 = pd.merge(service_speed_2020_2021, service_speed_2022, on='Answer', how='inner')\n",
    "#service_speed_2020_2022\n",
    "\n",
    "service_speed_2020_2021"
   ]
  },
  {
   "cell_type": "code",
   "execution_count": 22,
   "id": "8ba04b28",
   "metadata": {},
   "outputs": [
    {
     "data": {
      "text/html": [
       "<div>\n",
       "<style scoped>\n",
       "    .dataframe tbody tr th:only-of-type {\n",
       "        vertical-align: middle;\n",
       "    }\n",
       "\n",
       "    .dataframe tbody tr th {\n",
       "        vertical-align: top;\n",
       "    }\n",
       "\n",
       "    .dataframe thead th {\n",
       "        text-align: right;\n",
       "    }\n",
       "</style>\n",
       "<table border=\"1\" class=\"dataframe\">\n",
       "  <thead>\n",
       "    <tr style=\"text-align: right;\">\n",
       "      <th></th>\n",
       "      <th>Answer</th>\n",
       "      <th>Count_2020</th>\n",
       "      <th>Delta_2020</th>\n",
       "      <th>Percent_2020</th>\n",
       "      <th>Count_2021</th>\n",
       "      <th>Delta_2021</th>\n",
       "      <th>Percent_2021</th>\n",
       "      <th>Percent_2022</th>\n",
       "    </tr>\n",
       "  </thead>\n",
       "  <tbody>\n",
       "    <tr>\n",
       "      <th>0</th>\n",
       "      <td>Within 15 secs</td>\n",
       "      <td>21405 calls</td>\n",
       "      <td>21405</td>\n",
       "      <td>72.66</td>\n",
       "      <td>27645 calls</td>\n",
       "      <td>27645</td>\n",
       "      <td>72.91</td>\n",
       "      <td>76.27</td>\n",
       "    </tr>\n",
       "    <tr>\n",
       "      <th>1</th>\n",
       "      <td>Within 30 secs</td>\n",
       "      <td>25052 calls</td>\n",
       "      <td>3647</td>\n",
       "      <td>85.04</td>\n",
       "      <td>32077 calls</td>\n",
       "      <td>4432</td>\n",
       "      <td>84.59</td>\n",
       "      <td>87.07</td>\n",
       "    </tr>\n",
       "    <tr>\n",
       "      <th>2</th>\n",
       "      <td>Within 45 secs</td>\n",
       "      <td>26068 calls</td>\n",
       "      <td>1016</td>\n",
       "      <td>88.49</td>\n",
       "      <td>33423 calls</td>\n",
       "      <td>1346</td>\n",
       "      <td>88.14</td>\n",
       "      <td>90.01</td>\n",
       "    </tr>\n",
       "    <tr>\n",
       "      <th>3</th>\n",
       "      <td>Within 60 secs</td>\n",
       "      <td>26734 calls</td>\n",
       "      <td>666</td>\n",
       "      <td>90.75</td>\n",
       "      <td>34160 calls</td>\n",
       "      <td>737</td>\n",
       "      <td>90.09</td>\n",
       "      <td>91.59</td>\n",
       "    </tr>\n",
       "    <tr>\n",
       "      <th>4</th>\n",
       "      <td>Within 75 secs</td>\n",
       "      <td>27090 calls</td>\n",
       "      <td>356</td>\n",
       "      <td>91.96</td>\n",
       "      <td>34615 calls</td>\n",
       "      <td>455</td>\n",
       "      <td>91.29</td>\n",
       "      <td>92.82</td>\n",
       "    </tr>\n",
       "    <tr>\n",
       "      <th>5</th>\n",
       "      <td>Within 90 secs</td>\n",
       "      <td>27310 calls</td>\n",
       "      <td>220</td>\n",
       "      <td>92.71</td>\n",
       "      <td>34985 calls</td>\n",
       "      <td>370</td>\n",
       "      <td>92.26</td>\n",
       "      <td>93.69</td>\n",
       "    </tr>\n",
       "    <tr>\n",
       "      <th>6</th>\n",
       "      <td>Within 105 secs</td>\n",
       "      <td>27492 calls</td>\n",
       "      <td>182</td>\n",
       "      <td>93.32</td>\n",
       "      <td>35301 calls</td>\n",
       "      <td>316</td>\n",
       "      <td>93.10</td>\n",
       "      <td>94.40</td>\n",
       "    </tr>\n",
       "    <tr>\n",
       "      <th>7</th>\n",
       "      <td>Within 120 secs</td>\n",
       "      <td>27677 calls</td>\n",
       "      <td>185</td>\n",
       "      <td>93.95</td>\n",
       "      <td>35550 calls</td>\n",
       "      <td>249</td>\n",
       "      <td>93.75</td>\n",
       "      <td>95.01</td>\n",
       "    </tr>\n",
       "    <tr>\n",
       "      <th>8</th>\n",
       "      <td>Within 135 secs</td>\n",
       "      <td>27722 calls</td>\n",
       "      <td>45</td>\n",
       "      <td>94.10</td>\n",
       "      <td>35676 calls</td>\n",
       "      <td>126</td>\n",
       "      <td>94.08</td>\n",
       "      <td>95.25</td>\n",
       "    </tr>\n",
       "    <tr>\n",
       "      <th>9</th>\n",
       "      <td>Within 150+ secs</td>\n",
       "      <td>29459 calls</td>\n",
       "      <td>1737</td>\n",
       "      <td>100.00</td>\n",
       "      <td>37919 calls</td>\n",
       "      <td>2243</td>\n",
       "      <td>100.00</td>\n",
       "      <td>100</td>\n",
       "    </tr>\n",
       "  </tbody>\n",
       "</table>\n",
       "</div>"
      ],
      "text/plain": [
       "             Answer   Count_2020  Delta_2020  Percent_2020   Count_2021  \\\n",
       "0    Within 15 secs  21405 calls       21405         72.66  27645 calls   \n",
       "1    Within 30 secs  25052 calls        3647         85.04  32077 calls   \n",
       "2    Within 45 secs  26068 calls        1016         88.49  33423 calls   \n",
       "3    Within 60 secs  26734 calls         666         90.75  34160 calls   \n",
       "4    Within 75 secs  27090 calls         356         91.96  34615 calls   \n",
       "5    Within 90 secs  27310 calls         220         92.71  34985 calls   \n",
       "6   Within 105 secs  27492 calls         182         93.32  35301 calls   \n",
       "7   Within 120 secs  27677 calls         185         93.95  35550 calls   \n",
       "8   Within 135 secs  27722 calls          45         94.10  35676 calls   \n",
       "9  Within 150+ secs  29459 calls        1737        100.00  37919 calls   \n",
       "\n",
       "   Delta_2021  Percent_2021 Percent_2022  \n",
       "0       27645         72.91        76.27  \n",
       "1        4432         84.59        87.07  \n",
       "2        1346         88.14        90.01  \n",
       "3         737         90.09        91.59  \n",
       "4         455         91.29        92.82  \n",
       "5         370         92.26        93.69  \n",
       "6         316         93.10        94.40  \n",
       "7         249         93.75        95.01  \n",
       "8         126         94.08        95.25  \n",
       "9        2243        100.00          100  "
      ]
     },
     "execution_count": 22,
     "metadata": {},
     "output_type": "execute_result"
    }
   ],
   "source": [
    "service_speed_2020_2022=service_speed_2020_2021\n",
    "service_speed_2020_2022.columns = ['Answer', 'Count_2020', 'Delta_2020', 'Percent_2020', 'Count_2021', 'Delta_2021', 'Percent_2021', 'Percent_2022']\n",
    "service_speed_2020_2022"
   ]
  },
  {
   "cell_type": "code",
   "execution_count": 23,
   "id": "4b6f730b",
   "metadata": {},
   "outputs": [
    {
     "name": "stdout",
     "output_type": "stream",
     "text": [
      "<class 'pandas.core.frame.DataFrame'>\n",
      "Int64Index: 10 entries, 0 to 9\n",
      "Data columns (total 8 columns):\n",
      " #   Column        Non-Null Count  Dtype  \n",
      "---  ------        --------------  -----  \n",
      " 0   Answer        10 non-null     object \n",
      " 1   Count_2020    10 non-null     object \n",
      " 2   Delta_2020    10 non-null     int64  \n",
      " 3   Percent_2020  10 non-null     float64\n",
      " 4   Count_2021    10 non-null     object \n",
      " 5   Delta_2021    10 non-null     int64  \n",
      " 6   Percent_2021  10 non-null     float64\n",
      " 7   Percent_2022  10 non-null     object \n",
      "dtypes: float64(2), int64(2), object(4)\n",
      "memory usage: 720.0+ bytes\n"
     ]
    }
   ],
   "source": [
    "service_speed_2020_2022.info()"
   ]
  },
  {
   "cell_type": "code",
   "execution_count": 24,
   "id": "2b0fe366",
   "metadata": {},
   "outputs": [
    {
     "name": "stdout",
     "output_type": "stream",
     "text": [
      "<class 'pandas.core.frame.DataFrame'>\n",
      "Int64Index: 10 entries, 0 to 9\n",
      "Data columns (total 8 columns):\n",
      " #   Column        Non-Null Count  Dtype  \n",
      "---  ------        --------------  -----  \n",
      " 0   Answer        10 non-null     object \n",
      " 1   Count_2020    10 non-null     object \n",
      " 2   Delta_2020    10 non-null     int64  \n",
      " 3   Percent_2020  10 non-null     float64\n",
      " 4   Count_2021    10 non-null     object \n",
      " 5   Delta_2021    10 non-null     int64  \n",
      " 6   Percent_2021  10 non-null     float64\n",
      " 7   Percent_2022  10 non-null     float64\n",
      "dtypes: float64(3), int64(2), object(3)\n",
      "memory usage: 720.0+ bytes\n"
     ]
    }
   ],
   "source": [
    "service_speed_2020_2022['Percent_2022'] = service_speed_2020_2022['Percent_2022'].astype(float, errors = 'raise')\n",
    "service_speed_2020_2022.info()"
   ]
  },
  {
   "cell_type": "code",
   "execution_count": null,
   "id": "6c374d0d",
   "metadata": {},
   "outputs": [],
   "source": [
    "#service_speed_2020_2022 = pd.merge(service_speed_2020_2021, service_speed_2021, on='Answer', how='inner')\n",
    "#service_speed_2020_2022"
   ]
  },
  {
   "cell_type": "code",
   "execution_count": null,
   "id": "d37b02f7",
   "metadata": {},
   "outputs": [],
   "source": [
    "#service_speed_2020_2022.columns = ['Answer', 'Count_2020', 'Delta_2020', 'Percent_2020', 'Count_2021', 'Delta_2021', 'Percent_2021', 'Count_2022', 'Delta_2022', 'Percent_2022',]\n",
    "#service_speed_2020_2022"
   ]
  },
  {
   "cell_type": "code",
   "execution_count": null,
   "id": "a221288c",
   "metadata": {},
   "outputs": [],
   "source": [
    "#plt.figure(figsize=(12, 6))\n",
    "#plt.bar(top_7_sw.DSP, top_7_sw.Songwriter, color=['g', 'm', 'y', 'b', '1', 'orange', 'r'], edgecolor='black')\n",
    "#plt.ylabel('% of Songwriter Info Provided', fontsize=16)\n",
    "#plt.xticks(rotation = 50, fontsize=16)\n",
    "#plt.yticks([20, 40, 60, 80, 100], fontsize=16)\n",
    "#plt.text('YouTube', 10, '0', fontsize=16)\n",
    "#plt.text('SoundCloud', 10, '0', fontsize=16)\n",
    "#plt.text('Tidal', 10, '0.4', fontsize=16)\n",
    "#plt.title('Top 7 DSPs by % of Songwriter Info Provided', fontsize=20);"
   ]
  },
  {
   "cell_type": "code",
   "execution_count": 25,
   "id": "216d9706",
   "metadata": {},
   "outputs": [
    {
     "data": {
      "image/png": "[encoded data removed]",
      "text/plain": [
       "<Figure size 432x288 with 1 Axes>"
      ]
     },
     "metadata": {
      "needs_background": "light"
     },
     "output_type": "display_data"
    }
   ],
   "source": [
    "x=service_speed_2020_2022.Answer\n",
    "y=[service_speed_2020_2022.Percent_2020, service_speed_2020_2022.Percent_2021, service_speed_2020_2022.Percent_2022]\n",
    "\n",
    "plt.stackplot(x,y, labels=['2020', '2021', '2022'])\n",
    "plt.legend(loc='upper left')\n",
    "plt.xticks(rotation = 50)\n",
    "plt.show()"
   ]
  },
  {
   "cell_type": "code",
   "execution_count": 26,
   "id": "8f2b50b0",
   "metadata": {},
   "outputs": [
    {
     "data": {
      "image/png": "[encoded data removed]",
      "text/plain": [
       "<Figure size 432x288 with 1 Axes>"
      ]
     },
     "metadata": {
      "needs_background": "light"
     },
     "output_type": "display_data"
    }
   ],
   "source": [
    "plt.bar(service_speed_2020_2022.Answer, service_speed_2020_2022.Percent_2020)\n",
    "plt.ylabel('Percent') # Number of Streams times 10^9\n",
    "plt.xticks(rotation = 50)\n",
    "plt.title('Percent calls answered within a given time');"
   ]
  },
  {
   "cell_type": "code",
   "execution_count": 27,
   "id": "a56a9fde",
   "metadata": {},
   "outputs": [
    {
     "data": {
      "image/png": "[encoded data removed]",
      "text/plain": [
       "<Figure size 1080x432 with 1 Axes>"
      ]
     },
     "metadata": {
      "needs_background": "light"
     },
     "output_type": "display_data"
    }
   ],
   "source": [
    "#plt.figure(figsize=()\n",
    "service_speed_2020_2022.plot(x='Answer', y=['Percent_2020', 'Percent_2021', 'Percent_2022'], kind='bar', color=['#39568CFF', '#238A8DFF', '#55C667FF'])\n",
    "plt.title('Calls Answered Over Time by Year')\n",
    "plt.ylabel('Percentage of Calls')\n",
    "plt.xlabel('')\n",
    "plt.xticks(rotation=60)\n",
    "plt.gcf().set_size_inches(15, 6)  \n",
    "plt.show();"
   ]
  },
  {
   "cell_type": "code",
   "execution_count": 28,
   "id": "e09a864e",
   "metadata": {},
   "outputs": [
    {
     "data": {
      "text/html": [
       "<div>\n",
       "<style scoped>\n",
       "    .dataframe tbody tr th:only-of-type {\n",
       "        vertical-align: middle;\n",
       "    }\n",
       "\n",
       "    .dataframe tbody tr th {\n",
       "        vertical-align: top;\n",
       "    }\n",
       "\n",
       "    .dataframe thead th {\n",
       "        text-align: right;\n",
       "    }\n",
       "</style>\n",
       "<table border=\"1\" class=\"dataframe\">\n",
       "  <thead>\n",
       "    <tr style=\"text-align: right;\">\n",
       "      <th></th>\n",
       "      <th>Answer</th>\n",
       "      <th>Count_2020</th>\n",
       "      <th>Delta_2020</th>\n",
       "      <th>2020 %</th>\n",
       "      <th>Count_2021</th>\n",
       "      <th>Delta_2021</th>\n",
       "      <th>2021 %</th>\n",
       "      <th>2022 %</th>\n",
       "    </tr>\n",
       "  </thead>\n",
       "  <tbody>\n",
       "    <tr>\n",
       "      <th>0</th>\n",
       "      <td>Within 15 secs</td>\n",
       "      <td>21405 calls</td>\n",
       "      <td>21405</td>\n",
       "      <td>72.66</td>\n",
       "      <td>27645 calls</td>\n",
       "      <td>27645</td>\n",
       "      <td>72.91</td>\n",
       "      <td>76.27</td>\n",
       "    </tr>\n",
       "    <tr>\n",
       "      <th>1</th>\n",
       "      <td>Within 30 secs</td>\n",
       "      <td>25052 calls</td>\n",
       "      <td>3647</td>\n",
       "      <td>85.04</td>\n",
       "      <td>32077 calls</td>\n",
       "      <td>4432</td>\n",
       "      <td>84.59</td>\n",
       "      <td>87.07</td>\n",
       "    </tr>\n",
       "    <tr>\n",
       "      <th>2</th>\n",
       "      <td>Within 45 secs</td>\n",
       "      <td>26068 calls</td>\n",
       "      <td>1016</td>\n",
       "      <td>88.49</td>\n",
       "      <td>33423 calls</td>\n",
       "      <td>1346</td>\n",
       "      <td>88.14</td>\n",
       "      <td>90.01</td>\n",
       "    </tr>\n",
       "    <tr>\n",
       "      <th>3</th>\n",
       "      <td>Within 60 secs</td>\n",
       "      <td>26734 calls</td>\n",
       "      <td>666</td>\n",
       "      <td>90.75</td>\n",
       "      <td>34160 calls</td>\n",
       "      <td>737</td>\n",
       "      <td>90.09</td>\n",
       "      <td>91.59</td>\n",
       "    </tr>\n",
       "    <tr>\n",
       "      <th>4</th>\n",
       "      <td>Within 75 secs</td>\n",
       "      <td>27090 calls</td>\n",
       "      <td>356</td>\n",
       "      <td>91.96</td>\n",
       "      <td>34615 calls</td>\n",
       "      <td>455</td>\n",
       "      <td>91.29</td>\n",
       "      <td>92.82</td>\n",
       "    </tr>\n",
       "    <tr>\n",
       "      <th>5</th>\n",
       "      <td>Within 90 secs</td>\n",
       "      <td>27310 calls</td>\n",
       "      <td>220</td>\n",
       "      <td>92.71</td>\n",
       "      <td>34985 calls</td>\n",
       "      <td>370</td>\n",
       "      <td>92.26</td>\n",
       "      <td>93.69</td>\n",
       "    </tr>\n",
       "    <tr>\n",
       "      <th>6</th>\n",
       "      <td>Within 105 secs</td>\n",
       "      <td>27492 calls</td>\n",
       "      <td>182</td>\n",
       "      <td>93.32</td>\n",
       "      <td>35301 calls</td>\n",
       "      <td>316</td>\n",
       "      <td>93.10</td>\n",
       "      <td>94.40</td>\n",
       "    </tr>\n",
       "    <tr>\n",
       "      <th>7</th>\n",
       "      <td>Within 120 secs</td>\n",
       "      <td>27677 calls</td>\n",
       "      <td>185</td>\n",
       "      <td>93.95</td>\n",
       "      <td>35550 calls</td>\n",
       "      <td>249</td>\n",
       "      <td>93.75</td>\n",
       "      <td>95.01</td>\n",
       "    </tr>\n",
       "    <tr>\n",
       "      <th>8</th>\n",
       "      <td>Within 135 secs</td>\n",
       "      <td>27722 calls</td>\n",
       "      <td>45</td>\n",
       "      <td>94.10</td>\n",
       "      <td>35676 calls</td>\n",
       "      <td>126</td>\n",
       "      <td>94.08</td>\n",
       "      <td>95.25</td>\n",
       "    </tr>\n",
       "    <tr>\n",
       "      <th>9</th>\n",
       "      <td>Within 150+ secs</td>\n",
       "      <td>29459 calls</td>\n",
       "      <td>1737</td>\n",
       "      <td>100.00</td>\n",
       "      <td>37919 calls</td>\n",
       "      <td>2243</td>\n",
       "      <td>100.00</td>\n",
       "      <td>100.00</td>\n",
       "    </tr>\n",
       "  </tbody>\n",
       "</table>\n",
       "</div>"
      ],
      "text/plain": [
       "             Answer   Count_2020  Delta_2020  2020 %   Count_2021  Delta_2021  \\\n",
       "0    Within 15 secs  21405 calls       21405   72.66  27645 calls       27645   \n",
       "1    Within 30 secs  25052 calls        3647   85.04  32077 calls        4432   \n",
       "2    Within 45 secs  26068 calls        1016   88.49  33423 calls        1346   \n",
       "3    Within 60 secs  26734 calls         666   90.75  34160 calls         737   \n",
       "4    Within 75 secs  27090 calls         356   91.96  34615 calls         455   \n",
       "5    Within 90 secs  27310 calls         220   92.71  34985 calls         370   \n",
       "6   Within 105 secs  27492 calls         182   93.32  35301 calls         316   \n",
       "7   Within 120 secs  27677 calls         185   93.95  35550 calls         249   \n",
       "8   Within 135 secs  27722 calls          45   94.10  35676 calls         126   \n",
       "9  Within 150+ secs  29459 calls        1737  100.00  37919 calls        2243   \n",
       "\n",
       "   2021 %  2022 %  \n",
       "0   72.91   76.27  \n",
       "1   84.59   87.07  \n",
       "2   88.14   90.01  \n",
       "3   90.09   91.59  \n",
       "4   91.29   92.82  \n",
       "5   92.26   93.69  \n",
       "6   93.10   94.40  \n",
       "7   93.75   95.01  \n",
       "8   94.08   95.25  \n",
       "9  100.00  100.00  "
      ]
     },
     "execution_count": 28,
     "metadata": {},
     "output_type": "execute_result"
    }
   ],
   "source": [
    "service_speed_2020_2022=service_speed_2020_2021\n",
    "service_speed_2020_2022.columns = ['Answer', 'Count_2020', 'Delta_2020', '2020 %', 'Count_2021', 'Delta_2021', '2021 %', '2022 %']\n",
    "service_speed_2020_2022"
   ]
  },
  {
   "cell_type": "code",
   "execution_count": 30,
   "id": "778a3620",
   "metadata": {},
   "outputs": [
    {
     "data": {
      "image/png": "[encoded data removed]",
      "text/plain": [
       "<Figure size 1080x432 with 1 Axes>"
      ]
     },
     "metadata": {
      "needs_background": "light"
     },
     "output_type": "display_data"
    }
   ],
   "source": [
    "service_speed_2020_2022.plot(x='Answer', y=['2020 %', '2021 %', '2022 %'], kind='bar', color=['#39568CFF', '#238A8DFF', '#55C667FF'])\n",
    "plt.title('Calls Answered Over Time by Year')\n",
    "plt.ylabel('Percentage of Calls')\n",
    "plt.xlabel('')\n",
    "plt.xticks(rotation=60)\n",
    "plt.gcf().set_size_inches(15, 6)  \n",
    "plt.show();"
   ]
  },
  {
   "cell_type": "code",
   "execution_count": null,
   "id": "ab8544fe",
   "metadata": {},
   "outputs": [],
   "source": [
    "service_speed_2020_2022.plot(x='Answer', y=['2020 %', '2021 %', '2022 %'], kind='line', lw=2, color=['#39568CFF', '#238A8DFF', '#55C667FF'])\n",
    "plt.title('% Calls Answered in a Given Duration by Year', fontsize=16)\n",
    "plt.ylabel('Percentage of Calls Answered')\n",
    "plt.xlabel('Time Within Which Call Was Answered')\n",
    "plt.xticks(rotation=60)\n",
    "plt.grid(visible=True)\n",
    "plt.gcf().set_size_inches(10, 6)\n",
    "plt.show();"
   ]
  },
  {
   "cell_type": "code",
   "execution_count": null,
   "id": "f6df3d25",
   "metadata": {},
   "outputs": [],
   "source": [
    "#plt.figure(figsize=()\n",
    "service_speed_2020_2022.plot(x='Answer', y=['2020 %', '2021 %', '2022 %'], kind='bar', color=['#39568CFF', '#238A8DFF', '#55C667FF'])\n",
    "plt.title('Calls Answered Over Time by Year')\n",
    "plt.ylabel('Percentage of Calls')\n",
    "plt.xlabel('')\n",
    "plt.xticks(rotation=60)\n",
    "plt.gcf().set_size_inches(15, 6)  \n",
    "plt.show();"
   ]
  },
  {
   "cell_type": "code",
   "execution_count": null,
   "id": "e34ae9a1",
   "metadata": {},
   "outputs": [],
   "source": [
    "x=service_speed_2020.Percent_2020\n",
    "y=service_speed_2020.Answer\n",
    "\n",
    "plt.stackplot(x,y, labels=['2020'])\n",
    "plt.legend(loc='upper left')\n",
    "plt.xticks(rotation = 50)\n",
    "plt.show()"
   ]
  },
  {
   "cell_type": "code",
   "execution_count": null,
   "id": "bcb326ee",
   "metadata": {},
   "outputs": [],
   "source": [
    "x=service_speed_2021.Percent_2021\n",
    "y=service_speed_2021.Answer\n",
    "\n",
    "plt.stackplot(x,y, labels=['2020'])\n",
    "plt.legend(loc='upper left')\n",
    "plt.xticks(rotation = 50)\n",
    "plt.show()"
   ]
  },
  {
   "cell_type": "code",
   "execution_count": null,
   "id": "9163a300",
   "metadata": {},
   "outputs": [],
   "source": [
    "#ugly bar chart to get my bearings\n",
    "plt.bar(service_speed_2020.Answer, service_speed_2020.Percent_2020)\n",
    "plt.ylabel('Percent') # Number of Streams times 10^9\n",
    "plt.xticks(rotation = 50)\n",
    "plt.title('Percent calls answered within a given time in 2020');"
   ]
  },
  {
   "cell_type": "markdown",
   "id": "3f2e9ae6",
   "metadata": {},
   "source": [
    "## Abandon Rate Charts"
   ]
  },
  {
   "cell_type": "code",
   "execution_count": null,
   "id": "49cb673e",
   "metadata": {},
   "outputs": [],
   "source": [
    "abandon_rate_2020 = pd.read_excel('../data/call_volume.xlsx', sheet_name='2020', skiprows=94, nrows=10, usecols='A:D')\n",
    "abandon_rate_2020.columns = ['Unanswer', 'Count_2020', 'Delta_2020', 'Percent_2020']\n",
    "abandon_rate_2020['Percent_2020'] = (abandon_rate_2020['Percent_2020']*100).round(2)\n",
    "abandon_rate_2020"
   ]
  },
  {
   "cell_type": "code",
   "execution_count": null,
   "id": "e486d670",
   "metadata": {},
   "outputs": [],
   "source": [
    "abandon_rate_2021 = pd.read_excel('../data/call_volume.xlsx', sheet_name='2021', skiprows=107, nrows=10, usecols='A:D')\n",
    "abandon_rate_2021.columns = ['Unanswer', 'Count_2021', 'Delta_2021', 'Percent_2021']\n",
    "abandon_rate_2021['Percent_2021'] = (abandon_rate_2021['Percent_2021']*100).round(2)\n",
    "abandon_rate_2021"
   ]
  },
  {
   "cell_type": "code",
   "execution_count": null,
   "id": "80fe75c0",
   "metadata": {},
   "outputs": [],
   "source": [
    "abandon_rate_2022 = pd.read_excel('../data/call_volume.xlsx', sheet_name='2022', skiprows=94, nrows=10, usecols='A:D')\n",
    "abandon_rate_2022.columns = ['Unanswer', 'Count_2022', 'Delta_2022', 'Percent_2022']\n",
    "abandon_rate_2022['Percent_2022'] = (abandon_rate_2022['Percent_2022']*100).round(2)\n",
    "abandon_rate_2022"
   ]
  },
  {
   "cell_type": "code",
   "execution_count": null,
   "id": "37994297",
   "metadata": {},
   "outputs": [],
   "source": [
    "abandon_rate_2020_2021 = pd.merge(abandon_rate_2020, abandon_rate_2021, on='Unanswer', how='inner')\n",
    "abandon_rate_2020_2021"
   ]
  },
  {
   "cell_type": "code",
   "execution_count": null,
   "id": "fcb85291",
   "metadata": {},
   "outputs": [],
   "source": [
    "abandon_rate_2020_2022 = pd.merge(abandon_rate_2020_2021, abandon_rate_2022, on='Unanswer', how='inner')\n",
    "abandon_rate_2020_2022"
   ]
  },
  {
   "cell_type": "code",
   "execution_count": null,
   "id": "c57c35be",
   "metadata": {},
   "outputs": [],
   "source": [
    "abandon_rate_2020_2022.columns = ['Unanswer', 'Count_2020', 'Delta_2020', 'Percent_2020', 'Count_2021', 'Delta_2021', 'Percent_2021', 'Count_2022', 'Delta_2022', 'Percent_2022']\n",
    "abandon_rate_2020_2022"
   ]
  },
  {
   "cell_type": "markdown",
   "id": "d7b2e874",
   "metadata": {},
   "source": [
    "## Abandoned calls charts"
   ]
  },
  {
   "cell_type": "code",
   "execution_count": null,
   "id": "6d775edf",
   "metadata": {},
   "outputs": [],
   "source": [
    "abandon_rate_2020_2022.plot(x='Unanswer', y=['Percent_2020', 'Percent_2021', 'Percent_2022'], kind='bar')\n",
    "plt.title('% Calls Abandoned Over Time of Call by Year')\n",
    "plt.ylabel('Percentage of Calls Abandoned')\n",
    "plt.xlabel('Time Within Which Call Was Abandoned')\n",
    "plt.xticks(rotation=60)\n",
    "plt.gcf().set_size_inches(10, 6)  \n",
    "plt.show();"
   ]
  },
  {
   "cell_type": "code",
   "execution_count": null,
   "id": "790d0656",
   "metadata": {},
   "outputs": [],
   "source": [
    "abandon_rate_2020_2022.plot(x='Unanswer', y=['Percent_2020', 'Percent_2021', 'Percent_2022'], kind='line', lw=2, color=['#440154', '#3B528B', '#21918C'])\n",
    "plt.title('% Calls Abandoned in a Given Duration by Year', fontsize=16)\n",
    "plt.ylabel('Percentage of Calls Abandoned')\n",
    "plt.xlabel('Time Within Which Call Was Abandoned')\n",
    "plt.xticks(rotation=60)\n",
    "plt.gcf().set_size_inches(10, 6)\n",
    "plt.show();"
   ]
  },
  {
   "cell_type": "code",
   "execution_count": null,
   "id": "82a7c3bc",
   "metadata": {},
   "outputs": [],
   "source": [
    "sns.lineplot(x='Percent_2020', y='Unanswer', palette = \"viridis\", data=abandon_rate_2020_2022)"
   ]
  },
  {
   "cell_type": "code",
   "execution_count": null,
   "id": "b14db696",
   "metadata": {},
   "outputs": [],
   "source": [
    "#from Iulia:\n",
    "sns.set(rc={\"figure.figsize\":(15,11)})\n",
    "sns.axes_style(\"darkgrid\")\n",
    "sns.lineplot('Month_Name', 'Average',hue='Year', data=crisis_by_month_sorted,palette =\"Dark2\")\n",
    "plt.xlabel(None)\n",
    "plt.ylabel(None)\n",
    "plt.legend(loc=\"upper right\", frameon=True, fontsize=18)\n",
    "plt.title(\"Monthly Average Number of Issues per Call\",fontdict= { 'fontsize': 22, 'fontweight':'bold','verticalalignment': 'center'})\n",
    "plt.tick_params(axis='both', which='major', labelsize=13);\n"
   ]
  },
  {
   "cell_type": "code",
   "execution_count": null,
   "id": "f40515b4",
   "metadata": {},
   "outputs": [],
   "source": [
    "abandon_rate_2020_2022.plot(x='Unanswer', y=['Percent_2020', 'Percent_2021', 'Percent_2022'], kind='bar')\n",
    "plt.title('Call Abandonment Over Time of Call by Year')\n",
    "plt.ylabel('Percentage of Calls Abandoned')\n",
    "plt.xlabel('Time Within Which Call Was Abandoned')\n",
    "plt.xticks(rotation=60)\n",
    "plt.gcf().set_size_inches(10,6)  \n",
    "plt.show();"
   ]
  },
  {
   "cell_type": "markdown",
   "id": "6111c220",
   "metadata": {},
   "source": [
    "## 2021 DataFrames"
   ]
  },
  {
   "cell_type": "code",
   "execution_count": null,
   "id": "76a75413",
   "metadata": {},
   "outputs": [],
   "source": [
    "stats_2021 = pd.read_excel('../data/call_volume.xlsx', sheet_name='2021', skiprows=10, nrows=9, usecols='A:B')\n",
    "stats_2021.rename(inplace=True, columns={'Total Calls':'Category', 'Unnamed: 1':'Total'})\n",
    "stats_2021"
   ]
  },
  {
   "cell_type": "code",
   "execution_count": null,
   "id": "4ebed504",
   "metadata": {},
   "outputs": [],
   "source": [
    "queue_dist_2021 = pd.read_excel('../data/call_volume.xlsx', sheet_name='2021', skiprows=23, nrows=11, usecols='A:I')\n",
    "queue_dist_2021"
   ]
  },
  {
   "cell_type": "code",
   "execution_count": null,
   "id": "16b9d553",
   "metadata": {},
   "outputs": [],
   "source": [
    "month_dist_2021 = pd.read_excel('../data/call_volume.xlsx', sheet_name='2021', skiprows=38, nrows=12, usecols='A:K')\n",
    "month_dist_2021"
   ]
  },
  {
   "cell_type": "code",
   "execution_count": null,
   "id": "2d297614",
   "metadata": {},
   "outputs": [],
   "source": [
    "hour_dist_2021 = pd.read_excel('../data/call_volume.xlsx', sheet_name='2021', skiprows=54, nrows=24, usecols='A:K')\n",
    "hour_dist_2021"
   ]
  },
  {
   "cell_type": "code",
   "execution_count": null,
   "id": "47506f8f",
   "metadata": {},
   "outputs": [],
   "source": [
    "day_dist_2021 = pd.read_excel('../data/call_volume.xlsx', sheet_name='2021', skiprows=82, nrows=7, usecols='A:K')\n",
    "day_dist_2021"
   ]
  },
  {
   "cell_type": "code",
   "execution_count": null,
   "id": "9be0324b",
   "metadata": {},
   "outputs": [],
   "source": [
    "service_speed_2021 = pd.read_excel('../data/call_volume.xlsx', sheet_name='2021', skiprows=93, nrows=10, usecols='A:D')\n",
    "service_speed_2021"
   ]
  },
  {
   "cell_type": "code",
   "execution_count": null,
   "id": "d74be41f",
   "metadata": {},
   "outputs": [],
   "source": [
    "abandon_rate_2021 = pd.read_excel('../data/call_volume.xlsx', sheet_name='2021', skiprows=107, nrows=10, usecols='A:D')\n",
    "abandon_rate_2021"
   ]
  },
  {
   "cell_type": "markdown",
   "id": "53053d78",
   "metadata": {},
   "source": [
    "## 2022 DataFrames"
   ]
  },
  {
   "cell_type": "code",
   "execution_count": null,
   "id": "540897f5",
   "metadata": {},
   "outputs": [],
   "source": [
    "stats_2022 = pd.read_excel('../data/call_volume.xlsx', sheet_name='2022', skiprows=7, nrows=9, usecols='A:B')\n",
    "stats_2022.rename(inplace=True, columns={'Total Calls':'Category', 'Unnamed: 1':'Total'})\n",
    "stats_2022"
   ]
  },
  {
   "cell_type": "code",
   "execution_count": null,
   "id": "a70848c9",
   "metadata": {},
   "outputs": [],
   "source": [
    "queue_dist_2022 = pd.read_excel('../data/call_volume.xlsx', sheet_name='2022', skiprows=18, nrows=10, usecols='A:I')\n",
    "queue_dist_2022"
   ]
  },
  {
   "cell_type": "code",
   "execution_count": null,
   "id": "0ca96be6",
   "metadata": {},
   "outputs": [],
   "source": [
    "month_dist_2022 = pd.read_excel('../data/call_volume.xlsx', sheet_name='2022', skiprows=32, nrows=4, usecols='A:K')\n",
    "month_dist_2022"
   ]
  },
  {
   "cell_type": "code",
   "execution_count": null,
   "id": "1716cf03",
   "metadata": {},
   "outputs": [],
   "source": [
    "hour_dist_2022 = pd.read_excel('../data/call_volume.xlsx', sheet_name='2022', skiprows=40, nrows=24, usecols='A:K')\n",
    "hour_dist_2022"
   ]
  },
  {
   "cell_type": "code",
   "execution_count": null,
   "id": "3840c456",
   "metadata": {},
   "outputs": [],
   "source": [
    "day_dist_2022 = pd.read_excel('../data/call_volume.xlsx', sheet_name='2022', skiprows=68, nrows=7, usecols='A:K')\n",
    "day_dist_2022"
   ]
  },
  {
   "cell_type": "code",
   "execution_count": null,
   "id": "ededcdea",
   "metadata": {},
   "outputs": [],
   "source": [
    "service_speed_2022 = pd.read_excel('../data/call_volume.xlsx', sheet_name='2022', skiprows=80, nrows=10, usecols='A:D')\n",
    "service_speed_2022"
   ]
  },
  {
   "cell_type": "code",
   "execution_count": null,
   "id": "6406edf7",
   "metadata": {},
   "outputs": [],
   "source": [
    "abandon_rate_2022 = pd.read_excel('../data/call_volume.xlsx', sheet_name='2022', skiprows=94, nrows=10, usecols='A:D')\n",
    "abandon_rate_2022"
   ]
  },
  {
   "cell_type": "markdown",
   "id": "35fac961",
   "metadata": {},
   "source": [
    "## Cleaning the data"
   ]
  },
  {
   "cell_type": "code",
   "execution_count": null,
   "id": "f1177124",
   "metadata": {},
   "outputs": [],
   "source": [
    "crisis1.dropna(how='all', axis=1, inplace=True)\n",
    "crisis2.dropna(how='all', axis=1, inplace=True)"
   ]
  },
  {
   "cell_type": "markdown",
   "id": "2602b3b1",
   "metadata": {},
   "source": [
    "## Preliminary exploration of the Crisis data"
   ]
  },
  {
   "cell_type": "code",
   "execution_count": null,
   "id": "0afcdb5d",
   "metadata": {},
   "outputs": [],
   "source": [
    "crisis1.head()"
   ]
  },
  {
   "cell_type": "code",
   "execution_count": null,
   "id": "d07e5f2d",
   "metadata": {},
   "outputs": [],
   "source": [
    "crisis2.head()"
   ]
  },
  {
   "cell_type": "code",
   "execution_count": null,
   "id": "91120182",
   "metadata": {},
   "outputs": [],
   "source": [
    "crisis1.info()"
   ]
  },
  {
   "cell_type": "code",
   "execution_count": null,
   "id": "a3918aa6",
   "metadata": {},
   "outputs": [],
   "source": [
    "crisis2.info()"
   ]
  },
  {
   "cell_type": "code",
   "execution_count": null,
   "id": "fefc6867",
   "metadata": {},
   "outputs": [],
   "source": [
    "crisis1_call_type_counts = crisis1['CRISIS Call Information - Call Type'].value_counts()\n",
    "print(crisis1_call_type_counts)"
   ]
  },
  {
   "cell_type": "code",
   "execution_count": null,
   "id": "470d525e",
   "metadata": {},
   "outputs": [],
   "source": [
    "crisis1_caller_age = crisis1['CRISIS Demographics - Age'].value_counts()\n",
    "print(crisis1_caller_age)"
   ]
  },
  {
   "cell_type": "code",
   "execution_count": null,
   "id": "5db21524",
   "metadata": {},
   "outputs": [],
   "source": [
    "crisis1_caller_race = crisis1['CRISIS Demographics - Ethnicity'].value_counts()\n",
    "print(crisis1_caller_race)"
   ]
  },
  {
   "cell_type": "code",
   "execution_count": null,
   "id": "0469c2f4",
   "metadata": {},
   "outputs": [],
   "source": [
    "crisis2_caller_race = crisis2['CRISIS Demographics - Race/Ethnicity'].value_counts()\n",
    "print(crisis2_caller_race)"
   ]
  },
  {
   "cell_type": "code",
   "execution_count": null,
   "id": "d0905962",
   "metadata": {},
   "outputs": [],
   "source": [
    "crisis2_call_type_counts = crisis2['CRISIS Call Information - Call Type'].value_counts()\n",
    "print(crisis2_call_type_counts)"
   ]
  },
  {
   "cell_type": "code",
   "execution_count": null,
   "id": "c5519df0",
   "metadata": {},
   "outputs": [],
   "source": [
    "crisis2_caller_age = crisis2['CRISIS Demographics - Age'].value_counts()\n",
    "print(crisis2_caller_age)"
   ]
  },
  {
   "cell_type": "code",
   "execution_count": null,
   "id": "2d59b965",
   "metadata": {},
   "outputs": [],
   "source": [
    "crisis1_avg_call_duration_by_age = crisis1.groupby('CRISIS Demographics - Age')['CallLength'].mean()\n",
    "crisis1_avg_call_duration_by_age = crisis1_avg_call_duration_by_age.sort_values(ascending=False)\n",
    "print(crisis1_avg_call_duration_by_age)"
   ]
  },
  {
   "cell_type": "code",
   "execution_count": null,
   "id": "69aa8aef",
   "metadata": {},
   "outputs": [],
   "source": [
    "crisis2_avg_call_duration_by_age = crisis2.groupby('CRISIS Demographics - Age')['CallLength'].mean()\n",
    "crisis2_avg_call_duration_by_age = crisis2_avg_call_duration_by_age.sort_values(ascending=False)\n",
    "print(crisis2_avg_call_duration_by_age)"
   ]
  },
  {
   "cell_type": "code",
   "execution_count": null,
   "id": "a8d607c6",
   "metadata": {},
   "outputs": [],
   "source": [
    "crisis1_emergency_dispatched = crisis1['Was emergency rescue dispatched'].value_counts()\n",
    "print(crisis1_emergency_dispatched)"
   ]
  },
  {
   "cell_type": "code",
   "execution_count": null,
   "id": "9e8968bc",
   "metadata": {},
   "outputs": [],
   "source": [
    "crisis1_zip = crisis1['PostalCode'].value_counts()\n",
    "crisis1_zip = crisis1_zip.sort_values(ascending=False)\n",
    "print(crisis1_zip)"
   ]
  },
  {
   "cell_type": "code",
   "execution_count": null,
   "id": "be958019",
   "metadata": {},
   "outputs": [],
   "source": [
    "crisis2_zip = crisis2['PostalCode'].value_counts()\n",
    "crisis2_zip = crisis2_zip.sort_values(ascending=False)\n",
    "print(crisis2_zip)"
   ]
  },
  {
   "cell_type": "markdown",
   "id": "cdd64dfa",
   "metadata": {},
   "source": [
    "## Findings from preliminary Crisis data exploration"
   ]
  },
  {
   "cell_type": "markdown",
   "id": "ead0405c",
   "metadata": {},
   "source": [
    "In both Crisis1 and Crisis2, the age groups with the most calls are virtually the same. 56-70 makes the most calls, followed by 41-55 and so on. 0-6 age range is only included in Crisis2."
   ]
  },
  {
   "cell_type": "markdown",
   "id": "0e21d2e6",
   "metadata": {},
   "source": [
    "In Crisis1 and Crisis2, Caucasian category makes the most calls, followed by African-American. There is a steep drop off among the number of calls made by other races/ethnicities. This is probably due to the general population demographics of Nashville. "
   ]
  },
  {
   "cell_type": "markdown",
   "id": "d6ec37c5",
   "metadata": {},
   "source": [
    "In Crisis1, despite not making the most calls, the 18-24 age group has the longest average call length. Though 56-70 age group make the most calls, they have nearly the shortest average call length.\n",
    "\n",
    "In Crisis2, the 85+ category tied for the fewest calls made but had the longest avg call length. Follwed by the 18-24 group again, who made the middle of the pack number of calls.  "
   ]
  },
  {
   "cell_type": "markdown",
   "id": "20c31d4a",
   "metadata": {},
   "source": [
    "## Chosen area of focus:"
   ]
  },
  {
   "cell_type": "markdown",
   "id": "a3b30696",
   "metadata": {},
   "source": [
    "Your objectives for this dataset are as follows:\n",
    "1. Examine call volume and identify surge times, seasons, or events."
   ]
  },
  {
   "cell_type": "code",
   "execution_count": null,
   "id": "3f7edec6",
   "metadata": {},
   "outputs": [],
   "source": [
    "crisis2_zip = crisis2['PostalCode'].value_counts()"
   ]
  },
  {
   "cell_type": "markdown",
   "id": "d9727206",
   "metadata": {},
   "source": [
    "Charts from Abi below"
   ]
  },
  {
   "cell_type": "code",
   "execution_count": null,
   "id": "bab9bc5f",
   "metadata": {},
   "outputs": [],
   "source": [
    "#day_dist_2020.hist(column='Received', by='Day') -- wanted a histogram but I think I need to just do a bar plot\n",
    "plt.figure(figsize=(15,10))\n",
    "plt.bar(day_dist_2020['Day'], day_dist_2020['Received'])\n",
    "plt.title('Received Calls by Day of Week - 2020')\n",
    "plt.ylabel('Call Count')\n",
    "plt.xticks(rotation=50)\n",
    "plt.show()"
   ]
  },
  {
   "cell_type": "code",
   "execution_count": null,
   "id": "7af16308",
   "metadata": {},
   "outputs": [],
   "source": [
    "plt.figure(figsize=(15,10))\n",
    "plt.bar(day_dist_2021['Day'], day_dist_2021['Received'], color='m')\n",
    "plt.title('Received Calls by Day of Week - 2021')\n",
    "plt.ylabel('Call Count')\n",
    "plt.xticks(rotation=50)\n",
    "plt.show()"
   ]
  },
  {
   "cell_type": "code",
   "execution_count": null,
   "id": "17e60595",
   "metadata": {},
   "outputs": [],
   "source": [
    "plt.figure(figsize=(15,10))\n",
    "plt.bar(day_dist_2022['Day'], day_dist_2022['Received'], color='g')\n",
    "plt.title('Received Calls by Day of Week - 2022')\n",
    "plt.ylabel('Call Count')\n",
    "plt.xticks(rotation=50)\n",
    "plt.show()"
   ]
  },
  {
   "cell_type": "code",
   "execution_count": null,
   "id": "370c7413",
   "metadata": {},
   "outputs": [],
   "source": [
    "#Abi's attempt 2\n",
    "y1 = day_dist_2020['Received']\n",
    "y2 = day_dist_2021['Received']\n",
    "y3 = day_dist_2022['Received']\n",
    "width = 0.2\n",
    "plt.bar(day_dist_2020['Day'], y1, width, color='c')\n",
    "plt.bar(day_dist_2021['Day'], y2, width, color='m')\n",
    "plt.bar(day_dist_2022['Day'], y3, width, color='y')\n",
    "#this sort of worked, but also definitely didn't work. keeping for reference again. Maybe I need to mer"
   ]
  },
  {
   "cell_type": "code",
   "execution_count": null,
   "id": "42713626",
   "metadata": {
    "scrolled": true
   },
   "outputs": [],
   "source": [
    "day_dist1 = pd.merge(day_dist_2020, day_dist_2021, on='Day', how='inner')\n",
    "day_dist1"
   ]
  },
  {
   "cell_type": "code",
   "execution_count": null,
   "id": "b563c0ea",
   "metadata": {},
   "outputs": [],
   "source": [
    "day_dist = pd.merge(day_dist1, day_dist_2022, on='Day', how='inner')\n",
    "day_dist\n",
    "#alright, need to change the column names"
   ]
  },
  {
   "cell_type": "code",
   "execution_count": null,
   "id": "7781f8fd",
   "metadata": {},
   "outputs": [],
   "source": [
    "#this... mostly worked, but the columns came out in the wrong order... \n",
    "day_dist.rename(columns= {'Received_x':'2020 Received', 'Answered_x':'2020 Answered', 'Unanswered_x':'2020 Unanswered', 'Transfers_x':'2020 Transferred', '% Answ_x':'2020 % Answered', '% Unansw_x':'2020 % Unanswered', 'Avg Durat._x':'2020 Avg Duration', 'Avg Wait_x':'2020 Avg Wait', 'Logins_x':'2020 Logins', 'Logoff_x':'2020 Logoffs', 'Received_x':'2021 Received', 'Answered_x':'2021 Answered', 'Unanswered_x':'2021 Unanswered', 'Transfers_x':'2021 Transferred', '% Answ_x':'2021 % Answered', '% Unansw_x':'2021 % Unanswered', 'Avg Durat._x':'2021 Avg Duration', 'Avg Wait_x':'2021 Avg Wait', 'Logins_x':'2021 Logins', 'Logoff_x':'2021 Logoffs', 'Received_x':'2022 Received', 'Answered_x':'2022 Answered', 'Unanswered_x':'2022 Unanswered', 'Transfers_x':'2022 Transferred', '% Answ_x':'2022 % Answered', '% Unansw_x':'2022 % Unanswered', 'Avg Durat._x':'2022 Avg Duration', 'Avg Wait_x':'2022 Avg Wait', 'Logins_x':'2022 Logins', 'Logoff_x':'2022 Logoffs'}, inplace=True)\n",
    "day_dist"
   ]
  },
  {
   "cell_type": "code",
   "execution_count": null,
   "id": "44c278ac",
   "metadata": {},
   "outputs": [],
   "source": []
  }
 ],
 "metadata": {
  "kernelspec": {
   "display_name": "Python 3 (ipykernel)",
   "language": "python",
   "name": "python3"
  },
  "language_info": {
   "codemirror_mode": {
    "name": "ipython",
    "version": 3
   },
   "file_extension": ".py",
   "mimetype": "text/x-python",
   "name": "python",
   "nbconvert_exporter": "python",
   "pygments_lexer": "ipython3",
   "version": "3.9.7"
  }
 },
 "nbformat": 4,
 "nbformat_minor": 5
}
