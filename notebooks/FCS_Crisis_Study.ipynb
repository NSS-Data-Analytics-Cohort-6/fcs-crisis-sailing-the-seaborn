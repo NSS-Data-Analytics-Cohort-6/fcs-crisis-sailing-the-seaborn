{
 "cells": [
  {
   "cell_type": "code",
   "execution_count": null,
   "id": "36481586",
   "metadata": {},
   "outputs": [],
   "source": [
    "import requests\n",
    "import matplotlib.pyplot as plt\n",
    "import json\n",
    "import pandas as pd\n",
    "import matplotlib.pyplot as plt\n",
    "import matplotlib.ticker as mtick\n",
    "import seaborn as sns\n",
    "import numpy as np"
   ]
  },
  {
   "cell_type": "code",
   "execution_count": null,
   "id": "5d76db6f",
   "metadata": {},
   "outputs": [],
   "source": [
    "crisis1 = pd.read_excel('../data/Crisisv.1.xlsx')\n",
    "crisis2 = pd.read_excel('../data/NSSCrisisv.2.xlsx')\n",
    "callvolume_2020 = pd.read_excel('../data/Contact_center_call_volume_2020-2022.xlsx',sheet_name = '2020')\n",
    "callvolume_2021 = pd.read_excel('../data/Contact_center_call_volume_2020-2022.xlsx',sheet_name = '2021')\n",
    "callvolume_2022 = pd.read_excel('../data/Contact_center_call_volume_2020-2022.xlsx',sheet_name = '2022')"
   ]
  },
  {
   "cell_type": "markdown",
   "id": "35f0627f",
   "metadata": {},
   "source": [
    "## Cleaning the data"
   ]
  },
  {
   "cell_type": "code",
   "execution_count": null,
   "id": "df89b090",
   "metadata": {},
   "outputs": [],
   "source": [
    "crisis1.dropna(how='all', axis=1, inplace=True)\n",
    "crisis2.dropna(how='all', axis=1, inplace=True)"
   ]
  },
  {
   "cell_type": "markdown",
   "id": "f4d4c2b7",
   "metadata": {},
   "source": [
    "## Exploring the data"
   ]
  },
  {
   "cell_type": "code",
   "execution_count": null,
   "id": "5f021018",
   "metadata": {},
   "outputs": [],
   "source": [
    "crisis1.head()"
   ]
  },
  {
   "cell_type": "code",
   "execution_count": null,
   "id": "7725b96c",
   "metadata": {},
   "outputs": [],
   "source": [
    "crisis2.head()"
   ]
  },
  {
   "cell_type": "code",
   "execution_count": null,
   "id": "17b02662",
   "metadata": {},
   "outputs": [],
   "source": [
    "callvolume_2020.head()"
   ]
  },
  {
   "cell_type": "code",
   "execution_count": null,
   "id": "eb90b8b1",
   "metadata": {},
   "outputs": [],
   "source": [
    "crisis1.info()"
   ]
  },
  {
   "cell_type": "code",
   "execution_count": null,
   "id": "c8e1622c",
   "metadata": {},
   "outputs": [],
   "source": [
    "crisis2.info()"
   ]
  },
  {
   "cell_type": "code",
   "execution_count": null,
   "id": "cd075fd5",
   "metadata": {},
   "outputs": [],
   "source": [
    "crisis1_call_type_counts = crisis1['CRISIS Call Information - Call Type'].value_counts()\n",
    "print(crisis1_call_type_counts)"
   ]
  },
  {
   "cell_type": "code",
   "execution_count": null,
   "id": "cb95c2a0",
   "metadata": {},
   "outputs": [],
   "source": [
    "crisis1_caller_age = crisis1['CRISIS Demographics - Age'].value_counts()\n",
    "print(crisis1_caller_age)"
   ]
  },
  {
   "cell_type": "code",
   "execution_count": null,
   "id": "c48b4f75",
   "metadata": {},
   "outputs": [],
   "source": [
    "crisis1_caller_race = crisis1['CRISIS Demographics - Ethnicity'].value_counts()\n",
    "print(crisis1_caller_race)"
   ]
  },
  {
   "cell_type": "code",
   "execution_count": null,
   "id": "c35fdb3f",
   "metadata": {},
   "outputs": [],
   "source": [
    "crisis2_caller_race = crisis2['CRISIS Demographics - Race/Ethnicity'].value_counts()\n",
    "print(crisis2_caller_race)"
   ]
  },
  {
   "cell_type": "code",
   "execution_count": null,
   "id": "118da872",
   "metadata": {},
   "outputs": [],
   "source": [
    "crisis2_call_type_counts = crisis2['CRISIS Call Information - Call Type'].value_counts()\n",
    "print(crisis2_call_type_counts)"
   ]
  },
  {
   "cell_type": "code",
   "execution_count": null,
   "id": "dea7a43b",
   "metadata": {},
   "outputs": [],
   "source": [
    "crisis2_caller_age = crisis2['CRISIS Demographics - Age'].value_counts()\n",
    "print(crisis2_caller_age)"
   ]
  },
  {
   "cell_type": "code",
   "execution_count": null,
   "id": "e50506fd",
   "metadata": {},
   "outputs": [],
   "source": [
    "crisis1_avg_call_duration_by_age = crisis1.groupby('CRISIS Demographics - Age')['CallLength'].mean()\n",
    "crisis1_avg_call_duration_by_age = crisis1_call_duration_by_age.sort_values(ascending=False)\n",
    "print(crisis1_avg_call_duration_by_age)"
   ]
  },
  {
   "cell_type": "code",
   "execution_count": null,
   "id": "316f45f3",
   "metadata": {},
   "outputs": [],
   "source": [
    "streams_per_DSP = mlc.groupby('DSP')['Streams'].sum()\n",
    "streams_per_DSP = streams_per_DSP.sort_values(ascending=False)\n",
    "print(streams_per_DSP)"
   ]
  },
  {
   "cell_type": "markdown",
   "id": "2eea4653",
   "metadata": {},
   "source": [
    "## Findings from exploration"
   ]
  },
  {
   "cell_type": "markdown",
   "id": "58f9d3b1",
   "metadata": {},
   "source": [
    "In both Crisis1 and Crisis2, the age groups with the most calls are virtually the same. 56-70 makes the most calls, followed by 41-55 and so on. 0-6 age range is only included in Crisis2."
   ]
  },
  {
   "cell_type": "markdown",
   "id": "aedd0989",
   "metadata": {},
   "source": [
    "In Crisis1 and Crisis2, Caucasian category makes the most calls, followed by African-American. There is a steep drop off among the number of calls made by other races/ethnicities. "
   ]
  },
  {
   "cell_type": "markdown",
   "id": "1857c70c",
   "metadata": {},
   "source": [
    "In Crisis1, despite not making the most calls, the 18-24 age group has the longest average call length. Though 56-70 age group make the most calls, they have nearly the shortest average call length. "
   ]
  },
  {
   "cell_type": "code",
   "execution_count": null,
   "id": "bc7216d7",
   "metadata": {},
   "outputs": [],
   "source": []
  }
 ],
 "metadata": {
  "kernelspec": {
   "display_name": "Python 3 (ipykernel)",
   "language": "python",
   "name": "python3"
  },
  "language_info": {
   "codemirror_mode": {
    "name": "ipython",
    "version": 3
   },
   "file_extension": ".py",
   "mimetype": "text/x-python",
   "name": "python",
   "nbconvert_exporter": "python",
   "pygments_lexer": "ipython3",
   "version": "3.9.7"
  }
 },
 "nbformat": 4,
 "nbformat_minor": 5
}
