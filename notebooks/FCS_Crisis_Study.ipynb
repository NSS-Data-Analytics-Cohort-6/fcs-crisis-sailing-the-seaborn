{
 "cells": [
  {
   "cell_type": "code",
   "execution_count": null,
   "id": "538bf0f8",
   "metadata": {},
   "outputs": [],
   "source": [
    "import requests\n",
    "import matplotlib.pyplot as plt\n",
    "import json\n",
    "import pandas as pd\n",
    "import matplotlib.pyplot as plt\n",
    "import matplotlib.ticker as mtick\n",
    "import seaborn as sns\n",
    "import numpy as np"
   ]
  },
  {
   "cell_type": "code",
   "execution_count": null,
   "id": "49cfe115",
   "metadata": {},
   "outputs": [],
   "source": [
    "crisis1 = pd.read_excel('../data/Crisisv.1.xlsx')\n",
    "crisis2 = pd.read_excel('../data/NSSCrisisv.2.xlsx')\n",
    "callvolume_2020 = pd.read_excel('../data/Contact_center_call_volume_2020-2022.xlsx',sheet_name = '2020')\n",
    "callvolume_2021 = pd.read_excel('../data/Contact_center_call_volume_2020-2022.xlsx',sheet_name = '2021')\n",
    "callvolume_2022 = pd.read_excel('../data/Contact_center_call_volume_2020-2022.xlsx',sheet_name = '2022')"
   ]
  },
  {
   "cell_type": "markdown",
   "id": "35fac961",
   "metadata": {},
   "source": [
    "## Cleaning the data"
   ]
  },
  {
   "cell_type": "code",
   "execution_count": null,
   "id": "f1177124",
   "metadata": {},
   "outputs": [],
   "source": [
    "crisis1.dropna(how='all', axis=1, inplace=True)\n",
    "crisis2.dropna(how='all', axis=1, inplace=True)"
   ]
  },
  {
   "cell_type": "markdown",
   "id": "2602b3b1",
   "metadata": {},
   "source": [
    "## Preliminary exploration of the data"
   ]
  },
  {
   "cell_type": "code",
   "execution_count": null,
   "id": "0afcdb5d",
   "metadata": {},
   "outputs": [],
   "source": [
    "crisis1.head(50)"
   ]
  },
  {
   "cell_type": "code",
   "execution_count": null,
   "id": "d07e5f2d",
   "metadata": {},
   "outputs": [],
   "source": [
    "crisis2.head()"
   ]
  },
  {
   "cell_type": "code",
   "execution_count": null,
   "id": "b36cfc09",
   "metadata": {},
   "outputs": [],
   "source": [
    "callvolume_2020.head()"
   ]
  },
  {
   "cell_type": "code",
   "execution_count": null,
   "id": "91120182",
   "metadata": {},
   "outputs": [],
   "source": [
    "crisis1.info()"
   ]
  },
  {
   "cell_type": "code",
   "execution_count": null,
   "id": "a3918aa6",
   "metadata": {},
   "outputs": [],
   "source": [
    "crisis2.info()"
   ]
  },
  {
   "cell_type": "code",
   "execution_count": null,
   "id": "fefc6867",
   "metadata": {},
   "outputs": [],
   "source": [
    "crisis1_call_type_counts = crisis1['CRISIS Call Information - Call Type'].value_counts()\n",
    "print(crisis1_call_type_counts)"
   ]
  },
  {
   "cell_type": "code",
   "execution_count": null,
   "id": "470d525e",
   "metadata": {},
   "outputs": [],
   "source": [
    "crisis1_caller_age = crisis1['CRISIS Demographics - Age'].value_counts()\n",
    "print(crisis1_caller_age)"
   ]
  },
  {
   "cell_type": "code",
   "execution_count": null,
   "id": "5db21524",
   "metadata": {},
   "outputs": [],
   "source": [
    "crisis1_caller_race = crisis1['CRISIS Demographics - Ethnicity'].value_counts()\n",
    "print(crisis1_caller_race)"
   ]
  },
  {
   "cell_type": "code",
   "execution_count": null,
   "id": "0469c2f4",
   "metadata": {},
   "outputs": [],
   "source": [
    "crisis2_caller_race = crisis2['CRISIS Demographics - Race/Ethnicity'].value_counts()\n",
    "print(crisis2_caller_race)"
   ]
  },
  {
   "cell_type": "code",
   "execution_count": null,
   "id": "d0905962",
   "metadata": {},
   "outputs": [],
   "source": [
    "crisis2_call_type_counts = crisis2['CRISIS Call Information - Call Type'].value_counts()\n",
    "print(crisis2_call_type_counts)"
   ]
  },
  {
   "cell_type": "code",
   "execution_count": null,
   "id": "c5519df0",
   "metadata": {},
   "outputs": [],
   "source": [
    "crisis2_caller_age = crisis2['CRISIS Demographics - Age'].value_counts()\n",
    "print(crisis2_caller_age)"
   ]
  },
  {
   "cell_type": "code",
   "execution_count": null,
   "id": "2d59b965",
   "metadata": {},
   "outputs": [],
   "source": [
    "crisis1_avg_call_duration_by_age = crisis1.groupby('CRISIS Demographics - Age')['CallLength'].mean()\n",
    "crisis1_avg_call_duration_by_age = crisis1_avg_call_duration_by_age.sort_values(ascending=False)\n",
    "print(crisis1_avg_call_duration_by_age)"
   ]
  },
  {
   "cell_type": "code",
   "execution_count": null,
   "id": "69aa8aef",
   "metadata": {},
   "outputs": [],
   "source": [
    "crisis2_avg_call_duration_by_age = crisis2.groupby('CRISIS Demographics - Age')['CallLength'].mean()\n",
    "crisis2_avg_call_duration_by_age = crisis2_avg_call_duration_by_age.sort_values(ascending=False)\n",
    "print(crisis2_avg_call_duration_by_age)"
   ]
  },
  {
   "cell_type": "code",
   "execution_count": null,
   "id": "a8d607c6",
   "metadata": {},
   "outputs": [],
   "source": [
    "crisis1_emergency_dispatched = crisis1['Was emergency rescue dispatched'].value_counts()\n",
    "print(crisis1_emergency_dispatched)"
   ]
  },
  {
   "cell_type": "code",
   "execution_count": null,
   "id": "9e8968bc",
   "metadata": {},
   "outputs": [],
   "source": [
    "crisis1_zip = crisis1['PostalCode'].value_counts()\n",
    "crisis1_zip = crisis1_zip.sort_values(ascending=False)\n",
    "print(crisis1_zip)"
   ]
  },
  {
   "cell_type": "code",
   "execution_count": null,
   "id": "be958019",
   "metadata": {},
   "outputs": [],
   "source": [
    "crisis2_zip = crisis2['PostalCode'].value_counts()\n",
    "crisis2_zip = crisis2_zip.sort_values(ascending=False)\n",
    "print(crisis2_zip)"
   ]
  },
  {
   "cell_type": "markdown",
   "id": "cdd64dfa",
   "metadata": {},
   "source": [
    "## Findings from preliminary exploration"
   ]
  },
  {
   "cell_type": "markdown",
   "id": "ead0405c",
   "metadata": {},
   "source": [
    "In both Crisis1 and Crisis2, the age groups with the most calls are virtually the same. 56-70 makes the most calls, followed by 41-55 and so on. 0-6 age range is only included in Crisis2."
   ]
  },
  {
   "cell_type": "markdown",
   "id": "0e21d2e6",
   "metadata": {},
   "source": [
    "In Crisis1 and Crisis2, Caucasian category makes the most calls, followed by African-American. There is a steep drop off among the number of calls made by other races/ethnicities. This is probably due to the general population demographics of Nashville. "
   ]
  },
  {
   "cell_type": "markdown",
   "id": "d6ec37c5",
   "metadata": {},
   "source": [
    "In Crisis1, despite not making the most calls, the 18-24 age group has the longest average call length. Though 56-70 age group make the most calls, they have nearly the shortest average call length.\n",
    "\n",
    "In Crisis2, the 85+ category tied for the fewest calls made but had the longest avg call length. Follwed by the 18-24 group again, who made the middle of the pack number of calls.  "
   ]
  },
  {
   "cell_type": "markdown",
   "id": "20c31d4a",
   "metadata": {},
   "source": [
    "## Chosen area of focus:"
   ]
  },
  {
   "cell_type": "markdown",
   "id": "a3b30696",
   "metadata": {},
   "source": [
    "Your objectives for this dataset are as follows:\n",
    "1. Examine call volume and identify surge times, seasons, or events."
   ]
  },
  {
   "cell_type": "markdown",
   "id": "86b406e1",
   "metadata": {},
   "source": [
    "## Focused exploration"
   ]
  },
  {
   "cell_type": "code",
   "execution_count": null,
   "id": "bab9bc5f",
   "metadata": {},
   "outputs": [],
   "source": []
  }
 ],
 "metadata": {
  "kernelspec": {
   "display_name": "Python 3 (ipykernel)",
   "language": "python",
   "name": "python3"
  },
  "language_info": {
   "codemirror_mode": {
    "name": "ipython",
    "version": 3
   },
   "file_extension": ".py",
   "mimetype": "text/x-python",
   "name": "python",
   "nbconvert_exporter": "python",
   "pygments_lexer": "ipython3",
   "version": "3.9.7"
  }
 },
 "nbformat": 4,
 "nbformat_minor": 5
}
