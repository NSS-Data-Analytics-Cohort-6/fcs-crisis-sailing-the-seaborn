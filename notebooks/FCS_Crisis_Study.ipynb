{
 "cells": [
  {
   "cell_type": "code",
   "execution_count": null,
   "id": "538bf0f8",
   "metadata": {},
   "outputs": [],
   "source": [
    "import requests\n",
    "import matplotlib.pyplot as plt\n",
    "import json\n",
    "import pandas as pd\n",
    "import matplotlib.pyplot as plt\n",
    "import matplotlib.ticker as mtick\n",
    "import seaborn as sns\n",
    "import numpy as np"
   ]
  },
  {
   "cell_type": "code",
   "execution_count": null,
   "id": "49cfe115",
   "metadata": {},
   "outputs": [],
   "source": [
    "crisis1 = pd.read_excel('../data/Crisisv.1.xlsx')\n",
    "crisis2 = pd.read_excel('../data/NSSCrisisv.2.xlsx')"
   ]
  },
  {
   "cell_type": "markdown",
   "id": "312280dc",
   "metadata": {},
   "source": [
    "## 2020 DataFrames"
   ]
  },
  {
   "cell_type": "code",
   "execution_count": null,
   "id": "d38ea459",
   "metadata": {},
   "outputs": [],
   "source": [
    "stats_2020 = pd.read_excel('../data/call_volume.xlsx', sheet_name='2020', skiprows=10, nrows=9, usecols='A:B')\n",
    "stats_2020.rename(inplace=True, columns={'Total Calls':'Category', 'Unnamed: 1':'Total'})\n",
    "#stats_2020['Total'].sub(' calls', '') this didn't work the way I wanted it to, commenting it out until I figure out how to fix it\n",
    "stats_2020"
   ]
  },
  {
   "cell_type": "code",
   "execution_count": null,
   "id": "3c738e40",
   "metadata": {},
   "outputs": [],
   "source": [
    "queue_dist_2020 = pd.read_excel('../data/call_volume.xlsx', sheet_name='2020', skiprows=23, nrows=12, usecols='A:I')\n",
    "queue_dist_2020"
   ]
  },
  {
   "cell_type": "code",
   "execution_count": null,
   "id": "43fcc9c9",
   "metadata": {},
   "outputs": [],
   "source": [
    "month_dist_2020 = pd.read_excel('../data/call_volume.xlsx', sheet_name='2020', skiprows=39, nrows=12, usecols='A:K')\n",
    "month_dist_2020"
   ]
  },
  {
   "cell_type": "code",
   "execution_count": null,
   "id": "dff74407",
   "metadata": {},
   "outputs": [],
   "source": [
    "day_dist_2020 = pd.read_excel('../data/call_volume.xlsx', sheet_name='2020', skiprows=55, nrows=7, usecols='A:K')\n",
    "day_dist_2020"
   ]
  },
  {
   "cell_type": "code",
   "execution_count": null,
   "id": "056dbd25",
   "metadata": {},
   "outputs": [],
   "source": [
    "queue_answered_2020 = pd.read_excel('../data/call_volume.xlsx', sheet_name='2020', skiprows=66, nrows=10, usecols='A:C')\n",
    "queue_answered_2020"
   ]
  },
  {
   "cell_type": "markdown",
   "id": "49f46b01",
   "metadata": {},
   "source": [
    "## Service Speed Charts"
   ]
  },
  {
   "cell_type": "code",
   "execution_count": null,
   "id": "1fd07fb2",
   "metadata": {},
   "outputs": [],
   "source": [
    "service_speed_2020 = pd.read_excel('../data/call_volume.xlsx', sheet_name='2020', skiprows=80, nrows=10, usecols='A:D')\n",
    "service_speed_2020"
   ]
  },
  {
   "cell_type": "code",
   "execution_count": null,
   "id": "1ee5d728",
   "metadata": {},
   "outputs": [],
   "source": [
    "# Declare a list that is to be converted into a column\n",
    "year = ['2020', '2020', '2020', '2020', '2020', '2020', '2020', '2020', '2020', '2020',]\n",
    "# Using 'Address' as the column name\n",
    "# and equating it to the list\n",
    "service_speed_2020['Year'] = year\n",
    "service_speed_2020"
   ]
  },
  {
   "cell_type": "code",
   "execution_count": null,
   "id": "32768428",
   "metadata": {},
   "outputs": [],
   "source": [
    "service_speed_2021 = pd.read_excel('../data/call_volume.xlsx', sheet_name='2021', skiprows=93, nrows=10, usecols='A:D')\n",
    "service_speed_2021"
   ]
  },
  {
   "cell_type": "code",
   "execution_count": null,
   "id": "47ac5587",
   "metadata": {},
   "outputs": [],
   "source": [
    "year = ['2021', '2021', '2021', '2021', '2021', '2021', '2021', '2021', '2021', '2021',]\n",
    "service_speed_2021['Year'] = year\n",
    "service_speed_2021"
   ]
  },
  {
   "cell_type": "code",
   "execution_count": null,
   "id": "6e3fe4a0",
   "metadata": {},
   "outputs": [],
   "source": [
    "service_speed_2022 = pd.read_excel('../data/call_volume.xlsx', sheet_name='2022', skiprows=80, nrows=10, usecols='A:D')\n",
    "service_speed_2022"
   ]
  },
  {
   "cell_type": "code",
   "execution_count": null,
   "id": "ecdd77cf",
   "metadata": {},
   "outputs": [],
   "source": [
    "year = ['2022', '2022', '2022', '2022', '2022', '2022', '2022', '2022', '2022', '2022',]\n",
    "service_speed_2022['Year'] = year\n",
    "service_speed_2022"
   ]
  },
  {
   "cell_type": "markdown",
   "id": "16ee027c",
   "metadata": {},
   "source": [
    "### Merge"
   ]
  },
  {
   "cell_type": "code",
   "execution_count": null,
   "id": "6130eeca",
   "metadata": {},
   "outputs": [],
   "source": [
    "#service_speed_2020_2021 = pd.merge(gdp_df, internet_df, how='inner')\n",
    "#service_speed_2020_2021.info()"
   ]
  },
  {
   "cell_type": "code",
   "execution_count": null,
   "id": "4b7b9ed8",
   "metadata": {},
   "outputs": [],
   "source": [
    "service_speed_2020_2021 = pd.merge(service_speed_2020, service_speed_2021, how='inner')\n",
    "service_speed_2020_2021"
   ]
  },
  {
   "cell_type": "code",
   "execution_count": null,
   "id": "4b6f730b",
   "metadata": {},
   "outputs": [],
   "source": []
  },
  {
   "cell_type": "code",
   "execution_count": null,
   "id": "6c374d0d",
   "metadata": {},
   "outputs": [],
   "source": [
    "service_speed_2020_2022 = "
   ]
  },
  {
   "cell_type": "code",
   "execution_count": null,
   "id": "d37b02f7",
   "metadata": {},
   "outputs": [],
   "source": [
    "service_speed_2020.columns = ['Answer', 'Count', 'Delta', 'Percent']\n",
    "service_speed_2020"
   ]
  },
  {
   "cell_type": "code",
   "execution_count": null,
   "id": "a221288c",
   "metadata": {},
   "outputs": [],
   "source": [
    "#plt.figure(figsize=(12, 6))\n",
    "#plt.bar(top_7_sw.DSP, top_7_sw.Songwriter, color=['g', 'm', 'y', 'b', '1', 'orange', 'r'], edgecolor='black')\n",
    "#plt.ylabel('% of Songwriter Info Provided', fontsize=16)\n",
    "#plt.xticks(rotation = 50, fontsize=16)\n",
    "#plt.yticks([20, 40, 60, 80, 100], fontsize=16)\n",
    "#plt.text('YouTube', 10, '0', fontsize=16)\n",
    "#plt.text('SoundCloud', 10, '0', fontsize=16)\n",
    "#plt.text('Tidal', 10, '0.4', fontsize=16)\n",
    "#plt.title('Top 7 DSPs by % of Songwriter Info Provided', fontsize=20);"
   ]
  },
  {
   "cell_type": "code",
   "execution_count": null,
   "id": "2389353c",
   "metadata": {},
   "outputs": [],
   "source": [
    "# set seaborn style\n",
    "sns.set_theme()\n",
    " \n",
    "# Data\n",
    "x=range(1,6)\n",
    "y=[ [1,4,6,8,9], [2,2,7,10,12], [2,8,5,10,6] ]\n",
    " \n",
    "# Plot\n",
    "plt.stackplot(x,y, labels=['A','B','C'])\n",
    "plt.legend(loc='upper left')\n",
    "plt.show()"
   ]
  },
  {
   "cell_type": "code",
   "execution_count": null,
   "id": "216d9706",
   "metadata": {},
   "outputs": [],
   "source": [
    "x=service_speed_2020.Answer\n",
    "y=service_speed_2020.Percent\n",
    "\n",
    "plt.stackplot(x,y, labels=['2020'])\n",
    "plt.legend(loc='upper left')\n",
    "plt.xticks(rotation = 50)\n",
    "plt.show()"
   ]
  },
  {
   "cell_type": "code",
   "execution_count": null,
   "id": "e34ae9a1",
   "metadata": {},
   "outputs": [],
   "source": [
    "x=service_speed_2020.Percent\n",
    "y=service_speed_2020.Answer\n",
    "\n",
    "plt.stackplot(x,y, labels=['2020'])\n",
    "plt.legend(loc='upper left')\n",
    "plt.xticks(rotation = 50)\n",
    "plt.show()"
   ]
  },
  {
   "cell_type": "code",
   "execution_count": null,
   "id": "9163a300",
   "metadata": {},
   "outputs": [],
   "source": [
    "#ugly bar chart to get my bearings\n",
    "plt.bar(service_speed_2020.Answer, service_speed_2020.Percent)\n",
    "plt.ylabel('Percent') # Number of Streams times 10^9\n",
    "plt.xticks(rotation = 50)\n",
    "plt.title('Percent calls answered within a given time');"
   ]
  },
  {
   "cell_type": "code",
   "execution_count": null,
   "id": "2cb88368",
   "metadata": {},
   "outputs": [],
   "source": [
    "plt.area(service_speed_2020.Answer, service_speed_2020.Percent)"
   ]
  },
  {
   "cell_type": "markdown",
   "id": "3f2e9ae6",
   "metadata": {},
   "source": [
    "## Abandon Rate 2020 Area Chart"
   ]
  },
  {
   "cell_type": "code",
   "execution_count": null,
   "id": "49cb673e",
   "metadata": {},
   "outputs": [],
   "source": [
    "abandon_rate_2020 = pd.read_excel('../data/call_volume.xlsx', sheet_name='2020', skiprows=94, nrows=10, usecols='A:D')\n",
    "abandon_rate_2020"
   ]
  },
  {
   "cell_type": "markdown",
   "id": "6111c220",
   "metadata": {},
   "source": [
    "## 2021 DataFrames"
   ]
  },
  {
   "cell_type": "code",
   "execution_count": null,
   "id": "76a75413",
   "metadata": {},
   "outputs": [],
   "source": [
    "stats_2021 = pd.read_excel('../data/call_volume.xlsx', sheet_name='2021', skiprows=10, nrows=9, usecols='A:B')\n",
    "stats_2021.rename(inplace=True, columns={'Total Calls':'Category', 'Unnamed: 1':'Total'})\n",
    "stats_2021"
   ]
  },
  {
   "cell_type": "code",
   "execution_count": null,
   "id": "4ebed504",
   "metadata": {},
   "outputs": [],
   "source": [
    "queue_dist_2021 = pd.read_excel('../data/call_volume.xlsx', sheet_name='2021', skiprows=23, nrows=11, usecols='A:I')\n",
    "queue_dist_2021"
   ]
  },
  {
   "cell_type": "code",
   "execution_count": null,
   "id": "16b9d553",
   "metadata": {},
   "outputs": [],
   "source": [
    "month_dist_2021 = pd.read_excel('../data/call_volume.xlsx', sheet_name='2021', skiprows=38, nrows=12, usecols='A:K')\n",
    "month_dist_2021"
   ]
  },
  {
   "cell_type": "code",
   "execution_count": null,
   "id": "2d297614",
   "metadata": {},
   "outputs": [],
   "source": [
    "hour_dist_2021 = pd.read_excel('../data/call_volume.xlsx', sheet_name='2021', skiprows=54, nrows=24, usecols='A:K')\n",
    "hour_dist_2021"
   ]
  },
  {
   "cell_type": "code",
   "execution_count": null,
   "id": "47506f8f",
   "metadata": {},
   "outputs": [],
   "source": [
    "day_dist_2021 = pd.read_excel('../data/call_volume.xlsx', sheet_name='2021', skiprows=82, nrows=7, usecols='A:K')\n",
    "day_dist_2021"
   ]
  },
  {
   "cell_type": "code",
   "execution_count": null,
   "id": "9be0324b",
   "metadata": {},
   "outputs": [],
   "source": [
    "service_speed_2021 = pd.read_excel('../data/call_volume.xlsx', sheet_name='2021', skiprows=93, nrows=10, usecols='A:D')\n",
    "service_speed_2021"
   ]
  },
  {
   "cell_type": "code",
   "execution_count": null,
   "id": "d74be41f",
   "metadata": {},
   "outputs": [],
   "source": [
    "abandon_rate_2021 = pd.read_excel('../data/call_volume.xlsx', sheet_name='2021', skiprows=107, nrows=10, usecols='A:D')\n",
    "abandon_rate_2021"
   ]
  },
  {
   "cell_type": "markdown",
   "id": "53053d78",
   "metadata": {},
   "source": [
    "## 2022 DataFrames"
   ]
  },
  {
   "cell_type": "code",
   "execution_count": null,
   "id": "540897f5",
   "metadata": {},
   "outputs": [],
   "source": [
    "stats_2022 = pd.read_excel('../data/call_volume.xlsx', sheet_name='2022', skiprows=7, nrows=9, usecols='A:B')\n",
    "stats_2022.rename(inplace=True, columns={'Total Calls':'Category', 'Unnamed: 1':'Total'})\n",
    "stats_2022"
   ]
  },
  {
   "cell_type": "code",
   "execution_count": null,
   "id": "a70848c9",
   "metadata": {},
   "outputs": [],
   "source": [
    "queue_dist_2022 = pd.read_excel('../data/call_volume.xlsx', sheet_name='2022', skiprows=18, nrows=10, usecols='A:I')\n",
    "queue_dist_2022"
   ]
  },
  {
   "cell_type": "code",
   "execution_count": null,
   "id": "0ca96be6",
   "metadata": {},
   "outputs": [],
   "source": [
    "month_dist_2022 = pd.read_excel('../data/call_volume.xlsx', sheet_name='2022', skiprows=32, nrows=4, usecols='A:K')\n",
    "month_dist_2022"
   ]
  },
  {
   "cell_type": "code",
   "execution_count": null,
   "id": "1716cf03",
   "metadata": {},
   "outputs": [],
   "source": [
    "hour_dist_2022 = pd.read_excel('../data/call_volume.xlsx', sheet_name='2022', skiprows=40, nrows=24, usecols='A:K')\n",
    "hour_dist_2022"
   ]
  },
  {
   "cell_type": "code",
   "execution_count": null,
   "id": "3840c456",
   "metadata": {},
   "outputs": [],
   "source": [
    "day_dist_2022 = pd.read_excel('../data/call_volume.xlsx', sheet_name='2022', skiprows=68, nrows=7, usecols='A:K')\n",
    "day_dist_2022"
   ]
  },
  {
   "cell_type": "code",
   "execution_count": null,
   "id": "ededcdea",
   "metadata": {},
   "outputs": [],
   "source": [
    "service_speed_2022 = pd.read_excel('../data/call_volume.xlsx', sheet_name='2022', skiprows=80, nrows=10, usecols='A:D')\n",
    "service_speed_2022"
   ]
  },
  {
   "cell_type": "code",
   "execution_count": null,
   "id": "6406edf7",
   "metadata": {},
   "outputs": [],
   "source": [
    "abandon_rate_2022 = pd.read_excel('../data/call_volume.xlsx', sheet_name='2022', skiprows=94, nrows=10, usecols='A:D')\n",
    "abandon_rate_2022"
   ]
  },
  {
   "cell_type": "markdown",
   "id": "35fac961",
   "metadata": {},
   "source": [
    "## Cleaning the data"
   ]
  },
  {
   "cell_type": "code",
   "execution_count": null,
   "id": "f1177124",
   "metadata": {},
   "outputs": [],
   "source": [
    "crisis1.dropna(how='all', axis=1, inplace=True)\n",
    "crisis2.dropna(how='all', axis=1, inplace=True)"
   ]
  },
  {
   "cell_type": "markdown",
   "id": "2602b3b1",
   "metadata": {},
   "source": [
    "## Preliminary exploration of the Crisis data"
   ]
  },
  {
   "cell_type": "code",
   "execution_count": null,
   "id": "0afcdb5d",
   "metadata": {},
   "outputs": [],
   "source": [
    "crisis1.head()"
   ]
  },
  {
   "cell_type": "code",
   "execution_count": null,
   "id": "d07e5f2d",
   "metadata": {},
   "outputs": [],
   "source": [
    "crisis2.head()"
   ]
  },
  {
   "cell_type": "code",
   "execution_count": null,
   "id": "91120182",
   "metadata": {},
   "outputs": [],
   "source": [
    "crisis1.info()"
   ]
  },
  {
   "cell_type": "code",
   "execution_count": null,
   "id": "a3918aa6",
   "metadata": {},
   "outputs": [],
   "source": [
    "crisis2.info()"
   ]
  },
  {
   "cell_type": "code",
   "execution_count": null,
   "id": "fefc6867",
   "metadata": {},
   "outputs": [],
   "source": [
    "crisis1_call_type_counts = crisis1['CRISIS Call Information - Call Type'].value_counts()\n",
    "print(crisis1_call_type_counts)"
   ]
  },
  {
   "cell_type": "code",
   "execution_count": null,
   "id": "470d525e",
   "metadata": {},
   "outputs": [],
   "source": [
    "crisis1_caller_age = crisis1['CRISIS Demographics - Age'].value_counts()\n",
    "print(crisis1_caller_age)"
   ]
  },
  {
   "cell_type": "code",
   "execution_count": null,
   "id": "5db21524",
   "metadata": {},
   "outputs": [],
   "source": [
    "crisis1_caller_race = crisis1['CRISIS Demographics - Ethnicity'].value_counts()\n",
    "print(crisis1_caller_race)"
   ]
  },
  {
   "cell_type": "code",
   "execution_count": null,
   "id": "0469c2f4",
   "metadata": {},
   "outputs": [],
   "source": [
    "crisis2_caller_race = crisis2['CRISIS Demographics - Race/Ethnicity'].value_counts()\n",
    "print(crisis2_caller_race)"
   ]
  },
  {
   "cell_type": "code",
   "execution_count": null,
   "id": "d0905962",
   "metadata": {},
   "outputs": [],
   "source": [
    "crisis2_call_type_counts = crisis2['CRISIS Call Information - Call Type'].value_counts()\n",
    "print(crisis2_call_type_counts)"
   ]
  },
  {
   "cell_type": "code",
   "execution_count": null,
   "id": "c5519df0",
   "metadata": {},
   "outputs": [],
   "source": [
    "crisis2_caller_age = crisis2['CRISIS Demographics - Age'].value_counts()\n",
    "print(crisis2_caller_age)"
   ]
  },
  {
   "cell_type": "code",
   "execution_count": null,
   "id": "2d59b965",
   "metadata": {},
   "outputs": [],
   "source": [
    "crisis1_avg_call_duration_by_age = crisis1.groupby('CRISIS Demographics - Age')['CallLength'].mean()\n",
    "crisis1_avg_call_duration_by_age = crisis1_avg_call_duration_by_age.sort_values(ascending=False)\n",
    "print(crisis1_avg_call_duration_by_age)"
   ]
  },
  {
   "cell_type": "code",
   "execution_count": null,
   "id": "69aa8aef",
   "metadata": {},
   "outputs": [],
   "source": [
    "crisis2_avg_call_duration_by_age = crisis2.groupby('CRISIS Demographics - Age')['CallLength'].mean()\n",
    "crisis2_avg_call_duration_by_age = crisis2_avg_call_duration_by_age.sort_values(ascending=False)\n",
    "print(crisis2_avg_call_duration_by_age)"
   ]
  },
  {
   "cell_type": "code",
   "execution_count": null,
   "id": "a8d607c6",
   "metadata": {},
   "outputs": [],
   "source": [
    "crisis1_emergency_dispatched = crisis1['Was emergency rescue dispatched'].value_counts()\n",
    "print(crisis1_emergency_dispatched)"
   ]
  },
  {
   "cell_type": "code",
   "execution_count": null,
   "id": "9e8968bc",
   "metadata": {},
   "outputs": [],
   "source": [
    "crisis1_zip = crisis1['PostalCode'].value_counts()\n",
    "crisis1_zip = crisis1_zip.sort_values(ascending=False)\n",
    "print(crisis1_zip)"
   ]
  },
  {
   "cell_type": "code",
   "execution_count": null,
   "id": "be958019",
   "metadata": {},
   "outputs": [],
   "source": [
    "crisis2_zip = crisis2['PostalCode'].value_counts()\n",
    "crisis2_zip = crisis2_zip.sort_values(ascending=False)\n",
    "print(crisis2_zip)"
   ]
  },
  {
   "cell_type": "markdown",
   "id": "cdd64dfa",
   "metadata": {},
   "source": [
    "## Findings from preliminary Crisis data exploration"
   ]
  },
  {
   "cell_type": "markdown",
   "id": "ead0405c",
   "metadata": {},
   "source": [
    "In both Crisis1 and Crisis2, the age groups with the most calls are virtually the same. 56-70 makes the most calls, followed by 41-55 and so on. 0-6 age range is only included in Crisis2."
   ]
  },
  {
   "cell_type": "markdown",
   "id": "0e21d2e6",
   "metadata": {},
   "source": [
    "In Crisis1 and Crisis2, Caucasian category makes the most calls, followed by African-American. There is a steep drop off among the number of calls made by other races/ethnicities. This is probably due to the general population demographics of Nashville. "
   ]
  },
  {
   "cell_type": "markdown",
   "id": "d6ec37c5",
   "metadata": {},
   "source": [
    "In Crisis1, despite not making the most calls, the 18-24 age group has the longest average call length. Though 56-70 age group make the most calls, they have nearly the shortest average call length.\n",
    "\n",
    "In Crisis2, the 85+ category tied for the fewest calls made but had the longest avg call length. Follwed by the 18-24 group again, who made the middle of the pack number of calls.  "
   ]
  },
  {
   "cell_type": "markdown",
   "id": "20c31d4a",
   "metadata": {},
   "source": [
    "## Chosen area of focus:"
   ]
  },
  {
   "cell_type": "markdown",
   "id": "a3b30696",
   "metadata": {},
   "source": [
    "Your objectives for this dataset are as follows:\n",
    "1. Examine call volume and identify surge times, seasons, or events."
   ]
  },
  {
   "cell_type": "code",
   "execution_count": null,
   "id": "3f7edec6",
   "metadata": {},
   "outputs": [],
   "source": [
    "crisis2_zip = crisis2['PostalCode'].value_counts()"
   ]
  },
  {
   "cell_type": "markdown",
   "id": "d9727206",
   "metadata": {},
   "source": [
    "Charts from Abi below"
   ]
  },
  {
   "cell_type": "code",
   "execution_count": null,
   "id": "bab9bc5f",
   "metadata": {},
   "outputs": [],
   "source": [
    "#day_dist_2020.hist(column='Received', by='Day') -- wanted a histogram but I think I need to just do a bar plot\n",
    "plt.figure(figsize=(15,10))\n",
    "plt.bar(day_dist_2020['Day'], day_dist_2020['Received'])\n",
    "plt.title('Received Calls by Day of Week - 2020')\n",
    "plt.ylabel('Call Count')\n",
    "plt.xticks(rotation=50)\n",
    "plt.show()"
   ]
  },
  {
   "cell_type": "code",
   "execution_count": null,
   "id": "7af16308",
   "metadata": {},
   "outputs": [],
   "source": [
    "plt.figure(figsize=(15,10))\n",
    "plt.bar(day_dist_2021['Day'], day_dist_2021['Received'], color='m')\n",
    "plt.title('Received Calls by Day of Week - 2021')\n",
    "plt.ylabel('Call Count')\n",
    "plt.xticks(rotation=50)\n",
    "plt.show()"
   ]
  },
  {
   "cell_type": "code",
   "execution_count": null,
   "id": "17e60595",
   "metadata": {},
   "outputs": [],
   "source": [
    "plt.figure(figsize=(15,10))\n",
    "plt.bar(day_dist_2022['Day'], day_dist_2022['Received'], color='g')\n",
    "plt.title('Received Calls by Day of Week - 2022')\n",
    "plt.ylabel('Call Count')\n",
    "plt.xticks(rotation=50)\n",
    "plt.show()"
   ]
  },
  {
   "cell_type": "code",
   "execution_count": null,
   "id": "370c7413",
   "metadata": {},
   "outputs": [],
   "source": [
    "#Abi's attempt 2\n",
    "y1 = day_dist_2020['Received']\n",
    "y2 = day_dist_2021['Received']\n",
    "y3 = day_dist_2022['Received']\n",
    "width = 0.2\n",
    "plt.bar(day_dist_2020['Day'], y1, width, color='c')\n",
    "plt.bar(day_dist_2021['Day'], y2, width, color='m')\n",
    "plt.bar(day_dist_2022['Day'], y3, width, color='y')\n",
    "#this sort of worked, but also definitely didn't work. keeping for reference again. Maybe I need to mer"
   ]
  },
  {
   "cell_type": "code",
   "execution_count": null,
   "id": "42713626",
   "metadata": {
    "scrolled": true
   },
   "outputs": [],
   "source": [
    "day_dist1 = pd.merge(day_dist_2020, day_dist_2021, on='Day', how='inner')\n",
    "day_dist1"
   ]
  },
  {
   "cell_type": "code",
   "execution_count": null,
   "id": "b563c0ea",
   "metadata": {},
   "outputs": [],
   "source": [
    "day_dist = pd.merge(day_dist1, day_dist_2022, on='Day', how='inner')\n",
    "day_dist\n",
    "#alright, need to change the column names"
   ]
  },
  {
   "cell_type": "code",
   "execution_count": null,
   "id": "7781f8fd",
   "metadata": {},
   "outputs": [],
   "source": [
    "#this... mostly worked, but the columns came out in the wrong order... \n",
    "day_dist.rename(columns= {'Received_x':'2020 Received', 'Answered_x':'2020 Answered', 'Unanswered_x':'2020 Unanswered', 'Transfers_x':'2020 Transferred', '% Answ_x':'2020 % Answered', '% Unansw_x':'2020 % Unanswered', 'Avg Durat._x':'2020 Avg Duration', 'Avg Wait_x':'2020 Avg Wait', 'Logins_x':'2020 Logins', 'Logoff_x':'2020 Logoffs', 'Received_x':'2021 Received', 'Answered_x':'2021 Answered', 'Unanswered_x':'2021 Unanswered', 'Transfers_x':'2021 Transferred', '% Answ_x':'2021 % Answered', '% Unansw_x':'2021 % Unanswered', 'Avg Durat._x':'2021 Avg Duration', 'Avg Wait_x':'2021 Avg Wait', 'Logins_x':'2021 Logins', 'Logoff_x':'2021 Logoffs', 'Received_x':'2022 Received', 'Answered_x':'2022 Answered', 'Unanswered_x':'2022 Unanswered', 'Transfers_x':'2022 Transferred', '% Answ_x':'2022 % Answered', '% Unansw_x':'2022 % Unanswered', 'Avg Durat._x':'2022 Avg Duration', 'Avg Wait_x':'2022 Avg Wait', 'Logins_x':'2022 Logins', 'Logoff_x':'2022 Logoffs'}, inplace=True)\n",
    "day_dist"
   ]
  },
  {
   "cell_type": "code",
   "execution_count": null,
   "id": "44c278ac",
   "metadata": {},
   "outputs": [],
   "source": []
  }
 ],
 "metadata": {
  "kernelspec": {
   "display_name": "Python 3 (ipykernel)",
   "language": "python",
   "name": "python3"
  },
  "language_info": {
   "codemirror_mode": {
    "name": "ipython",
    "version": 3
   },
   "file_extension": ".py",
   "mimetype": "text/x-python",
   "name": "python",
   "nbconvert_exporter": "python",
   "pygments_lexer": "ipython3",
   "version": "3.9.7"
  }
 },
 "nbformat": 4,
 "nbformat_minor": 5
}
