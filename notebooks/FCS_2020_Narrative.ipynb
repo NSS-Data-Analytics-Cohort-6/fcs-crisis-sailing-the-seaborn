{
 "cells": [
  {
   "cell_type": "code",
   "execution_count": null,
   "id": "5b8d3fd3",
   "metadata": {},
   "outputs": [],
   "source": [
    "import pandas as pd\n",
    "import re \n",
    "import numpy as np\n",
    "import matplotlib.pyplot as plt\n",
    "import seaborn as sns\n",
    "import fnmatch\n",
    "from datetime import datetime\n",
    "import calendar\n",
    "\n",
    "%matplotlib inline"
   ]
  },
  {
   "cell_type": "code",
   "execution_count": null,
   "id": "8bb7d7e0",
   "metadata": {},
   "outputs": [],
   "source": [
    "crisis_1 = pd.read_excel(\"../data/NSSCrisis1.xlsx\",skiprows = 2)\n",
    "crisis_1"
   ]
  },
  {
   "cell_type": "code",
   "execution_count": null,
   "id": "74ff23bf",
   "metadata": {
    "scrolled": true
   },
   "outputs": [],
   "source": [
    "crisis_1_dates = crisis_1[['CallDateAndTimeStart','Narrative']]\n",
    "crisis_1_dates = crisis_1_dates.rename(columns = {'CallDateAndTimeStart': 'Call_Date'})\n",
    "crisis_1_dates"
   ]
  },
  {
   "cell_type": "code",
   "execution_count": null,
   "id": "23a3d7d0",
   "metadata": {},
   "outputs": [],
   "source": [
    "crisis_1_dates['year'] = pd.DatetimeIndex(crisis_1_dates['Call_Date']).year\n",
    "crisis_1_dates['month'] = pd.DatetimeIndex(crisis_1_dates['Call_Date']).month\n",
    "crisis_1_dates['day'] = pd.DatetimeIndex(crisis_1_dates['Call_Date']).day\n",
    "crisis_1_dates"
   ]
  },
  {
   "cell_type": "code",
   "execution_count": null,
   "id": "9c875f8f",
   "metadata": {
    "scrolled": true
   },
   "outputs": [],
   "source": [
    "calls_2020 = crisis_1_dates[crisis_1_dates['year'] == 2020]\n",
    "calls_2020"
   ]
  },
  {
   "cell_type": "code",
   "execution_count": null,
   "id": "127f3e7e",
   "metadata": {
    "scrolled": true
   },
   "outputs": [],
   "source": [
    "calls_2020_jan = calls_2020[calls_2020['month'] == 1]\n",
    "calls_2020_jan['weekday'] = calls_2020_jan['Call_Date'].dt.day_name()\n",
    "calls_2020_jan"
   ]
  },
  {
   "cell_type": "code",
   "execution_count": null,
   "id": "64969d45",
   "metadata": {},
   "outputs": [],
   "source": [
    "crisis_2020_0129 = calls_2020_jan[calls_2020_jan['day'] == 29]"
   ]
  },
  {
   "cell_type": "code",
   "execution_count": null,
   "id": "ce0ff7a2",
   "metadata": {},
   "outputs": [],
   "source": [
    "crisis_2020_0129.Narrative.value_counts()"
   ]
  },
  {
   "cell_type": "markdown",
   "id": "816a27ca",
   "metadata": {},
   "source": [
    "For this date there was no specific event that caused a spike in calls."
   ]
  },
  {
   "cell_type": "code",
   "execution_count": null,
   "id": "c54b5c12",
   "metadata": {},
   "outputs": [],
   "source": [
    "calls_2020_feb = calls_2020[calls_2020['month'] == 2]\n",
    "calls_2020_feb['weekday'] = calls_2020_feb['Call_Date'].dt.day_name()\n",
    "calls_2020_feb"
   ]
  },
  {
   "cell_type": "code",
   "execution_count": null,
   "id": "136aa15c",
   "metadata": {},
   "outputs": [],
   "source": [
    "crisis_2020_0228 = calls_2020_feb[calls_2020_feb['day'] == 28]"
   ]
  },
  {
   "cell_type": "code",
   "execution_count": null,
   "id": "bc495c44",
   "metadata": {},
   "outputs": [],
   "source": [
    "crisis_2020_0228.Narrative.value_counts()"
   ]
  },
  {
   "cell_type": "markdown",
   "id": "26f9773c",
   "metadata": {},
   "source": [
    "No speific event for this date. Most called to vent or were having a bad day."
   ]
  },
  {
   "cell_type": "code",
   "execution_count": null,
   "id": "313874f5",
   "metadata": {},
   "outputs": [],
   "source": [
    "calls_2020_mar = calls_2020[calls_2020['month'] == 3]\n",
    "calls_2020_mar['weekday'] = calls_2020_mar['Call_Date'].dt.day_name()\n",
    "calls_2020_mar"
   ]
  },
  {
   "cell_type": "code",
   "execution_count": null,
   "id": "7b1c5386",
   "metadata": {},
   "outputs": [],
   "source": [
    "crisis_2020_0305 = calls_2020_mar[calls_2020_mar['day'] == 5]"
   ]
  },
  {
   "cell_type": "code",
   "execution_count": null,
   "id": "046ce8ab",
   "metadata": {},
   "outputs": [],
   "source": [
    "crisis_2020_0305.Narrative.value_counts()"
   ]
  },
  {
   "cell_type": "markdown",
   "id": "b74328fb",
   "metadata": {},
   "source": [
    "No specific event for this day"
   ]
  },
  {
   "cell_type": "code",
   "execution_count": null,
   "id": "583ebf5f",
   "metadata": {},
   "outputs": [],
   "source": [
    "calls_2020_apr = calls_2020[calls_2020['month'] == 4]\n",
    "calls_2020_apr['weekday'] = calls_2020_apr['Call_Date'].dt.day_name()\n",
    "calls_2020_apr"
   ]
  },
  {
   "cell_type": "code",
   "execution_count": null,
   "id": "ce217bd7",
   "metadata": {},
   "outputs": [],
   "source": [
    "crisis_2020_0409 = calls_2020_apr[calls_2020_apr['day'] == 9]"
   ]
  },
  {
   "cell_type": "code",
   "execution_count": null,
   "id": "f4704499",
   "metadata": {},
   "outputs": [],
   "source": [
    "crisis_2020_0409.Narrative.value_counts()"
   ]
  },
  {
   "cell_type": "markdown",
   "id": "a6d47f77",
   "metadata": {},
   "source": [
    "It looks like there's no specific trends for the highest call dates"
   ]
  },
  {
   "cell_type": "code",
   "execution_count": null,
   "id": "fe04b107",
   "metadata": {},
   "outputs": [],
   "source": []
  }
 ],
 "metadata": {
  "kernelspec": {
   "display_name": "Python 3 (ipykernel)",
   "language": "python",
   "name": "python3"
  },
  "language_info": {
   "codemirror_mode": {
    "name": "ipython",
    "version": 3
   },
   "file_extension": ".py",
   "mimetype": "text/x-python",
   "name": "python",
   "nbconvert_exporter": "python",
   "pygments_lexer": "ipython3",
   "version": "3.9.7"
  }
 },
 "nbformat": 4,
 "nbformat_minor": 5
}
