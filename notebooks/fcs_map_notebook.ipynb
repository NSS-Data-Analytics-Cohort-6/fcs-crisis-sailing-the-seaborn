{
 "cells": [
  {
   "cell_type": "code",
   "execution_count": null,
   "id": "84cf435b",
   "metadata": {},
   "outputs": [],
   "source": [
    "from shapely.geometry import Point\n",
    "import pandas as pd\n",
    "import geopandas as gpd\n",
    "import matplotlib.pyplot as plt\n",
    "import folium\n",
    "from folium.plugins import MarkerCluster\n",
    "from folium.plugins import FastMarkerCluster"
   ]
  },
  {
   "cell_type": "code",
   "execution_count": null,
   "id": "9fa20440",
   "metadata": {},
   "outputs": [],
   "source": [
    "shapefile = '../data/zip_codes/geo_export_b0669956-5402-48db-b126-75ce2f80a1ae.shp'"
   ]
  },
  {
   "cell_type": "code",
   "execution_count": null,
   "id": "b61fda76",
   "metadata": {},
   "outputs": [],
   "source": [
    "#reading in shapefile using geopandas\n",
    "zips_map_data = gpd.read_file(shapefile)\n",
    "#let's see what we have\n",
    "zips_map_data = zips_map_data[['objectid', 'zipcode', 'geometry']]\n",
    "zips_map_data"
   ]
  },
  {
   "cell_type": "code",
   "execution_count": null,
   "id": "75b95694",
   "metadata": {},
   "outputs": [],
   "source": [
    "zips_map_data.plot();"
   ]
  },
  {
   "cell_type": "code",
   "execution_count": null,
   "id": "8a65979b",
   "metadata": {},
   "outputs": [],
   "source": [
    "fig, ax = plt.subplots(figsize=(64,16))\n",
    "zips_map_data.plot(ax = ax);"
   ]
  },
  {
   "cell_type": "code",
   "execution_count": null,
   "id": "8374a96b",
   "metadata": {},
   "outputs": [],
   "source": [
    "fig, ax = plt.subplots(figsize=(64,16))\n",
    "zips_map_data.plot(ax = ax)\n",
    "ax.axis('off');"
   ]
  },
  {
   "cell_type": "code",
   "execution_count": null,
   "id": "6dd1b805",
   "metadata": {},
   "outputs": [],
   "source": [
    "zips_map_data.info()"
   ]
  },
  {
   "cell_type": "code",
   "execution_count": null,
   "id": "a2783862",
   "metadata": {},
   "outputs": [],
   "source": [
    "#read in my data file from the previous notebook\n",
    "#but first I need to run the previous notebook to get my data table from it\n",
    "%run fcs_crisis_notebook.ipynb"
   ]
  },
  {
   "cell_type": "code",
   "execution_count": null,
   "id": "fae30de1",
   "metadata": {},
   "outputs": [],
   "source": [
    "#let's see if I can get my table from my original notebook.......\n",
    "crisis_df.head()"
   ]
  },
  {
   "cell_type": "code",
   "execution_count": null,
   "id": "0d92c790",
   "metadata": {},
   "outputs": [],
   "source": [
    "#oh yeah"
   ]
  },
  {
   "cell_type": "code",
   "execution_count": null,
   "id": "423b461b",
   "metadata": {},
   "outputs": [],
   "source": [
    "#I need do some calculations if this is going to look any good\n",
    "#how did I forget that?"
   ]
  },
  {
   "cell_type": "code",
   "execution_count": null,
   "id": "5dad70a0",
   "metadata": {},
   "outputs": [],
   "source": [
    "zip_map_df"
   ]
  },
  {
   "cell_type": "code",
   "execution_count": null,
   "id": "c1dd05b4",
   "metadata": {},
   "outputs": [],
   "source": [
    "zip_map_df = zip_map_df.drop(zip_map_df.index[1194])\n",
    "zip_map_df"
   ]
  },
  {
   "cell_type": "code",
   "execution_count": null,
   "id": "71fe89d4",
   "metadata": {},
   "outputs": [],
   "source": [
    "zip_map_df = zip_map_df.drop(zip_map_df.index[1193])\n",
    "zip_map_df"
   ]
  },
  {
   "cell_type": "code",
   "execution_count": null,
   "id": "abf3ef06",
   "metadata": {},
   "outputs": [],
   "source": [
    "zip_map_df.tail()"
   ]
  },
  {
   "cell_type": "code",
   "execution_count": null,
   "id": "7a78a3fb",
   "metadata": {},
   "outputs": [],
   "source": [
    "zip_map_df['zipcode'] = zip_map_df.zipcode.astype('int')\n",
    "zip_map_df.info()"
   ]
  },
  {
   "cell_type": "code",
   "execution_count": null,
   "id": "c223d63f",
   "metadata": {},
   "outputs": [],
   "source": [
    "zips_map_data['zipcode'] = zips_map_data.zipcode.astype('int')\n",
    "zips_map_data.info()"
   ]
  },
  {
   "cell_type": "code",
   "execution_count": null,
   "id": "6d578967",
   "metadata": {},
   "outputs": [],
   "source": [
    "zip_map_df_jan = zip_map_df[['zipcode', 1]]\n",
    "zip_map_df_jan"
   ]
  },
  {
   "cell_type": "code",
   "execution_count": null,
   "id": "9802a62e",
   "metadata": {},
   "outputs": [],
   "source": [
    "zip_map_df_jan.info()"
   ]
  },
  {
   "cell_type": "code",
   "execution_count": null,
   "id": "2f2e1958",
   "metadata": {},
   "outputs": [],
   "source": [
    "zip_map_df_jan = zip_map_df_jan.dropna()\n",
    "zip_map_df_jan"
   ]
  },
  {
   "cell_type": "code",
   "execution_count": null,
   "id": "b4108494",
   "metadata": {},
   "outputs": [],
   "source": [
    "zip_map_df_jan[1].sum()"
   ]
  },
  {
   "cell_type": "code",
   "execution_count": null,
   "id": "1e1f44f8",
   "metadata": {},
   "outputs": [],
   "source": [
    "zip_map_df_feb = zip_map_df[['zipcode', 2]]\n",
    "zip_map_df_feb = zip_map_df_feb.dropna()\n",
    "#zip_map_df_feb"
   ]
  },
  {
   "cell_type": "code",
   "execution_count": null,
   "id": "58a76428",
   "metadata": {},
   "outputs": [],
   "source": [
    "#march\n",
    "zip_map_df_mar = zip_map_df[['zipcode', 3]]\n",
    "zip_map_df_mar = zip_map_df_mar.dropna()\n",
    "#april\n",
    "zip_map_df_apr = zip_map_df[['zipcode', 4]]\n",
    "zip_map_df_apr = zip_map_df_apr.dropna()\n",
    "#may\n",
    "zip_map_df_may = zip_map_df[['zipcode', 5]]\n",
    "zip_map_df_may = zip_map_df_may.dropna()\n",
    "#june\n",
    "zip_map_df_june = zip_map_df[['zipcode', 6]]\n",
    "zip_map_df_june = zip_map_df_june.dropna()\n",
    "#july\n",
    "zip_map_df_july = zip_map_df[['zipcode', 7]]\n",
    "zip_map_df_july = zip_map_df_july.dropna()\n",
    "#aug\n",
    "zip_map_df_aug = zip_map_df[['zipcode', 8]]\n",
    "zip_map_df_aug = zip_map_df_aug.dropna()\n",
    "#sept\n",
    "zip_map_df_sept = zip_map_df[['zipcode', 9]]\n",
    "zip_map_df_sept = zip_map_df_sept.dropna()\n",
    "#oct\n",
    "zip_map_df_oct = zip_map_df[['zipcode', 10]]\n",
    "zip_map_df_oct = zip_map_df_oct.dropna()\n",
    "#nov\n",
    "zip_map_df_nov = zip_map_df[['zipcode', 11]]\n",
    "zip_map_df_nov = zip_map_df_nov.dropna()\n",
    "#dec\n",
    "zip_map_df_dec = zip_map_df[['zipcode', 12]]\n",
    "zip_map_df_dec = zip_map_df_dec.dropna()"
   ]
  },
  {
   "cell_type": "code",
   "execution_count": null,
   "id": "eb63127d",
   "metadata": {},
   "outputs": [],
   "source": [
    "## Time of day individual dfs\n",
    "\n",
    "#morning\n",
    "zip_map_df_morn = zip_map_df[['zipcode', 'Morning']]\n",
    "zip_map_df_morn = zip_map_df_morn.dropna()\n",
    "#midday\n",
    "zip_map_df_mid = zip_map_df[['zipcode', 'Mid-Day']]\n",
    "zip_map_df_mid = zip_map_df_mid.dropna()\n",
    "#afternoon\n",
    "zip_map_df_aft = zip_map_df[['zipcode', 'Afternoon']]\n",
    "zip_map_df_aft = zip_map_df_aft.dropna()\n",
    "#evening\n",
    "zip_map_df_eve = zip_map_df[['zipcode', 'Evening']]\n",
    "zip_map_df_eve = zip_map_df_eve.dropna()\n",
    "#night\n",
    "zip_map_df_nite = zip_map_df[['zipcode', 'Night']]\n",
    "zip_map_df_nite = zip_map_df_nite.dropna()"
   ]
  },
  {
   "cell_type": "code",
   "execution_count": null,
   "id": "ffdf863b",
   "metadata": {},
   "outputs": [],
   "source": [
    "## Day of the Week individual dfs\n",
    "\n",
    "#Monday\n",
    "zip_map_df_mon = zip_map_df[['zipcode', 'Monday']]\n",
    "zip_map_df_mon = zip_map_df_mon.dropna()\n",
    "#Tue\n",
    "zip_map_df_tue = zip_map_df[['zipcode', 'Tuesday']]\n",
    "zip_map_df_tue = zip_map_df_tue.dropna()\n",
    "#Wed\n",
    "zip_map_df_wed = zip_map_df[['zipcode', 'Wednesday']]\n",
    "zip_map_df_wed = zip_map_df_wed.dropna()\n",
    "#Thur\n",
    "zip_map_df_thur = zip_map_df[['zipcode', 'Thursday']]\n",
    "zip_map_df_thur = zip_map_df_thur.dropna()\n",
    "#Fri\n",
    "zip_map_df_fri = zip_map_df[['zipcode', 'Friday']]\n",
    "zip_map_df_fri = zip_map_df_fri.dropna()\n",
    "#Sat\n",
    "zip_map_df_sat = zip_map_df[['zipcode', 'Saturday']]\n",
    "zip_map_df_sat = zip_map_df_sat.dropna()\n",
    "#Sun\n",
    "zip_map_df_sun = zip_map_df[['zipcode', 'Sunday']]\n",
    "zip_map_df_sun = zip_map_df_sun.dropna()"
   ]
  },
  {
   "cell_type": "code",
   "execution_count": null,
   "id": "d6982ff9",
   "metadata": {},
   "outputs": [],
   "source": [
    "import pandas as pd\n",
    "#merge my zip code df and zip map df\n",
    "zip_merged_jan=zips_map_data.merge(zip_map_df_jan, on = 'zipcode', how='left')\n",
    "zip_merged\n",
    "#zip_merged = pd.merge(left = zips_map_data, right = zip_map_df_jan, left_on = 'zipcode', right_on = 'zipcode')\n",
    "#zip_merged\n",
    "\n",
    "#zip_merged = zips_map_data.merge(zip_map_df_jan, left_on = 'zipcode', right_on = 'zipcode')\n",
    "#zip_merged"
   ]
  },
  {
   "cell_type": "code",
   "execution_count": null,
   "id": "ccd70dc8",
   "metadata": {},
   "outputs": [],
   "source": [
    "fig, ax = plt.subplots(figsize=(60,12))\n",
    "zip_merged_jan.plot(column = 1, \n",
    "              ax = ax)\n",
    "ax.axis('off');"
   ]
  },
  {
   "cell_type": "code",
   "execution_count": null,
   "id": "c6eb6fc7",
   "metadata": {},
   "outputs": [],
   "source": [
    "fig, ax = plt.subplots(figsize=(60,12))\n",
    "zip_merged_jan.plot(column = 1, \n",
    "              cmap = 'GnBu', \n",
    "              edgecolor = 'black', \n",
    "              legend = True,\n",
    "              ax = ax)\n",
    "ax.axis('off');"
   ]
  },
  {
   "cell_type": "code",
   "execution_count": null,
   "id": "eb0f5caa",
   "metadata": {},
   "outputs": [],
   "source": [
    "fig, ax = plt.subplots(figsize=(60,12))\n",
    "zip_merged_jan.plot(column = 1, \n",
    "              cmap = 'GnBu', \n",
    "              edgecolor = 'black', \n",
    "              legend = False,\n",
    "              ax = ax)\n",
    "plt.title('January', fontsize = 48)\n",
    "ax.axis('off');"
   ]
  },
  {
   "cell_type": "code",
   "execution_count": null,
   "id": "a6ca8907",
   "metadata": {},
   "outputs": [],
   "source": [
    "#month merges\n",
    "zip_merged_feb=zips_map_data.merge(zip_map_df_feb, on = 'zipcode', how='left')\n",
    "zip_merged_mar=zips_map_data.merge(zip_map_df_mar, on = 'zipcode', how='left')\n",
    "zip_merged_apr=zips_map_data.merge(zip_map_df_apr, on = 'zipcode', how='left')\n",
    "zip_merged_may=zips_map_data.merge(zip_map_df_may, on = 'zipcode', how='left')\n",
    "zip_merged_june=zips_map_data.merge(zip_map_df_june, on = 'zipcode', how='left')\n",
    "zip_merged_july=zips_map_data.merge(zip_map_df_july, on = 'zipcode', how='left')\n",
    "zip_merged_aug=zips_map_data.merge(zip_map_df_aug, on = 'zipcode', how='left')\n",
    "zip_merged_sept=zips_map_data.merge(zip_map_df_sept, on = 'zipcode', how='left')\n",
    "zip_merged_oct=zips_map_data.merge(zip_map_df_oct, on = 'zipcode', how='left')\n",
    "zip_merged_nov=zips_map_data.merge(zip_map_df_nov, on = 'zipcode', how='left')\n",
    "zip_merged_dec=zips_map_data.merge(zip_map_df_dec, on = 'zipcode', how='left')"
   ]
  },
  {
   "cell_type": "markdown",
   "id": "361d4249",
   "metadata": {},
   "source": [
    "# Month Maps"
   ]
  },
  {
   "cell_type": "code",
   "execution_count": null,
   "id": "c972a3c9",
   "metadata": {},
   "outputs": [],
   "source": [
    "#feb\n",
    "fig, ax = plt.subplots(figsize=(60,12))\n",
    "zip_merged_feb.plot(column = 2, \n",
    "              cmap = 'GnBu', \n",
    "              edgecolor = 'black', \n",
    "              legend = False,\n",
    "              ax = ax)\n",
    "plt.title('February', fontsize = 48)\n",
    "ax.axis('off');"
   ]
  },
  {
   "cell_type": "code",
   "execution_count": null,
   "id": "66b465b5",
   "metadata": {},
   "outputs": [],
   "source": [
    "#march\n",
    "fig, ax = plt.subplots(figsize=(60,12))\n",
    "zip_merged_mar.plot(column = 3, \n",
    "              cmap = 'GnBu', \n",
    "              edgecolor = 'black', \n",
    "              legend = False,\n",
    "              ax = ax)\n",
    "plt.title('March', fontsize = 48)\n",
    "ax.axis('off');"
   ]
  },
  {
   "cell_type": "code",
   "execution_count": null,
   "id": "6b36b8a5",
   "metadata": {},
   "outputs": [],
   "source": [
    "#april\n",
    "fig, ax = plt.subplots(figsize=(60,12))\n",
    "zip_merged_apr.plot(column = 4, \n",
    "              cmap = 'GnBu', \n",
    "              edgecolor = 'black', \n",
    "              legend = False,\n",
    "              ax = ax)\n",
    "plt.title('April', fontsize = 48)\n",
    "ax.axis('off');"
   ]
  },
  {
   "cell_type": "code",
   "execution_count": null,
   "id": "77f78ffd",
   "metadata": {},
   "outputs": [],
   "source": [
    "fig, ax = plt.subplots(figsize=(60,12))\n",
    "zip_merged_may.plot(column = 5, \n",
    "              cmap = 'GnBu', \n",
    "              edgecolor = 'black', \n",
    "              legend = False,\n",
    "              ax = ax)\n",
    "plt.title('May', fontsize = 48)\n",
    "ax.axis('off');"
   ]
  },
  {
   "cell_type": "code",
   "execution_count": null,
   "id": "ac3f048b",
   "metadata": {},
   "outputs": [],
   "source": [
    "#June\n",
    "fig, ax = plt.subplots(figsize=(60,12))\n",
    "zip_merged_june.plot(column = 6, \n",
    "              cmap = 'GnBu', \n",
    "              edgecolor = 'black', \n",
    "              legend = False,\n",
    "              ax = ax)\n",
    "plt.title('June', fontsize = 48)\n",
    "ax.axis('off');"
   ]
  },
  {
   "cell_type": "code",
   "execution_count": null,
   "id": "a48514df",
   "metadata": {},
   "outputs": [],
   "source": [
    "#July\n",
    "fig, ax = plt.subplots(figsize=(60,12))\n",
    "zip_merged_july.plot(column = 7, \n",
    "              cmap = 'GnBu', \n",
    "              edgecolor = 'black', \n",
    "              legend = False,\n",
    "              ax = ax)\n",
    "plt.title('July', fontsize = 48)\n",
    "ax.axis('off');"
   ]
  },
  {
   "cell_type": "code",
   "execution_count": null,
   "id": "0c161d56",
   "metadata": {},
   "outputs": [],
   "source": [
    "#August\n",
    "fig, ax = plt.subplots(figsize=(60,12))\n",
    "zip_merged_aug.plot(column = 8, \n",
    "              cmap = 'GnBu', \n",
    "              edgecolor = 'black', \n",
    "              legend = False,\n",
    "              ax = ax)\n",
    "plt.title('August', fontsize = 48)\n",
    "ax.axis('off');"
   ]
  },
  {
   "cell_type": "code",
   "execution_count": null,
   "id": "8e45cfe9",
   "metadata": {},
   "outputs": [],
   "source": [
    "#September\n",
    "fig, ax = plt.subplots(figsize=(60,12))\n",
    "zip_merged_sept.plot(column = 9, \n",
    "              cmap = 'GnBu', \n",
    "              edgecolor = 'black', \n",
    "              legend = False,\n",
    "              ax = ax)\n",
    "plt.title('September', fontsize = 48)\n",
    "ax.axis('off');"
   ]
  },
  {
   "cell_type": "code",
   "execution_count": null,
   "id": "ba2e597b",
   "metadata": {},
   "outputs": [],
   "source": [
    "#october\n",
    "fig, ax = plt.subplots(figsize=(60,12))\n",
    "zip_merged_oct.plot(column = 10, \n",
    "              cmap = 'GnBu', \n",
    "              edgecolor = 'black', \n",
    "              legend = False,\n",
    "              ax = ax)\n",
    "plt.title('October', fontsize = 48)\n",
    "ax.axis('off');"
   ]
  },
  {
   "cell_type": "code",
   "execution_count": null,
   "id": "6b811f3c",
   "metadata": {},
   "outputs": [],
   "source": [
    "#November\n",
    "fig, ax = plt.subplots(figsize=(60,12))\n",
    "zip_merged_nov.plot(column = 11, \n",
    "              cmap = 'GnBu', \n",
    "              edgecolor = 'black', \n",
    "              legend = False,\n",
    "              ax = ax)\n",
    "plt.title('November', fontsize = 48)\n",
    "ax.axis('off');"
   ]
  },
  {
   "cell_type": "code",
   "execution_count": null,
   "id": "86acb0d1",
   "metadata": {},
   "outputs": [],
   "source": [
    "#december\n",
    "fig, ax = plt.subplots(figsize=(60,12))\n",
    "zip_merged_dec.plot(column = 12, \n",
    "              cmap = 'GnBu', \n",
    "              edgecolor = 'black', \n",
    "              legend = False,\n",
    "              ax = ax)\n",
    "plt.title('December', fontsize = 48)\n",
    "ax.axis('off');"
   ]
  },
  {
   "cell_type": "markdown",
   "id": "401b86a7",
   "metadata": {},
   "source": [
    "# Weekday Maps"
   ]
  },
  {
   "cell_type": "code",
   "execution_count": null,
   "id": "2816b45c",
   "metadata": {},
   "outputs": [],
   "source": [
    "#weekday merges\n",
    "zip_merged_mon=zips_map_data.merge(zip_map_df_mon, on = 'zipcode', how='left')\n",
    "zip_merged_tue=zips_map_data.merge(zip_map_df_tue, on = 'zipcode', how='left')\n",
    "zip_merged_wed=zips_map_data.merge(zip_map_df_wed, on = 'zipcode', how='left')\n",
    "zip_merged_thur=zips_map_data.merge(zip_map_df_thur, on = 'zipcode', how='left')\n",
    "zip_merged_fri=zips_map_data.merge(zip_map_df_fri, on = 'zipcode', how='left')\n",
    "zip_merged_sat=zips_map_data.merge(zip_map_df_sat, on = 'zipcode', how='left')\n",
    "zip_merged_sun=zips_map_data.merge(zip_map_df_sun, on = 'zipcode', how='left')"
   ]
  },
  {
   "cell_type": "code",
   "execution_count": null,
   "id": "0456376b",
   "metadata": {},
   "outputs": [],
   "source": [
    "#monday\n",
    "fig, ax = plt.subplots(figsize=(60,12))\n",
    "zip_merged_mon.plot(column = 'Monday', \n",
    "              cmap = 'GnBu', \n",
    "              edgecolor = 'black', \n",
    "              legend = False,\n",
    "              ax = ax)\n",
    "plt.title('Monday', fontsize = 48)\n",
    "ax.axis('off');"
   ]
  },
  {
   "cell_type": "code",
   "execution_count": null,
   "id": "608b3093",
   "metadata": {},
   "outputs": [],
   "source": [
    "#tue\n",
    "fig, ax = plt.subplots(figsize=(60,12))\n",
    "zip_merged_tue.plot(column = 'Tuesday', \n",
    "              cmap = 'GnBu', \n",
    "              edgecolor = 'black', \n",
    "              legend = False,\n",
    "              ax = ax)\n",
    "plt.title('Tuesday', fontsize = 48)\n",
    "ax.axis('off');"
   ]
  },
  {
   "cell_type": "code",
   "execution_count": null,
   "id": "5b0ecf50",
   "metadata": {},
   "outputs": [],
   "source": [
    "#wed\n",
    "fig, ax = plt.subplots(figsize=(60,12))\n",
    "zip_merged_wed.plot(column = 'Wednesday', \n",
    "              cmap = 'GnBu', \n",
    "              edgecolor = 'black', \n",
    "              legend = False,\n",
    "              ax = ax)\n",
    "plt.title('Wednesday', fontsize = 48)\n",
    "ax.axis('off');"
   ]
  },
  {
   "cell_type": "code",
   "execution_count": null,
   "id": "2de480a2",
   "metadata": {},
   "outputs": [],
   "source": [
    "#thur\n",
    "fig, ax = plt.subplots(figsize=(60,12))\n",
    "zip_merged_thur.plot(column = 'Thursday', \n",
    "              cmap = 'GnBu', \n",
    "              edgecolor = 'black', \n",
    "              legend = False,\n",
    "              ax = ax)\n",
    "plt.title('Thursday', fontsize = 48)\n",
    "ax.axis('off');"
   ]
  },
  {
   "cell_type": "code",
   "execution_count": null,
   "id": "4ac14184",
   "metadata": {},
   "outputs": [],
   "source": [
    "#fri\n",
    "fig, ax = plt.subplots(figsize=(60,12))\n",
    "zip_merged_fri.plot(column = 'Friday', \n",
    "              cmap = 'GnBu', \n",
    "              edgecolor = 'black', \n",
    "              legend = False,\n",
    "              ax = ax)\n",
    "plt.title('Friday', fontsize = 48)\n",
    "ax.axis('off');"
   ]
  },
  {
   "cell_type": "code",
   "execution_count": null,
   "id": "58bb6fe3",
   "metadata": {},
   "outputs": [],
   "source": [
    "#sat\n",
    "fig, ax = plt.subplots(figsize=(60,12))\n",
    "zip_merged_sat.plot(column = 'Saturday', \n",
    "              cmap = 'GnBu', \n",
    "              edgecolor = 'black', \n",
    "              legend = False,\n",
    "              ax = ax)\n",
    "plt.title('Saturday', fontsize = 48)\n",
    "ax.axis('off');"
   ]
  },
  {
   "cell_type": "code",
   "execution_count": null,
   "id": "a5a14285",
   "metadata": {},
   "outputs": [],
   "source": [
    "#sun\n",
    "fig, ax = plt.subplots(figsize=(60,12))\n",
    "zip_merged_sun.plot(column = 'Sunday', \n",
    "              cmap = 'GnBu', \n",
    "              edgecolor = 'black', \n",
    "              legend = True,\n",
    "              ax = ax)\n",
    "plt.title('Call Volume by Zip, Sunday', fontsize = 14)\n",
    "ax.axis('off');"
   ]
  },
  {
   "cell_type": "markdown",
   "id": "5709c7d7",
   "metadata": {},
   "source": [
    "# Time of Day Maps"
   ]
  },
  {
   "cell_type": "code",
   "execution_count": null,
   "id": "e037f5b1",
   "metadata": {},
   "outputs": [],
   "source": [
    "#time of day merges\n",
    "zip_merged_morn=zips_map_data.merge(zip_map_df_morn, on = 'zipcode', how='left')\n",
    "zip_merged_mid=zips_map_data.merge(zip_map_df_mid, on = 'zipcode', how='left')\n",
    "zip_merged_aft=zips_map_data.merge(zip_map_df_aft, on = 'zipcode', how='left')\n",
    "zip_merged_eve=zips_map_data.merge(zip_map_df_eve, on = 'zipcode', how='left')\n",
    "zip_merged_nite=zips_map_data.merge(zip_map_df_nite, on = 'zipcode', how='left')"
   ]
  },
  {
   "cell_type": "code",
   "execution_count": null,
   "id": "50d9e2d4",
   "metadata": {},
   "outputs": [],
   "source": [
    "#morning\n",
    "fig, ax = plt.subplots(figsize=(60,12))\n",
    "zip_merged_morn.plot(column = 'Morning', \n",
    "              cmap = 'GnBu', \n",
    "              edgecolor = 'black', \n",
    "              legend = True,\n",
    "              ax = ax)\n",
    "plt.title('Call Volume by Zip, Morning', fontsize = 14)\n",
    "ax.axis('off');"
   ]
  },
  {
   "cell_type": "code",
   "execution_count": null,
   "id": "92738e69",
   "metadata": {},
   "outputs": [],
   "source": [
    "#mid-day\n",
    "fig, ax = plt.subplots(figsize=(60,12))\n",
    "zip_merged_mid.plot(column = 'Mid-Day', \n",
    "              cmap = 'GnBu', \n",
    "              edgecolor = 'black', \n",
    "              legend = True,\n",
    "              ax = ax)\n",
    "plt.title('Call Volume by Zip, Mid-Day', fontsize = 14)\n",
    "ax.axis('off');"
   ]
  },
  {
   "cell_type": "code",
   "execution_count": null,
   "id": "ca33df1c",
   "metadata": {},
   "outputs": [],
   "source": [
    "#afternoon\n",
    "fig, ax = plt.subplots(figsize=(60,12))\n",
    "zip_merged_aft.plot(column = 'Afternoon', \n",
    "              cmap = 'GnBu', \n",
    "              edgecolor = 'black', \n",
    "              legend = True,\n",
    "              ax = ax)\n",
    "plt.title('Call Volume by Zip, Afternoon', fontsize = 14)\n",
    "ax.axis('off');"
   ]
  },
  {
   "cell_type": "code",
   "execution_count": null,
   "id": "888c161d",
   "metadata": {},
   "outputs": [],
   "source": [
    "#evening\n",
    "fig, ax = plt.subplots(figsize=(60,12))\n",
    "zip_merged_eve.plot(column = 'Evening', \n",
    "              cmap = 'GnBu', \n",
    "              edgecolor = 'black', \n",
    "              legend = True,\n",
    "              ax = ax)\n",
    "plt.title('Call Volume by Zip, Evening', fontsize = 14)\n",
    "ax.axis('off');"
   ]
  },
  {
   "cell_type": "code",
   "execution_count": null,
   "id": "1690868f",
   "metadata": {},
   "outputs": [],
   "source": [
    "#Night\n",
    "fig, ax = plt.subplots(figsize=(60,12))\n",
    "zip_merged_nite.plot(column = 'Night', \n",
    "              cmap = 'GnBu', \n",
    "              edgecolor = 'black', \n",
    "              legend = True,\n",
    "              ax = ax)\n",
    "plt.title('Call Volume by Zip, Night', fontsize = 14)\n",
    "ax.axis('off');"
   ]
  },
  {
   "cell_type": "markdown",
   "id": "6bfcf73b",
   "metadata": {},
   "source": [
    "#starting work on my map\n",
    "import json\n",
    "zip_map_json = json.loads(zip_merged.to_json())\n",
    "json_data = json.dumps(zip_map_json)"
   ]
  },
  {
   "cell_type": "markdown",
   "id": "b23d5960",
   "metadata": {},
   "source": [
    "from bokeh.io import output_notebook, show, output_file\n",
    "from bokeh.plotting import figure\n",
    "from bokeh.models import GeoJSONDataSource, LinearColorMapper, ColorBar\n",
    "from bokeh.palettes import brewer\n",
    "\n",
    "#output_file('geojson.html')\n",
    "\n",
    "#Input GeoJSON source that contains features for plotting.\n",
    "geosource = GeoJSONDataSource(geojson = json_data)\n",
    "\n",
    "#Define a sequential multi-hue color palette.\n",
    "palette = brewer['YlGnBu'][8]\n",
    "\n",
    "#Reverse color order so that dark blue is highest obesity.\n",
    "palette = palette[::-1]\n",
    "\n",
    "#Instantiate LinearColorMapper that linearly maps numbers in a range, into a sequence of colors.\n",
    "color_mapper = LinearColorMapper(palette = palette, low = 0, high = 200)\n",
    "\n",
    "#Define custom tick labels for color bar.\n",
    "tick_labels = {'0': '0%', '5': '5%', '10':'10%', '15':'15%', '20':'20%', '25':'25%', '30':'30%','35':'35%', '40': '>40%'}\n",
    "\n",
    "#Create color bar. \n",
    "color_bar = ColorBar(color_mapper=color_mapper, label_standoff=8,width = 500, height = 20,\n",
    "border_line_color=None,location = (0,0), orientation = 'horizontal', major_label_overrides = tick_labels)\n",
    "\n",
    "#Create figure object.\n",
    "p = figure(title = 'Call Volume Heat Map by Zip Code', plot_height = 600 , plot_width = 950, toolbar_location = None)\n",
    "p.xgrid.grid_line_color = None\n",
    "p.ygrid.grid_line_color = None\n",
    "\n",
    "#Add patch renderer to figure. \n",
    "p.patches('xs','ys', source = geosource,fill_color = {'field' :'Number of Calls', 'transform' : color_mapper}, line_color = 'black', line_width = 0.25, fill_alpha = 1)\n",
    "\n",
    "#Specify figure layout.\n",
    "p.add_layout(color_bar, 'below')\n",
    "\n",
    "#Display figure inline in Jupyter Notebook.\n",
    "output_notebook()\n",
    "\n",
    "#Display figure.\n",
    "show(p)"
   ]
  },
  {
   "cell_type": "code",
   "execution_count": null,
   "id": "63116657",
   "metadata": {},
   "outputs": [],
   "source": [
    "#now we get to the choropleth part\n",
    "#from bokeh.io import output_notebook, show, output_file\n",
    "#from bokeh.plotting import figure\n",
    "#from bokeh.models import GeoJSONDataSource, LinearColorMapper, ColorBar\n",
    "#from bokeh.palettes import brewer\n",
    "#from bokeh.resources import INLINE\n",
    "#import bokeh.io\n",
    "#from bokeh import *\n",
    "#bokeh.io.output_notebook(INLINE)\n",
    "\n",
    "#output_file('geojson.html')\n",
    "\n",
    "#geojson source containing features for plotting\n",
    "#geosource = GeoJSONDataSource(geojson = json_data)\n",
    "\n",
    "#define a sequential multi-hue color palette\n",
    "#palette = brewer['YlGnBu'][8]\n",
    "\n",
    "#reverse color order so that dark blue is highest call volume\n",
    "#palette = palette[::-1]\n",
    "\n",
    "#Instantiate LinearColorMapper that linearly maps numbers in a range, into a sequence of colors.\n",
    "#color_mapper = LinearColorMapper(palette = palette, low = 0, high = 1000)\n",
    "\n",
    "#Define custom tick labels for color bar.\n",
    "#tick_labels = {'0': '0%', '5': '5%', '10':'10%', '15':'15%', '20':'20%', '25':'25%', '30':'30%','35':'35%', '40': '>40%'}\n",
    "\n",
    "#Create color bar. \n",
    "#color_bar = ColorBar(color_mapper=color_mapper, label_standoff=8,width = 500, height = 20,\n",
    "#border_line_color=None,location = (0,0), orientation = 'horizontal') #major_label_overrides = tick_labels)\n",
    "\n",
    "#Create figure object.\n",
    "#p = figure(title = 'Call Volume Heat Map by Zip Code', plot_height = 600 , plot_width = 950, toolbar_location = None)\n",
    "#p.xgrid.grid_line_color = None\n",
    "#p.ygrid.grid_line_color = None\n",
    "\n",
    "#Add patch renderer to figure. \n",
    "#p.patches('xs','ys', source = geosource,fill_color = {'field': 'Number of Calls', 'transform':color_mapper}, line_color = 'black', line_width = 0.25, fill_alpha = 1)\n",
    "\n",
    "#Specify figure layout.\n",
    "#p.add_layout(color_bar, 'below')\n",
    "\n",
    "#Display figure inline in Jupyter Notebook.\n",
    "#output_notebook()"
   ]
  },
  {
   "cell_type": "code",
   "execution_count": null,
   "id": "13194654",
   "metadata": {},
   "outputs": [],
   "source": [
    "#p = figure(title = 'Call Volume Heat Map by Zip Code', plot_height = 600 , plot_width = 950, toolbar_location = None)\n",
    "#p.xgrid.grid_line_color = None\n",
    "#p.ygrid.grid_line_color = None"
   ]
  },
  {
   "cell_type": "code",
   "execution_count": null,
   "id": "407e0f82",
   "metadata": {},
   "outputs": [],
   "source": [
    "#Display figure.\n",
    "#show(p)"
   ]
  },
  {
   "cell_type": "markdown",
   "id": "99e22b35",
   "metadata": {},
   "source": [
    "from bokeh.io import output_notebook, show, output_file\n",
    "from bokeh.plotting import figure\n",
    "from bokeh.models import GeoJSONDataSource, LinearColorMapper, ColorBar\n",
    "from bokeh.palettes import brewer"
   ]
  },
  {
   "cell_type": "markdown",
   "id": "db53f170",
   "metadata": {},
   "source": [
    "#Input GeoJSON source that contains features for plotting.\n",
    "geosource = GeoJSONDataSource(geojson = json_data)"
   ]
  },
  {
   "cell_type": "markdown",
   "id": "c4c8a306",
   "metadata": {},
   "source": [
    "#Define a sequential multi-hue color palette.\n",
    "palette = brewer['YlGnBu'][8]"
   ]
  },
  {
   "cell_type": "markdown",
   "id": "3dd1d2ae",
   "metadata": {},
   "source": [
    "#Reverse color order so that dark blue is highest obesity.\n",
    "palette = palette[::-1]"
   ]
  },
  {
   "cell_type": "markdown",
   "id": "f90af82c",
   "metadata": {},
   "source": [
    "#Instantiate LinearColorMapper that linearly maps numbers in a range, into a sequence of colors.\n",
    "color_mapper = LinearColorMapper(palette = palette, low = 0, high = 40)"
   ]
  },
  {
   "cell_type": "markdown",
   "id": "b5775d7c",
   "metadata": {},
   "source": [
    "#Define custom tick labels for color bar.\n",
    "tick_labels = {'0': '0%', '5': '5%', '10':'10%', '15':'15%', '20':'20%', '25':'25%', '30':'30%','35':'35%', '40': '>40%'}"
   ]
  },
  {
   "cell_type": "markdown",
   "id": "9fac3135",
   "metadata": {},
   "source": [
    "#Create color bar. \n",
    "color_bar = ColorBar(color_mapper=color_mapper, label_standoff=8,width = 500, height = 20, border_line_color=None,location = (0,0), orientation = 'horizontal', major_label_overrides = tick_labels)"
   ]
  },
  {
   "cell_type": "markdown",
   "id": "992cef87",
   "metadata": {},
   "source": [
    "#Create figure object.\n",
    "p = figure(title = 'Share of adults who are obese, 2016', plot_height = 600 , plot_width = 950, toolbar_location = None)\n",
    "p.xgrid.grid_line_color = None\n",
    "p.ygrid.grid_line_color = None"
   ]
  },
  {
   "cell_type": "markdown",
   "id": "cf1a85a1",
   "metadata": {},
   "source": [
    "#Add patch renderer to figure. \n",
    "p.patches('xs','ys', source = geosource,fill_color = {'field' :'per_cent_obesity', 'transform' : color_mapper},\n",
    "          line_color = 'black', line_width = 0.25, fill_alpha = 1)"
   ]
  },
  {
   "cell_type": "markdown",
   "id": "6db2e075",
   "metadata": {},
   "source": [
    "#Specify figure layout.\n",
    "p.add_layout(color_bar, 'below')"
   ]
  },
  {
   "cell_type": "markdown",
   "id": "d0afb0e6",
   "metadata": {},
   "source": [
    "#Display figure inline in Jupyter Notebook.\n",
    "output_notebook()"
   ]
  },
  {
   "cell_type": "markdown",
   "id": "64a874da",
   "metadata": {},
   "source": [
    "#Display figure.\n",
    "show(p)"
   ]
  },
  {
   "cell_type": "code",
   "execution_count": null,
   "id": "1cc3e534",
   "metadata": {},
   "outputs": [],
   "source": [
    "crisis_df"
   ]
  },
  {
   "cell_type": "code",
   "execution_count": null,
   "id": "44b0db90",
   "metadata": {},
   "outputs": [],
   "source": [
    "zip_total = crisis_df.groupby(['zip'])['CallReportNum'].count()\n",
    "zip_total"
   ]
  },
  {
   "cell_type": "code",
   "execution_count": null,
   "id": "47646f08",
   "metadata": {},
   "outputs": [],
   "source": [
    "zip_total = pd.DataFrame(data = zip_total)\n",
    "zip_total = zip_total.reset_index()\n",
    "zip_total.info()"
   ]
  },
  {
   "cell_type": "code",
   "execution_count": null,
   "id": "34ef51ce",
   "metadata": {},
   "outputs": [],
   "source": [
    "zip_total"
   ]
  },
  {
   "cell_type": "code",
   "execution_count": null,
   "id": "fd8da489",
   "metadata": {},
   "outputs": [],
   "source": [
    "zip_total.rename(columns = {'zip': 'zipcode', 'CallReportNum': 'total_calls'}, inplace = True)"
   ]
  },
  {
   "cell_type": "code",
   "execution_count": null,
   "id": "8edc7a8b",
   "metadata": {},
   "outputs": [],
   "source": [
    "zip_total = zip_total.drop(zip_total.index[1194])\n",
    "zip_total"
   ]
  },
  {
   "cell_type": "code",
   "execution_count": null,
   "id": "497b2be4",
   "metadata": {},
   "outputs": [],
   "source": [
    "zip_total = zip_total.drop(zip_total.index[1193])\n",
    "zip_total"
   ]
  },
  {
   "cell_type": "code",
   "execution_count": null,
   "id": "3b0ca07a",
   "metadata": {},
   "outputs": [],
   "source": [
    "zip_total['zipcode'] = zip_total.zipcode.astype('int')\n",
    "zip_total.info()"
   ]
  },
  {
   "cell_type": "code",
   "execution_count": null,
   "id": "e4aac450",
   "metadata": {},
   "outputs": [],
   "source": [
    "#read in zipcode population tables\n",
    "import pandas as pd\n",
    "zip_pop = pd.read_csv('../data/zipcode_populations.csv')\n",
    "zip_pop"
   ]
  },
  {
   "cell_type": "code",
   "execution_count": null,
   "id": "dfcbec37",
   "metadata": {},
   "outputs": [],
   "source": [
    "zip_pop.rename(columns={'Geographic Area Name': 'zipcode'},inplace = True)\n",
    "zip_pop.info()"
   ]
  },
  {
   "cell_type": "code",
   "execution_count": null,
   "id": "3356b6c3",
   "metadata": {},
   "outputs": [],
   "source": [
    "zip_pop.rename(columns={'Estimate!!SEX AND AGE!!Total population': 'est_population'}, inplace = True)\n",
    "zip_pop"
   ]
  },
  {
   "cell_type": "code",
   "execution_count": null,
   "id": "b3709be9",
   "metadata": {},
   "outputs": [],
   "source": [
    "zip_pop = zip_pop[['zipcode', 'est_population']]"
   ]
  },
  {
   "cell_type": "code",
   "execution_count": null,
   "id": "45e85432",
   "metadata": {},
   "outputs": [],
   "source": [
    "zip_pop"
   ]
  },
  {
   "cell_type": "code",
   "execution_count": null,
   "id": "9a6cb6a4",
   "metadata": {},
   "outputs": [],
   "source": [
    "zip_pop.info()"
   ]
  },
  {
   "cell_type": "code",
   "execution_count": null,
   "id": "ba6cc004",
   "metadata": {},
   "outputs": [],
   "source": [
    "merged1 = zip_total.merge(zip_pop, on = 'zipcode', how='left')\n",
    "merged1.info()"
   ]
  },
  {
   "cell_type": "code",
   "execution_count": null,
   "id": "964e084a",
   "metadata": {},
   "outputs": [],
   "source": [
    "merged2 = zips_map_data.merge(merged1, on='zipcode', how='left')\n",
    "merged2.info()"
   ]
  },
  {
   "cell_type": "code",
   "execution_count": null,
   "id": "00ac37ee",
   "metadata": {},
   "outputs": [],
   "source": [
    "merged2"
   ]
  },
  {
   "cell_type": "code",
   "execution_count": null,
   "id": "3cc26a18",
   "metadata": {},
   "outputs": [],
   "source": [
    "merged2['total_calls_by_pop'] = merged2['total_calls']/merged2['est_population']\n",
    "merged2"
   ]
  },
  {
   "cell_type": "code",
   "execution_count": null,
   "id": "f7795824",
   "metadata": {},
   "outputs": [],
   "source": [
    "zips_call_perc = merged2[['objectid', 'zipcode', 'geometry', 'total_calls_by_pop']]\n",
    "zips_call_perc"
   ]
  },
  {
   "cell_type": "code",
   "execution_count": null,
   "id": "37af1cc2",
   "metadata": {},
   "outputs": [],
   "source": [
    "fig, ax = plt.subplots(figsize=(60,12))\n",
    "zips_call_perc.plot(column = 'total_calls_by_pop', \n",
    "              cmap = 'GnBu', \n",
    "              edgecolor = 'black', \n",
    "              legend = True,\n",
    "              ax = ax)\n",
    "plt.title('Call Volume by Zip', fontsize = 48)\n",
    "ax.axis('off');"
   ]
  },
  {
   "cell_type": "code",
   "execution_count": null,
   "id": "3cd92401",
   "metadata": {},
   "outputs": [],
   "source": [
    "fig, ax = plt.subplots(figsize=(60,12))\n",
    "merged2.plot(column = 'total_calls', \n",
    "              cmap = 'GnBu', \n",
    "              edgecolor = 'black', \n",
    "              legend = True,\n",
    "              ax = ax)\n",
    "plt.title('Call Volume by Zip', fontsize = 14)\n",
    "ax.axis('off');"
   ]
  },
  {
   "cell_type": "code",
   "execution_count": null,
   "id": "94f81361",
   "metadata": {},
   "outputs": [],
   "source": [
    "merged2.geometry.centroid"
   ]
  },
  {
   "cell_type": "code",
   "execution_count": null,
   "id": "105af340",
   "metadata": {},
   "outputs": [],
   "source": [
    "center = merged2.geometry.centroid[36]\n",
    "print(center)"
   ]
  },
  {
   "cell_type": "code",
   "execution_count": null,
   "id": "cd13300a",
   "metadata": {},
   "outputs": [],
   "source": [
    "area_center = [center.y, center.x]\n",
    "print(area_center)"
   ]
  },
  {
   "cell_type": "code",
   "execution_count": null,
   "id": "d4f5b421",
   "metadata": {},
   "outputs": [],
   "source": [
    "map_folium = folium.Map(location = area_center)\n",
    "map_folium"
   ]
  },
  {
   "cell_type": "code",
   "execution_count": null,
   "id": "53daa355",
   "metadata": {},
   "outputs": [],
   "source": [
    "folium.GeoJson(polygon_37207).add_to(map_folium)\n",
    "map_folium"
   ]
  },
  {
   "cell_type": "code",
   "execution_count": null,
   "id": "576986af",
   "metadata": {},
   "outputs": [],
   "source": []
  }
 ],
 "metadata": {
  "kernelspec": {
   "display_name": "Python 3 (ipykernel)",
   "language": "python",
   "name": "python3"
  },
  "language_info": {
   "codemirror_mode": {
    "name": "ipython",
    "version": 3
   },
   "file_extension": ".py",
   "mimetype": "text/x-python",
   "name": "python",
   "nbconvert_exporter": "python",
   "pygments_lexer": "ipython3",
   "version": "3.8.5"
  }
 },
 "nbformat": 4,
 "nbformat_minor": 5
}
