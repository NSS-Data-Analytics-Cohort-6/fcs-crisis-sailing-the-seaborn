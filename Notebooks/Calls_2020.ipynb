{
 "cells": [
  {
   "cell_type": "code",
   "execution_count": null,
   "id": "1ccfabbc",
   "metadata": {},
   "outputs": [],
   "source": [
    "import pandas as pd\n",
    "import re \n",
    "import numpy as np\n",
    "import matplotlib.pyplot as plt\n",
    "import seaborn as sns\n",
    "import fnmatch\n",
    "from datetime import datetime\n",
    "import calendar\n",
    "\n",
    "%matplotlib inline"
   ]
  },
  {
   "cell_type": "code",
   "execution_count": null,
   "id": "a03184cd",
   "metadata": {},
   "outputs": [],
   "source": [
    "crisis_1 = pd.read_excel('../Data/Crisis_1.xlsx', header=2)\n",
    "crisis_1"
   ]
  },
  {
   "cell_type": "code",
   "execution_count": null,
   "id": "405449bc",
   "metadata": {},
   "outputs": [],
   "source": [
    "crisis_1_dates = crisis_1[['CallDateAndTimeStart']]\n",
    "crisis_1_dates = crisis_1_dates.rename(columns = {'CallDateAndTimeStart': 'Call_Date'})\n",
    "crisis_1_dates"
   ]
  },
  {
   "cell_type": "code",
   "execution_count": null,
   "id": "aab3da5c",
   "metadata": {
    "scrolled": true
   },
   "outputs": [],
   "source": [
    "crisis_1_dates['year'] = pd.DatetimeIndex(crisis_1_dates['Call_Date']).year\n",
    "crisis_1_dates['month'] = pd.DatetimeIndex(crisis_1_dates['Call_Date']).month\n",
    "crisis_1_dates['day'] = pd.DatetimeIndex(crisis_1_dates['Call_Date']).day\n",
    "crisis_1_dates"
   ]
  },
  {
   "cell_type": "code",
   "execution_count": null,
   "id": "3bd81c47",
   "metadata": {},
   "outputs": [],
   "source": [
    "##broke down to just 2020"
   ]
  },
  {
   "cell_type": "code",
   "execution_count": null,
   "id": "731ecc2b",
   "metadata": {
    "scrolled": true
   },
   "outputs": [],
   "source": [
    "calls_2020 = crisis_1_dates[crisis_1_dates['year'] == 2020]\n",
    "calls_2020"
   ]
  },
  {
   "cell_type": "code",
   "execution_count": null,
   "id": "8fa037ce",
   "metadata": {},
   "outputs": [],
   "source": [
    "##broke down to Jan 2020. total for month = 1430 calls\n",
    "##total for each weekday below\n",
    "##total for each day below"
   ]
  },
  {
   "cell_type": "code",
   "execution_count": null,
   "id": "23c1c8a4",
   "metadata": {
    "scrolled": true
   },
   "outputs": [],
   "source": [
    "calls_2020_jan = calls_2020[calls_2020['month'] == 1]\n",
    "calls_2020_jan['weekday'] = calls_2020_jan['Call_Date'].dt.day_name()\n",
    "calls_2020_jan"
   ]
  },
  {
   "cell_type": "code",
   "execution_count": null,
   "id": "59bc7883",
   "metadata": {},
   "outputs": [],
   "source": [
    "calls_2020_jan_weekday = calls_2020_jan.groupby('weekday').count()\n",
    "calls_2020_jan_weekday = calls_2020_jan_weekday.drop(columns = ['year', 'month', 'day'])\n",
    "calls_2020_jan_weekday = calls_2020_jan_weekday.rename(columns = {'Call_Date' : 'total_per_weekday'})\n",
    "calls_2020_jan_weekday"
   ]
  },
  {
   "cell_type": "code",
   "execution_count": null,
   "id": "ba55f580",
   "metadata": {},
   "outputs": [],
   "source": [
    "calls_2020_jan_days = calls_2020_jan.groupby('day').count()\n",
    "calls_2020_jan_days = calls_2020_jan_days.drop(columns = ['year', 'month', 'weekday'])\n",
    "calls_2020_jan_days = calls_2020_jan_days.rename(columns = {'Call_Date' : 'total_per_day'})\n",
    "calls_2020_jan_days"
   ]
  },
  {
   "cell_type": "code",
   "execution_count": null,
   "id": "df93c71f",
   "metadata": {},
   "outputs": [],
   "source": [
    "##2020 feb broken down   total for month = 1418 calls"
   ]
  },
  {
   "cell_type": "code",
   "execution_count": null,
   "id": "dc0ca5dc",
   "metadata": {
    "scrolled": true
   },
   "outputs": [],
   "source": [
    "calls_2020_feb = calls_2020[calls_2020['month'] == 2]\n",
    "calls_2020_feb['weekday'] = calls_2020_feb['Call_Date'].dt.day_name()\n",
    "calls_2020_feb"
   ]
  },
  {
   "cell_type": "code",
   "execution_count": null,
   "id": "a5ca6d83",
   "metadata": {},
   "outputs": [],
   "source": [
    "calls_2020_feb_weekday = calls_2020_feb.groupby('weekday').count()\n",
    "calls_2020_feb_weekday = calls_2020_feb_weekday.drop(columns = ['year', 'month', 'day'])\n",
    "calls_2020_feb_weekday = calls_2020_feb_weekday.rename(columns = {'Call_Date' : 'total_per_weekday'})\n",
    "calls_2020_feb_weekday"
   ]
  },
  {
   "cell_type": "code",
   "execution_count": null,
   "id": "1d356f75",
   "metadata": {},
   "outputs": [],
   "source": [
    "calls_2020_feb_days = calls_2020_feb.groupby('day').count()\n",
    "calls_2020_feb_days = calls_2020_feb_days.drop(columns = ['year', 'month', 'weekday'])\n",
    "calls_2020_feb_days = calls_2020_feb_days.rename(columns = {'Call_Date' : 'total_per_day'})\n",
    "calls_2020_feb_days"
   ]
  },
  {
   "cell_type": "code",
   "execution_count": null,
   "id": "b03e83fc",
   "metadata": {},
   "outputs": [],
   "source": [
    "##2020 march broken down    total for the month = 1820 calls"
   ]
  },
  {
   "cell_type": "code",
   "execution_count": null,
   "id": "9634570d",
   "metadata": {
    "scrolled": true
   },
   "outputs": [],
   "source": [
    "calls_2020_mar = calls_2020[calls_2020['month'] == 3]\n",
    "calls_2020_mar['weekday'] = calls_2020_mar['Call_Date'].dt.day_name()\n",
    "calls_2020_mar"
   ]
  },
  {
   "cell_type": "code",
   "execution_count": null,
   "id": "a6b686ee",
   "metadata": {},
   "outputs": [],
   "source": [
    "calls_2020_mar_weekday = calls_2020_mar.groupby('weekday').count()\n",
    "calls_2020_mar_weekday = calls_2020_mar_weekday.drop(columns = ['year', 'month', 'day'])\n",
    "calls_2020_mar_weekday = calls_2020_mar_weekday.rename(columns = {'Call_Date' : 'total_per_weekday'})\n",
    "calls_2020_mar_weekday"
   ]
  },
  {
   "cell_type": "code",
   "execution_count": null,
   "id": "1764ea73",
   "metadata": {},
   "outputs": [],
   "source": [
    "calls_2020_mar_days = calls_2020_mar.groupby('day').count()\n",
    "calls_2020_mar_days = calls_2020_mar_days.drop(columns = ['year', 'month', 'weekday'])\n",
    "calls_2020_mar_days = calls_2020_mar_days.rename(columns = {'Call_Date' : 'total_per_day'})\n",
    "calls_2020_mar_days"
   ]
  },
  {
   "cell_type": "code",
   "execution_count": null,
   "id": "463b277a",
   "metadata": {},
   "outputs": [],
   "source": [
    "##2020 april broken down    total for month = 1778 calls"
   ]
  },
  {
   "cell_type": "code",
   "execution_count": null,
   "id": "06147f47",
   "metadata": {
    "scrolled": true
   },
   "outputs": [],
   "source": [
    "calls_2020_apr = calls_2020[calls_2020['month'] == 4]\n",
    "calls_2020_apr['weekday'] = calls_2020_apr['Call_Date'].dt.day_name()\n",
    "calls_2020_apr"
   ]
  },
  {
   "cell_type": "code",
   "execution_count": null,
   "id": "7bdddb8a",
   "metadata": {},
   "outputs": [],
   "source": [
    "calls_2020_apr_weekday = calls_2020_apr.groupby('weekday').count()\n",
    "calls_2020_apr_weekday = calls_2020_apr_weekday.drop(columns = ['year', 'month', 'day'])\n",
    "calls_2020_apr_weekday = calls_2020_apr_weekday.rename(columns = {'Call_Date' : 'total_per_weekday'})\n",
    "calls_2020_apr_weekday"
   ]
  },
  {
   "cell_type": "code",
   "execution_count": null,
   "id": "e8a9c652",
   "metadata": {},
   "outputs": [],
   "source": [
    "calls_2020_apr_days = calls_2020_apr.groupby('day').count()\n",
    "calls_2020_apr_days = calls_2020_apr_days.drop(columns = ['year', 'month', 'weekday'])\n",
    "calls_2020_apr_days = calls_2020_apr_days.rename(columns = {'Call_Date' : 'total_per_day'})\n",
    "calls_2020_apr_days"
   ]
  },
  {
   "cell_type": "code",
   "execution_count": null,
   "id": "af515edf",
   "metadata": {},
   "outputs": [],
   "source": [
    "##2020 may broken down   total for month = 1944 calls"
   ]
  },
  {
   "cell_type": "code",
   "execution_count": null,
   "id": "6832b1f7",
   "metadata": {
    "scrolled": true
   },
   "outputs": [],
   "source": [
    "calls_2020_may = calls_2020[calls_2020['month'] == 5]\n",
    "calls_2020_may['weekday'] = calls_2020_may['Call_Date'].dt.day_name()\n",
    "calls_2020_may"
   ]
  },
  {
   "cell_type": "code",
   "execution_count": null,
   "id": "dd34fcf8",
   "metadata": {},
   "outputs": [],
   "source": [
    "calls_2020_may_weekday = calls_2020_may.groupby('weekday').count()\n",
    "calls_2020_may_weekday = calls_2020_may_weekday.drop(columns = ['year', 'month', 'day'])\n",
    "calls_2020_may_weekday = calls_2020_may_weekday.rename(columns = {'Call_Date' : 'total_per_weekday'})\n",
    "calls_2020_may_weekday"
   ]
  },
  {
   "cell_type": "code",
   "execution_count": null,
   "id": "9af53f95",
   "metadata": {},
   "outputs": [],
   "source": [
    "calls_2020_may_days = calls_2020_may.groupby('day').count()\n",
    "calls_2020_may_days = calls_2020_may_days.drop(columns = ['year', 'month', 'weekday'])\n",
    "calls_2020_may_days = calls_2020_may_days.rename(columns = {'Call_Date' : 'total_per_day'})\n",
    "calls_2020_may_days"
   ]
  },
  {
   "cell_type": "code",
   "execution_count": null,
   "id": "f15998b7",
   "metadata": {},
   "outputs": [],
   "source": [
    "##2020 june broken down   total for month = 1975 calls"
   ]
  },
  {
   "cell_type": "code",
   "execution_count": null,
   "id": "407355c0",
   "metadata": {
    "scrolled": true
   },
   "outputs": [],
   "source": [
    "calls_2020_jun = calls_2020[calls_2020['month'] == 6]\n",
    "calls_2020_jun['weekday'] = calls_2020_jun['Call_Date'].dt.day_name()\n",
    "calls_2020_jun"
   ]
  },
  {
   "cell_type": "code",
   "execution_count": null,
   "id": "8460f534",
   "metadata": {},
   "outputs": [],
   "source": [
    "calls_2020_jun_weekday = calls_2020_jun.groupby('weekday').count()\n",
    "calls_2020_jun_weekday = calls_2020_jun_weekday.drop(columns = ['year', 'month', 'day'])\n",
    "calls_2020_jun_weekday = calls_2020_jun_weekday.rename(columns = {'Call_Date' : 'total_per_weekday'})\n",
    "calls_2020_jun_weekday"
   ]
  },
  {
   "cell_type": "code",
   "execution_count": null,
   "id": "cb85ae70",
   "metadata": {},
   "outputs": [],
   "source": [
    "calls_2020_jun_days = calls_2020_jun.groupby('day').count()\n",
    "calls_2020_jun_days = calls_2020_jun_days.drop(columns = ['year', 'month', 'weekday'])\n",
    "calls_2020_jun_days = calls_2020_jun_days.rename(columns = {'Call_Date' : 'total_per_day'})\n",
    "calls_2020_jun_days"
   ]
  },
  {
   "cell_type": "code",
   "execution_count": null,
   "id": "38fed274",
   "metadata": {},
   "outputs": [],
   "source": [
    "##2020 july broken down   total for month = 2261 calls"
   ]
  },
  {
   "cell_type": "code",
   "execution_count": null,
   "id": "a2085e83",
   "metadata": {
    "scrolled": true
   },
   "outputs": [],
   "source": [
    "calls_2020_jul = calls_2020[calls_2020['month'] == 7]\n",
    "calls_2020_jul['weekday'] = calls_2020_jul['Call_Date'].dt.day_name()\n",
    "calls_2020_jul"
   ]
  },
  {
   "cell_type": "code",
   "execution_count": null,
   "id": "2c5fc504",
   "metadata": {},
   "outputs": [],
   "source": [
    "calls_2020_jul_weekday = calls_2020_jul.groupby('weekday').count()\n",
    "calls_2020_jul_weekday = calls_2020_jul_weekday.drop(columns = ['year', 'month', 'day'])\n",
    "calls_2020_jul_weekday = calls_2020_jul_weekday.rename(columns = {'Call_Date' : 'total_per_weekday'})\n",
    "calls_2020_jul_weekday"
   ]
  },
  {
   "cell_type": "code",
   "execution_count": null,
   "id": "ca76f5a5",
   "metadata": {},
   "outputs": [],
   "source": [
    "calls_2020_jul_days = calls_2020_jul.groupby('day').count()\n",
    "calls_2020_jul_days = calls_2020_jul_days.drop(columns = ['year', 'month', 'weekday'])\n",
    "calls_2020_jul_days = calls_2020_jul_days.rename(columns = {'Call_Date' : 'total_per_day'})\n",
    "calls_2020_jul_days"
   ]
  },
  {
   "cell_type": "code",
   "execution_count": null,
   "id": "1dc20c96",
   "metadata": {},
   "outputs": [],
   "source": [
    "##2020 august broken down   total for month = 2218 calls"
   ]
  },
  {
   "cell_type": "code",
   "execution_count": null,
   "id": "6db99b19",
   "metadata": {
    "scrolled": true
   },
   "outputs": [],
   "source": [
    "calls_2020_aug = calls_2020[calls_2020['month'] == 8]\n",
    "calls_2020_aug['weekday'] = calls_2020_aug['Call_Date'].dt.day_name()\n",
    "calls_2020_aug"
   ]
  },
  {
   "cell_type": "code",
   "execution_count": null,
   "id": "8807b93f",
   "metadata": {},
   "outputs": [],
   "source": [
    "calls_2020_aug_weekday = calls_2020_aug.groupby('weekday').count()\n",
    "calls_2020_aug_weekday = calls_2020_aug_weekday.drop(columns = ['year', 'month', 'day'])\n",
    "calls_2020_aug_weekday = calls_2020_aug_weekday.rename(columns = {'Call_Date' : 'total_per_weekday'})\n",
    "calls_2020_aug_weekday"
   ]
  },
  {
   "cell_type": "code",
   "execution_count": null,
   "id": "0d2606af",
   "metadata": {},
   "outputs": [],
   "source": [
    "calls_2020_aug_days = calls_2020_aug.groupby('day').count()\n",
    "calls_2020_aug_days = calls_2020_aug_days.drop(columns = ['year', 'month', 'weekday'])\n",
    "calls_2020_aug_days = calls_2020_aug_days.rename(columns = {'Call_Date' : 'total_per_day'})\n",
    "calls_2020_aug_days"
   ]
  },
  {
   "cell_type": "code",
   "execution_count": null,
   "id": "d77e7095",
   "metadata": {},
   "outputs": [],
   "source": [
    "##2020 september broken down   total for month = 2133 calls"
   ]
  },
  {
   "cell_type": "code",
   "execution_count": null,
   "id": "731e2b8e",
   "metadata": {
    "scrolled": true
   },
   "outputs": [],
   "source": [
    "calls_2020_sep = calls_2020[calls_2020['month'] == 9]\n",
    "calls_2020_sep['weekday'] = calls_2020_sep['Call_Date'].dt.day_name()\n",
    "calls_2020_sep"
   ]
  },
  {
   "cell_type": "code",
   "execution_count": null,
   "id": "350d21e9",
   "metadata": {},
   "outputs": [],
   "source": [
    "calls_2020_sep_weekday = calls_2020_sep.groupby('weekday').count()\n",
    "calls_2020_sep_weekday = calls_2020_sep_weekday.drop(columns = ['year', 'month', 'day'])\n",
    "calls_2020_sep_weekday = calls_2020_sep_weekday.rename(columns = {'Call_Date' : 'total_per_weekday'})\n",
    "calls_2020_sep_weekday"
   ]
  },
  {
   "cell_type": "code",
   "execution_count": null,
   "id": "e1b1a9ad",
   "metadata": {},
   "outputs": [],
   "source": [
    "calls_2020_sep_days = calls_2020_sep.groupby('day').count()\n",
    "calls_2020_sep_days = calls_2020_sep_days.drop(columns = ['year', 'month', 'weekday'])\n",
    "calls_2020_sep_days = calls_2020_sep_days.rename(columns = {'Call_Date' : 'total_per_day'})\n",
    "calls_2020_sep_days"
   ]
  },
  {
   "cell_type": "code",
   "execution_count": null,
   "id": "f12114a5",
   "metadata": {},
   "outputs": [],
   "source": [
    "##2020 october broken down   total for month = 2216 calls"
   ]
  },
  {
   "cell_type": "code",
   "execution_count": null,
   "id": "9e9c2dc5",
   "metadata": {
    "scrolled": true
   },
   "outputs": [],
   "source": [
    "calls_2020_oct = calls_2020[calls_2020['month'] == 10]\n",
    "calls_2020_oct['weekday'] = calls_2020_oct['Call_Date'].dt.day_name()\n",
    "calls_2020_oct"
   ]
  },
  {
   "cell_type": "code",
   "execution_count": null,
   "id": "1f3405db",
   "metadata": {},
   "outputs": [],
   "source": [
    "calls_2020_oct_weekday = calls_2020_oct.groupby('weekday').count()\n",
    "calls_2020_oct_weekday = calls_2020_oct_weekday.drop(columns = ['year', 'month', 'day'])\n",
    "calls_2020_oct_weekday = calls_2020_oct_weekday.rename(columns = {'Call_Date' : 'total_per_weekday'})\n",
    "calls_2020_oct_weekday"
   ]
  },
  {
   "cell_type": "code",
   "execution_count": null,
   "id": "8d77a9fe",
   "metadata": {},
   "outputs": [],
   "source": [
    "calls_2020_oct_days = calls_2020_oct.groupby('day').count()\n",
    "calls_2020_oct_days = calls_2020_oct_days.drop(columns = ['year', 'month', 'weekday'])\n",
    "calls_2020_oct_days = calls_2020_oct_days.rename(columns = {'Call_Date' : 'total_per_day'})\n",
    "calls_2020_oct_days"
   ]
  },
  {
   "cell_type": "code",
   "execution_count": null,
   "id": "61bbfb22",
   "metadata": {},
   "outputs": [],
   "source": [
    "##2020 november broken down   total for month = 2149 calls"
   ]
  },
  {
   "cell_type": "code",
   "execution_count": null,
   "id": "69d84a77",
   "metadata": {
    "scrolled": true
   },
   "outputs": [],
   "source": [
    "calls_2020_nov = calls_2020[calls_2020['month'] == 11]\n",
    "calls_2020_nov['weekday'] = calls_2020_nov['Call_Date'].dt.day_name()\n",
    "calls_2020_nov"
   ]
  },
  {
   "cell_type": "code",
   "execution_count": null,
   "id": "cd1af466",
   "metadata": {},
   "outputs": [],
   "source": [
    "calls_2020_nov_weekday = calls_2020_nov.groupby('weekday').count()\n",
    "calls_2020_nov_weekday = calls_2020_nov_weekday.drop(columns = ['year', 'month', 'day'])\n",
    "calls_2020_nov_weekday = calls_2020_nov_weekday.rename(columns = {'Call_Date' : 'total_per_weekday'})\n",
    "calls_2020_nov_weekday"
   ]
  },
  {
   "cell_type": "code",
   "execution_count": null,
   "id": "a3054765",
   "metadata": {},
   "outputs": [],
   "source": [
    "calls_2020_nov_days = calls_2020_nov.groupby('day').count()\n",
    "calls_2020_nov_days = calls_2020_nov_days.drop(columns = ['year', 'month', 'weekday'])\n",
    "calls_2020_nov_days = calls_2020_nov_days.rename(columns = {'Call_Date' : 'total_per_day'})\n",
    "calls_2020_nov_days"
   ]
  },
  {
   "cell_type": "code",
   "execution_count": null,
   "id": "577e81b3",
   "metadata": {},
   "outputs": [],
   "source": [
    "##2020 december broken down   total for month = 2041 calls"
   ]
  },
  {
   "cell_type": "code",
   "execution_count": null,
   "id": "d34bce64",
   "metadata": {
    "scrolled": true
   },
   "outputs": [],
   "source": [
    "calls_2020_dec = calls_2020[calls_2020['month'] == 12]\n",
    "calls_2020_dec['weekday'] = calls_2020_dec['Call_Date'].dt.day_name()\n",
    "calls_2020_dec"
   ]
  },
  {
   "cell_type": "code",
   "execution_count": null,
   "id": "2d3574d6",
   "metadata": {},
   "outputs": [],
   "source": [
    "calls_2020_dec_weekday = calls_2020_dec.groupby('weekday').count()\n",
    "calls_2020_dec_weekday = calls_2020_dec_weekday.drop(columns = ['year', 'month', 'day'])\n",
    "calls_2020_dec_weekday = calls_2020_dec_weekday.rename(columns = {'Call_Date' : 'total_per_weekday'})\n",
    "calls_2020_dec_weekday"
   ]
  },
  {
   "cell_type": "code",
   "execution_count": null,
   "id": "5b98efc0",
   "metadata": {},
   "outputs": [],
   "source": [
    "calls_2020_dec_days = calls_2020_dec.groupby('day').count()\n",
    "calls_2020_dec_days = calls_2020_dec_days.drop(columns = ['year', 'month', 'weekday'])\n",
    "calls_2020_dec_days = calls_2020_dec_days.rename(columns = {'Call_Date' : 'total_per_day'})\n",
    "calls_2020_dec_days"
   ]
  }
 ],
 "metadata": {
  "kernelspec": {
   "display_name": "Python 3 (ipykernel)",
   "language": "python",
   "name": "python3"
  },
  "language_info": {
   "codemirror_mode": {
    "name": "ipython",
    "version": 3
   },
   "file_extension": ".py",
   "mimetype": "text/x-python",
   "name": "python",
   "nbconvert_exporter": "python",
   "pygments_lexer": "ipython3",
   "version": "3.9.7"
  }
 },
 "nbformat": 4,
 "nbformat_minor": 5
}
