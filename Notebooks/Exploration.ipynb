{
 "cells": [
  {
   "cell_type": "code",
   "execution_count": null,
   "id": "178c3793",
   "metadata": {},
   "outputs": [],
   "source": [
    "import pandas as pd\n",
    "import re \n",
    "import numpy as np\n",
    "import matplotlib.pyplot as plt\n",
    "import seaborn as sns"
   ]
  },
  {
   "cell_type": "code",
   "execution_count": null,
   "id": "bcb78f4a",
   "metadata": {},
   "outputs": [],
   "source": [
    "crisis_1 = pd.read_excel('../Data/Crisis_1.xlsx', header=2)"
   ]
  },
  {
   "cell_type": "code",
   "execution_count": null,
   "id": "5226ffa5",
   "metadata": {},
   "outputs": [],
   "source": [
    "crisis_1"
   ]
  },
  {
   "cell_type": "code",
   "execution_count": null,
   "id": "66afa0a0",
   "metadata": {},
   "outputs": [],
   "source": [
    "crisis_2 = pd.read_excel('../Data/Crisis_2.xlsx', skiprows=2)"
   ]
  },
  {
   "cell_type": "code",
   "execution_count": null,
   "id": "63ac2027",
   "metadata": {
    "scrolled": true
   },
   "outputs": [],
   "source": [
    "crisis_2"
   ]
  },
  {
   "cell_type": "code",
   "execution_count": null,
   "id": "22ffb87e",
   "metadata": {},
   "outputs": [],
   "source": [
    "call_20 = pd.read_excel('../Data/Call_center_20-22.xlsx', sheet_name = '2020')"
   ]
  },
  {
   "cell_type": "code",
   "execution_count": null,
   "id": "04fa98fe",
   "metadata": {},
   "outputs": [],
   "source": [
    "call_20"
   ]
  },
  {
   "cell_type": "code",
   "execution_count": null,
   "id": "76697ba1",
   "metadata": {},
   "outputs": [],
   "source": [
    "call_21 = pd.read_excel('../Data/Call_center_20-22.xlsx', sheet_name = '2021')"
   ]
  },
  {
   "cell_type": "code",
   "execution_count": null,
   "id": "043802f1",
   "metadata": {},
   "outputs": [],
   "source": [
    "call_21"
   ]
  },
  {
   "cell_type": "code",
   "execution_count": null,
   "id": "082dbd25",
   "metadata": {},
   "outputs": [],
   "source": [
    "call_22 = pd.read_excel('../Data/Call_center_20-22.xlsx', sheet_name = '2022')"
   ]
  },
  {
   "cell_type": "code",
   "execution_count": null,
   "id": "80d49c10",
   "metadata": {},
   "outputs": [],
   "source": [
    "call_22"
   ]
  },
  {
   "cell_type": "code",
   "execution_count": null,
   "id": "141e1deb",
   "metadata": {},
   "outputs": [],
   "source": [
    "crisis_1.info"
   ]
  },
  {
   "cell_type": "code",
   "execution_count": null,
   "id": "c8bb70fe",
   "metadata": {},
   "outputs": [],
   "source": [
    "crisis_2.info"
   ]
  },
  {
   "cell_type": "code",
   "execution_count": null,
   "id": "ea3679a3",
   "metadata": {},
   "outputs": [],
   "source": [
    "crisis_1.dropna(how='all', axis=1, inplace=True)\n",
    "crisis_1"
   ]
  },
  {
   "cell_type": "code",
   "execution_count": null,
   "id": "6e963074",
   "metadata": {},
   "outputs": [],
   "source": [
    "crisis_2.dropna(how='all', axis=1, inplace=True)\n",
    "crisis_2"
   ]
  },
  {
   "cell_type": "code",
   "execution_count": null,
   "id": "7042ec5a",
   "metadata": {},
   "outputs": [],
   "source": []
  }
 ],
 "metadata": {
  "kernelspec": {
   "display_name": "Python 3 (ipykernel)",
   "language": "python",
   "name": "python3"
  },
  "language_info": {
   "codemirror_mode": {
    "name": "ipython",
    "version": 3
   },
   "file_extension": ".py",
   "mimetype": "text/x-python",
   "name": "python",
   "nbconvert_exporter": "python",
   "pygments_lexer": "ipython3",
   "version": "3.9.7"
  }
 },
 "nbformat": 4,
 "nbformat_minor": 5
}
