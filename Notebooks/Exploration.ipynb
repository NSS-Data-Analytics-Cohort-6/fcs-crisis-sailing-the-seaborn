{
 "cells": [
  {
   "cell_type": "code",
   "execution_count": null,
   "id": "178c3793",
   "metadata": {},
   "outputs": [],
   "source": [
    "import pandas as pd\n",
    "import re \n",
    "import numpy as np\n",
    "import matplotlib.pyplot as plt\n",
    "import seaborn as sns\n",
    "import fnmatch\n",
    "from datetime import datetime\n",
    "import calendar\n",
    "\n",
    "%matplotlib inline"
   ]
  },
  {
   "cell_type": "code",
   "execution_count": null,
   "id": "bcb78f4a",
   "metadata": {},
   "outputs": [],
   "source": [
    "crisis_1 = pd.read_excel('../Data/Crisis_1.xlsx', header=2)"
   ]
  },
  {
   "cell_type": "code",
   "execution_count": null,
   "id": "5226ffa5",
   "metadata": {},
   "outputs": [],
   "source": [
    "crisis_1"
   ]
  },
  {
   "cell_type": "code",
   "execution_count": null,
   "id": "66afa0a0",
   "metadata": {},
   "outputs": [],
   "source": [
    "crisis_2 = pd.read_excel('../Data/Crisis_2.xlsx', skiprows=2)"
   ]
  },
  {
   "cell_type": "code",
   "execution_count": null,
   "id": "63ac2027",
   "metadata": {
    "scrolled": true
   },
   "outputs": [],
   "source": [
    "crisis_2"
   ]
  },
  {
   "cell_type": "code",
   "execution_count": null,
   "id": "22ffb87e",
   "metadata": {},
   "outputs": [],
   "source": [
    "call_20 = pd.read_excel('../Data/Call_center_20-22.xlsx', sheet_name = '2020')"
   ]
  },
  {
   "cell_type": "code",
   "execution_count": null,
   "id": "04fa98fe",
   "metadata": {},
   "outputs": [],
   "source": [
    "call_20"
   ]
  },
  {
   "cell_type": "code",
   "execution_count": null,
   "id": "76697ba1",
   "metadata": {},
   "outputs": [],
   "source": [
    "call_21 = pd.read_excel('../Data/Call_center_20-22.xlsx', sheet_name = '2021')"
   ]
  },
  {
   "cell_type": "code",
   "execution_count": null,
   "id": "043802f1",
   "metadata": {},
   "outputs": [],
   "source": [
    "call_21"
   ]
  },
  {
   "cell_type": "code",
   "execution_count": null,
   "id": "082dbd25",
   "metadata": {},
   "outputs": [],
   "source": [
    "call_22 = pd.read_excel('../Data/Call_center_20-22.xlsx', sheet_name = '2022')"
   ]
  },
  {
   "cell_type": "code",
   "execution_count": null,
   "id": "80d49c10",
   "metadata": {},
   "outputs": [],
   "source": [
    "call_22"
   ]
  },
  {
   "cell_type": "code",
   "execution_count": null,
   "id": "141e1deb",
   "metadata": {},
   "outputs": [],
   "source": [
    "crisis_1.info"
   ]
  },
  {
   "cell_type": "code",
   "execution_count": null,
   "id": "1aea2968",
   "metadata": {},
   "outputs": [],
   "source": [
    "crisis_2.info"
   ]
  },
  {
   "cell_type": "code",
   "execution_count": null,
   "id": "c9a5ce78",
   "metadata": {},
   "outputs": [],
   "source": [
    "crisis_1.dropna(how='all', axis=1, inplace=True)\n",
    "crisis_1"
   ]
  },
  {
   "cell_type": "code",
   "execution_count": null,
   "id": "9db706e2",
   "metadata": {
    "scrolled": true
   },
   "outputs": [],
   "source": [
    "crisis_2.dropna(how='all', axis=1, inplace=True)\n",
    "crisis_2"
   ]
  },
  {
   "cell_type": "markdown",
   "id": "6efc394d",
   "metadata": {},
   "source": [
    "getting just call dates to find surge times and breaking down months and days to see patterns/events"
   ]
  },
  {
   "cell_type": "code",
   "execution_count": null,
   "id": "d703f918",
   "metadata": {},
   "outputs": [],
   "source": [
    "crisis_1_dates = crisis_1[['CallDateAndTimeStart']]\n",
    "crisis_1_dates = crisis_1_dates.rename(columns = {'CallDateAndTimeStart': 'Call_Date'})\n",
    "crisis_1_dates"
   ]
  },
  {
   "cell_type": "code",
   "execution_count": null,
   "id": "13544522",
   "metadata": {},
   "outputs": [],
   "source": [
    "crisis_2_dates = crisis_2[['CallDateAndTimeStart']]\n",
    "crisis_2_dates = crisis_2_dates.rename(columns = {'CallDateAndTimeStart': 'Call_Date'})\n",
    "crisis_2_dates"
   ]
  },
  {
   "cell_type": "code",
   "execution_count": null,
   "id": "bddd1363",
   "metadata": {},
   "outputs": [],
   "source": [
    "crisis_1_dates.info()"
   ]
  },
  {
   "cell_type": "code",
   "execution_count": null,
   "id": "70a5ab4f",
   "metadata": {},
   "outputs": [],
   "source": [
    "crisis_1_dates['year'] = pd.DatetimeIndex(crisis_1_dates['Call_Date']).year\n",
    "crisis_1_dates['month'] = pd.DatetimeIndex(crisis_1_dates['Call_Date']).month\n",
    "crisis_1_dates['day'] = pd.DatetimeIndex(crisis_1_dates['Call_Date']).day\n",
    "crisis_1_dates"
   ]
  },
  {
   "cell_type": "code",
   "execution_count": null,
   "id": "3cb6bd93",
   "metadata": {},
   "outputs": [],
   "source": [
    "crisis_2_dates['year'] = pd.DatetimeIndex(crisis_2_dates['Call_Date']).year\n",
    "crisis_2_dates['month'] = pd.DatetimeIndex(crisis_2_dates['Call_Date']).month\n",
    "crisis_2_dates['day'] = pd.DatetimeIndex(crisis_2_dates['Call_Date']).day\n",
    "crisis_2_dates"
   ]
  },
  {
   "cell_type": "code",
   "execution_count": null,
   "id": "e40121b4",
   "metadata": {},
   "outputs": [],
   "source": [
    "##crisis_1_dates['year'] = crisis_1_dates['year'].astype(str)     did not need/did not work when using == has to be integer\n",
    "##crisis_1_dates['month'] = crisis_1_dates['month'].astype(str)\n",
    "##crisis_1_dates['day'] = crisis_1_dates['day'].astype(str)"
   ]
  },
  {
   "cell_type": "code",
   "execution_count": null,
   "id": "d21672ef",
   "metadata": {},
   "outputs": [],
   "source": [
    "crisis_1_dates[crisis_1_dates['month'] == 12]"
   ]
  },
  {
   "cell_type": "code",
   "execution_count": null,
   "id": "de6a338d",
   "metadata": {},
   "outputs": [],
   "source": [
    "calls_2020 = crisis_1_dates[crisis_1_dates['year'] == 2020]\n",
    "calls_2020"
   ]
  },
  {
   "cell_type": "code",
   "execution_count": null,
   "id": "5738a7ee",
   "metadata": {},
   "outputs": [],
   "source": [
    "calls_2021 = crisis_1_dates[crisis_1_dates['year'] == 2021]\n",
    "calls_2021"
   ]
  },
  {
   "cell_type": "code",
   "execution_count": null,
   "id": "247215f5",
   "metadata": {},
   "outputs": [],
   "source": [
    "calls_2022 = crisis_2_dates[crisis_2_dates['year'] == 2022]\n",
    "calls_2022"
   ]
  },
  {
   "cell_type": "code",
   "execution_count": null,
   "id": "4edd29fc",
   "metadata": {},
   "outputs": [],
   "source": [
    "calls_2020_jan = calls_2020[calls_2020['month'] == 1]\n",
    "calls_2020_jan"
   ]
  },
  {
   "cell_type": "code",
   "execution_count": null,
   "id": "877daff2",
   "metadata": {},
   "outputs": [],
   "source": [
    "calls_2020_feb = calls_2020[calls_2020['month'] == 2]\n",
    "calls_2020_feb"
   ]
  },
  {
   "cell_type": "code",
   "execution_count": null,
   "id": "3d4539bf",
   "metadata": {},
   "outputs": [],
   "source": [
    "calls_2020_mar = calls_2020[calls_2020['month'] == 3]\n",
    "calls_2020_mar"
   ]
  },
  {
   "cell_type": "code",
   "execution_count": null,
   "id": "19aa19ff",
   "metadata": {},
   "outputs": [],
   "source": [
    "calls_2020_apr = calls_2020[calls_2020['month'] == 4]\n",
    "calls_2020_apr"
   ]
  },
  {
   "cell_type": "code",
   "execution_count": null,
   "id": "42a7d8fe",
   "metadata": {},
   "outputs": [],
   "source": [
    "calls_2020_may = calls_2020[calls_2020['month'] == 5]\n",
    "calls_2020_may"
   ]
  },
  {
   "cell_type": "code",
   "execution_count": null,
   "id": "6a6a1715",
   "metadata": {},
   "outputs": [],
   "source": [
    "calls_2020_jun = calls_2020[calls_2020['month'] == 6]\n",
    "calls_2020_jun"
   ]
  },
  {
   "cell_type": "code",
   "execution_count": null,
   "id": "311abf71",
   "metadata": {},
   "outputs": [],
   "source": [
    "calls_2020_jul = calls_2020[calls_2020['month'] == 7]\n",
    "calls_2020_jul"
   ]
  },
  {
   "cell_type": "code",
   "execution_count": null,
   "id": "ddf5b9c1",
   "metadata": {},
   "outputs": [],
   "source": [
    "calls_2020_aug = calls_2020[calls_2020['month'] == 8]\n",
    "calls_2020_aug"
   ]
  },
  {
   "cell_type": "code",
   "execution_count": null,
   "id": "ad7fa3c1",
   "metadata": {},
   "outputs": [],
   "source": [
    "calls_2020_sep = calls_2020[calls_2020['month'] == 9]\n",
    "calls_2020_sep"
   ]
  },
  {
   "cell_type": "code",
   "execution_count": null,
   "id": "5f02c6ab",
   "metadata": {},
   "outputs": [],
   "source": [
    "calls_2020_oct = calls_2020[calls_2020['month'] == 10]\n",
    "calls_2020_oct"
   ]
  },
  {
   "cell_type": "code",
   "execution_count": null,
   "id": "d8a7395d",
   "metadata": {},
   "outputs": [],
   "source": [
    "calls_2020_nov = calls_2020[calls_2020['month'] == 11]\n",
    "calls_2020_nov"
   ]
  },
  {
   "cell_type": "code",
   "execution_count": null,
   "id": "0800213e",
   "metadata": {},
   "outputs": [],
   "source": [
    "calls_2020_dec = calls_2020[calls_2020['month'] == 12]\n",
    "calls_2020_dec"
   ]
  },
  {
   "cell_type": "code",
   "execution_count": null,
   "id": "c608c7fe",
   "metadata": {},
   "outputs": [],
   "source": [
    "'jan 1, 2020 calls:', calls_2020_dec[calls_2020_dec['day']==1].count()\n",
    "      #'jan 2, 2020 calls:', calls_2020_dec[calls_2020_dec['day']==2].count())"
   ]
  },
  {
   "cell_type": "code",
   "execution_count": null,
   "id": "3ba55205",
   "metadata": {},
   "outputs": [],
   "source": [
    "calls_2020_dec.groupby('day').count()"
   ]
  },
  {
   "cell_type": "code",
   "execution_count": null,
   "id": "dd97682e",
   "metadata": {},
   "outputs": [],
   "source": []
  }
 ],
 "metadata": {
  "kernelspec": {
   "display_name": "Python 3 (ipykernel)",
   "language": "python",
   "name": "python3"
  },
  "language_info": {
   "codemirror_mode": {
    "name": "ipython",
    "version": 3
   },
   "file_extension": ".py",
   "mimetype": "text/x-python",
   "name": "python",
   "nbconvert_exporter": "python",
   "pygments_lexer": "ipython3",
   "version": "3.9.7"
  }
 },
 "nbformat": 4,
 "nbformat_minor": 5
}
