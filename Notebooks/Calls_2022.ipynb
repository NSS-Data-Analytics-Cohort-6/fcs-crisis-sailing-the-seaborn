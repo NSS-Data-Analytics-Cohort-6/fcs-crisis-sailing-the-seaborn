{
 "cells": [
  {
   "cell_type": "code",
   "execution_count": null,
   "id": "71a36065",
   "metadata": {},
   "outputs": [],
   "source": [
    "import pandas as pd\n",
    "import re \n",
    "import numpy as np\n",
    "import matplotlib.pyplot as plt\n",
    "import seaborn as sns\n",
    "import fnmatch\n",
    "from datetime import datetime\n",
    "import calendar\n",
    "\n",
    "%matplotlib inline"
   ]
  },
  {
   "cell_type": "code",
   "execution_count": null,
   "id": "5827e246",
   "metadata": {},
   "outputs": [],
   "source": [
    "crisis_2 = pd.read_excel('../Data/Crisis_2.xlsx', header=2)\n",
    "crisis_2"
   ]
  },
  {
   "cell_type": "code",
   "execution_count": null,
   "id": "9c6e31bb",
   "metadata": {},
   "outputs": [],
   "source": [
    "calls_2022 = crisis_2[['CallDateAndTimeStart']]\n",
    "calls_2022 = calls_2022.rename(columns = {'CallDateAndTimeStart': 'Call_Date'})\n",
    "calls_2022['year'] = pd.DatetimeIndex(calls_2022['Call_Date']).year\n",
    "calls_2022['month'] = pd.DatetimeIndex(calls_2022['Call_Date']).month\n",
    "calls_2022['day'] = pd.DatetimeIndex(calls_2022['Call_Date']).day\n",
    "calls_2022"
   ]
  },
  {
   "cell_type": "code",
   "execution_count": null,
   "id": "ed01f9dc",
   "metadata": {},
   "outputs": [],
   "source": [
    "##broke down to Jan 2022. total for month = 2707 calls\n",
    "##total for each week day below\n",
    "##total for each day below"
   ]
  },
  {
   "cell_type": "code",
   "execution_count": null,
   "id": "4df4e3b0",
   "metadata": {
    "scrolled": true
   },
   "outputs": [],
   "source": [
    "calls_2022_jan = calls_2022[calls_2022['month'] == 1]\n",
    "calls_2022_jan['weekday'] = calls_2022_jan['Call_Date'].dt.day_name()\n",
    "calls_2022_jan"
   ]
  },
  {
   "cell_type": "code",
   "execution_count": null,
   "id": "083f32c5",
   "metadata": {},
   "outputs": [],
   "source": [
    "calls_2022_jan_weekday = calls_2022_jan.groupby('weekday').count()\n",
    "calls_2022_jan_weekday = calls_2022_jan_weekday.drop(columns = ['year', 'month', 'day'])\n",
    "calls_2022_jan_weekday = calls_2022_jan_weekday.rename(columns = {'Call_Date' : 'total_per_weekday'})\n",
    "calls_2022_jan_weekday"
   ]
  },
  {
   "cell_type": "code",
   "execution_count": null,
   "id": "bd917375",
   "metadata": {},
   "outputs": [],
   "source": [
    "calls_2022_jan_days = calls_2022_jan.groupby('day').count()\n",
    "calls_2022_jan_days = calls_2022_jan_days.drop(columns = ['year', 'month', 'weekday'])\n",
    "calls_2022_jan_days = calls_2022_jan_days.rename(columns = {'Call_Date' : 'total_per_day'})\n",
    "calls_2022_jan_days"
   ]
  },
  {
   "cell_type": "code",
   "execution_count": null,
   "id": "7a1ab114",
   "metadata": {},
   "outputs": [],
   "source": [
    "##2022 feb broken down   total for month = 2616 calls"
   ]
  },
  {
   "cell_type": "code",
   "execution_count": null,
   "id": "fc9085f3",
   "metadata": {
    "scrolled": true
   },
   "outputs": [],
   "source": [
    "calls_2022_feb = calls_2022[calls_2022['month'] == 2]\n",
    "calls_2022_feb['weekday'] = calls_2022_feb['Call_Date'].dt.day_name()\n",
    "calls_2022_feb"
   ]
  },
  {
   "cell_type": "code",
   "execution_count": null,
   "id": "8e43553b",
   "metadata": {},
   "outputs": [],
   "source": [
    "calls_2022_feb_weekday = calls_2022_feb.groupby('weekday').count()\n",
    "calls_2022_feb_weekday = calls_2022_feb_weekday.drop(columns = ['year', 'month', 'day'])\n",
    "calls_2022_feb_weekday = calls_2022_feb_weekday.rename(columns = {'Call_Date' : 'total_per_weekday'})\n",
    "calls_2022_feb_weekday"
   ]
  },
  {
   "cell_type": "code",
   "execution_count": null,
   "id": "44de921d",
   "metadata": {},
   "outputs": [],
   "source": [
    "calls_2022_feb_days = calls_2022_feb.groupby('day').count()\n",
    "calls_2022_feb_days = calls_2022_feb_days.drop(columns = ['year', 'month', 'weekday'])\n",
    "calls_2022_feb_days = calls_2022_feb_days.rename(columns = {'Call_Date' : 'total_per_day'})\n",
    "calls_2022_feb_days"
   ]
  },
  {
   "cell_type": "code",
   "execution_count": null,
   "id": "e22c18b8",
   "metadata": {},
   "outputs": [],
   "source": [
    "##2022 march broken down    total for the month = 2622 calls"
   ]
  },
  {
   "cell_type": "code",
   "execution_count": null,
   "id": "b7851422",
   "metadata": {
    "scrolled": true
   },
   "outputs": [],
   "source": [
    "calls_2022_mar = calls_2022[calls_2022['month'] == 3]\n",
    "calls_2022_mar['weekday'] = calls_2022_mar['Call_Date'].dt.day_name()\n",
    "calls_2022_mar"
   ]
  },
  {
   "cell_type": "code",
   "execution_count": null,
   "id": "13a1f9e6",
   "metadata": {},
   "outputs": [],
   "source": [
    "calls_2022_mar_weekday = calls_2022_mar.groupby('weekday').count()\n",
    "calls_2022_mar_weekday = calls_2022_mar_weekday.drop(columns = ['year', 'month', 'day'])\n",
    "calls_2022_mar_weekday = calls_2022_mar_weekday.rename(columns = {'Call_Date' : 'total_per_weekday'})\n",
    "calls_2022_mar_weekday"
   ]
  },
  {
   "cell_type": "code",
   "execution_count": null,
   "id": "a39bfdf4",
   "metadata": {},
   "outputs": [],
   "source": [
    "calls_2022_mar_days = calls_2022_mar.groupby('day').count()\n",
    "calls_2022_mar_days = calls_2022_mar_days.drop(columns = ['year', 'month', 'weekday'])\n",
    "calls_2022_mar_days = calls_2022_mar_days.rename(columns = {'Call_Date' : 'total_per_day'})\n",
    "calls_2022_mar_days"
   ]
  },
  {
   "cell_type": "code",
   "execution_count": null,
   "id": "86a2bb79",
   "metadata": {},
   "outputs": [],
   "source": [
    "##2022 april broken down    total for month = 2703 calls"
   ]
  },
  {
   "cell_type": "code",
   "execution_count": null,
   "id": "7a004f62",
   "metadata": {
    "scrolled": true
   },
   "outputs": [],
   "source": [
    "calls_2022_apr = calls_2022[calls_2022['month'] == 4]\n",
    "calls_2022_apr['weekday'] = calls_2022_apr['Call_Date'].dt.day_name()\n",
    "calls_2022_apr"
   ]
  },
  {
   "cell_type": "code",
   "execution_count": null,
   "id": "feb50e29",
   "metadata": {},
   "outputs": [],
   "source": [
    "calls_2022_apr_weekday = calls_2022_apr.groupby('weekday').count()\n",
    "calls_2022_apr_weekday = calls_2022_apr_weekday.drop(columns = ['year', 'month', 'day'])\n",
    "calls_2022_apr_weekday = calls_2022_apr_weekday.rename(columns = {'Call_Date' : 'total_per_weekday'})\n",
    "calls_2022_apr_weekday"
   ]
  },
  {
   "cell_type": "code",
   "execution_count": null,
   "id": "6a1b9a62",
   "metadata": {},
   "outputs": [],
   "source": [
    "calls_2022_apr_days = calls_2022_apr.groupby('day').count()\n",
    "calls_2022_apr_days = calls_2022_apr_days.drop(columns = ['year', 'month', 'weekday'])\n",
    "calls_2022_apr_days = calls_2022_apr_days.rename(columns = {'Call_Date' : 'total_per_day'})\n",
    "calls_2022_apr_days"
   ]
  }
 ],
 "metadata": {
  "kernelspec": {
   "display_name": "Python 3 (ipykernel)",
   "language": "python",
   "name": "python3"
  },
  "language_info": {
   "codemirror_mode": {
    "name": "ipython",
    "version": 3
   },
   "file_extension": ".py",
   "mimetype": "text/x-python",
   "name": "python",
   "nbconvert_exporter": "python",
   "pygments_lexer": "ipython3",
   "version": "3.9.7"
  }
 },
 "nbformat": 4,
 "nbformat_minor": 5
}
