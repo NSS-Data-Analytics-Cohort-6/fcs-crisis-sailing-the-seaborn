{
 "cells": [
  {
   "cell_type": "code",
   "execution_count": null,
   "id": "71a36065",
   "metadata": {},
   "outputs": [],
   "source": [
    "import pandas as pd\n",
    "import re \n",
    "import numpy as np\n",
    "import matplotlib.pyplot as plt\n",
    "import seaborn as sns\n",
    "import fnmatch\n",
    "from datetime import datetime\n",
    "import calendar\n",
    "\n",
    "%matplotlib inline"
   ]
  },
  {
   "cell_type": "code",
   "execution_count": null,
   "id": "5827e246",
   "metadata": {},
   "outputs": [],
   "source": [
    "crisis_1 = pd.read_excel('../Data/Crisis_1.xlsx', header=2)\n",
    "crisis_1"
   ]
  },
  {
   "cell_type": "code",
   "execution_count": null,
   "id": "9c6e31bb",
   "metadata": {},
   "outputs": [],
   "source": [
    "crisis_1_dates = crisis_1[['CallDateAndTimeStart']]\n",
    "crisis_1_dates = crisis_1_dates.rename(columns = {'CallDateAndTimeStart': 'Call_Date'})\n",
    "crisis_1_dates"
   ]
  },
  {
   "cell_type": "code",
   "execution_count": null,
   "id": "fa6f91b2",
   "metadata": {
    "scrolled": true
   },
   "outputs": [],
   "source": [
    "crisis_1_dates['year'] = pd.DatetimeIndex(crisis_1_dates['Call_Date']).year\n",
    "crisis_1_dates['month'] = pd.DatetimeIndex(crisis_1_dates['Call_Date']).month\n",
    "crisis_1_dates['day'] = pd.DatetimeIndex(crisis_1_dates['Call_Date']).day\n",
    "crisis_1_dates"
   ]
  },
  {
   "cell_type": "code",
   "execution_count": null,
   "id": "ded4df63",
   "metadata": {},
   "outputs": [],
   "source": [
    "##broke down to just 2021"
   ]
  },
  {
   "cell_type": "code",
   "execution_count": null,
   "id": "13e9f773",
   "metadata": {
    "scrolled": true
   },
   "outputs": [],
   "source": [
    "calls_2021 = crisis_1_dates[crisis_1_dates['year'] == 2021]\n",
    "calls_2021"
   ]
  },
  {
   "cell_type": "code",
   "execution_count": null,
   "id": "ed01f9dc",
   "metadata": {},
   "outputs": [],
   "source": [
    "##broke down to Jan 2021. total for month = 2315 calls\n",
    "##total for each weekday below\n",
    "##total for each day below"
   ]
  },
  {
   "cell_type": "code",
   "execution_count": null,
   "id": "4df4e3b0",
   "metadata": {
    "scrolled": true
   },
   "outputs": [],
   "source": [
    "calls_2021_jan = calls_2021[calls_2021['month'] == 1]\n",
    "calls_2021_jan['weekday'] = calls_2021_jan['Call_Date'].dt.day_name()\n",
    "calls_2021_jan"
   ]
  },
  {
   "cell_type": "code",
   "execution_count": null,
   "id": "083f32c5",
   "metadata": {},
   "outputs": [],
   "source": [
    "calls_2021_jan_weekday = calls_2021_jan.groupby('weekday').count()\n",
    "calls_2021_jan_weekday = calls_2021_jan_weekday.drop(columns = ['year', 'month', 'day'])\n",
    "calls_2021_jan_weekday = calls_2021_jan_weekday.rename(columns = {'Call_Date' : 'total_per_weekday'})\n",
    "calls_2021_jan_weekday"
   ]
  },
  {
   "cell_type": "code",
   "execution_count": null,
   "id": "bd917375",
   "metadata": {},
   "outputs": [],
   "source": [
    "calls_2021_jan_days = calls_2021_jan.groupby('day').count()\n",
    "calls_2021_jan_days = calls_2021_jan_days.drop(columns = ['year', 'month', 'weekday'])\n",
    "calls_2021_jan_days = calls_2021_jan_days.rename(columns = {'Call_Date' : 'total_per_day'})\n",
    "calls_2021_jan_days"
   ]
  },
  {
   "cell_type": "code",
   "execution_count": null,
   "id": "7a1ab114",
   "metadata": {},
   "outputs": [],
   "source": [
    "##2021 feb broken down   total for month = 2165 calls"
   ]
  },
  {
   "cell_type": "code",
   "execution_count": null,
   "id": "fc9085f3",
   "metadata": {
    "scrolled": true
   },
   "outputs": [],
   "source": [
    "calls_2021_feb = calls_2021[calls_2021['month'] == 2]\n",
    "calls_2021_feb['weekday'] = calls_2021_feb['Call_Date'].dt.day_name()\n",
    "calls_2021_feb"
   ]
  },
  {
   "cell_type": "code",
   "execution_count": null,
   "id": "8e43553b",
   "metadata": {},
   "outputs": [],
   "source": [
    "calls_2021_feb_weekday = calls_2021_feb.groupby('weekday').count()\n",
    "calls_2021_feb_weekday = calls_2021_feb_weekday.drop(columns = ['year', 'month', 'day'])\n",
    "calls_2021_feb_weekday = calls_2021_feb_weekday.rename(columns = {'Call_Date' : 'total_per_weekday'})\n",
    "calls_2021_feb_weekday"
   ]
  },
  {
   "cell_type": "code",
   "execution_count": null,
   "id": "44de921d",
   "metadata": {},
   "outputs": [],
   "source": [
    "calls_2021_feb_days = calls_2021_feb.groupby('day').count()\n",
    "calls_2021_feb_days = calls_2021_feb_days.drop(columns = ['year', 'month', 'weekday'])\n",
    "calls_2021_feb_days = calls_2021_feb_days.rename(columns = {'Call_Date' : 'total_per_day'})\n",
    "calls_2021_feb_days"
   ]
  },
  {
   "cell_type": "code",
   "execution_count": null,
   "id": "e22c18b8",
   "metadata": {},
   "outputs": [],
   "source": [
    "##2021 march broken down    total for the month = 2677 calls"
   ]
  },
  {
   "cell_type": "code",
   "execution_count": null,
   "id": "b7851422",
   "metadata": {
    "scrolled": true
   },
   "outputs": [],
   "source": [
    "calls_2021_mar = calls_2021[calls_2021['month'] == 3]\n",
    "calls_2021_mar['weekday'] = calls_2021_mar['Call_Date'].dt.day_name()\n",
    "calls_2021_mar"
   ]
  },
  {
   "cell_type": "code",
   "execution_count": null,
   "id": "13a1f9e6",
   "metadata": {},
   "outputs": [],
   "source": [
    "calls_2021_mar_weekday = calls_2021_mar.groupby('weekday').count()\n",
    "calls_2021_mar_weekday = calls_2021_mar_weekday.drop(columns = ['year', 'month', 'day'])\n",
    "calls_2021_mar_weekday = calls_2021_mar_weekday.rename(columns = {'Call_Date' : 'total_per_weekday'})\n",
    "calls_2021_mar_weekday"
   ]
  },
  {
   "cell_type": "code",
   "execution_count": null,
   "id": "a39bfdf4",
   "metadata": {},
   "outputs": [],
   "source": [
    "calls_2021_mar_days = calls_2021_mar.groupby('day').count()\n",
    "calls_2021_mar_days = calls_2021_mar_days.drop(columns = ['year', 'month', 'weekday'])\n",
    "calls_2021_mar_days = calls_2021_mar_days.rename(columns = {'Call_Date' : 'total_per_day'})\n",
    "calls_2021_mar_days"
   ]
  },
  {
   "cell_type": "code",
   "execution_count": null,
   "id": "86a2bb79",
   "metadata": {},
   "outputs": [],
   "source": [
    "##2021 april broken down    total for month = 2549 calls"
   ]
  },
  {
   "cell_type": "code",
   "execution_count": null,
   "id": "7a004f62",
   "metadata": {
    "scrolled": true
   },
   "outputs": [],
   "source": [
    "calls_2021_apr = calls_2021[calls_2021['month'] == 4]\n",
    "calls_2021_apr['weekday'] = calls_2021_apr['Call_Date'].dt.day_name()\n",
    "calls_2021_apr"
   ]
  },
  {
   "cell_type": "code",
   "execution_count": null,
   "id": "6c1dadd3",
   "metadata": {},
   "outputs": [],
   "source": [
    "calls_2021_apr_weekday = calls_2021_apr.groupby('weekday').count()\n",
    "calls_2021_apr_weekday = calls_2021_apr_weekday.drop(columns = ['year', 'month', 'day'])\n",
    "calls_2021_apr_weekday = calls_2021_apr_weekday.rename(columns = {'Call_Date' : 'total_per_weekday'})\n",
    "calls_2021_apr_weekday"
   ]
  },
  {
   "cell_type": "code",
   "execution_count": null,
   "id": "b4a5a005",
   "metadata": {},
   "outputs": [],
   "source": [
    "calls_2021_apr_days = calls_2021_apr.groupby('day').count()\n",
    "calls_2021_apr_days = calls_2021_apr_days.drop(columns = ['year', 'month', 'weekday'])\n",
    "calls_2021_apr_days = calls_2021_apr_days.rename(columns = {'Call_Date' : 'total_per_day'})\n",
    "calls_2021_apr_days"
   ]
  },
  {
   "cell_type": "code",
   "execution_count": null,
   "id": "b09eff32",
   "metadata": {},
   "outputs": [],
   "source": [
    "##2021 may broken down   total for month = 2584 calls"
   ]
  },
  {
   "cell_type": "code",
   "execution_count": null,
   "id": "c9035bdb",
   "metadata": {
    "scrolled": true
   },
   "outputs": [],
   "source": [
    "calls_2021_may = calls_2021[calls_2021['month'] == 5]\n",
    "calls_2021_may['weekday'] = calls_2021_may['Call_Date'].dt.day_name()\n",
    "calls_2021_may"
   ]
  },
  {
   "cell_type": "code",
   "execution_count": null,
   "id": "42aeea02",
   "metadata": {},
   "outputs": [],
   "source": [
    "calls_2021_may_weekday = calls_2021_may.groupby('weekday').count()\n",
    "calls_2021_may_weekday = calls_2021_may_weekday.drop(columns = ['year', 'month', 'day'])\n",
    "calls_2021_may_weekday = calls_2021_may_weekday.rename(columns = {'Call_Date' : 'total_per_weekday'})\n",
    "calls_2021_may_weekday"
   ]
  },
  {
   "cell_type": "code",
   "execution_count": null,
   "id": "b7bc30ea",
   "metadata": {},
   "outputs": [],
   "source": [
    "calls_2021_may_days = calls_2021_may.groupby('day').count()\n",
    "calls_2021_may_days = calls_2021_may_days.drop(columns = ['year', 'month', 'weekday'])\n",
    "calls_2021_may_days = calls_2021_may_days.rename(columns = {'Call_Date' : 'total_per_day'})\n",
    "calls_2021_may_days"
   ]
  },
  {
   "cell_type": "code",
   "execution_count": null,
   "id": "75a33625",
   "metadata": {},
   "outputs": [],
   "source": [
    "##2021 june broken down   total for month = 2617 calls"
   ]
  },
  {
   "cell_type": "code",
   "execution_count": null,
   "id": "d313e609",
   "metadata": {
    "scrolled": true
   },
   "outputs": [],
   "source": [
    "calls_2021_jun = calls_2021[calls_2021['month'] == 6]\n",
    "calls_2021_jun['weekday'] = calls_2021_jun['Call_Date'].dt.day_name()\n",
    "calls_2021_jun"
   ]
  },
  {
   "cell_type": "code",
   "execution_count": null,
   "id": "3c1bc31e",
   "metadata": {},
   "outputs": [],
   "source": [
    "calls_2021_jun_weekday = calls_2021_jun.groupby('weekday').count()\n",
    "calls_2021_jun_weekday = calls_2021_jun_weekday.drop(columns = ['year', 'month', 'day'])\n",
    "calls_2021_jun_weekday = calls_2021_jun_weekday.rename(columns = {'Call_Date' : 'total_per_weekday'})\n",
    "calls_2021_jun_weekday"
   ]
  },
  {
   "cell_type": "code",
   "execution_count": null,
   "id": "8a9de15c",
   "metadata": {},
   "outputs": [],
   "source": [
    "calls_2021_jun_days = calls_2021_jun.groupby('day').count()\n",
    "calls_2021_jun_days = calls_2021_jun_days.drop(columns = ['year', 'month', 'weekday'])\n",
    "calls_2021_jun_days = calls_2021_jun_days.rename(columns = {'Call_Date' : 'total_per_day'})\n",
    "calls_2021_jun_days"
   ]
  },
  {
   "cell_type": "code",
   "execution_count": null,
   "id": "25c7e7a4",
   "metadata": {},
   "outputs": [],
   "source": [
    "##2021 july broken down   total for month = 2491 calls"
   ]
  },
  {
   "cell_type": "code",
   "execution_count": null,
   "id": "3dbe95b1",
   "metadata": {
    "scrolled": true
   },
   "outputs": [],
   "source": [
    "calls_2021_jul = calls_2021[calls_2021['month'] == 7]\n",
    "calls_2021_jul['weekday'] = calls_2021_jul['Call_Date'].dt.day_name()\n",
    "calls_2021_jul"
   ]
  },
  {
   "cell_type": "code",
   "execution_count": null,
   "id": "068e60ee",
   "metadata": {},
   "outputs": [],
   "source": [
    "calls_2021_jul_weekday = calls_2021_jul.groupby('weekday').count()\n",
    "calls_2021_jul_weekday = calls_2021_jul_weekday.drop(columns = ['year', 'month', 'day'])\n",
    "calls_2021_jul_weekday = calls_2021_jul_weekday.rename(columns = {'Call_Date' : 'total_per_weekday'})\n",
    "calls_2021_jul_weekday"
   ]
  },
  {
   "cell_type": "code",
   "execution_count": null,
   "id": "a555e1ff",
   "metadata": {},
   "outputs": [],
   "source": [
    "calls_2021_jul_days = calls_2021_jul.groupby('day').count()\n",
    "calls_2021_jul_days = calls_2021_jul_days.drop(columns = ['year', 'month', 'weekday'])\n",
    "calls_2021_jul_days = calls_2021_jul_days.rename(columns = {'Call_Date' : 'total_per_day'})\n",
    "calls_2021_jul_days"
   ]
  },
  {
   "cell_type": "code",
   "execution_count": null,
   "id": "1cb7ab99",
   "metadata": {},
   "outputs": [],
   "source": [
    "##2021 august broken down   total for month = 2403 calls"
   ]
  },
  {
   "cell_type": "code",
   "execution_count": null,
   "id": "88153260",
   "metadata": {
    "scrolled": true
   },
   "outputs": [],
   "source": [
    "calls_2021_aug = calls_2021[calls_2021['month'] == 8]\n",
    "calls_2021_aug['weekday'] = calls_2021_aug['Call_Date'].dt.day_name()\n",
    "calls_2021_aug"
   ]
  },
  {
   "cell_type": "code",
   "execution_count": null,
   "id": "416b5a26",
   "metadata": {},
   "outputs": [],
   "source": [
    "calls_2021_aug_weekday = calls_2021_aug.groupby('weekday').count()\n",
    "calls_2021_aug_weekday = calls_2021_aug_weekday.drop(columns = ['year', 'month', 'day'])\n",
    "calls_2021_aug_weekday = calls_2021_aug_weekday.rename(columns = {'Call_Date' : 'total_per_weekday'})\n",
    "calls_2021_aug_weekday"
   ]
  },
  {
   "cell_type": "code",
   "execution_count": null,
   "id": "05d96f1b",
   "metadata": {},
   "outputs": [],
   "source": [
    "calls_2021_aug_days = calls_2021_aug.groupby('day').count()\n",
    "calls_2021_aug_days = calls_2021_aug_days.drop(columns = ['year', 'month', 'weekday'])\n",
    "calls_2021_aug_days = calls_2021_aug_days.rename(columns = {'Call_Date' : 'total_per_day'})\n",
    "calls_2021_aug_days"
   ]
  },
  {
   "cell_type": "code",
   "execution_count": null,
   "id": "ccb259cd",
   "metadata": {},
   "outputs": [],
   "source": [
    "##2021 september broken down   total for month = 2383 calls"
   ]
  },
  {
   "cell_type": "code",
   "execution_count": null,
   "id": "531094c5",
   "metadata": {
    "scrolled": true
   },
   "outputs": [],
   "source": [
    "calls_2021_sep = calls_2021[calls_2021['month'] == 9]\n",
    "calls_2021_sep['weekday'] = calls_2021_sep['Call_Date'].dt.day_name()\n",
    "calls_2021_sep"
   ]
  },
  {
   "cell_type": "code",
   "execution_count": null,
   "id": "69b1fc35",
   "metadata": {},
   "outputs": [],
   "source": [
    "calls_2021_sep_weekday = calls_2021_sep.groupby('weekday').count()\n",
    "calls_2021_sep_weekday = calls_2021_sep_weekday.drop(columns = ['year', 'month', 'day'])\n",
    "calls_2021_sep_weekday = calls_2021_sep_weekday.rename(columns = {'Call_Date' : 'total_per_weekday'})\n",
    "calls_2021_sep_weekday"
   ]
  },
  {
   "cell_type": "code",
   "execution_count": null,
   "id": "e93bda4a",
   "metadata": {},
   "outputs": [],
   "source": [
    "calls_2021_sep_days = calls_2021_sep.groupby('day').count()\n",
    "calls_2021_sep_days = calls_2021_sep_days.drop(columns = ['year', 'month', 'weekday'])\n",
    "calls_2021_sep_days = calls_2021_sep_days.rename(columns = {'Call_Date' : 'total_per_day'})\n",
    "calls_2021_sep_days"
   ]
  },
  {
   "cell_type": "code",
   "execution_count": null,
   "id": "b1f26e9f",
   "metadata": {},
   "outputs": [],
   "source": [
    "##2021 october broken down   total for month = 2400 calls"
   ]
  },
  {
   "cell_type": "code",
   "execution_count": null,
   "id": "28656071",
   "metadata": {
    "scrolled": true
   },
   "outputs": [],
   "source": [
    "calls_2021_oct = calls_2021[calls_2021['month'] == 10]\n",
    "calls_2021_oct['weekday'] = calls_2021_oct['Call_Date'].dt.day_name()\n",
    "calls_2021_oct"
   ]
  },
  {
   "cell_type": "code",
   "execution_count": null,
   "id": "a9491a4c",
   "metadata": {},
   "outputs": [],
   "source": [
    "calls_2021_oct_weekday = calls_2021_oct.groupby('weekday').count()\n",
    "calls_2021_oct_weekday = calls_2021_oct_weekday.drop(columns = ['year', 'month', 'day'])\n",
    "calls_2021_oct_weekday = calls_2021_oct_weekday.rename(columns = {'Call_Date' : 'total_per_weekday'})\n",
    "calls_2021_oct_weekday"
   ]
  },
  {
   "cell_type": "code",
   "execution_count": null,
   "id": "be95f31a",
   "metadata": {},
   "outputs": [],
   "source": [
    "calls_2021_oct_days = calls_2021_oct.groupby('day').count()\n",
    "calls_2021_oct_days = calls_2021_oct_days.drop(columns = ['year', 'month', 'weekday'])\n",
    "calls_2021_oct_days = calls_2021_oct_days.rename(columns = {'Call_Date' : 'total_per_day'})\n",
    "calls_2021_oct_days"
   ]
  },
  {
   "cell_type": "code",
   "execution_count": null,
   "id": "4c10c21d",
   "metadata": {},
   "outputs": [],
   "source": [
    "##2021 november broken down   total for month = 2283 calls"
   ]
  },
  {
   "cell_type": "code",
   "execution_count": null,
   "id": "3f459a50",
   "metadata": {
    "scrolled": true
   },
   "outputs": [],
   "source": [
    "calls_2021_nov = calls_2021[calls_2021['month'] == 11]\n",
    "calls_2021_nov['weekday'] = calls_2021_nov['Call_Date'].dt.day_name()\n",
    "calls_2021_nov"
   ]
  },
  {
   "cell_type": "code",
   "execution_count": null,
   "id": "d36e9592",
   "metadata": {},
   "outputs": [],
   "source": [
    "calls_2021_nov_weekday = calls_2021_nov.groupby('weekday').count()\n",
    "calls_2021_nov_weekday = calls_2021_nov_weekday.drop(columns = ['year', 'month', 'day'])\n",
    "calls_2021_nov_weekday = calls_2021_nov_weekday.rename(columns = {'Call_Date' : 'total_per_weekday'})\n",
    "calls_2021_nov_weekday"
   ]
  },
  {
   "cell_type": "code",
   "execution_count": null,
   "id": "31f4704c",
   "metadata": {},
   "outputs": [],
   "source": [
    "calls_2021_nov_days = calls_2021_nov.groupby('day').count()\n",
    "calls_2021_nov_days = calls_2021_nov_days.drop(columns = ['year', 'month', 'weekday'])\n",
    "calls_2021_nov_days = calls_2021_nov_days.rename(columns = {'Call_Date' : 'total_per_day'})\n",
    "calls_2021_nov_days"
   ]
  },
  {
   "cell_type": "code",
   "execution_count": null,
   "id": "e9d24832",
   "metadata": {},
   "outputs": [],
   "source": [
    "##2021 december broken down   total for month = 2626 calls"
   ]
  },
  {
   "cell_type": "code",
   "execution_count": null,
   "id": "6b6e5fdd",
   "metadata": {
    "scrolled": true
   },
   "outputs": [],
   "source": [
    "calls_2021_dec = calls_2021[calls_2021['month'] == 12]\n",
    "calls_2021_dec['weekday'] = calls_2021_dec['Call_Date'].dt.day_name()\n",
    "calls_2021_dec"
   ]
  },
  {
   "cell_type": "code",
   "execution_count": null,
   "id": "ea557f89",
   "metadata": {},
   "outputs": [],
   "source": [
    "calls_2021_dec_weekday = calls_2021_dec.groupby('weekday').count()\n",
    "calls_2021_dec_weekday = calls_2021_dec_weekday.drop(columns = ['year', 'month', 'day'])\n",
    "calls_2021_dec_weekday = calls_2021_dec_weekday.rename(columns = {'Call_Date' : 'total_per_weekday'})\n",
    "calls_2021_dec_weekday"
   ]
  },
  {
   "cell_type": "code",
   "execution_count": null,
   "id": "2aecf42a",
   "metadata": {},
   "outputs": [],
   "source": [
    "calls_2021_dec_days = calls_2021_dec.groupby('day').count()\n",
    "calls_2021_dec_days = calls_2021_dec_days.drop(columns = ['year', 'month', 'weekday'])\n",
    "calls_2021_dec_days = calls_2021_dec_days.rename(columns = {'Call_Date' : 'total_per_day'})\n",
    "calls_2021_dec_days"
   ]
  },
  {
   "cell_type": "code",
   "execution_count": null,
   "id": "f339a617",
   "metadata": {},
   "outputs": [],
   "source": []
  }
 ],
 "metadata": {
  "kernelspec": {
   "display_name": "Python 3 (ipykernel)",
   "language": "python",
   "name": "python3"
  },
  "language_info": {
   "codemirror_mode": {
    "name": "ipython",
    "version": 3
   },
   "file_extension": ".py",
   "mimetype": "text/x-python",
   "name": "python",
   "nbconvert_exporter": "python",
   "pygments_lexer": "ipython3",
   "version": "3.9.7"
  }
 },
 "nbformat": 4,
 "nbformat_minor": 5
}
